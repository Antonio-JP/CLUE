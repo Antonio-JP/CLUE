{
 "cells": [
  {
   "cell_type": "markdown",
   "id": "1b5a1b17-9ff5-4e1a-891f-9b9e96e4c86c",
   "metadata": {},
   "source": [
    "# **Example for Least Squares**$\\def\\rr{\\mathbb{R}}\\def\\bx{\\mathbf{x}}\\def\\by{\\mathbf{y}}$"
   ]
  },
  {
   "cell_type": "markdown",
   "id": "ffc3af5d-2750-4bb8-af4b-65a463db13e2",
   "metadata": {
    "jp-MarkdownHeadingCollapsed": true,
    "tags": []
   },
   "source": [
    "## 1. Review of the linear method (see [here](https://en.wikipedia.org/wiki/Least_squares#Linear_least_squares))"
   ]
  },
  {
   "cell_type": "markdown",
   "id": "8fb60d88-8e9f-4d73-be52-6c76f0cfef20",
   "metadata": {},
   "source": [
    "### 1.1 Data and template set up"
   ]
  },
  {
   "cell_type": "markdown",
   "id": "7c7dfec5-90da-4e63-b1fa-77cdeee759ae",
   "metadata": {},
   "source": [
    "Let $\\bx = [x_1,\\ldots, x_n] \\subset \\rr^p$ and $\\by = [y_1,\\ldots,y_n] \\subset \\rr^q$ be the data points. More precisely, we know that for the input $x_i$ we obtain a value $y_i$ ($x_i \\mapsto y_i$) and let $F: \\rr^p \\rightarrow \\rr^q$ be the function such that $F(x_i) = y_i$ for all $i=1,\\ldots,n$.\n",
    "\n",
    "Usually, finding the function $F$ from the data is an impossible task. That is why we usually set up a template for the $F$ and build an auxiliary function:\n",
    "$$f(x,\\beta) = \\sum_{j=1}^m \\beta_j\\phi_j(x),$$\n",
    "where $f: \\rr^p \\times \\rr^m \\rightarrow \\rr^q$ is a function parametrized by the $\\beta_1,\\ldots, \\beta_m$ and the template functions $\\phi_1,\\ldots,\\phi_m$. Then we try to find the best possible values of the parameters $\\beta$ such that the function $f(\\cdot,\\beta)$ approximates as good as possible the function $F(\\cdot)$.\n",
    "\n",
    "This can be done in this linear case quite easily by understanding how the template functions $\\phi_i$ acts over the data points $x_i$:\n",
    "$$X = \\begin{pmatrix}\\phi_1(x_1) & \\phi_2(x_1) & \\ldots & \\phi_m(x_1)\\\\\\phi1(x_2) & \\phi_2(x_2) & \\ldots & \\phi_m(x_2)\\\\\\vdots&\\vdots&\\ddots&\\vdots\\\\\\phi_1(x_n) & \\phi_2(x_n) & \\ldots & \\phi_m(x_n)\\end{pmatrix} \\in \\rr^{n\\times m},$$\n",
    "hence we can write:\n",
    "$$f(\\mathbf{x}) = \\begin{pmatrix}f(x_1)\\\\f(x_2)\\\\\\vdots\\\\f(x_n)\\end{pmatrix} = X\\beta^T.$$\n",
    "Finally, let's $Y = (y_1,\\ldots,y_n)^T$"
   ]
  },
  {
   "cell_type": "markdown",
   "id": "c9716d1f-4bd3-4518-93bd-cf8825acd716",
   "metadata": {},
   "source": [
    "### 1.2 The loss function and gradient descent"
   ]
  },
  {
   "cell_type": "markdown",
   "id": "5f0d4c13-6e2c-47c0-a9e5-4230d70e4282",
   "metadata": {},
   "source": [
    "Then we can write the loss function for a given set of parameters $\\beta$ as follows: \n",
    "$$L((\\bx,\\by),\\beta) = ||f(\\bx) - \\by||^2_2 = ||X\\beta - Y||_2^2,$$\n",
    "and, in particular, we can compute the gradient w.r.t. $\\beta$:\n",
    "$$\\frac{\\partial L}{\\partial\\beta} = -2X^TY + 2X^TX\\beta.$$\n",
    "\n",
    "The minimum of the loss will be found when the gradient is zero, hence $X^TY = X^TX\\beta$. Then, when $X^TX$ is invertible, we get:\n",
    "$$\\beta^o = (X^TX)^{-1}X^TY.$$\n",
    "\n",
    "But we could also create a numerical algorithm that would do a gradient descent in the $\\beta$ parameters and converge into the optimal value $\\beta^o$. Assume we start with a set of initial parameters $\\beta_0 \\in \\rr^m$ and define the recurrence\n",
    "$$\\beta_{k+1} = \\beta_k - \\eta \\frac{\\partial L}{\\partial\\beta}((\\bx,\\by), \\beta_k),$$\n",
    "for some learning-rate parameter $\\eta$. This is a dynamical system in discrete time."
   ]
  },
  {
   "cell_type": "markdown",
   "id": "cb483ee8-4338-4205-baf1-c0144f983a5d",
   "metadata": {
    "jp-MarkdownHeadingCollapsed": true,
    "tags": []
   },
   "source": [
    "## 2. Applying CLUE to LS"
   ]
  },
  {
   "cell_type": "markdown",
   "id": "47fa54c6-58e2-4bfd-a951-48e77e5b7e72",
   "metadata": {},
   "source": [
    "We have the following dynamical system in discrete time:\n",
    "$$\\beta_{k+1} = \\beta_k - \\eta \\frac{\\partial L}{\\partial\\beta}((\\bx,\\by), \\beta_k),$$\n",
    "and we want to compute a reduction in the terms of CLUE. This would mean to find a linear lumping $L \\in \\rr^{k\\times m}$ such that if we define the *reduced set of parameters* $\\hat\\beta = L\\beta$, then we can find a function in $\\hat\\beta$ such that:\n",
    "$$\\hat\\beta_{k+1} = g(\\hat\\beta_k).$$\n",
    "\n",
    "As a matter of fact, we know that if $L$ is a lumping of the system, we have that the function $g$ can be computed by:\n",
    "$$\\hat\\beta_{k+1} = g(\\hat\\beta_k) = L \\left(L^+\\hat\\beta - \\eta \\frac{\\partial L}{\\partial\\beta}((\\bx,\\by), L^+\\hat\\beta_k)\\right) = \\hat\\beta_{k} - \\eta L\\left(\\frac{\\partial L}{\\partial\\beta}((\\bx,\\by), L^+\\hat\\beta_k)\\right).$$\n",
    "\n",
    "**Remark 1**: let $\\beta^o$ be a fixed point for the original dynamical system. Then $\\hat\\beta^o = L\\beta^o$ is a fixed point for the reduced dynamical system.\n",
    "\n",
    "**Remark 2**: let $\\hat\\beta^o$ be a fixed point for the reduced dynamical system. Then there is $\\beta^o$ with $L\\beta^o = \\hat\\beta^o$ such that $\\beta^o$ is a fixed point for the original dynamical system."
   ]
  },
  {
   "cell_type": "markdown",
   "id": "b15a1831-d408-492b-b9c1-a5ed1641fae1",
   "metadata": {
    "jp-MarkdownHeadingCollapsed": true,
    "tags": []
   },
   "source": [
    "## 3. Example with a symmetry in the data"
   ]
  },
  {
   "cell_type": "markdown",
   "id": "7bad99b1-1729-40af-85be-0cf405cd31b1",
   "metadata": {},
   "source": [
    "Assume that our function is $y = F(x) = \\sinh(x)$. In this case, $p=q=1$. These would be possible data points:"
   ]
  },
  {
   "cell_type": "code",
   "execution_count": 1,
   "id": "c4bbb413-f1aa-4070-82c7-ac34bd537b62",
   "metadata": {},
   "outputs": [],
   "source": [
    "from numpy import array, sinh, cosh, matmul\n",
    "from numpy.linalg import inv\n",
    "from numpy.random import random\n",
    "from matplotlib import pyplot"
   ]
  },
  {
   "cell_type": "code",
   "execution_count": 2,
   "id": "c4a44f35-60e8-4aa4-9c64-a5437d989758",
   "metadata": {},
   "outputs": [],
   "source": [
    "x = 2*random(4); x = array(list(x) + list(-x))\n",
    "y = cosh(x)"
   ]
  },
  {
   "cell_type": "code",
   "execution_count": 3,
   "id": "0f78bed5-ac65-4997-997f-1877ef56c73d",
   "metadata": {},
   "outputs": [
    {
     "data": {
      "text/plain": [
       "array([[ 1.95146416,  3.59052606],\n",
       "       [ 1.69779607,  2.82249152],\n",
       "       [ 1.73493803,  2.92249383],\n",
       "       [ 0.43890557,  1.09787524],\n",
       "       [-1.95146416,  3.59052606],\n",
       "       [-1.69779607,  2.82249152],\n",
       "       [-1.73493803,  2.92249383],\n",
       "       [-0.43890557,  1.09787524]])"
      ]
     },
     "execution_count": 3,
     "metadata": {},
     "output_type": "execute_result"
    }
   ],
   "source": [
    "array([el for el in zip(x,y)])"
   ]
  },
  {
   "cell_type": "markdown",
   "id": "aa20e185-a7cd-4c93-9879-f49060821e32",
   "metadata": {},
   "source": [
    "If we plot this data, we see something convex:"
   ]
  },
  {
   "cell_type": "code",
   "execution_count": 4,
   "id": "19958540-5451-4e17-9410-2790abb41030",
   "metadata": {},
   "outputs": [
    {
     "data": {
      "image/png": "[encoded data removed]",
      "text/plain": [
       "<Figure size 640x480 with 1 Axes>"
      ]
     },
     "metadata": {},
     "output_type": "display_data"
    }
   ],
   "source": [
    "pyplot.plot(x, y, 'o');"
   ]
  },
  {
   "cell_type": "markdown",
   "id": "29baa34f-1717-4a10-ad79-8eb9d2ba51ea",
   "metadata": {},
   "source": [
    "So we try to approximate it by a degree 2 polynomial. Namely, we set as template functions: $\\phi_1(x) = 1$, $\\phi_2(x) = x$ and $\\phi_3(x) = x^2$. We then proceed to compute the matrix $X$:"
   ]
  },
  {
   "cell_type": "code",
   "execution_count": 5,
   "id": "4a912af6-9cce-4831-9c09-ebab236ae6dc",
   "metadata": {},
   "outputs": [
    {
     "data": {
      "text/plain": [
       "array([[ 1.        ,  1.95146416,  3.80821235],\n",
       "       [ 1.        ,  1.69779607,  2.88251148],\n",
       "       [ 1.        ,  1.73493803,  3.01000998],\n",
       "       [ 1.        ,  0.43890557,  0.1926381 ],\n",
       "       [ 1.        , -1.95146416,  3.80821235],\n",
       "       [ 1.        , -1.69779607,  2.88251148],\n",
       "       [ 1.        , -1.73493803,  3.01000998],\n",
       "       [ 1.        , -0.43890557,  0.1926381 ]])"
      ]
     },
     "execution_count": 5,
     "metadata": {},
     "output_type": "execute_result"
    }
   ],
   "source": [
    "phi1 = lambda p: 1; phi2 = lambda p: p; phi3 = lambda p : p**2\n",
    "X = array([[phi(p) for phi in [phi1,phi2,phi3]] for p in x]); X"
   ]
  },
  {
   "cell_type": "markdown",
   "id": "be9ea1c6-9a2b-4913-8913-85b1fc768b83",
   "metadata": {
    "jp-MarkdownHeadingCollapsed": true,
    "tags": []
   },
   "source": [
    "### 3.1 The direct approach with the formula"
   ]
  },
  {
   "cell_type": "markdown",
   "id": "ccf803fd-6f39-451f-9178-69b809a71483",
   "metadata": {},
   "source": [
    "Using the direct formula to compute the optimal beta, we have the following set of parameters:"
   ]
  },
  {
   "cell_type": "code",
   "execution_count": 33,
   "id": "6bdcf89e-9b44-42bf-9030-66cd587427b3",
   "metadata": {},
   "outputs": [
    {
     "data": {
      "text/plain": [
       "array([ 9.41844968e-01, -4.16333634e-17,  6.73785120e-01])"
      ]
     },
     "execution_count": 33,
     "metadata": {},
     "output_type": "execute_result"
    }
   ],
   "source": [
    "beta_optimal = matmul(matmul(inv(matmul(X.transpose(), X)), X.transpose()), y)\n",
    "optimal_f = lambda p : sum(b*phi(p) for (b,phi) in zip(beta_optimal, (phi1,phi2,phi3)))\n",
    "beta_optimal"
   ]
  },
  {
   "cell_type": "markdown",
   "id": "e70eafdd-7e98-4b79-a107-185adf2fb701",
   "metadata": {},
   "source": [
    "And we can plot the result, checking that we have found something pretty close to our data"
   ]
  },
  {
   "cell_type": "code",
   "execution_count": 7,
   "id": "43cfe0b0-b18c-4ff1-a03e-cb462fcafb57",
   "metadata": {},
   "outputs": [
    {
     "data": {
      "image/png": "[encoded data removed]",
      "text/plain": [
       "<Figure size 640x480 with 1 Axes>"
      ]
     },
     "metadata": {},
     "output_type": "display_data"
    }
   ],
   "source": [
    "xmin, xmax = min(x), max(x)\n",
    "points = [xmin + t*(xmax - xmin)/1000 for t in range(1001)]\n",
    "pyplot.plot(x, y, 'bo');\n",
    "pyplot.plot(points, [optimal_f(p) for p in points], \"r-\");"
   ]
  },
  {
   "cell_type": "markdown",
   "id": "28716266-4eeb-49f4-bfc4-af2121463845",
   "metadata": {
    "jp-MarkdownHeadingCollapsed": true,
    "tags": []
   },
   "source": [
    "### 3.2 Trying to apply CLUE to the dynamical system"
   ]
  },
  {
   "cell_type": "markdown",
   "id": "e1bd79ea-1efe-4b68-90d8-5227528b276b",
   "metadata": {},
   "source": [
    "Now, let us consider the dynamical system for the $\\beta$. In this case, we have that:\n",
    "$$\\beta_{k+1} = \\beta_k - \\eta\\left(-2X^TY + 2X^TX\\beta_k\\right).$$\n",
    "Let us build a dynamical system in clue where we do set up the following differential system:\n",
    "$$\\dot\\beta = -X^TY + X^TX\\beta.$$"
   ]
  },
  {
   "cell_type": "code",
   "execution_count": 9,
   "id": "23c24f03-6c9a-4d1c-9303-c880614c0012",
   "metadata": {},
   "outputs": [
    {
     "data": {
      "text/plain": [
       "[-20.8667733165147 + 8.0*beta_1 - 2.22044604925031e-16*beta_2 + 19.7867438303426*beta_3,\n",
       " -8.88178419700125e-16 - 2.22044604925031e-16*beta_1 + 19.7867438303426*beta_2 + 2.47661943602713e-16*beta_3,\n",
       " -61.6351562556565 + 19.7867438303426*beta_1 + 2.47661943602713e-16*beta_2 + 63.8172465522027*beta_3]"
      ]
     },
     "execution_count": 9,
     "metadata": {},
     "output_type": "execute_result"
    }
   ],
   "source": [
    "import sys\n",
    "sys.path.insert(0,\"..\") # clue is here\n",
    "from clue import *\n",
    "from sympy import RR\n",
    "constants = -matmul(X.transpose(), y)\n",
    "linear = matmul(X.transpose(), X)\n",
    "variables = [f\"beta_{i}\" for i in range(1,4)]\n",
    "equations = [SparsePolynomial.from_string(f\"{c} +\" + \"+\".join([f\"({l}*{v})\" for l,v in zip(linear[i], variables)]), variables, RR) for (i,c) in enumerate(constants)]\n",
    "equations"
   ]
  },
  {
   "cell_type": "code",
   "execution_count": 26,
   "id": "491b24bc-70bf-424a-88c2-688dcaa5145f",
   "metadata": {},
   "outputs": [],
   "source": [
    "system = FODESystem(equations, variables=variables, lumping_subspace=NumericalSubspace, lumping_subspace_kwds={\"delta\": 0.01})"
   ]
  },
  {
   "cell_type": "code",
   "execution_count": 27,
   "id": "bca1ed77-8014-4b89-992f-0cd58ca28456",
   "metadata": {},
   "outputs": [
    {
     "name": "stdout",
     "output_type": "stream",
     "text": [
      "New variables:\n",
      "y0 = beta_1\n",
      "y1 = -1.12218870789912e-17*beta_2 + beta_3\n",
      "New initial conditions:\n",
      "Lumped system:\n",
      "y0' = 8.0*y0 - 20.8667733165147 + 19.7867438303426*y1\n",
      "y1' = 19.7867438303426*y0 - 61.6351562556565 + 63.8172465522027*y1\n"
     ]
    },
    {
     "data": {
      "text/plain": [
       "Lumped system [3 -> 2] (None) [LDESystem -- 2 -- SparsePolynomial]"
      ]
     },
     "execution_count": 27,
     "metadata": {},
     "output_type": "execute_result"
    }
   ],
   "source": [
    "system.lumping([\"beta_1\"])"
   ]
  },
  {
   "cell_type": "code",
   "execution_count": 28,
   "id": "cb181e4d-0c95-4f4b-b6a6-d3764265ddc9",
   "metadata": {},
   "outputs": [
    {
     "name": "stdout",
     "output_type": "stream",
     "text": [
      "New variables:\n",
      "y0 = beta_2\n",
      "New initial conditions:\n",
      "Lumped system:\n",
      "y0' = -8.88178419700125e-16 + 19.7867438303426*y0\n"
     ]
    },
    {
     "data": {
      "text/plain": [
       "Lumped system [3 -> 1] (None) [LDESystem -- 1 -- SparsePolynomial]"
      ]
     },
     "execution_count": 28,
     "metadata": {},
     "output_type": "execute_result"
    }
   ],
   "source": [
    "system.lumping([\"beta_2\"])"
   ]
  },
  {
   "cell_type": "code",
   "execution_count": 29,
   "id": "08d93bff-fa63-45bc-b88e-944558931b2e",
   "metadata": {},
   "outputs": [
    {
     "name": "stdout",
     "output_type": "stream",
     "text": [
      "New variables:\n",
      "y0 = beta_3\n",
      "y1 = beta_1 + 1.25165588500179e-17*beta_2\n",
      "New initial conditions:\n",
      "Lumped system:\n",
      "y0' = 19.7867438303426*y1 - 61.6351562556565 + 63.8172465522027*y0\n",
      "y1' = 8.0*y1 - 20.8667733165147 + 19.7867438303426*y0\n"
     ]
    },
    {
     "data": {
      "text/plain": [
       "Lumped system [3 -> 2] (None) [LDESystem -- 2 -- SparsePolynomial]"
      ]
     },
     "execution_count": 29,
     "metadata": {},
     "output_type": "execute_result"
    }
   ],
   "source": [
    "system.lumping([\"beta_3\"])"
   ]
  },
  {
   "cell_type": "code",
   "execution_count": 31,
   "id": "b993af19-93f1-483f-ab75-32dbaab7c781",
   "metadata": {},
   "outputs": [
    {
     "name": "stdout",
     "output_type": "stream",
     "text": [
      "New variables:\n",
      "y0 = 0.707106781186547*beta_1 + 0.707106781186547*beta_3\n",
      "y1 = -0.707106781186547*beta_1 + 6.49053653264669e-19*beta_2 + 0.707106781186547*beta_3\n",
      "New initial conditions:\n",
      "Lumped system:\n",
      "y0' = 55.695367106444*y0 + 27.9086232761013*y1 - 58.3376738614572\n",
      "y1' = 27.9086232761013*y0 + 16.1218794457587*y1 - 28.8276000342772\n"
     ]
    },
    {
     "data": {
      "text/plain": [
       "Lumped system [3 -> 2] (None) [LDESystem -- 2 -- SparsePolynomial]"
      ]
     },
     "execution_count": 31,
     "metadata": {},
     "output_type": "execute_result"
    }
   ],
   "source": [
    "system.lumping([\"beta_1 + beta_3\"])"
   ]
  },
  {
   "cell_type": "code",
   "execution_count": null,
   "id": "d48202ca-0f40-4da5-8f1c-e7652d741d66",
   "metadata": {},
   "outputs": [],
   "source": []
  }
 ],
 "metadata": {
  "kernelspec": {
   "display_name": "Python 3 (ipykernel)",
   "language": "python",
   "name": "python3"
  },
  "language_info": {
   "codemirror_mode": {
    "name": "ipython",
    "version": 3
   },
   "file_extension": ".py",
   "mimetype": "text/x-python",
   "name": "python",
   "nbconvert_exporter": "python",
   "pygments_lexer": "ipython3",
   "version": "3.11.0"
  }
 },
 "nbformat": 4,
 "nbformat_minor": 5
}
