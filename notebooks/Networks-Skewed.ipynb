{
 "cells": [
  {
   "cell_type": "markdown",
   "id": "8ab3bfb6-a6ef-48ba-a7ee-887276be7c6c",
   "metadata": {},
   "source": [
    "# **CLUE API for Networks.Skewed.De**\n",
    "\n",
    "In the website https://networks.skewed.de, there are plenty of dynamical models that come from graphs. There are two main options when considering a dynamical system over a grpah:\n",
    "\n",
    "* Considering the adjacency system: $x' = A x$.\n",
    "* Considering the laplacian system: $x' = L x$, where $L$ is the Laplacian matrix $D - A$.\n",
    "\n",
    "This notebook is oriented to provide a simple interface from CLUE to retrieve models from this website without any input from the user.\n",
    "Combined with the ERODE output for a CLUE system, this should be equivalent to the use of ERODE to produce `.ode` files."
   ]
  },
  {
   "cell_type": "code",
   "execution_count": 54,
   "id": "4b97f804-858f-4354-b236-77b9a2c9a184",
   "metadata": {},
   "outputs": [],
   "source": [
    "import requests, zipfile, io, pandas, sys, time\n",
    "from contextlib import redirect_stdout\n",
    "from numpy import ndarray, array\n",
    "from sympy import QQ\n",
    "\n",
    "sys.path.insert(0, \"..\") # clue is here\n",
    "from clue import FODESystem, SparsePolynomial, SparseVector, SparseRowMatrix\n",
    "\n",
    "class Graph:\n",
    "    def __init__(self, vertices = None, edges = None, final = False, undirected = False, multi = True):\n",
    "        vertices = [] if vertices is None else vertices\n",
    "        edges = [] if edges is None else edges\n",
    "        \n",
    "        if not isinstance(vertices, (list, tuple)):\n",
    "            raise TypeError(\"Only list or tuples are valid to provide info for vertices\")\n",
    "        \n",
    "        if not isinstance(edges, (list,tuple)):\n",
    "            raise TypeError(\"Edges must be given as a list of triplets\")\n",
    "            \n",
    "        self.__vertices = []\n",
    "        self.__edges = []\n",
    "        self.__final = False\n",
    "        for vertex in vertices:\n",
    "            self.add_vertex(vertex)\n",
    "        for edge in edges:\n",
    "            if not isinstance(edge, (list,tuple)) and len(edge) < 2:\n",
    "                raise TypeError(\"An edge must have 2 or 3 components at least\")\n",
    "            src, trg = edge[:2]\n",
    "            if src not in self.__vertices and not isinstance(src, int):\n",
    "                raise TypeError(\"A vertex in an edge must be a valid structure or an integer\")\n",
    "            if trg not in self.__vertices and not isinstance(trg, int):\n",
    "                raise TypeError(\"A vertex in an edge must be a valid structure or an integer\")\n",
    "            \n",
    "            src = self.__vertices.index(src) if not isinstance(src, int) else src\n",
    "            trg = self.__vertices.index(trg) if not isinstance(trg, int) else trg\n",
    "            \n",
    "            value = edge[2] if len(edge) >= 3 else 1\n",
    "            self.add_edge(src, trg, value, add=multi, undirected=undirected)\n",
    "        self.__final = final\n",
    "        \n",
    "            \n",
    "    def add_vertex(self, vertex):\n",
    "        if self.__final: raise ValueError(\"The graph is define as final. Can not be changed\")\n",
    "            \n",
    "        if vertex in self.__vertices:\n",
    "            raise ValueError(f\"Repeated vertex wanted to be added to the graph ({vertex})\")\n",
    "        self.__vertices.append(vertex)\n",
    "        self.__edges.append(dict())\n",
    "        \n",
    "    def add_edge(self, src, trg, value, add = True, undirected = False):\n",
    "        if self.__final: raise ValueError(\"The graph is define as final. Can not be changed\")\n",
    "            \n",
    "        if src < 0 or src > len(self.__vertices):\n",
    "            raise IndexError(\"A vertex is given out or range\")\n",
    "        if trg < 0 or trg > len(self.__vertices):\n",
    "            raise IndexError(\"A vertex is given out or range\")\n",
    "            \n",
    "        if trg in self.__edges[src]:\n",
    "            if not add: raise KeyError(\"Requested not to add value to an already existing edge\")\n",
    "            self.__edges[src][trg] += value\n",
    "        else:\n",
    "            self.__edges[src][trg] = value\n",
    "            \n",
    "        if undirected: self.add_edge(trg, src, value, add)\n",
    "        \n",
    "    def adjacency_matrix(self,field=QQ) -> SparseRowMatrix:\n",
    "        n = len(self)\n",
    "        matrix = SparseRowMatrix(n,field)\n",
    "        for i in range(n):\n",
    "            for k,v in self.__edges[i].items():\n",
    "                matrix.increment(i,k, field.convert(v))\n",
    "        return matrix\n",
    "    \n",
    "    def degree(self, vertex) -> int:\n",
    "        vertex = self.__vertices.index(vertex) if not isinstance(vertex, int) else vertex\n",
    "        return sum(self.__edges[vertex].values())\n",
    "    \n",
    "    def laplacian_matrix(self, field=QQ) -> SparseRowMatrix:\n",
    "        n = len(self)\n",
    "        matrix = self.adjacency_matrix(field)\n",
    "        for i in range(n):\n",
    "            deg = field.convert(-self.degree(i))\n",
    "            matrix.increment(i,i, deg)\n",
    "        return matrix\n",
    "            \n",
    "    def __len__(self) -> int:\n",
    "        return len(self.__vertices)"
   ]
  },
  {
   "cell_type": "code",
   "execution_count": 56,
   "id": "a1a2e36d-a912-485e-9ab5-23cf9b5acfe3",
   "metadata": {},
   "outputs": [],
   "source": [
    "def FromNetwork(network, name=None, undirected=None, adjacency=True):\n",
    "    print(f\"[FromNetwork] Reaching the website for the model {network}_{name}...\", end=\" \", flush=True)\n",
    "    r = requests.get(f\"https://networks.skewed.de/api/net/{network}\").json()\n",
    "    print(\"Done\", flush=True)\n",
    "    name = r[\"nets\"][0] if name is None else name\n",
    "    if not name in r[\"nets\"]:\n",
    "        raise ValueError(f\"{name} is not valid for the class {network}\")\n",
    "        \n",
    "    ## Getting other inputs (undirected and multigraph)\n",
    "    undirected = undirected if undirected != None else (not (r[\"analyses\"][\"is_directed\"] if len(r['nets']) == 1 else r[\"analyses\"][name][\"is_directed\"]))\n",
    "        \n",
    "    print(f\"[FromNetwork] Reaching the website for the csv description...\", end=\" \", flush=True)          \n",
    "    graph_zip = zipfile.ZipFile(io.BytesIO(requests.get(f\"https://networks.skewed.de/net/{network}/files/{name}.csv.zip\").content))\n",
    "    print(\"Done\", flush=True)\n",
    "\n",
    "    print(f\"[FromNetwork] Building graph...\", end=\" \", flush=True)     \n",
    "    vertices = pandas.read_csv(io.BytesIO(graph_zip.read(\"nodes.csv\")), delimiter=\",\")\n",
    "    print(\"Read vertices...\", end=\" \", flush=True)\n",
    "    edges = pandas.read_csv(io.BytesIO(graph_zip.read(\"edges.csv\")), delimiter=\",\")\n",
    "    print(\"Read edges...\", end=\" \", flush=True)\n",
    "    varnames = vertices[vertices.columns[1]].tolist()\n",
    "    print(\"Created variable names...\", end=\" \", flush=True)\n",
    "    G = Graph(\n",
    "        vertices = varnames, \n",
    "        edges = list(edges[edges.columns[:3]].itertuples(index=False, name=None)),\n",
    "        final = True,\n",
    "        undirected = undirected\n",
    "    )\n",
    "    print(\"Done\", flush=True)\n",
    "    print(f\"[FromNetwork] Building {'adjacency' if adjacency else 'laplacian'} matrix...\", end=\" \", flush=True)     \n",
    "    A = G.adjacency_matrix() if adjacency else G.laplacian_matrix()\n",
    "    print(\"Done\")\n",
    "    print(f\"[FromNetwork] Building differential system...\", end=\" \", flush=True)     \n",
    "    system = FODESystem.LinearSystem(A, variables=varnames)\n",
    "    print(\"Done\", flush=True)\n",
    "    return system"
   ]
  },
  {
   "cell_type": "code",
   "execution_count": 57,
   "id": "33a9f090-1a09-40c8-9134-04312c67d7de",
   "metadata": {},
   "outputs": [
    {
     "name": "stdout",
     "output_type": "stream",
     "text": [
      "[FromNetwork] Reaching the website for the model eu_procurements_alt_FR_2013... Done\n",
      "[FromNetwork] Reaching the website for the csv description... Done\n",
      "[FromNetwork] Building graph... Read vertices... Read edges... Created variable names... Done\n",
      "[FromNetwork] Building adjacency matrix... Done\n",
      "[FromNetwork] Building differential system... Done\n",
      "CPU times: user 2min 1s, sys: 5.18 ms, total: 2min 1s\n",
      "Wall time: 2min 2s\n"
     ]
    }
   ],
   "source": [
    "%time system = FromNetwork(\"eu_procurements_alt\", name=\"FR_2013\", undirected=True)"
   ]
  },
  {
   "cell_type": "markdown",
   "id": "b70d449e-d1af-42c9-9be8-da3d02346873",
   "metadata": {},
   "source": [
    "## Performance of the API"
   ]
  },
  {
   "cell_type": "code",
   "execution_count": 37,
   "id": "89bd960c-b2ba-40e8-9101-7ebed808abbb",
   "metadata": {},
   "outputs": [
    {
     "name": "stdout",
     "output_type": "stream",
     "text": [
      "Number of total models: 279\n",
      "Found 163257 models with given characteristics\n"
     ]
    }
   ],
   "source": [
    "list_of_models_bytes = requests.get(\"https://networks.skewed.de/api/nets\").content\n",
    "all_models = [\n",
    "    el.removeprefix('\"').removesuffix('\"') \n",
    "    for el in list_of_models_bytes.decode(\"utf-8\").removeprefix(\"[\").removesuffix(\"]\\n\").split(\",\")\n",
    "]\n",
    "print(f\"Number of total models: {len(all_models)}\")\n",
    "def find_valid_100K(model):\n",
    "    json = requests.get(f\"https://networks.skewed.de/api/net/{model}\").json()\n",
    "    if json.get(\"restricted\", False):\n",
    "        return []\n",
    "    \n",
    "    networks = json.get(\"nets\", [])\n",
    "    if len(networks) == 1:\n",
    "        nvertices = json[\"analyses\"][\"num_vertices\"]\n",
    "        if nvertices < 100_000:\n",
    "            return [(model, json[\"nets\"][0])]\n",
    "        else:\n",
    "            return []\n",
    "    elif len(networks) > 1:\n",
    "        return [(model,network) for network in networks if json[\"analyses\"][network][\"num_vertices\"] < 100_000]\n",
    "    else:\n",
    "        raise RuntimeError\n",
    "            \n",
    "upTo100K = []\n",
    "for model in all_models:\n",
    "    old_length = len(upTo100K)\n",
    "    upTo100K.extend(find_valid_100K(model))\n",
    "print(f\"Found {len(upTo100K)} models with given characteristics\")\n",
    "\n",
    "def time_test(model, name):\n",
    "    start = time.time()\n",
    "    system = FromNetwork(model, name)\n",
    "    end = time.time()\n",
    "    return system.size, end-start"
   ]
  },
  {
   "cell_type": "code",
   "execution_count": null,
   "id": "992ee1e7-8d0c-4b1c-a461-b3918888fd74",
   "metadata": {},
   "outputs": [],
   "source": [
    "times = {}\n",
    "with open(\"./log.log\", \"w\") as log:\n",
    "    with redirect_stdout(log):\n",
    "        for (model, name) in upTo100K:\n",
    "            n,t = time_test(model,name)\n",
    "            if not n in times:\n",
    "                times[n] = []\n",
    "            times[n].append(t)\n",
    "print(\"Computed all times for building the system\")"
   ]
  },
  {
   "cell_type": "code",
   "execution_count": 45,
   "id": "8b74f99f-cb27-498b-8469-74802eb08544",
   "metadata": {},
   "outputs": [],
   "source": [
    "r = requests.get(f\"https://networks.skewed.de/api/net/advogato\").json()"
   ]
  },
  {
   "cell_type": "code",
   "execution_count": 52,
   "id": "c6ded4fa-0bda-47a4-850f-a67592eb9c8b",
   "metadata": {},
   "outputs": [
    {
     "name": "stdout",
     "output_type": "stream",
     "text": [
      "> \u001b[0;32m/home/anton/git/clue/clue/linalg.py\u001b[0m(569)\u001b[0;36mincrement\u001b[0;34m()\u001b[0m\n",
      "\u001b[0;32m    567 \u001b[0;31m            \u001b[0mwhole\u001b[0m \u001b[0mzero\u001b[0m \u001b[0mrow\u001b[0m\u001b[0;34m.\u001b[0m\u001b[0;34m\u001b[0m\u001b[0;34m\u001b[0m\u001b[0m\n",
      "\u001b[0m\u001b[0;32m    568 \u001b[0;31m        '''\n",
      "\u001b[0m\u001b[0;32m--> 569 \u001b[0;31m        \u001b[0mself\u001b[0m\u001b[0;34m[\u001b[0m\u001b[0mi\u001b[0m\u001b[0;34m,\u001b[0m \u001b[0mj\u001b[0m\u001b[0;34m]\u001b[0m \u001b[0;34m=\u001b[0m \u001b[0mself\u001b[0m\u001b[0;34m[\u001b[0m\u001b[0mi\u001b[0m\u001b[0;34m,\u001b[0m \u001b[0mj\u001b[0m\u001b[0;34m]\u001b[0m \u001b[0;34m+\u001b[0m \u001b[0mextra\u001b[0m\u001b[0;34m\u001b[0m\u001b[0;34m\u001b[0m\u001b[0m\n",
      "\u001b[0m\u001b[0;32m    570 \u001b[0;31m\u001b[0;34m\u001b[0m\u001b[0m\n",
      "\u001b[0m\u001b[0;32m    571 \u001b[0;31m    \u001b[0;31m#--------------------------------------------------------------------------\u001b[0m\u001b[0;34m\u001b[0m\u001b[0;34m\u001b[0m\u001b[0m\n",
      "\u001b[0m\n"
     ]
    },
    {
     "name": "stdin",
     "output_type": "stream",
     "text": [
      "ipdb>  print(extra)\n"
     ]
    },
    {
     "name": "stdout",
     "output_type": "stream",
     "text": [
      "0.8\n"
     ]
    },
    {
     "name": "stdin",
     "output_type": "stream",
     "text": [
      "ipdb>  self.field\n"
     ]
    },
    {
     "name": "stdout",
     "output_type": "stream",
     "text": [
      "QQ\n"
     ]
    },
    {
     "name": "stdin",
     "output_type": "stream",
     "text": [
      "ipdb>  self.field.convert(extra)\n"
     ]
    },
    {
     "name": "stdout",
     "output_type": "stream",
     "text": [
      "MPQ(4,5)\n"
     ]
    },
    {
     "name": "stdin",
     "output_type": "stream",
     "text": [
      "ipdb>  exit\n"
     ]
    }
   ],
   "source": [
    "%debug"
   ]
  },
  {
   "cell_type": "code",
   "execution_count": 46,
   "id": "fe4e10bb-8012-4656-8e7d-cfbc80659d48",
   "metadata": {},
   "outputs": [
    {
     "data": {
      "text/plain": [
       "{'num_edges': 51127,\n",
       " 'num_vertices': 6541,\n",
       " 'is_directed': True,\n",
       " 'average_degree': 7.8163889313560615,\n",
       " 'degree_std_dev': 34.12941084115283,\n",
       " 'is_bipartite': False,\n",
       " 'global_clustering': 0.11104023204960285,\n",
       " 'degree_assortativity': -0.052796485761516326,\n",
       " 'largest_component_fraction': 0.7708301482953677,\n",
       " 'edge_reciprocity': 0.3851585268057973,\n",
       " 'transition_gap': 0.9528608197737135,\n",
       " 'mixing_time': 20.70975207197159,\n",
       " 'hashimoto_radius': 68.60542306178223,\n",
       " 'diameter': 9,\n",
       " 'edge_properties': [['weight', 'double']],\n",
       " 'vertex_properties': [['meta', 'string'], ['_pos', 'vector<double>']],\n",
       " 'knn_proj_1': 4.117164545800367,\n",
       " 'knn_proj_2': 2.5417987237312554}"
      ]
     },
     "execution_count": 46,
     "metadata": {},
     "output_type": "execute_result"
    }
   ],
   "source": [
    "r[\"analyses\"]"
   ]
  },
  {
   "cell_type": "code",
   "execution_count": null,
   "id": "4616c9c7-8dc1-4e11-847e-be35be60818d",
   "metadata": {},
   "outputs": [],
   "source": []
  }
 ],
 "metadata": {
  "kernelspec": {
   "display_name": "Python 3 (ipykernel)",
   "language": "python",
   "name": "python3"
  },
  "language_info": {
   "codemirror_mode": {
    "name": "ipython",
    "version": 3
   },
   "file_extension": ".py",
   "mimetype": "text/x-python",
   "name": "python",
   "nbconvert_exporter": "python",
   "pygments_lexer": "ipython3",
   "version": "3.10.6"
  }
 },
 "nbformat": 4,
 "nbformat_minor": 5
}
