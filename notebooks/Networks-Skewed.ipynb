{
 "cells": [
  {
   "cell_type": "markdown",
   "id": "8ab3bfb6-a6ef-48ba-a7ee-887276be7c6c",
   "metadata": {},
   "source": [
    "# **CLUE API for Networks.Skewed.De**\n",
    "\n",
    "In the website https://networks.skewed.de, there are plenty of dynamical models that come from graphs. There are two main options when considering a dynamical system over a grpah:\n",
    "\n",
    "* Considering the adjacency system: $x' = A x$.\n",
    "* Considering the laplacian system: $x' = L x$, where $L$ is the Laplacian matrix $D - A$.\n",
    "\n",
    "This notebook is oriented to provide a simple interface from CLUE to retrieve models from this website without any input from the user.\n",
    "Combined with the ERODE output for a CLUE system, this should be equivalent to the use of ERODE to produce `.ode` files."
   ]
  },
  {
   "cell_type": "code",
   "execution_count": 1,
   "id": "eea62a42-00fb-4ff6-b270-c8a9553f3f71",
   "metadata": {},
   "outputs": [],
   "source": [
    "import sys; sys.path.insert(0, \"..\") # clue is here\n",
    "import logging, time\n",
    "from clue.networks_skewed import *\n",
    "from clue.uncertain import *\n",
    "from alive_progress import alive_bar\n",
    "\n",
    "logger = logging.getLogger(\"clue\")"
   ]
  },
  {
   "cell_type": "code",
   "execution_count": 2,
   "id": "35b80482-1af7-4101-9042-493bb256992f",
   "metadata": {},
   "outputs": [
    {
     "name": "stderr",
     "output_type": "stream",
     "text": [
      "2023-02-20 15:46:20 WARNING  [FromNetwork] Found repeated names in the vertices. Using generic names\n"
     ]
    },
    {
     "name": "stdout",
     "output_type": "stream",
     "text": [
      "CPU times: user 1min 49s, sys: 1.12 s, total: 1min 50s\n",
      "Wall time: 1min 52s\n"
     ]
    }
   ],
   "source": [
    "%%time\n",
    "system = FromNetwork(\"bag_of_words\", name=\"nips\", undirected=True)\n",
    "usystem = UncertainFODESystem.from_FODESystem(system, 0.01, type=\"prop\")"
   ]
  },
  {
   "cell_type": "code",
   "execution_count": 3,
   "id": "fe637585-3d23-4162-87f5-711b46af6dd2",
   "metadata": {},
   "outputs": [
    {
     "name": "stdout",
     "output_type": "stream",
     "text": [
      "CPU times: user 3.88 s, sys: 9.86 ms, total: 3.89 s\n",
      "Wall time: 5.57 s\n"
     ]
    }
   ],
   "source": [
    "%%time\n",
    "system = FromNetwork(\"eu_procurements_alt\", name=\"FR_2013\", undirected=True)\n",
    "usystem = UncertainFODESystem.from_FODESystem(system, 0.01, type=\"prop\")"
   ]
  },
  {
   "cell_type": "code",
   "execution_count": 4,
   "id": "13785a3c-a142-459c-8c77-46246a0afc75",
   "metadata": {},
   "outputs": [
    {
     "name": "stderr",
     "output_type": "stream",
     "text": [
      "2023-02-20 15:48:17 WARNING  [FromNetwork] Found repeated names in the vertices. Using generic names\n"
     ]
    },
    {
     "name": "stdout",
     "output_type": "stream",
     "text": [
      "CPU times: user 19 s, sys: 44.3 ms, total: 19.1 s\n",
      "Wall time: 20.5 s\n"
     ]
    }
   ],
   "source": [
    "%%time\n",
    "system = FromNetwork(\"bag_of_words\", name=\"kos\", undirected=True)\n",
    "usystem = UncertainFODESystem.from_FODESystem(system, 0.01, type=\"prop\")"
   ]
  },
  {
   "cell_type": "code",
   "execution_count": 5,
   "id": "ac0f52c1-ea40-409a-a765-ab0639770b60",
   "metadata": {},
   "outputs": [
    {
     "name": "stdout",
     "output_type": "stream",
     "text": [
      "CPU times: user 3.71 s, sys: 9.3 ms, total: 3.72 s\n",
      "Wall time: 5.32 s\n"
     ]
    }
   ],
   "source": [
    "%%time\n",
    "system = FromNetwork(\"eu_procurements_alt\", name=\"FR_2014\", undirected=True)\n",
    "usystem = UncertainFODESystem.from_FODESystem(system, 0.01, type=\"prop\")"
   ]
  },
  {
   "cell_type": "code",
   "execution_count": 6,
   "id": "f13ec242-8677-43d0-8e3a-1a17335a556b",
   "metadata": {},
   "outputs": [
    {
     "name": "stdout",
     "output_type": "stream",
     "text": [
      "CPU times: user 3.69 s, sys: 11 µs, total: 3.69 s\n",
      "Wall time: 5.22 s\n"
     ]
    }
   ],
   "source": [
    "%%time\n",
    "system = FromNetwork(\"eu_procurements_alt\", name=\"FR_2008\", undirected=True)\n",
    "usystem = UncertainFODESystem.from_FODESystem(system, 0.01, type=\"prop\")"
   ]
  },
  {
   "cell_type": "code",
   "execution_count": 8,
   "id": "1704e369-9900-40c0-8e78-afb437f4aabc",
   "metadata": {},
   "outputs": [
    {
     "name": "stderr",
     "output_type": "stream",
     "text": [
      "2023-02-20 15:49:19 WARNING  [FromNetwork] Found repeated names in the vertices. Using generic names\n"
     ]
    },
    {
     "name": "stdout",
     "output_type": "stream",
     "text": [
      "CPU times: user 14.5 s, sys: 108 ms, total: 14.6 s\n",
      "Wall time: 16.5 s\n"
     ]
    }
   ],
   "source": [
    "%%time\n",
    "system = FromNetwork(\"arxiv_collab\", name=\"cond-mat-2005\", undirected=True)\n",
    "usystem = UncertainFODESystem.from_FODESystem(system, 0.01, type=\"prop\")"
   ]
  },
  {
   "cell_type": "code",
   "execution_count": 12,
   "id": "2ceab523-0cf9-4596-828a-6e591f9f0148",
   "metadata": {},
   "outputs": [
    {
     "name": "stdout",
     "output_type": "stream",
     "text": [
      "CPU times: user 10.9 s, sys: 18.2 ms, total: 10.9 s\n",
      "Wall time: 12.2 s\n"
     ]
    }
   ],
   "source": [
    "%%time\n",
    "system = FromNetwork(\"arxiv_collab\", name=\"astro-ph-1999\", undirected=True)\n",
    "usystem = UncertainFODESystem.from_FODESystem(system, 0.01, type=\"prop\")"
   ]
  },
  {
   "cell_type": "code",
   "execution_count": 13,
   "id": "12e43afb-ebef-4a99-b82b-cab7e17b3386",
   "metadata": {},
   "outputs": [
    {
     "name": "stdout",
     "output_type": "stream",
     "text": [
      "CPU times: user 4.14 s, sys: 9.94 ms, total: 4.15 s\n",
      "Wall time: 5.86 s\n"
     ]
    }
   ],
   "source": [
    "%%time\n",
    "system = FromNetwork(\"eu_procurements_alt\", name=\"FR_2012\", undirected=True)\n",
    "usystem = UncertainFODESystem.from_FODESystem(system, 0.01, type=\"prop\")"
   ]
  },
  {
   "cell_type": "code",
   "execution_count": 14,
   "id": "9aed52a7-b84a-49ad-ab04-cdf3d838bf6a",
   "metadata": {},
   "outputs": [
    {
     "name": "stdout",
     "output_type": "stream",
     "text": [
      "CPU times: user 8.12 s, sys: 19.9 ms, total: 8.14 s\n",
      "Wall time: 9.64 s\n"
     ]
    }
   ],
   "source": [
    "%%time\n",
    "system = FromNetwork(\"eu_procurements_alt\", name=\"FR_2016\", undirected=True)\n",
    "usystem = UncertainFODESystem.from_FODESystem(system, 0.01, type=\"prop\")"
   ]
  },
  {
   "cell_type": "code",
   "execution_count": 16,
   "id": "9f415d7d-4d5a-4b82-8270-8be2b6951f43",
   "metadata": {},
   "outputs": [
    {
     "name": "stdout",
     "output_type": "stream",
     "text": [
      "CPU times: user 3 s, sys: 0 ns, total: 3 s\n",
      "Wall time: 4.33 s\n"
     ]
    }
   ],
   "source": [
    "%%time\n",
    "system = FromNetwork(\"twitter_higgs\", name=\"reply\", undirected=True)\n",
    "usystem = UncertainFODESystem.from_FODESystem(system, 0.01, type=\"prop\")"
   ]
  },
  {
   "cell_type": "code",
   "execution_count": 15,
   "id": "1f12eb69-ddbb-4c74-bf55-c7ad3c60e2aa",
   "metadata": {},
   "outputs": [
    {
     "name": "stdout",
     "output_type": "stream",
     "text": [
      "CPU times: user 14.2 s, sys: 8.7 ms, total: 14.2 s\n",
      "Wall time: 16 s\n"
     ]
    }
   ],
   "source": [
    "%%time\n",
    "system = FromNetwork(\"eu_procurements_alt\", name=\"FR_2009\", undirected=True)\n",
    "usystem = UncertainFODESystem.from_FODESystem(system, 0.01, type=\"prop\")"
   ]
  },
  {
   "cell_type": "code",
   "execution_count": 20,
   "id": "05820524-579f-473e-b3fe-6350069851cd",
   "metadata": {},
   "outputs": [
    {
     "name": "stdout",
     "output_type": "stream",
     "text": [
      "CPU times: user 2.47 s, sys: 4 µs, total: 2.47 s\n",
      "Wall time: 3.56 s\n"
     ]
    }
   ],
   "source": [
    "%%time\n",
    "system = FromNetwork(\"eu_procurements_alt\", name=\"PL_2012\", undirected=True)\n",
    "usystem = UncertainFODESystem.from_FODESystem(system, 0.01, type=\"prop\")"
   ]
  },
  {
   "cell_type": "code",
   "execution_count": 21,
   "id": "25f3430d-9fba-4710-a00d-654282191223",
   "metadata": {},
   "outputs": [
    {
     "name": "stdout",
     "output_type": "stream",
     "text": [
      "CPU times: user 3.99 s, sys: 126 µs, total: 3.99 s\n",
      "Wall time: 5.53 s\n"
     ]
    }
   ],
   "source": [
    "%%time\n",
    "system = FromNetwork(\"eu_procurements_alt\", name=\"FR_2015\", undirected=True)\n",
    "usystem = UncertainFODESystem.from_FODESystem(system, 0.01, type=\"prop\")"
   ]
  },
  {
   "cell_type": "code",
   "execution_count": 22,
   "id": "87a1d4b5-8d78-4b65-b1ba-e70cefd26c4f",
   "metadata": {},
   "outputs": [
    {
     "name": "stderr",
     "output_type": "stream",
     "text": [
      "2023-02-20 16:35:22 WARNING  [FromNetwork] Found repeated names in the vertices. Using generic names\n"
     ]
    },
    {
     "name": "stdout",
     "output_type": "stream",
     "text": [
      "CPU times: user 10.3 s, sys: 9.42 ms, total: 10.3 s\n",
      "Wall time: 11.9 s\n"
     ]
    }
   ],
   "source": [
    "%%time\n",
    "system = FromNetwork(\"arxiv_collab\", name=\"cond-mat-2003\", undirected=True)\n",
    "usystem = UncertainFODESystem.from_FODESystem(system, 0.01, type=\"prop\")"
   ]
  },
  {
   "cell_type": "code",
   "execution_count": 23,
   "id": "a3184fd0-56ec-4925-a3b2-29279a05b7d0",
   "metadata": {},
   "outputs": [
    {
     "name": "stdout",
     "output_type": "stream",
     "text": [
      "CPU times: user 4.34 s, sys: 248 µs, total: 4.34 s\n",
      "Wall time: 6.2 s\n"
     ]
    }
   ],
   "source": [
    "%%time\n",
    "system = FromNetwork(\"eu_procurements_alt\", name=\"FR_2011\", undirected=True)\n",
    "usystem = UncertainFODESystem.from_FODESystem(system, 0.01, type=\"prop\")"
   ]
  },
  {
   "cell_type": "code",
   "execution_count": 24,
   "id": "a3860ce0-bf38-48cb-a4e3-da2cd8c48bc3",
   "metadata": {},
   "outputs": [
    {
     "name": "stdout",
     "output_type": "stream",
     "text": [
      "CPU times: user 5.18 s, sys: 9.75 ms, total: 5.19 s\n",
      "Wall time: 6.84 s\n"
     ]
    }
   ],
   "source": [
    "%%time\n",
    "system = FromNetwork(\"eu_procurements_alt\", name=\"FR_2010\", undirected=True)\n",
    "usystem = UncertainFODESystem.from_FODESystem(system, 0.01, type=\"prop\")"
   ]
  },
  {
   "cell_type": "code",
   "execution_count": 25,
   "id": "399f8019-7162-4f63-9a50-2328904b7d23",
   "metadata": {},
   "outputs": [
    {
     "name": "stdout",
     "output_type": "stream",
     "text": [
      "CPU times: user 1min 6s, sys: 176 ms, total: 1min 6s\n",
      "Wall time: 1min 9s\n"
     ]
    }
   ],
   "source": [
    "%%time\n",
    "system = FromNetwork(\"us_agencies\", name=\"aggregate\", undirected=True)\n",
    "usystem = UncertainFODESystem.from_FODESystem(system, 0.01, type=\"prop\")"
   ]
  },
  {
   "cell_type": "code",
   "execution_count": 26,
   "id": "0d76d3ea-24fd-4ee1-84e5-67b63da77b25",
   "metadata": {},
   "outputs": [
    {
     "name": "stdout",
     "output_type": "stream",
     "text": [
      "CPU times: user 2.34 s, sys: 30 ms, total: 2.37 s\n",
      "Wall time: 3.99 s\n"
     ]
    }
   ],
   "source": [
    "%%time\n",
    "system = FromNetwork(\"fao_trade\", undirected=True)\n",
    "usystem = UncertainFODESystem.from_FODESystem(system, 0.01, type=\"prop\")"
   ]
  },
  {
   "cell_type": "code",
   "execution_count": 2,
   "id": "048b438c-c1ba-4088-9773-f0cf6c353668",
   "metadata": {},
   "outputs": [
    {
     "name": "stdout",
     "output_type": "stream",
     "text": [
      "CPU times: user 1.05 s, sys: 3.41 ms, total: 1.05 s\n",
      "Wall time: 2.8 s\n"
     ]
    }
   ],
   "source": [
    "%%time\n",
    "system = FromNetwork(\"eu_procurements_alt\", name=\"DE_2013\", undirected=True)\n",
    "usystem = UncertainFODESystem.from_FODESystem(system, 0.01, type=\"prop\")"
   ]
  },
  {
   "cell_type": "code",
   "execution_count": 3,
   "id": "7e724836-4e0b-4bd0-b7a3-a871f6834130",
   "metadata": {},
   "outputs": [
    {
     "name": "stdout",
     "output_type": "stream",
     "text": [
      "CPU times: user 5.39 s, sys: 63.1 ms, total: 5.45 s\n",
      "Wall time: 6.36 s\n"
     ]
    }
   ],
   "source": [
    "%%time\n",
    "system = FromNetwork(\"arxiv_collab\", name=\"cond-mat-1999\", undirected=True)\n",
    "usystem = UncertainFODESystem.from_FODESystem(system, 0.01, type=\"prop\")"
   ]
  },
  {
   "cell_type": "code",
   "execution_count": 5,
   "id": "89fe11f9-d084-4c51-9d63-2cc98fc87ec6",
   "metadata": {},
   "outputs": [
    {
     "name": "stdout",
     "output_type": "stream",
     "text": [
      "CPU times: user 2.81 s, sys: 20.9 ms, total: 2.83 s\n",
      "Wall time: 3.79 s\n"
     ]
    }
   ],
   "source": [
    "%%time\n",
    "system = FromNetwork(\"eu_procurements_alt\", name=\"DE_2016\", undirected=True)\n",
    "usystem = UncertainFODESystem.from_FODESystem(system, 0.01, type=\"prop\")"
   ]
  },
  {
   "cell_type": "code",
   "execution_count": 6,
   "id": "396841e4-1ee4-4a3c-a9b7-b9b6283bc6c7",
   "metadata": {},
   "outputs": [
    {
     "name": "stdout",
     "output_type": "stream",
     "text": [
      "CPU times: user 7.77 s, sys: 69.4 ms, total: 7.84 s\n",
      "Wall time: 9.84 s\n"
     ]
    }
   ],
   "source": [
    "%%time\n",
    "system = FromNetwork(\"escorts\", undirected=True)\n",
    "usystem = UncertainFODESystem.from_FODESystem(system, 0.01, type=\"prop\")"
   ]
  },
  {
   "cell_type": "code",
   "execution_count": 7,
   "id": "e6955bbf-ef1d-43e6-9018-98e9415b095c",
   "metadata": {},
   "outputs": [
    {
     "name": "stdout",
     "output_type": "stream",
     "text": [
      "CPU times: user 2.87 s, sys: 11 ms, total: 2.88 s\n",
      "Wall time: 3.8 s\n"
     ]
    }
   ],
   "source": [
    "%%time\n",
    "system = FromNetwork(\"eu_procurements_alt\", name=\"UK_2012\", undirected=True)\n",
    "usystem = UncertainFODESystem.from_FODESystem(system, 0.01, type=\"prop\")"
   ]
  },
  {
   "cell_type": "code",
   "execution_count": 8,
   "id": "875fb8e2-8b3d-4f07-9f5a-d9ac89f80620",
   "metadata": {},
   "outputs": [
    {
     "name": "stdout",
     "output_type": "stream",
     "text": [
      "CPU times: user 13.5 s, sys: 20.8 ms, total: 13.5 s\n",
      "Wall time: 14.6 s\n"
     ]
    }
   ],
   "source": [
    "%%time\n",
    "system = FromNetwork(\"eu_procurements_alt\", name=\"PL_2016\", undirected=True)\n",
    "usystem = UncertainFODESystem.from_FODESystem(system, 0.01, type=\"prop\")"
   ]
  },
  {
   "cell_type": "code",
   "execution_count": 9,
   "id": "1aa633a5-9f74-44e5-abcf-06b46a07e16b",
   "metadata": {},
   "outputs": [
    {
     "name": "stdout",
     "output_type": "stream",
     "text": [
      "CPU times: user 5.07 s, sys: 10.1 ms, total: 5.08 s\n",
      "Wall time: 6.3 s\n"
     ]
    }
   ],
   "source": [
    "%%time\n",
    "system = FromNetwork(\"eu_procurements_alt\", name=\"PL_2013\", undirected=True)\n",
    "usystem = UncertainFODESystem.from_FODESystem(system, 0.01, type=\"prop\")"
   ]
  },
  {
   "cell_type": "code",
   "execution_count": 14,
   "id": "14b9b050-ed1d-49ec-9e82-e4f336d5f18f",
   "metadata": {},
   "outputs": [
    {
     "name": "stdout",
     "output_type": "stream",
     "text": [
      "CPU times: user 3.49 s, sys: 8.99 ms, total: 3.5 s\n",
      "Wall time: 4.44 s\n"
     ]
    }
   ],
   "source": [
    "%%time\n",
    "system = FromNetwork(\"physics_collab\", name=\"arXiv\", undirected=True)\n",
    "usystem = UncertainFODESystem.from_FODESystem(system, 0.01, type=\"prop\")"
   ]
  },
  {
   "cell_type": "code",
   "execution_count": 13,
   "id": "12091cf0-b961-4e23-aa24-ff3bdebeca18",
   "metadata": {},
   "outputs": [
    {
     "name": "stdout",
     "output_type": "stream",
     "text": [
      "CPU times: user 1.26 s, sys: 0 ns, total: 1.26 s\n",
      "Wall time: 2.13 s\n"
     ]
    }
   ],
   "source": [
    "%%time\n",
    "system = FromNetwork(\"eu_procurements_alt\", name=\"DE_2015\", undirected=True)\n",
    "usystem = UncertainFODESystem.from_FODESystem(system, 0.01, type=\"prop\")"
   ]
  },
  {
   "cell_type": "code",
   "execution_count": 11,
   "id": "5c4dab2a-ee4f-41f3-ac7b-8049b25584a0",
   "metadata": {},
   "outputs": [
    {
     "name": "stdout",
     "output_type": "stream",
     "text": [
      "CPU times: user 3.34 s, sys: 19.7 ms, total: 3.36 s\n",
      "Wall time: 14.2 s\n"
     ]
    }
   ],
   "source": [
    "%%time\n",
    "system = FromNetwork(\"eu_procurements_alt\", name=\"PL_2014\", undirected=True)\n",
    "usystem = UncertainFODESystem.from_FODESystem(system, 0.01, type=\"prop\")"
   ]
  },
  {
   "cell_type": "code",
   "execution_count": 12,
   "id": "f164a590-5dc0-4e84-bbb6-1c13222af0d9",
   "metadata": {},
   "outputs": [
    {
     "name": "stdout",
     "output_type": "stream",
     "text": [
      "CPU times: user 765 ms, sys: 19.6 ms, total: 785 ms\n",
      "Wall time: 1.72 s\n"
     ]
    }
   ],
   "source": [
    "%%time\n",
    "system = FromNetwork(\"eu_procurements_alt\", name=\"DE_2011\", undirected=True)\n",
    "usystem = UncertainFODESystem.from_FODESystem(system, 0.01, type=\"prop\")"
   ]
  },
  {
   "cell_type": "code",
   "execution_count": 15,
   "id": "fa4f965e-5b7d-41f5-9ccc-91058427a53b",
   "metadata": {},
   "outputs": [
    {
     "name": "stdout",
     "output_type": "stream",
     "text": [
      "CPU times: user 676 ms, sys: 0 ns, total: 676 ms\n",
      "Wall time: 1.58 s\n"
     ]
    }
   ],
   "source": [
    "%%time\n",
    "system = FromNetwork(\"eu_procurements_alt\", name=\"UK_2015\", undirected=True)\n",
    "usystem = UncertainFODESystem.from_FODESystem(system, 0.01, type=\"prop\")"
   ]
  },
  {
   "cell_type": "code",
   "execution_count": 18,
   "id": "06c68c2f-c77d-4006-a17a-4743d8d48183",
   "metadata": {},
   "outputs": [
    {
     "name": "stderr",
     "output_type": "stream",
     "text": [
      "2023-02-20 17:57:58 WARNING  [FromNetwork] Found repeated names in the vertices. Using generic names\n"
     ]
    },
    {
     "name": "stdout",
     "output_type": "stream",
     "text": [
      "CPU times: user 6.37 s, sys: 28.9 ms, total: 6.4 s\n",
      "Wall time: 9.13 s\n"
     ]
    }
   ],
   "source": [
    "%%time\n",
    "system = FromNetwork(\"budapest_connectome\", name=\"all_200k\", undirected=True)\n",
    "usystem = UncertainFODESystem.from_FODESystem(system, 0.01, type=\"prop\")"
   ]
  },
  {
   "cell_type": "code",
   "execution_count": 16,
   "id": "aa254369-69d8-4285-8e85-db9cf1ef6494",
   "metadata": {},
   "outputs": [
    {
     "name": "stdout",
     "output_type": "stream",
     "text": [
      "CPU times: user 959 ms, sys: 8.93 ms, total: 968 ms\n",
      "Wall time: 1.73 s\n"
     ]
    }
   ],
   "source": [
    "%%time\n",
    "system = FromNetwork(\"eu_procurements_alt\", name=\"UK_2014\", undirected=True)\n",
    "usystem = UncertainFODESystem.from_FODESystem(system, 0.01, type=\"prop\")"
   ]
  },
  {
   "cell_type": "code",
   "execution_count": 17,
   "id": "ea096ae7-14ed-4c2c-87e4-44525d8f5f30",
   "metadata": {},
   "outputs": [
    {
     "name": "stdout",
     "output_type": "stream",
     "text": [
      "CPU times: user 763 ms, sys: 0 ns, total: 763 ms\n",
      "Wall time: 1.48 s\n"
     ]
    }
   ],
   "source": [
    "%%time\n",
    "system = FromNetwork(\"eu_procurements_alt\", name=\"IT_2016\", undirected=True)\n",
    "usystem = UncertainFODESystem.from_FODESystem(system, 0.01, type=\"prop\")"
   ]
  },
  {
   "cell_type": "code",
   "execution_count": 19,
   "id": "2b710402-6eb5-470c-95ef-f2bace801f79",
   "metadata": {},
   "outputs": [
    {
     "name": "stdout",
     "output_type": "stream",
     "text": [
      "CPU times: user 2.6 s, sys: 10 ms, total: 2.61 s\n",
      "Wall time: 3.7 s\n"
     ]
    }
   ],
   "source": [
    "%%time\n",
    "system = FromNetwork(\"eu_procurements_alt\", name=\"PL_2015\", undirected=True)\n",
    "usystem = UncertainFODESystem.from_FODESystem(system, 0.01, type=\"prop\")"
   ]
  },
  {
   "cell_type": "code",
   "execution_count": 20,
   "id": "2cf568a3-a047-4a1d-9849-c4e0eb0821c4",
   "metadata": {},
   "outputs": [
    {
     "name": "stdout",
     "output_type": "stream",
     "text": [
      "CPU times: user 4.03 s, sys: 152 µs, total: 4.03 s\n",
      "Wall time: 5.73 s\n"
     ]
    }
   ],
   "source": [
    "%%time\n",
    "system = FromNetwork(\"eu_procurements_alt\", name=\"DE_2014\", undirected=True)\n",
    "usystem = UncertainFODESystem.from_FODESystem(system, 0.01, type=\"prop\")"
   ]
  },
  {
   "cell_type": "code",
   "execution_count": 21,
   "id": "b645344e-1512-41ff-89c6-cc3a2041a50e",
   "metadata": {},
   "outputs": [
    {
     "name": "stdout",
     "output_type": "stream",
     "text": [
      "CPU times: user 1.6 s, sys: 434 µs, total: 1.6 s\n",
      "Wall time: 2.43 s\n"
     ]
    }
   ],
   "source": [
    "%%time\n",
    "system = FromNetwork(\"arxiv_collab\", name=\"hep-th-1999\", undirected=True)\n",
    "usystem = UncertainFODESystem.from_FODESystem(system, 0.01, type=\"prop\")"
   ]
  },
  {
   "cell_type": "code",
   "execution_count": 22,
   "id": "900da676-f167-437e-a2b1-5519ab4e31d2",
   "metadata": {},
   "outputs": [
    {
     "name": "stdout",
     "output_type": "stream",
     "text": [
      "CPU times: user 7.74 s, sys: 40.1 ms, total: 7.78 s\n",
      "Wall time: 9.61 s\n"
     ]
    }
   ],
   "source": [
    "%%time\n",
    "system = FromNetwork(\"foldoc\", undirected=True)\n",
    "usystem = UncertainFODESystem.from_FODESystem(system, 0.01, type=\"prop\")"
   ]
  },
  {
   "cell_type": "code",
   "execution_count": 23,
   "id": "2a794e89-f89b-4903-8f66-6bacd562ffd4",
   "metadata": {},
   "outputs": [
    {
     "name": "stderr",
     "output_type": "stream",
     "text": [
      "2023-02-20 18:14:54 WARNING  [FromNetwork] Found repeated names in the vertices. Using generic names\n"
     ]
    },
    {
     "name": "stdout",
     "output_type": "stream",
     "text": [
      "CPU times: user 9.18 s, sys: 13.1 ms, total: 9.19 s\n",
      "Wall time: 11.8 s\n"
     ]
    }
   ],
   "source": [
    "%%time\n",
    "system = FromNetwork(\"budapest_connectome\", name=\"all_1m\", undirected=True)\n",
    "usystem = UncertainFODESystem.from_FODESystem(system, 0.01, type=\"prop\")"
   ]
  },
  {
   "cell_type": "code",
   "execution_count": 24,
   "id": "6aadbfa8-23a6-4bd0-b9c5-7ef5c9384398",
   "metadata": {},
   "outputs": [
    {
     "name": "stdout",
     "output_type": "stream",
     "text": [
      "CPU times: user 790 ms, sys: 0 ns, total: 790 ms\n",
      "Wall time: 1.64 s\n"
     ]
    }
   ],
   "source": [
    "%%time\n",
    "system = FromNetwork(\"eu_procurements_alt\", name=\"UK_2011\", undirected=True)\n",
    "usystem = UncertainFODESystem.from_FODESystem(system, 0.01, type=\"prop\")"
   ]
  },
  {
   "cell_type": "code",
   "execution_count": 25,
   "id": "485bfafb-ad07-48f5-9561-1b47aabac246",
   "metadata": {},
   "outputs": [
    {
     "name": "stdout",
     "output_type": "stream",
     "text": [
      "CPU times: user 3.31 s, sys: 0 ns, total: 3.31 s\n",
      "Wall time: 4.33 s\n"
     ]
    }
   ],
   "source": [
    "%%time\n",
    "system = FromNetwork(\"eu_procurements_alt\", name=\"PL_2011\", undirected=True)\n",
    "usystem = UncertainFODESystem.from_FODESystem(system, 0.01, type=\"prop\")"
   ]
  },
  {
   "cell_type": "code",
   "execution_count": 26,
   "id": "cabbe06e-52ac-4584-8986-f1ea479a42f0",
   "metadata": {},
   "outputs": [
    {
     "name": "stdout",
     "output_type": "stream",
     "text": [
      "CPU times: user 316 ms, sys: 0 ns, total: 316 ms\n",
      "Wall time: 887 ms\n"
     ]
    }
   ],
   "source": [
    "%%time\n",
    "system = FromNetwork(\"sp_baboons\", name=\"sensor\", undirected=True)\n",
    "usystem = UncertainFODESystem.from_FODESystem(system, 0.01, type=\"prop\")"
   ]
  },
  {
   "cell_type": "code",
   "execution_count": 27,
   "id": "1236cd86-060e-4545-a476-c5d4335d6012",
   "metadata": {},
   "outputs": [
    {
     "name": "stdout",
     "output_type": "stream",
     "text": [
      "CPU times: user 783 ms, sys: 9.53 ms, total: 792 ms\n",
      "Wall time: 1.67 s\n"
     ]
    }
   ],
   "source": [
    "%%time\n",
    "system = FromNetwork(\"eu_procurements_alt\", name=\"UK_2009\", undirected=True)\n",
    "usystem = UncertainFODESystem.from_FODESystem(system, 0.01, type=\"prop\")"
   ]
  },
  {
   "cell_type": "code",
   "execution_count": 28,
   "id": "7fbb4c22-534d-4db2-a6af-875d7a4558f1",
   "metadata": {},
   "outputs": [
    {
     "name": "stdout",
     "output_type": "stream",
     "text": [
      "CPU times: user 1.21 s, sys: 480 µs, total: 1.21 s\n",
      "Wall time: 2.06 s\n"
     ]
    }
   ],
   "source": [
    "%%time\n",
    "system = FromNetwork(\"eu_procurements_alt\", name=\"UK_2016\", undirected=True)\n",
    "usystem = UncertainFODESystem.from_FODESystem(system, 0.01, type=\"prop\")"
   ]
  },
  {
   "cell_type": "code",
   "execution_count": 29,
   "id": "3e6bbb50-a2d0-41c0-bea7-1562cfd67f96",
   "metadata": {},
   "outputs": [
    {
     "name": "stderr",
     "output_type": "stream",
     "text": [
      "2023-02-20 18:24:28 WARNING  [FromNetwork] Found repeated names in the vertices. Using generic names\n"
     ]
    },
    {
     "name": "stdout",
     "output_type": "stream",
     "text": [
      "CPU times: user 7.55 s, sys: 195 µs, total: 7.55 s\n",
      "Wall time: 8.57 s\n"
     ]
    }
   ],
   "source": [
    "%%time\n",
    "system = FromNetwork(\"us_agencies\", name=\"california\", undirected=True)\n",
    "usystem = UncertainFODESystem.from_FODESystem(system, 0.01, type=\"prop\")"
   ]
  },
  {
   "cell_type": "code",
   "execution_count": 30,
   "id": "c6ce3887-ac33-4a3f-b002-ab5676996e6a",
   "metadata": {},
   "outputs": [
    {
     "name": "stdout",
     "output_type": "stream",
     "text": [
      "CPU times: user 1.08 s, sys: 240 µs, total: 1.08 s\n",
      "Wall time: 1.94 s\n"
     ]
    }
   ],
   "source": [
    "%%time\n",
    "system = FromNetwork(\"eu_procurements_alt\", name=\"DE_2012\", undirected=True)\n",
    "usystem = UncertainFODESystem.from_FODESystem(system, 0.01, type=\"prop\")"
   ]
  },
  {
   "cell_type": "code",
   "execution_count": 31,
   "id": "518f9142-f03e-4d24-8829-01a7e8848bb1",
   "metadata": {},
   "outputs": [
    {
     "name": "stdout",
     "output_type": "stream",
     "text": [
      "CPU times: user 5.93 s, sys: 19.9 ms, total: 5.95 s\n",
      "Wall time: 7.09 s\n"
     ]
    }
   ],
   "source": [
    "%%time\n",
    "system = FromNetwork(\"eu_procurements_alt\", name=\"PL_2010\", undirected=True)\n",
    "usystem = UncertainFODESystem.from_FODESystem(system, 0.01, type=\"prop\")"
   ]
  },
  {
   "cell_type": "code",
   "execution_count": 32,
   "id": "2c835e99-493f-4200-baf5-66a321e1c36c",
   "metadata": {},
   "outputs": [
    {
     "name": "stdout",
     "output_type": "stream",
     "text": [
      "CPU times: user 207 ms, sys: 104 µs, total: 207 ms\n",
      "Wall time: 838 ms\n"
     ]
    }
   ],
   "source": [
    "%%time\n",
    "system = FromNetwork(\"eu_procurements_alt\", name=\"SE_2012\", undirected=True)\n",
    "usystem = UncertainFODESystem.from_FODESystem(system, 0.01, type=\"prop\")"
   ]
  },
  {
   "cell_type": "code",
   "execution_count": 33,
   "id": "11185c30-29cc-4c48-bf72-74cc08aaaf2a",
   "metadata": {},
   "outputs": [
    {
     "name": "stdout",
     "output_type": "stream",
     "text": [
      "CPU times: user 478 ms, sys: 0 ns, total: 478 ms\n",
      "Wall time: 1.23 s\n"
     ]
    }
   ],
   "source": [
    "%%time\n",
    "system = FromNetwork(\"eu_procurements_alt\", name=\"DE_2010\", undirected=True)\n",
    "usystem = UncertainFODESystem.from_FODESystem(system, 0.01, type=\"prop\")"
   ]
  },
  {
   "cell_type": "code",
   "execution_count": 34,
   "id": "93362f38-bab7-446a-bd32-e66523980605",
   "metadata": {},
   "outputs": [
    {
     "name": "stderr",
     "output_type": "stream",
     "text": [
      "2023-02-20 18:36:29 WARNING  [FromNetwork] Found repeated names in the vertices. Using generic names\n"
     ]
    },
    {
     "name": "stdout",
     "output_type": "stream",
     "text": [
      "CPU times: user 2.56 s, sys: 0 ns, total: 2.56 s\n",
      "Wall time: 4.09 s\n"
     ]
    }
   ],
   "source": [
    "%%time\n",
    "system = FromNetwork(\"budapest_connectome\", name=\"male_20k\", undirected=True)\n",
    "usystem = UncertainFODESystem.from_FODESystem(system, 0.01, type=\"prop\")"
   ]
  },
  {
   "cell_type": "code",
   "execution_count": 35,
   "id": "e77cc298-0b3f-430d-af44-19c46f057633",
   "metadata": {},
   "outputs": [
    {
     "name": "stderr",
     "output_type": "stream",
     "text": [
      "2023-02-20 18:36:33 WARNING  [FromNetwork] Found repeated names in the vertices. Using generic names\n"
     ]
    },
    {
     "name": "stdout",
     "output_type": "stream",
     "text": [
      "CPU times: user 3.61 s, sys: 19.7 ms, total: 3.63 s\n",
      "Wall time: 5.55 s\n"
     ]
    }
   ],
   "source": [
    "%%time\n",
    "system = FromNetwork(\"budapest_connectome\", name=\"male_200k\", undirected=True)\n",
    "usystem = UncertainFODESystem.from_FODESystem(system, 0.01, type=\"prop\")"
   ]
  },
  {
   "cell_type": "code",
   "execution_count": 36,
   "id": "b7a6b618-f0df-4094-9147-7d98c6912850",
   "metadata": {},
   "outputs": [
    {
     "name": "stderr",
     "output_type": "stream",
     "text": [
      "2023-02-20 18:36:39 WARNING  [FromNetwork] Found repeated names in the vertices. Using generic names\n"
     ]
    },
    {
     "name": "stdout",
     "output_type": "stream",
     "text": [
      "CPU times: user 5.03 s, sys: 513 µs, total: 5.03 s\n",
      "Wall time: 7.22 s\n"
     ]
    }
   ],
   "source": [
    "%%time\n",
    "system = FromNetwork(\"budapest_connectome\", name=\"female_1m\", undirected=True)\n",
    "usystem = UncertainFODESystem.from_FODESystem(system, 0.01, type=\"prop\")"
   ]
  },
  {
   "cell_type": "code",
   "execution_count": 37,
   "id": "5c2201bc-fdb4-4851-835d-cb1ae389ddaa",
   "metadata": {},
   "outputs": [
    {
     "name": "stdout",
     "output_type": "stream",
     "text": [
      "CPU times: user 489 ms, sys: 9.58 ms, total: 499 ms\n",
      "Wall time: 1.31 s\n"
     ]
    }
   ],
   "source": [
    "%%time\n",
    "system = FromNetwork(\"eu_procurements_alt\", name=\"UK_2008\", undirected=True)\n",
    "usystem = UncertainFODESystem.from_FODESystem(system, 0.01, type=\"prop\")"
   ]
  },
  {
   "cell_type": "code",
   "execution_count": 38,
   "id": "94298cbb-805f-4734-99ec-5b0b7a1606bf",
   "metadata": {},
   "outputs": [
    {
     "name": "stderr",
     "output_type": "stream",
     "text": [
      "2023-02-20 18:36:47 WARNING  [FromNetwork] Found repeated names in the vertices. Using generic names\n"
     ]
    },
    {
     "name": "stdout",
     "output_type": "stream",
     "text": [
      "CPU times: user 3.29 s, sys: 39 µs, total: 3.29 s\n",
      "Wall time: 5.06 s\n"
     ]
    }
   ],
   "source": [
    "%%time\n",
    "system = FromNetwork(\"budapest_connectome\", name=\"all_20k\", undirected=True)\n",
    "usystem = UncertainFODESystem.from_FODESystem(system, 0.01, type=\"prop\")"
   ]
  },
  {
   "cell_type": "code",
   "execution_count": 39,
   "id": "cc03a9aa-2a10-44b7-b092-2631a66f3d21",
   "metadata": {},
   "outputs": [
    {
     "name": "stdout",
     "output_type": "stream",
     "text": [
      "CPU times: user 558 ms, sys: 38 µs, total: 558 ms\n",
      "Wall time: 1.26 s\n"
     ]
    }
   ],
   "source": [
    "%%time\n",
    "system = FromNetwork(\"eu_procurements_alt\", name=\"ES_2009\", undirected=True)\n",
    "usystem = UncertainFODESystem.from_FODESystem(system, 0.01, type=\"prop\")"
   ]
  },
  {
   "cell_type": "code",
   "execution_count": 40,
   "id": "a1f21e4c-cb2b-407d-b949-f634a8e20767",
   "metadata": {},
   "outputs": [
    {
     "name": "stdout",
     "output_type": "stream",
     "text": [
      "CPU times: user 565 ms, sys: 0 ns, total: 565 ms\n",
      "Wall time: 1.34 s\n"
     ]
    }
   ],
   "source": [
    "%%time\n",
    "system = FromNetwork(\"eu_procurements_alt\", name=\"UK_2010\", undirected=True)\n",
    "usystem = UncertainFODESystem.from_FODESystem(system, 0.01, type=\"prop\")"
   ]
  },
  {
   "cell_type": "code",
   "execution_count": 41,
   "id": "5efdbb76-9c38-4a63-bb62-3b30db48fc09",
   "metadata": {},
   "outputs": [
    {
     "name": "stdout",
     "output_type": "stream",
     "text": [
      "CPU times: user 455 ms, sys: 64 µs, total: 455 ms\n",
      "Wall time: 1.27 s\n"
     ]
    }
   ],
   "source": [
    "%%time\n",
    "system = FromNetwork(\"eu_procurements_alt\", name=\"DE_2009\", undirected=True)\n",
    "usystem = UncertainFODESystem.from_FODESystem(system, 0.01, type=\"prop\")"
   ]
  },
  {
   "cell_type": "code",
   "execution_count": 42,
   "id": "75f18f96-2560-48d9-b5f1-47584b3cd84e",
   "metadata": {},
   "outputs": [
    {
     "name": "stdout",
     "output_type": "stream",
     "text": [
      "CPU times: user 3.26 s, sys: 72 µs, total: 3.26 s\n",
      "Wall time: 4.02 s\n"
     ]
    }
   ],
   "source": [
    "%%time\n",
    "system = FromNetwork(\"advogato\", undirected=True)\n",
    "usystem = UncertainFODESystem.from_FODESystem(system, 0.01, type=\"prop\")"
   ]
  },
  {
   "cell_type": "code",
   "execution_count": 43,
   "id": "c0bbe148-5c60-4acb-8f69-cc4a666cbe14",
   "metadata": {},
   "outputs": [
    {
     "name": "stderr",
     "output_type": "stream",
     "text": [
      "2023-02-20 18:37:00 WARNING  [FromNetwork] Found repeated names in the vertices. Using generic names\n"
     ]
    },
    {
     "name": "stdout",
     "output_type": "stream",
     "text": [
      "CPU times: user 3.37 s, sys: 122 µs, total: 3.37 s\n",
      "Wall time: 5.09 s\n"
     ]
    }
   ],
   "source": [
    "%%time\n",
    "system = FromNetwork(\"budapest_connectome\", name=\"female_20k\", undirected=True)\n",
    "usystem = UncertainFODESystem.from_FODESystem(system, 0.01, type=\"prop\")"
   ]
  },
  {
   "cell_type": "code",
   "execution_count": 44,
   "id": "28623c34-7cd9-479a-8902-be53b0c5f379",
   "metadata": {},
   "outputs": [
    {
     "name": "stdout",
     "output_type": "stream",
     "text": [
      "CPU times: user 293 ms, sys: 0 ns, total: 293 ms\n",
      "Wall time: 1.17 s\n"
     ]
    }
   ],
   "source": [
    "%%time\n",
    "system = FromNetwork(\"eu_procurements_alt\", name=\"DE_2008\", undirected=True)\n",
    "usystem = UncertainFODESystem.from_FODESystem(system, 0.01, type=\"prop\")"
   ]
  },
  {
   "cell_type": "code",
   "execution_count": 45,
   "id": "35961466-eb40-48f8-b805-822d4de95c5e",
   "metadata": {},
   "outputs": [
    {
     "name": "stderr",
     "output_type": "stream",
     "text": [
      "2023-02-20 18:37:07 WARNING  [FromNetwork] Found repeated names in the vertices. Using generic names\n"
     ]
    },
    {
     "name": "stdout",
     "output_type": "stream",
     "text": [
      "CPU times: user 4.51 s, sys: 5.78 ms, total: 4.51 s\n",
      "Wall time: 6.7 s\n"
     ]
    }
   ],
   "source": [
    "%%time\n",
    "system = FromNetwork(\"budapest_connectome\", name=\"female_200k\", undirected=True)\n",
    "usystem = UncertainFODESystem.from_FODESystem(system, 0.01, type=\"prop\")"
   ]
  },
  {
   "cell_type": "code",
   "execution_count": 46,
   "id": "21eb080e-4cbd-4bfb-983f-7ba4fffc581b",
   "metadata": {},
   "outputs": [
    {
     "name": "stdout",
     "output_type": "stream",
     "text": [
      "CPU times: user 576 ms, sys: 0 ns, total: 576 ms\n",
      "Wall time: 1.35 s\n"
     ]
    }
   ],
   "source": [
    "%%time\n",
    "system = FromNetwork(\"eu_procurements_alt\", name=\"UK_2013\", undirected=True)\n",
    "usystem = UncertainFODESystem.from_FODESystem(system, 0.01, type=\"prop\")"
   ]
  },
  {
   "cell_type": "markdown",
   "id": "b70d449e-d1af-42c9-9be8-da3d02346873",
   "metadata": {},
   "source": [
    "## Performance of the API"
   ]
  },
  {
   "cell_type": "code",
   "execution_count": null,
   "id": "61a5cf52-5d85-4f17-81b4-d9d7ac73ae1c",
   "metadata": {},
   "outputs": [],
   "source": []
  },
  {
   "cell_type": "code",
   "execution_count": null,
   "id": "1d845526-8549-484d-a694-2c02930788f5",
   "metadata": {},
   "outputs": [],
   "source": []
  },
  {
   "cell_type": "code",
   "execution_count": 25,
   "id": "89bd960c-b2ba-40e8-9101-7ebed808abbb",
   "metadata": {
    "tags": []
   },
   "outputs": [
    {
     "name": "stdout",
     "output_type": "stream",
     "text": [
      "Number of total models: 280\n",
      "Found 163017 models with given characteristics\n"
     ]
    }
   ],
   "source": [
    "list_of_models_bytes = requests.get(\"https://networks.skewed.de/api/nets\").content\n",
    "all_models = [\n",
    "    el.removeprefix('\"').removesuffix('\"') \n",
    "    for el in list_of_models_bytes.decode(\"utf-8\").removeprefix(\"[\").removesuffix(\"]\\n\").split(\",\")\n",
    "]\n",
    "print(f\"Number of total models: {len(all_models)}\")\n",
    "def find_valid_100K(model):\n",
    "    json = requests.get(f\"https://networks.skewed.de/api/net/{model}\").json()\n",
    "    if json.get(\"restricted\", False):\n",
    "        return []\n",
    "    \n",
    "    networks = json.get(\"nets\", [])\n",
    "    if len(networks) == 1:\n",
    "        nvertices = json[\"analyses\"][\"num_vertices\"]\n",
    "        if nvertices < 100_000 and nvertices > 5:\n",
    "            return [(model, json[\"nets\"][0],nvertices)]\n",
    "        else:\n",
    "            return []\n",
    "    elif len(networks) > 1:\n",
    "        result = []\n",
    "        for network in networks:\n",
    "            nvertices = json[\"analyses\"][network][\"num_vertices\"]\n",
    "            if nvertices < 100_000 and nvertices > 5:\n",
    "                result.append((model,network,nvertices))\n",
    "        return result\n",
    "    else:\n",
    "        raise RuntimeError\n",
    "            \n",
    "upTo100K = []\n",
    "for model in all_models:\n",
    "    old_length = len(upTo100K)\n",
    "    upTo100K.extend(find_valid_100K(model))\n",
    "    #print(f\"Found {len(upTo100K)-old_length} models in {model}\")\n",
    "print(f\"Found {len(upTo100K)} models with given characteristics\")\n",
    "upTo100K.sort(key=lambda p: p[2])"
   ]
  },
  {
   "cell_type": "code",
   "execution_count": 27,
   "id": "992ee1e7-8d0c-4b1c-a461-b3918888fd74",
   "metadata": {},
   "outputs": [
    {
     "name": "stdout",
     "output_type": "stream",
     "text": [
      "on 47: Coercion error in internet_top_pop - Dataxchange                                                                 \n",
      "on 48: Coercion error in internet_top_pop - Epoch                                                                       \n",
      "on 49: Coercion error in internet_top_pop - Layer42                                                                     \n",
      "on 50: Coercion error in internet_top_pop - Mren                                                                        \n",
      "on 51: Coercion error in internet_top_pop - Napnet                                                                      \n",
      "on 52: Coercion error in internet_top_pop - Telecomserbia                                                               \n",
      "on 173: Coercion error in internet_top_pop - Basnet                                                                     \n",
      "on 174: Coercion error in internet_top_pop - Getnet                                                                     \n",
      "on 175: Coercion error in internet_top_pop - Heanet                                                                     \n",
      "on 176: Coercion error in internet_top_pop - Netrail                                                                    \n",
      "on 177: Coercion error in internet_top_pop - Nordu1989                                                                  \n",
      "on 178: Coercion error in internet_top_pop - Sanren                                                                     \n",
      "on 336: Coercion error in internet_top_pop - Gblnet                                                                     \n",
      "on 337: Coercion error in internet_top_pop - HiberniaIreland                                                            \n",
      "Reading system from Networks-Skewed |▏⚠︎                                      | (!) 399/163017 [0%] in 52:06.4 (0.13/s)  \n"
     ]
    },
    {
     "ename": "KeyboardInterrupt",
     "evalue": "",
     "output_type": "error",
     "traceback": [
      "\u001b[0;31m---------------------------------------------------------------------------\u001b[0m",
      "\u001b[0;31mKeyboardInterrupt\u001b[0m                         Traceback (most recent call last)",
      "Cell \u001b[0;32mIn [27], line 13\u001b[0m\n\u001b[1;32m     11\u001b[0m \u001b[38;5;28;01mfor\u001b[39;00m (model, name, size) \u001b[38;5;129;01min\u001b[39;00m upTo100K:\n\u001b[1;32m     12\u001b[0m     \u001b[38;5;28;01mtry\u001b[39;00m:\n\u001b[0;32m---> 13\u001b[0m         n,t \u001b[38;5;241m=\u001b[39m \u001b[43mtime_test_from_web\u001b[49m\u001b[43m(\u001b[49m\u001b[43mmodel\u001b[49m\u001b[43m,\u001b[49m\u001b[43mname\u001b[49m\u001b[43m)\u001b[49m\n\u001b[1;32m     14\u001b[0m         file\u001b[38;5;241m.\u001b[39mwrite(\u001b[38;5;124mf\u001b[39m\u001b[38;5;124m\"\u001b[39m\u001b[38;5;132;01m{\u001b[39;00mmodel\u001b[38;5;132;01m}\u001b[39;00m\u001b[38;5;124m;\u001b[39m\u001b[38;5;132;01m{\u001b[39;00mname\u001b[38;5;132;01m}\u001b[39;00m\u001b[38;5;124m;\u001b[39m\u001b[38;5;132;01m{\u001b[39;00mn\u001b[38;5;132;01m}\u001b[39;00m\u001b[38;5;124m;\u001b[39m\u001b[38;5;132;01m{\u001b[39;00mt\u001b[38;5;132;01m}\u001b[39;00m\u001b[38;5;130;01m\\n\u001b[39;00m\u001b[38;5;124m\"\u001b[39m)\n\u001b[1;32m     15\u001b[0m     \u001b[38;5;28;01mexcept\u001b[39;00m CoercionFailed:\n",
      "Cell \u001b[0;32mIn [27], line 4\u001b[0m, in \u001b[0;36mtime_test_from_web\u001b[0;34m(model, name)\u001b[0m\n\u001b[1;32m      2\u001b[0m \u001b[38;5;28;01mdef\u001b[39;00m \u001b[38;5;21mtime_test_from_web\u001b[39m(model, name):\n\u001b[1;32m      3\u001b[0m     start \u001b[38;5;241m=\u001b[39m time\u001b[38;5;241m.\u001b[39mtime()\n\u001b[0;32m----> 4\u001b[0m     system \u001b[38;5;241m=\u001b[39m \u001b[43mFromNetwork\u001b[49m\u001b[43m(\u001b[49m\u001b[43mmodel\u001b[49m\u001b[43m,\u001b[49m\u001b[43m \u001b[49m\u001b[43mname\u001b[49m\u001b[43m,\u001b[49m\u001b[43m \u001b[49m\u001b[43mcolumn\u001b[49m\u001b[38;5;241;43m=\u001b[39;49m\u001b[38;5;241;43m2\u001b[39;49m\u001b[43m)\u001b[49m\n\u001b[1;32m      5\u001b[0m     end \u001b[38;5;241m=\u001b[39m time\u001b[38;5;241m.\u001b[39mtime()\n\u001b[1;32m      6\u001b[0m     \u001b[38;5;28;01mreturn\u001b[39;00m system\u001b[38;5;241m.\u001b[39msize, end\u001b[38;5;241m-\u001b[39mstart\n",
      "File \u001b[0;32m~/git/CLUE/notebooks/../clue/networks_skewed.py:13\u001b[0m, in \u001b[0;36mFromNetwork\u001b[0;34m(network, name, column, undirected, adjacency)\u001b[0m\n\u001b[1;32m     11\u001b[0m \u001b[38;5;28;01mdef\u001b[39;00m \u001b[38;5;21mFromNetwork\u001b[39m(network, name\u001b[38;5;241m=\u001b[39m\u001b[38;5;28;01mNone\u001b[39;00m, column \u001b[38;5;241m=\u001b[39m \u001b[38;5;241m-\u001b[39m\u001b[38;5;241m1\u001b[39m, undirected\u001b[38;5;241m=\u001b[39m\u001b[38;5;28;01mNone\u001b[39;00m, adjacency\u001b[38;5;241m=\u001b[39m\u001b[38;5;28;01mTrue\u001b[39;00m):\n\u001b[1;32m     12\u001b[0m     logger\u001b[38;5;241m.\u001b[39minfo(\u001b[38;5;124mf\u001b[39m\u001b[38;5;124m\"\u001b[39m\u001b[38;5;124m[FromNetwork] Reaching the website for the model \u001b[39m\u001b[38;5;132;01m{\u001b[39;00mnetwork\u001b[38;5;132;01m}\u001b[39;00m\u001b[38;5;124m_\u001b[39m\u001b[38;5;132;01m{\u001b[39;00mname\u001b[38;5;132;01m}\u001b[39;00m\u001b[38;5;124m...\u001b[39m\u001b[38;5;124m\"\u001b[39m,)\n\u001b[0;32m---> 13\u001b[0m     r \u001b[38;5;241m=\u001b[39m \u001b[43mrequests\u001b[49m\u001b[38;5;241;43m.\u001b[39;49m\u001b[43mget\u001b[49m\u001b[43m(\u001b[49m\u001b[38;5;124;43mf\u001b[39;49m\u001b[38;5;124;43m\"\u001b[39;49m\u001b[38;5;124;43mhttps://networks.skewed.de/api/net/\u001b[39;49m\u001b[38;5;132;43;01m{\u001b[39;49;00m\u001b[43mnetwork\u001b[49m\u001b[38;5;132;43;01m}\u001b[39;49;00m\u001b[38;5;124;43m\"\u001b[39;49m\u001b[43m)\u001b[49m\u001b[38;5;241m.\u001b[39mjson()\n\u001b[1;32m     14\u001b[0m     name \u001b[38;5;241m=\u001b[39m r[\u001b[38;5;124m\"\u001b[39m\u001b[38;5;124mnets\u001b[39m\u001b[38;5;124m\"\u001b[39m][\u001b[38;5;241m0\u001b[39m] \u001b[38;5;28;01mif\u001b[39;00m name \u001b[38;5;129;01mis\u001b[39;00m \u001b[38;5;28;01mNone\u001b[39;00m \u001b[38;5;28;01melse\u001b[39;00m name\n\u001b[1;32m     15\u001b[0m     \u001b[38;5;28;01mif\u001b[39;00m \u001b[38;5;129;01mnot\u001b[39;00m name \u001b[38;5;129;01min\u001b[39;00m r[\u001b[38;5;124m\"\u001b[39m\u001b[38;5;124mnets\u001b[39m\u001b[38;5;124m\"\u001b[39m]:\n",
      "File \u001b[0;32m~/.local/lib/python3.11/site-packages/requests/api.py:73\u001b[0m, in \u001b[0;36mget\u001b[0;34m(url, params, **kwargs)\u001b[0m\n\u001b[1;32m     62\u001b[0m \u001b[38;5;28;01mdef\u001b[39;00m \u001b[38;5;21mget\u001b[39m(url, params\u001b[38;5;241m=\u001b[39m\u001b[38;5;28;01mNone\u001b[39;00m, \u001b[38;5;241m*\u001b[39m\u001b[38;5;241m*\u001b[39mkwargs):\n\u001b[1;32m     63\u001b[0m     \u001b[38;5;124mr\u001b[39m\u001b[38;5;124;03m\"\"\"Sends a GET request.\u001b[39;00m\n\u001b[1;32m     64\u001b[0m \n\u001b[1;32m     65\u001b[0m \u001b[38;5;124;03m    :param url: URL for the new :class:`Request` object.\u001b[39;00m\n\u001b[0;32m   (...)\u001b[0m\n\u001b[1;32m     70\u001b[0m \u001b[38;5;124;03m    :rtype: requests.Response\u001b[39;00m\n\u001b[1;32m     71\u001b[0m \u001b[38;5;124;03m    \"\"\"\u001b[39;00m\n\u001b[0;32m---> 73\u001b[0m     \u001b[38;5;28;01mreturn\u001b[39;00m \u001b[43mrequest\u001b[49m\u001b[43m(\u001b[49m\u001b[38;5;124;43m\"\u001b[39;49m\u001b[38;5;124;43mget\u001b[39;49m\u001b[38;5;124;43m\"\u001b[39;49m\u001b[43m,\u001b[49m\u001b[43m \u001b[49m\u001b[43murl\u001b[49m\u001b[43m,\u001b[49m\u001b[43m \u001b[49m\u001b[43mparams\u001b[49m\u001b[38;5;241;43m=\u001b[39;49m\u001b[43mparams\u001b[49m\u001b[43m,\u001b[49m\u001b[43m \u001b[49m\u001b[38;5;241;43m*\u001b[39;49m\u001b[38;5;241;43m*\u001b[39;49m\u001b[43mkwargs\u001b[49m\u001b[43m)\u001b[49m\n",
      "File \u001b[0;32m~/.local/lib/python3.11/site-packages/requests/api.py:59\u001b[0m, in \u001b[0;36mrequest\u001b[0;34m(method, url, **kwargs)\u001b[0m\n\u001b[1;32m     55\u001b[0m \u001b[38;5;66;03m# By using the 'with' statement we are sure the session is closed, thus we\u001b[39;00m\n\u001b[1;32m     56\u001b[0m \u001b[38;5;66;03m# avoid leaving sockets open which can trigger a ResourceWarning in some\u001b[39;00m\n\u001b[1;32m     57\u001b[0m \u001b[38;5;66;03m# cases, and look like a memory leak in others.\u001b[39;00m\n\u001b[1;32m     58\u001b[0m \u001b[38;5;28;01mwith\u001b[39;00m sessions\u001b[38;5;241m.\u001b[39mSession() \u001b[38;5;28;01mas\u001b[39;00m session:\n\u001b[0;32m---> 59\u001b[0m     \u001b[38;5;28;01mreturn\u001b[39;00m \u001b[43msession\u001b[49m\u001b[38;5;241;43m.\u001b[39;49m\u001b[43mrequest\u001b[49m\u001b[43m(\u001b[49m\u001b[43mmethod\u001b[49m\u001b[38;5;241;43m=\u001b[39;49m\u001b[43mmethod\u001b[49m\u001b[43m,\u001b[49m\u001b[43m \u001b[49m\u001b[43murl\u001b[49m\u001b[38;5;241;43m=\u001b[39;49m\u001b[43murl\u001b[49m\u001b[43m,\u001b[49m\u001b[43m \u001b[49m\u001b[38;5;241;43m*\u001b[39;49m\u001b[38;5;241;43m*\u001b[39;49m\u001b[43mkwargs\u001b[49m\u001b[43m)\u001b[49m\n",
      "File \u001b[0;32m~/.local/lib/python3.11/site-packages/requests/sessions.py:587\u001b[0m, in \u001b[0;36mSession.request\u001b[0;34m(self, method, url, params, data, headers, cookies, files, auth, timeout, allow_redirects, proxies, hooks, stream, verify, cert, json)\u001b[0m\n\u001b[1;32m    582\u001b[0m send_kwargs \u001b[38;5;241m=\u001b[39m {\n\u001b[1;32m    583\u001b[0m     \u001b[38;5;124m\"\u001b[39m\u001b[38;5;124mtimeout\u001b[39m\u001b[38;5;124m\"\u001b[39m: timeout,\n\u001b[1;32m    584\u001b[0m     \u001b[38;5;124m\"\u001b[39m\u001b[38;5;124mallow_redirects\u001b[39m\u001b[38;5;124m\"\u001b[39m: allow_redirects,\n\u001b[1;32m    585\u001b[0m }\n\u001b[1;32m    586\u001b[0m send_kwargs\u001b[38;5;241m.\u001b[39mupdate(settings)\n\u001b[0;32m--> 587\u001b[0m resp \u001b[38;5;241m=\u001b[39m \u001b[38;5;28;43mself\u001b[39;49m\u001b[38;5;241;43m.\u001b[39;49m\u001b[43msend\u001b[49m\u001b[43m(\u001b[49m\u001b[43mprep\u001b[49m\u001b[43m,\u001b[49m\u001b[43m \u001b[49m\u001b[38;5;241;43m*\u001b[39;49m\u001b[38;5;241;43m*\u001b[39;49m\u001b[43msend_kwargs\u001b[49m\u001b[43m)\u001b[49m\n\u001b[1;32m    589\u001b[0m \u001b[38;5;28;01mreturn\u001b[39;00m resp\n",
      "File \u001b[0;32m~/.local/lib/python3.11/site-packages/requests/sessions.py:745\u001b[0m, in \u001b[0;36mSession.send\u001b[0;34m(self, request, **kwargs)\u001b[0m\n\u001b[1;32m    742\u001b[0m         \u001b[38;5;28;01mpass\u001b[39;00m\n\u001b[1;32m    744\u001b[0m \u001b[38;5;28;01mif\u001b[39;00m \u001b[38;5;129;01mnot\u001b[39;00m stream:\n\u001b[0;32m--> 745\u001b[0m     \u001b[43mr\u001b[49m\u001b[38;5;241;43m.\u001b[39;49m\u001b[43mcontent\u001b[49m\n\u001b[1;32m    747\u001b[0m \u001b[38;5;28;01mreturn\u001b[39;00m r\n",
      "File \u001b[0;32m~/.local/lib/python3.11/site-packages/requests/models.py:899\u001b[0m, in \u001b[0;36mResponse.content\u001b[0;34m(self)\u001b[0m\n\u001b[1;32m    897\u001b[0m         \u001b[38;5;28mself\u001b[39m\u001b[38;5;241m.\u001b[39m_content \u001b[38;5;241m=\u001b[39m \u001b[38;5;28;01mNone\u001b[39;00m\n\u001b[1;32m    898\u001b[0m     \u001b[38;5;28;01melse\u001b[39;00m:\n\u001b[0;32m--> 899\u001b[0m         \u001b[38;5;28mself\u001b[39m\u001b[38;5;241m.\u001b[39m_content \u001b[38;5;241m=\u001b[39m \u001b[38;5;124mb\u001b[39m\u001b[38;5;124m\"\u001b[39m\u001b[38;5;124m\"\u001b[39m\u001b[38;5;241m.\u001b[39mjoin(\u001b[38;5;28mself\u001b[39m\u001b[38;5;241m.\u001b[39miter_content(CONTENT_CHUNK_SIZE)) \u001b[38;5;129;01mor\u001b[39;00m \u001b[38;5;124mb\u001b[39m\u001b[38;5;124m\"\u001b[39m\u001b[38;5;124m\"\u001b[39m\n\u001b[1;32m    901\u001b[0m \u001b[38;5;28mself\u001b[39m\u001b[38;5;241m.\u001b[39m_content_consumed \u001b[38;5;241m=\u001b[39m \u001b[38;5;28;01mTrue\u001b[39;00m\n\u001b[1;32m    902\u001b[0m \u001b[38;5;66;03m# don't need to release the connection; that's been handled by urllib3\u001b[39;00m\n\u001b[1;32m    903\u001b[0m \u001b[38;5;66;03m# since we exhausted the data.\u001b[39;00m\n",
      "File \u001b[0;32m~/.local/lib/python3.11/site-packages/requests/models.py:816\u001b[0m, in \u001b[0;36mResponse.iter_content.<locals>.generate\u001b[0;34m()\u001b[0m\n\u001b[1;32m    814\u001b[0m \u001b[38;5;28;01mif\u001b[39;00m \u001b[38;5;28mhasattr\u001b[39m(\u001b[38;5;28mself\u001b[39m\u001b[38;5;241m.\u001b[39mraw, \u001b[38;5;124m\"\u001b[39m\u001b[38;5;124mstream\u001b[39m\u001b[38;5;124m\"\u001b[39m):\n\u001b[1;32m    815\u001b[0m     \u001b[38;5;28;01mtry\u001b[39;00m:\n\u001b[0;32m--> 816\u001b[0m         \u001b[38;5;28;01myield from\u001b[39;00m \u001b[38;5;28mself\u001b[39m\u001b[38;5;241m.\u001b[39mraw\u001b[38;5;241m.\u001b[39mstream(chunk_size, decode_content\u001b[38;5;241m=\u001b[39m\u001b[38;5;28;01mTrue\u001b[39;00m)\n\u001b[1;32m    817\u001b[0m     \u001b[38;5;28;01mexcept\u001b[39;00m ProtocolError \u001b[38;5;28;01mas\u001b[39;00m e:\n\u001b[1;32m    818\u001b[0m         \u001b[38;5;28;01mraise\u001b[39;00m ChunkedEncodingError(e)\n",
      "File \u001b[0;32m~/.local/lib/python3.11/site-packages/urllib3/response.py:624\u001b[0m, in \u001b[0;36mHTTPResponse.stream\u001b[0;34m(self, amt, decode_content)\u001b[0m\n\u001b[1;32m    608\u001b[0m \u001b[38;5;124;03m\"\"\"\u001b[39;00m\n\u001b[1;32m    609\u001b[0m \u001b[38;5;124;03mA generator wrapper for the read() method. A call will block until\u001b[39;00m\n\u001b[1;32m    610\u001b[0m \u001b[38;5;124;03m``amt`` bytes have been read from the connection or until the\u001b[39;00m\n\u001b[0;32m   (...)\u001b[0m\n\u001b[1;32m    621\u001b[0m \u001b[38;5;124;03m    'content-encoding' header.\u001b[39;00m\n\u001b[1;32m    622\u001b[0m \u001b[38;5;124;03m\"\"\"\u001b[39;00m\n\u001b[1;32m    623\u001b[0m \u001b[38;5;28;01mif\u001b[39;00m \u001b[38;5;28mself\u001b[39m\u001b[38;5;241m.\u001b[39mchunked \u001b[38;5;129;01mand\u001b[39;00m \u001b[38;5;28mself\u001b[39m\u001b[38;5;241m.\u001b[39msupports_chunked_reads():\n\u001b[0;32m--> 624\u001b[0m     \u001b[38;5;28;01mfor\u001b[39;00m line \u001b[38;5;129;01min\u001b[39;00m \u001b[38;5;28mself\u001b[39m\u001b[38;5;241m.\u001b[39mread_chunked(amt, decode_content\u001b[38;5;241m=\u001b[39mdecode_content):\n\u001b[1;32m    625\u001b[0m         \u001b[38;5;28;01myield\u001b[39;00m line\n\u001b[1;32m    626\u001b[0m \u001b[38;5;28;01melse\u001b[39;00m:\n",
      "File \u001b[0;32m~/.local/lib/python3.11/site-packages/urllib3/response.py:828\u001b[0m, in \u001b[0;36mHTTPResponse.read_chunked\u001b[0;34m(self, amt, decode_content)\u001b[0m\n\u001b[1;32m    825\u001b[0m     \u001b[38;5;28;01mreturn\u001b[39;00m\n\u001b[1;32m    827\u001b[0m \u001b[38;5;28;01mwhile\u001b[39;00m \u001b[38;5;28;01mTrue\u001b[39;00m:\n\u001b[0;32m--> 828\u001b[0m     \u001b[38;5;28;43mself\u001b[39;49m\u001b[38;5;241;43m.\u001b[39;49m\u001b[43m_update_chunk_length\u001b[49m\u001b[43m(\u001b[49m\u001b[43m)\u001b[49m\n\u001b[1;32m    829\u001b[0m     \u001b[38;5;28;01mif\u001b[39;00m \u001b[38;5;28mself\u001b[39m\u001b[38;5;241m.\u001b[39mchunk_left \u001b[38;5;241m==\u001b[39m \u001b[38;5;241m0\u001b[39m:\n\u001b[1;32m    830\u001b[0m         \u001b[38;5;28;01mbreak\u001b[39;00m\n",
      "File \u001b[0;32m~/.local/lib/python3.11/site-packages/urllib3/response.py:758\u001b[0m, in \u001b[0;36mHTTPResponse._update_chunk_length\u001b[0;34m(self)\u001b[0m\n\u001b[1;32m    756\u001b[0m \u001b[38;5;28;01mif\u001b[39;00m \u001b[38;5;28mself\u001b[39m\u001b[38;5;241m.\u001b[39mchunk_left \u001b[38;5;129;01mis\u001b[39;00m \u001b[38;5;129;01mnot\u001b[39;00m \u001b[38;5;28;01mNone\u001b[39;00m:\n\u001b[1;32m    757\u001b[0m     \u001b[38;5;28;01mreturn\u001b[39;00m\n\u001b[0;32m--> 758\u001b[0m line \u001b[38;5;241m=\u001b[39m \u001b[38;5;28mself\u001b[39m\u001b[38;5;241m.\u001b[39m_fp\u001b[38;5;241m.\u001b[39mfp\u001b[38;5;241m.\u001b[39mreadline()\n\u001b[1;32m    759\u001b[0m line \u001b[38;5;241m=\u001b[39m line\u001b[38;5;241m.\u001b[39msplit(\u001b[38;5;124mb\u001b[39m\u001b[38;5;124m\"\u001b[39m\u001b[38;5;124m;\u001b[39m\u001b[38;5;124m\"\u001b[39m, \u001b[38;5;241m1\u001b[39m)[\u001b[38;5;241m0\u001b[39m]\n\u001b[1;32m    760\u001b[0m \u001b[38;5;28;01mtry\u001b[39;00m:\n",
      "File \u001b[0;32m/usr/lib/python3.11/socket.py:705\u001b[0m, in \u001b[0;36mSocketIO.readinto\u001b[0;34m(self, b)\u001b[0m\n\u001b[1;32m    703\u001b[0m \u001b[38;5;28;01mwhile\u001b[39;00m \u001b[38;5;28;01mTrue\u001b[39;00m:\n\u001b[1;32m    704\u001b[0m     \u001b[38;5;28;01mtry\u001b[39;00m:\n\u001b[0;32m--> 705\u001b[0m         \u001b[38;5;28;01mreturn\u001b[39;00m \u001b[38;5;28;43mself\u001b[39;49m\u001b[38;5;241;43m.\u001b[39;49m\u001b[43m_sock\u001b[49m\u001b[38;5;241;43m.\u001b[39;49m\u001b[43mrecv_into\u001b[49m\u001b[43m(\u001b[49m\u001b[43mb\u001b[49m\u001b[43m)\u001b[49m\n\u001b[1;32m    706\u001b[0m     \u001b[38;5;28;01mexcept\u001b[39;00m timeout:\n\u001b[1;32m    707\u001b[0m         \u001b[38;5;28mself\u001b[39m\u001b[38;5;241m.\u001b[39m_timeout_occurred \u001b[38;5;241m=\u001b[39m \u001b[38;5;28;01mTrue\u001b[39;00m\n",
      "File \u001b[0;32m/usr/lib/python3.11/ssl.py:1278\u001b[0m, in \u001b[0;36mSSLSocket.recv_into\u001b[0;34m(self, buffer, nbytes, flags)\u001b[0m\n\u001b[1;32m   1274\u001b[0m     \u001b[38;5;28;01mif\u001b[39;00m flags \u001b[38;5;241m!=\u001b[39m \u001b[38;5;241m0\u001b[39m:\n\u001b[1;32m   1275\u001b[0m         \u001b[38;5;28;01mraise\u001b[39;00m \u001b[38;5;167;01mValueError\u001b[39;00m(\n\u001b[1;32m   1276\u001b[0m           \u001b[38;5;124m\"\u001b[39m\u001b[38;5;124mnon-zero flags not allowed in calls to recv_into() on \u001b[39m\u001b[38;5;132;01m%s\u001b[39;00m\u001b[38;5;124m\"\u001b[39m \u001b[38;5;241m%\u001b[39m\n\u001b[1;32m   1277\u001b[0m           \u001b[38;5;28mself\u001b[39m\u001b[38;5;241m.\u001b[39m\u001b[38;5;18m__class__\u001b[39m)\n\u001b[0;32m-> 1278\u001b[0m     \u001b[38;5;28;01mreturn\u001b[39;00m \u001b[38;5;28;43mself\u001b[39;49m\u001b[38;5;241;43m.\u001b[39;49m\u001b[43mread\u001b[49m\u001b[43m(\u001b[49m\u001b[43mnbytes\u001b[49m\u001b[43m,\u001b[49m\u001b[43m \u001b[49m\u001b[43mbuffer\u001b[49m\u001b[43m)\u001b[49m\n\u001b[1;32m   1279\u001b[0m \u001b[38;5;28;01melse\u001b[39;00m:\n\u001b[1;32m   1280\u001b[0m     \u001b[38;5;28;01mreturn\u001b[39;00m \u001b[38;5;28msuper\u001b[39m()\u001b[38;5;241m.\u001b[39mrecv_into(buffer, nbytes, flags)\n",
      "File \u001b[0;32m/usr/lib/python3.11/ssl.py:1134\u001b[0m, in \u001b[0;36mSSLSocket.read\u001b[0;34m(self, len, buffer)\u001b[0m\n\u001b[1;32m   1132\u001b[0m \u001b[38;5;28;01mtry\u001b[39;00m:\n\u001b[1;32m   1133\u001b[0m     \u001b[38;5;28;01mif\u001b[39;00m buffer \u001b[38;5;129;01mis\u001b[39;00m \u001b[38;5;129;01mnot\u001b[39;00m \u001b[38;5;28;01mNone\u001b[39;00m:\n\u001b[0;32m-> 1134\u001b[0m         \u001b[38;5;28;01mreturn\u001b[39;00m \u001b[38;5;28;43mself\u001b[39;49m\u001b[38;5;241;43m.\u001b[39;49m\u001b[43m_sslobj\u001b[49m\u001b[38;5;241;43m.\u001b[39;49m\u001b[43mread\u001b[49m\u001b[43m(\u001b[49m\u001b[38;5;28;43mlen\u001b[39;49m\u001b[43m,\u001b[49m\u001b[43m \u001b[49m\u001b[43mbuffer\u001b[49m\u001b[43m)\u001b[49m\n\u001b[1;32m   1135\u001b[0m     \u001b[38;5;28;01melse\u001b[39;00m:\n\u001b[1;32m   1136\u001b[0m         \u001b[38;5;28;01mreturn\u001b[39;00m \u001b[38;5;28mself\u001b[39m\u001b[38;5;241m.\u001b[39m_sslobj\u001b[38;5;241m.\u001b[39mread(\u001b[38;5;28mlen\u001b[39m)\n",
      "\u001b[0;31mKeyboardInterrupt\u001b[0m: "
     ]
    }
   ],
   "source": [
    "from sympy import CoercionFailed\n",
    "def time_test_from_web(model, name):\n",
    "    start = time.time()\n",
    "    system = FromNetwork(model, name, column=2)\n",
    "    end = time.time()\n",
    "    return system.size, end-start\n",
    "\n",
    "with open(\"./results_from_web.csv\", \"w\") as file:\n",
    "    file.write(\"model;name;size;time\\n\")\n",
    "    with alive_bar(len(upTo100K), title=\"Reading system from Networks-Skewed\", force_tty=True) as bar:\n",
    "        for (model, name, size) in upTo100K:\n",
    "            try:\n",
    "                n,t = time_test_from_web(model,name)\n",
    "                file.write(f\"{model};{name};{n};{t}\\n\")\n",
    "            except CoercionFailed:\n",
    "                print(f\"Coercion error in {model} - {name}\", flush=True)\n",
    "            bar()\n",
    "print(\"Computed all times for building the system\")"
   ]
  },
  {
   "cell_type": "code",
   "execution_count": 31,
   "id": "36c9d891-71b1-4066-87f6-946b2c35ef0e",
   "metadata": {},
   "outputs": [],
   "source": [
    "import signal\n",
    "class Timeout(object):\n",
    "    def __init__(self, seconds):\n",
    "        self.seconds = seconds\n",
    "        self.old = None\n",
    "    def __enter__(self):\n",
    "        self.old = signal.signal(signal.SIGALRM, Timeout.alarm_handler)\n",
    "        signal.alarm(self.seconds)\n",
    "        return self\n",
    "    def __exit__(self, type, value, traceback):\n",
    "        signal.alarm(0)\n",
    "        signal.signal(signal.SIGALRM, self.old)\n",
    "\n",
    "    @staticmethod\n",
    "    def alarm_handler(sgn, _):\n",
    "        if(sgn == signal.SIGALRM):\n",
    "            raise TimeoutError\n",
    "        else:\n",
    "            raise RuntimeError"
   ]
  },
  {
   "cell_type": "code",
   "execution_count": null,
   "id": "6a7cb9d9-db95-4033-b24c-c86c297fdb43",
   "metadata": {},
   "outputs": [
    {
     "name": "stdout",
     "output_type": "stream",
     "text": [
      "on 1262: 3.0*S2 + 3.0*S3 + 4.0*S4 + 1.0*S6 + 1.0*S8 + 13.0*S9 + 2.0*S10 + 1.0*S12 + 5.0*S13 + 4.0*S16 + 2.0*S17 + 1.0*S18 + 1.0*S19 + 2.0*S21 + 1.0*S22 + 2.0*S25 + 2.0*S28 + 1.0*S31 + 1.0*S33 + 3.0*S34 + 2.0*S37 + 1.0*S39 + 1.0*S42 + 1.0*S43 + 7.0*S49 + 1.0*S50 + 1.0*S53 + 1.0*S56 + 1.0*S57 + 3.0*S59 + 1.0*S60 + 1.0*S61 + 3.0*S62 + 3.0*S64 + 1.0*S66 + 3.0*S67 + 2.0*S68 + 1.0*S69 + 1.0*S70 + 9.0*S72 + 2.0*S74 + 5.0*S75 + 2.0*S76 + 1.0*S77 + 1.0*S81 + 6.0*S86 + 6.0*S87 + 3.0*S90 + 2.0*S92 + 22.0*S93 + 2.0*S94 + 2.0*S95 + 1.0*S96 + 1.0*S98 + 1.0*S99 + 1.0*S101 + 2.0*S105 + 3.0*S110 + 2.0*S111 + 1.0*S112 + 4.0*S113 + 6.0*S115 + 2.0*S117 + 2.0*S118 + 5.0*S119 + 2.0*S120 + 1.0*S121 + 1.0*S122 + 1.0*S123 + 1.0*S126 + 5.0*S127 + 1.0*S128 + 2.0*S129 + 2.0*S130 + 1.0*S132 + 2.0*S140 + 6.0*S142 + 6.0*S143 + 1.0*S144 + 1.0*S145 + 1.0*S146 + 2.0*S148 + 1.0*S150 + 2.0*S152 + 1.0*S153 + 2.0*S156 + 1.0*S157 + 1.0*S158 + 1.0*S160 + 1.0*S161 + 2.0*S162 + 5.0*S163 + 6.0*S164 + 1.0*S165 + 1.0*S166 + 1.0*S168 + 1.0*S169 + 3.0*S170 + 1.0*S171 + 1.0*S172 + 2.0*S175 + 23.0*S176 + 4.0*S177 + 1.0*S181 + 4.0*S183 + 3.0*S184 + 2.0*S189 + 2.0*S191 + 1.0*S192 + 1.0*S193 + 7.0*S194 + 2.0*S196 + 2.0*S199 + 3.0*S201 + 1.0*S202 + 1.0*S206 + 2.0*S207 + 1.0*S213 + 1.0*S214 + 5.0*S216 + 22.0*S217 + 2.0*S218 + 9.0*S219 + 14.0*S220 + 3.0*S221 + 6.0*S222 + 7.0*S223 + 1.0*S226 + 8.0*S227 + 8.0*S229 + 2.0*S230 + 4.0*S232 + 1.0*S239 + 1.0*S240 + 1.0*S244 + 1.0*S247 + 1.0*S252 + 1.0*S255 + 1.0*S256 + 2.0*S257 + 5.0*S258 + 2.0*S259 + 4.0*S260 + 2.0*S264 + 1.0*S265 + 1.0*S267 + 2.0*S268 + 1.0*S269 + 4.0*S272 + 1.0*S273 + 1.0*S274 + 4.0*S276 + 1.0*S277 + 1.0*S279 + 1.0*S283 + 2.0*S284 + 1.0*S285 + 2.0*S286 + 1.0*S287 + 1.0*S288 + 1.0*S289 + 1.0*S290 + 1.0*S291 + 1.0*S294 + 1.0*S296 + 6.0*S297 + 4.0*S298 + 2.0*S299 + 2.0*S301 + 7.0*S302 + 3.0*S303 + 2.0*S304 + 1.0*S305 + 1.0*S306 + 2.0*S307 + 6.0*S308 + 4.0*S309 + 1.0*S310 + 8.0*S311 + 2.0*S316 + 3.0*S317 + 1.0*S319 + 1.0*S320 + 1.0*S321 + 3.0*S328 + 1.0*S332 + 2.0*S335 + 9.0*S337 + 1.0*S338 + 3.0*S339 + 4.0*S340 + 1.0*S341 + 5.0*S342 + 1.0*S345 + 1.0*S346 + 1.0*S347 + 2.0*S348 + 1.0*S349 + 1.0*S350 + 3.0*S352 + 1.0*S353 + 1.0*S354 + 1.0*S355 + 2.0*S356 + 4.0*S358 + 2.0*S359 + 1.0*S360 + 1.0*S361 + 2.0*S364 + 1.0*S365 + 3.0*S366 + 1.0*S367 + 2.0*S368 + 1.0*S374 + 5.0*S378 + 1.0*S379 + 1.0*S384 + 4.0*S386 + 3.0*S387 + 1.0*S388 + 4.0*S390 + 2.0*S391 + 2.0*S392 + 1.0*S394 + 3.0*S397 + 1.0*S398 + 1.0*S399 + 7.0*S400 + 2.0*S401 + 1.0*S402 + 1.0*S403 + 1.0*S406 + 4.0*S409 + 3.0*S410 + 3.0*S411 + 1.0*S412 + 1.0*S414 + 1.0*S415 + 2.0*S417 + 1.0*S418 + 1.0*S419 + 2.0*S420 + 1.0*S425 + 1.0*S427 + 1.0*S428 + 1.0*S429 + 2.0*S431 + 1.0*S432 + 2.0*S434 + 1.0*S435 + 2.0*S436 + 1.0*S437 + 4.0*S438 + 3.0*S439 + 6.0*S440 + 1.0*S441 + 2.0*S442 + 2.0*S443 + 4.0*S444 + 2.0*S445 + 2.0*S446 + 1.0*S447 + 2.0*S450 + 1.0*S451 + 3.0*S452 + 1.0*S453 + 3.0*S454 + 1.0*S455 + 5.0*S456 + 1.0*S457 + 1.0*S458 + 1.0*S462 + 8.0*S463 + 13.0*S464 + 3.0*S465 + 5.0*S466 + 2.0*S467 + 1.0*S468 + 1.0*S469 + 1.0*S470 + 10.0*S471 + 1.0*S473 + 3.0*S474 + 1.0*S475 + 4.0*S476 + 2.0*S477 + 3.0*S478 + 10.0*S479 + 1.0*S480 + 8.0*S481 + 6.0*S482 + 1.0*S484 + 6.0*S485 + 1.0*S488 + 1.0*S489 + 2.0*S490 + 1.0*S491 + 2.0*S493 + 2.0*S494 + 1.0*S498 + 1.0*S503 + 1.0*S506 + 3.0*S507 + 4.0*S509 + 2.0*S510 + 4.0*S511 + 1.0*S513 + 3.0*S514 + 1.0*S515 + 4.0*S517 + 1.0*S519 + 1.0*S521 + 1.0*S522 + 2.0*S523 + 2.0*S524 + 12.0*S525 + 2.0*S526 + 1.0*S527 + 4.0*S528 + 1.0*S530 + 3.0*S531 + 2.0*S533 + 6.0*S536 + 3.0*S537 + 1.0*S541 + 4.0*S542 + 2.0*S549 + 1.0*S550 + 1.0*S551 + 1.0*S553 + 4.0*S555 + 1.0*S558 + 1.0*S559 + 10.0*S560 + 1.0*S561 + 3.0*S562 + 2.0*S565 + 2.0*S567 + 1.0*S568 + 2.0*S569 + 2.0*S570 + 1.0*S571 + 1.0*S572 + 2.0*S573 + 1.0*S575 + 2.0*S576 + 6.0*S578 + 1.0*S580 + 1.0*S581 + 3.0*S582 + 2.0*S584 + 4.0*S585 + 1.0*S586 + 18.0*S588 + 1.0*S591 + 3.0*S593 + 1.0*S594 + 1.0*S596 + 3.0*S597 + 1.0*S598 + 1.0*S599 + 1.0*S600 + 1.0*S601 + 3.0*S603 + 1.0*S605 + 2.0*S607 + 1.0*S608 + 1.0*S609 + 4.0*S610 + 5.0*S611 + 2.0*S613 + 2.0*S614 + 1.0*S617 + 1.0*S621 + 2.0*S622 + 1.0*S624 + 6.0*S625 + 3.0*S626 + 1.0*S628 + 3.0*S630 + 5.0*S632 + 4.0*S633 + 8.0*S634 + 2.0*S635 + 1.0*S636 + 2.0*S639 + 1.0*S640 + 2.0*S641 + 1.0*S642 + 8.0*S644 + 1.0*S645 + 3.0*S648 + 1.0*S649 + 2.0*S650 + 2.0*S651 + 6.0*S652 + 2.0*S653 + 5.0*S654 + 1.0*S656 + 2.0*S657 + 2.0*S658 + 3.0*S659 + 5.0*S661 + 4.0*S662 + 2.0*S664 + 2.0*S665 + 1.0*S667 + 1.0*S668 + 2.0*S670 + 2.0*S671 + 3.0*S673 + 1.0*S675 + 1.0*S676 + 3.0*S677 + 2.0*S678 + 1.0*S682 + 2.0*S683 + 6.0*S686 + 2.0*S690 + 1.0*S693 + 2.0*S698 + 2.0*S699 + 1.0*S700 + 3.0*S701 + 2.0*S704 + 1.0*S706 + 2.0*S708 + 2.0*S710 + 2.0*S711 + 3.0*S712 + 21.0*S714 + 1.0*S716 + 2.0*S718 + 1.0*S719 + 1.0*S720 + 2.0*S722 + 5.0*S726 + 2.0*S728 + 1.0*S730 + 1.0*S732 + 2.0*S734 + 3.0*S735 + 2.0*S738 + 1.0*S739 + 1.0*S741 + 4.0*S742 + 1.0*S744 + 2.0*S745 + 1.0*S746 + 3.0*S747 + 2.0*S748 + 4.0*S749 + 1.0*S751 + 2.0*S752 + 1.0*S754 + 5.0*S755 + 2.0*S756 + 3.0*S757 + 3.0*S758 + 2.0*S759 + 2.0*S760 + 1.0*S761 + 1.0*S762 + 1.0*S763 + 6.0*S766 + 1.0*S767 + 3.0*S768 + 1.0*S769 + 5.0*S770 + 2.0*S771 + 1.0*S772 + 3.0*S773 + 1.0*S774 + 3.0*S775 + 1.0*S777 + 4.0*S778 + 1.0*S779 + 2.0*S783 + 3.0*S784 + 3.0*S785 + 1.0*S786 + 4.0*S787 + 1.0*S788 + 2.0*S789 + 3.0*S791 + 1.0*S792 + 1.0*S793 + 1.0*S794 + 1.0*S795 + 1.0*S797 + 1.0*S798 + 1.0*S799 + 1.0*S801 + 3.0*S802 + 2.0*S803 + 1.0*S804 + 1.0*S805 + 3.0*S806 + 2.0*S808 + 2.0*S809 + 2.0*S810 + 2.0*S816 + 2.0*S819 + 2.0*S821 + 2.0*S822 + 1.0*S823 + 1.0*S825 + 1.0*S827 + 5.0*S829 + 1.0*S830 + 2.0*S831 + 1.0*S832 + 3.0*S834 + 2.0*S837 + 8.0*S840 + 8.0*S841 + 13.0*S842 + 2.0*S843 + 3.0*S846 + 1.0*S847 + 8.0*S850 + 2.0*S851 + 1.0*S852 + 1.0*S853 + 1.0*S854 + 3.0*S860 + 4.0*S861 + 1.0*S863 + 3.0*S864 + 5.0*S866 + 1.0*S867 + 1.0*S869 + 2.0*S872 + 4.0*S873 + 7.0*S875 + 1.0*S876 + 1.0*S877 + 1.0*S878 + 2.0*S879 + 1.0*S880 + 2.0*S881 + 2.0*S882 + 2.0*S883 + 1.0*S884 + 1.0*S886 + 2.0*S887 + 3.0*S888 + 2.0*S889 + 3.0*S890 + 1.0*S892 + 3.0*S893 + 5.0*S894 + 2.0*S895 + 4.0*S896 + 1.0*S897 + 1.0*S901 + 2.0*S903 + 6.0*S905 + 9.0*S906 + 2.0*S909 + 1.0*S910 + 1.0*S911 + 4.0*S912 + 1.0*S914 + 1.0*S915 + 5.0*S916 + 4.0*S917 + 1.0*S919 + 2.0*S920 + 1.0*S922 + 1.0*S925 + 1.0*S926 + 1.0*S927 + 2.0*S929 + 2.0*S931 + 1.0*S934 + 1.0*S938 + 1.0*S939 + 2.0*S940 + 2.0*S942 + 1.0*S943 + 4.0*S945 + 1.0*S946 + 1.0*S947 + 2.0*S950 + 1.0*S952 + 1.0*S955 + 2.0*S958 + 2.0*S960 + 1.0*S961 + 5.0*S964 + 1.0*S967 + 1.0*S968 + 2.0*S969 + 2.0*S971 + 3.0*S972 + 5.0*S974 + 2.0*S975 + 2.0*S976 + 2.0*S977 + 1.0*S978 + 16.0*S979 + 59.0*S980 + 3.0*S983 + 1.0*S984 + 1.0*S985 + 1.0*S986 + 1.0*S987 + 1.0*S990 + 1.0*S991 + 2.0*S993 + 2.0*S996 + 2.0*S997 + 1.0*S999 + 1.0*S1001 + 1.0*S1003 + 1.0*S1005 + 3.0*S1006 + 1.0*S1008 + 1.0*S1009 + 5.0*S1010 + 3.0*S1011 + 4.0*S1012 + 1.0*S1013 + 1.0*S1014 + 2.0*S1015 + 1.0*S1016 + 3.0*S1017 + 3.0*S1019 + 3.0*S1020 + 6.0*S1021 + 3.0*S1022 + 2.0*S1023 + 5.0*S1025 + 2.0*S1026 + 2.0*S1027 + 4.0*S1028 + 2.0*S1029 + 4.0*S1030 + 1.0*S1031 + 2.0*S1032 + 2.0*S1035 + 2.0*S1036 + 7.0*S1039 + 1.0*S1042 + 2.0*S1044 + 4.0*S1045 + 3.0*S1046 + 1.0*S1049 + 3.0*S1050 + 2.0*S1052 + 5.0*S1053 + 2.0*S1054 + 3.0*S1055 + 5.0*S1056 + 2.0*S1057 + 2.0*S1058 + 2.0*S1060 + 1.0*S1061 + 3.0*S1063 + 1.0*S1064 + 2.0*S1065 + 1.0*S1067 + 1.0*S1070 + 1.0*S1071 + 1.0*S1074 + 2.0*S1075 + 5.0*S1076 + 6.0*S1077 + 2.0*S1079 + 2.0*S1080 + 2.0*S1081 + 2.0*S1082 + 1.0*S1084 + 1.0*S1085 + 1.0*S1086 + 2.0*S1089 + 1.0*S1091 + 1.0*S1093 + 1.0*S1095 + 1.0*S1096 + 1.0*S1098 + 1.0*S1100 + 8.0*S1101 + 1.0*S1105 + 1.0*S1107 + 2.0*S1109 + 14.0*S1111 + 10.0*S1113 + 2.0*S1114 + 10.0*S1115 + 2.0*S1116 + 1.0*S1117 + 1.0*S1118 + 1.0*S1122 + 3.0*S1123 + 1.0*S1124 + 6.0*S1125 + 1.0*S1126 + 1.0*S1129 + 5.0*S1130 + 1.0*S1131 + 3.0*S1134 + 1.0*S1137 + 2.0*S1139 + 5.0*S1140 + 1.0*S1142 + 1.0*S1143 + 1.0*S1144 + 2.0*S1145 + 1.0*S1147 + 2.0*S1148 + 2.0*S1149 + 4.0*S1150 + 1.0*S1151 + 1.0*S1153 + 2.0*S1159 + 1.0*S1160 + 1.0*S1162 + 2.0*S1163 + 1.0*S1164 + 1.0*S1165 + 6.0*S1166 + 2.0*S1167 + 6.0*S1169 + 2.0*S1170 + 4.0*S1172 + 1.0*S1173 + 3.0*S1175 + 1.0*S1176 + 2.0*S1177 + 1.0*S1179 + 1.0*S1180 + 3.0*S1183 + 1.0*S1185 + 1.0*S1186 + 3.0*S1188 + 1.0*S1189 + 4.0*S1190 + 1.0*S1192 + 2.0*S1193 + 3.0*S1196 + 2.0*S1197 + 3.0*S1200 + 2.0*S1201 + 4.0*S1203 + 1.0*S1205 + 2.0*S1206 + 3.0*S1211 + 2.0*S1212 + 2.0*S1213 + 1.0*S1215 + 4.0*S1217 + 1.0*S1220 + 1.0*S1224 + 2.0*S1225 + 3.0*S1228 + 1.0*S1229 + 2.0*S1231 + 2.0*S1236 + 1.0*S1239 + 2.0*S1240 + 2.0*S1241 + 5.0*S1242 + 2.0*S1243 + 2.0*S1245 + 1.0*S1246 + 4.0*S1248 + 1.0*S1249 + 1.0*S1250 + 2.0*S1251 + 3.0*S1252 + 16.0*S1253 + 2.0*S1256 + 1.0*S1258 + 3.0*S1261 + 6.0*S1262 + 15.0*S1263 + 2.0*S1266 + 1.0*S1267 + 1.0*S1269 + 1.0*S1272 + 4.0*S1273 + 2.0*S1275 + 1.0*S1276 + 1.0*S1277 + 2.0*S1278 + 1.0*S1281 + 1.0*S1282 + 2.0*S1283 + 3.0*S1284 + 1.0*S1285 + 6.0*S1286 + 1.0*S1287 + 1.0*S1288 + 3.0*S1289 + 1.0*S1290 + 5.0*S1291 + 2.0*S1292 + 4.0*S1293 + 2.0*S1294 + 1.0*S1295 + 1.0*S1296 + 4.0*S1298 + 4.0*S1299 + 5.0*S1301 + 1.0*S1302 + 3.0*S1303 + 1.0*S1305 + 2.0*S1306 + 1.0*S1307 + 2.0*S1308 + 1.0*S1309 + 2.0*S1310 + 1.0*S1311 + 2.0*S1312 + 4.0*S1314 + 9.0*S1315 + 2.0*S1316 + 12.0*S1317 + 11.0*S1318 + 2.0*S1319 + 2.0*S1320 + 1.0*S1321 + 3.0*S1324 + 6.0*S1326 + 1.0*S1327 + 1.0*S1328 + 4.0*S1329 + 2.0*S1330 + 3.0*S1332 + 1.0*S1333 + 2.0*S1334 + 2.0*S1336 + 3.0*S1337 + 2.0*S1338 + 3.0*S1339 + 1.0*S1342 + 3.0*S1343 + 3.0*S1344 + 2.0*S1345 + 3.0*S1346 + 1.0*S1347 + 3.0*S1353 + 3.0*S1354 + 1.0*S1360 + 1.0*S1366 + 1.0*S1369 + 2.0*S1371 + 3.0*S1372 + 3.0*S1373 + 4.0*S1374 + 3.0*S1376 + 1.0*S1379 + 3.0*S1381 + 7.0*S1382 + 1.0*S1383 + 1.0*S1385 + 1.0*S1386 + 1.0*S1387 + 3.0*S1388 + 4.0*S1389 + 5.0*S1391 + 2.0*S1393 + 5.0*S1395 + 1.0*S1396 + 3.0*S1398 + 7.0*S1399 + 1.0*S1400 + 4.0*S1401 + 7.0*S1403 + 1.0*S1404 + 1.0*S1405 + 1.0*S1406 + 2.0*S1407 + 1.0*S1408 + 7.0*S1409 + 1.0*S1412 + 3.0*S1414 + 1.0*S1417 + 6.0*S1418 + 2.0*S1419 + 1.0*S1420 + 2.0*S1421 + 4.0*S1424 + 1.0*S1426 + 2.0*S1427 + 1.0*S1429 + 1.0*S1430 + 1.0*S1431 + 1.0*S1432 + 1.0*S1433 + 1.0*S1437 + 2.0*S1438 + 1.0*S1439 + 1.0*S1440 + 1.0*S1441 + 2.0*S1442 + 4.0*S1444 + 1.0*S1446 + 1.0*S1447 + 1.0*S1448 + 2.0*S1449 + 5.0*S1450 + 1.0*S1451 + 5.0*S1452 + 1.0*S1453 + 1.0*S1454 + 2.0*S1456 + 2.0*S1457 + 4.0*S1461 + 1.0*S1463 + 1.0*S1464 + 2.0*S1466 + 5.0*S1467 + 1.0*S1468 + 1.0*S1469 + 2.0*S1472 + 4.0*S1473 + 1.0*S1475 + 1.0*S1478 + 2.0*S1482 + 1.0*S1483 + 3.0*S1484 + 1.0*S1487 + 1.0*S1489 + 1.0*S1492 + 1.0*S1493 + 1.0*S1494 + 1.0*S1496\n",
      "Reading system from Files |█████████████████████████████████▏      | ▃▁▃ 1321/1595 [83%] in 1:29:16 (~18:31, 0.2/s)     "
     ]
    }
   ],
   "source": [
    "from models.models_data import *\n",
    "from math import inf\n",
    "toCheck = {k:v for k,v in models.items() if v.folder() == \"WeightedLinearODE\"}\n",
    "def time_test_from_file(model_file):\n",
    "    try:\n",
    "        with Timeout(900):\n",
    "            start = time.time()\n",
    "            system = FODESystem(file=model_file)\n",
    "            end = time.time()\n",
    "            return system.size, end-start\n",
    "    except TimeoutError:\n",
    "        return inf, inf\n",
    "        \n",
    "\n",
    "with open(\"./results_from_file.csv\", \"w\") as file:\n",
    "    file.write(\"model;size;time\\n\")\n",
    "    with alive_bar(len(models), title=\"Reading system from Files\", force_tty=True) as bar:\n",
    "        for name,model in toCheck.items():\n",
    "            n,t = time_test_from_file(model.path())\n",
    "            file.write(f\"{name};{n};{t}\\n\")\n",
    "            bar()\n",
    "print(\"Computed all times for building the system\")"
   ]
  },
  {
   "cell_type": "code",
   "execution_count": null,
   "id": "a5a90ae8-22c3-4b02-9d5a-2e2287ad81c7",
   "metadata": {},
   "outputs": [],
   "source": []
  }
 ],
 "metadata": {
  "kernelspec": {
   "display_name": "Python 3 (ipykernel)",
   "language": "python",
   "name": "python3"
  },
  "language_info": {
   "codemirror_mode": {
    "name": "ipython",
    "version": 3
   },
   "file_extension": ".py",
   "mimetype": "text/x-python",
   "name": "python",
   "nbconvert_exporter": "python",
   "pygments_lexer": "ipython3",
   "version": "3.11.0"
  }
 },
 "nbformat": 4,
 "nbformat_minor": 5
}
