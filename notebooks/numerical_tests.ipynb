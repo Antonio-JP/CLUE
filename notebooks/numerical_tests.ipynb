{
 "cells": [
  {
   "cell_type": "markdown",
   "id": "86a1af4c-2877-4c50-b89c-2d70dcc8191b",
   "metadata": {},
   "source": [
    "# **Numerical Experiments for Exact models**"
   ]
  },
  {
   "cell_type": "code",
   "execution_count": 1,
   "id": "77603585-c99b-4a4b-8ed0-fb298ad6a0cd",
   "metadata": {},
   "outputs": [],
   "source": [
    "import sys\n",
    "\n",
    "sys.path.insert(0,\"./../tests/numerical\") # clue_example is here\n",
    "sys.path.insert(0,\"./../\") # clue is here\n",
    "\n",
    "from clue import *\n",
    "from numerical_example import *\n",
    "from sympy import RR\n",
    "import pandas as pd\n",
    "import time\n",
    "from alive_progress import alive_bar"
   ]
  },
  {
   "cell_type": "markdown",
   "id": "8f7af3ca-86d5-40a2-8adf-b7a576e30e4c",
   "metadata": {
    "tags": []
   },
   "source": [
    "## Some example lines"
   ]
  },
  {
   "cell_type": "code",
   "execution_count": 6,
   "id": "b53ed64b-beae-4ec8-ba13-10d4daa5af45",
   "metadata": {
    "collapsed": true,
    "jupyter": {
     "outputs_hidden": true
    },
    "tags": []
   },
   "outputs": [
    {
     "name": "stderr",
     "output_type": "stream",
     "text": [
      "2023-03-15 14:39:19 Level 60 [run_exact] Reading the system both exactly and numerical\n",
      "2023-03-15 14:39:19 Level 60 [run_exact] Removing the parameters of the system\n",
      "2023-03-15 14:39:19 Level 60 [run_exact] Obtaining the initial condition from the system\n",
      "2023-03-15 14:39:19 Level 60 [run_exact] Initial state of the problem: ||x_0|| = 3029.8630315576975 -- ||f(x_0)|| = 1992234.925906079\n",
      "2023-03-15 14:39:19 Level 60 [run_exact] Computing numerical simulation for the exact system (t0=0.0,t1=0.00125,tstep=6.25e-06)\n",
      "2023-03-15 14:39:21 Level 60 [run_exact] Building observables\n",
      "2023-03-15 14:39:21 Level 60 [run_exact] Computing the exact lumping for each observable\n",
      "2023-03-15 14:39:21 Level 60 [run_exact] Creating the result structures\n",
      "2023-03-15 14:39:21 Level 60 [run_exact] Running each of the cases\n",
      "2023-03-15 14:39:21 Level 60 [run_exact] Computing (if needed) epsilon for ProteinPhosphorylation[2] (r=polynomial,m=polynomial) (C=3029.8630315576975; 100.0% slope = 1992234.925906079) [S0, S1]\n",
      "2023-03-15 14:39:24 Level 60 [run_exact] Computing numerical lumping for ProteinPhosphorylation[2] (r=polynomial,m=polynomial) (C=3029.8630315576975; 100.0% slope = 1992234.925906079) [S0, S1]\n",
      "2023-03-15 14:39:24 Level 60 [run_exact] Generating output for ProteinPhosphorylation[2] (r=polynomial,m=polynomial) (C=3029.8630315576975; 100.0% slope = 1992234.925906079) [S0, S1]\n",
      "2023-03-15 14:39:27 Level 60 [run_exact] Generating images for ProteinPhosphorylation[2] (r=polynomial,m=polynomial) (C=3029.8630315576975; 100.0% slope = 1992234.925906079) [S0, S1]\n",
      "2023-03-15 14:39:27 Level 60 [run_exact] Finished execution for ProteinPhosphorylation[2] (r=polynomial,m=polynomial) (C=3029.8630315576975; 100.0% slope = 1992234.925906079) [S0, S1]\n",
      "2023-03-15 14:39:27 Level 60 [run_exact] Computing (if needed) epsilon for ProteinPhosphorylation[2] (r=polynomial,m=polynomial) (C=3029.8630315576975; 1000.0% slope = 19922349.25906079) [S0, S1]\n",
      "2023-03-15 14:39:29 Level 60 [run_exact] Computing numerical lumping for ProteinPhosphorylation[2] (r=polynomial,m=polynomial) (C=3029.8630315576975; 1000.0% slope = 19922349.25906079) [S0, S1]\n",
      "2023-03-15 14:39:29 Level 60 [run_exact] Generating output for ProteinPhosphorylation[2] (r=polynomial,m=polynomial) (C=3029.8630315576975; 1000.0% slope = 19922349.25906079) [S0, S1]\n",
      "2023-03-15 14:39:31 Level 60 [run_exact] Generating images for ProteinPhosphorylation[2] (r=polynomial,m=polynomial) (C=3029.8630315576975; 1000.0% slope = 19922349.25906079) [S0, S1]\n",
      "2023-03-15 14:39:31 Level 60 [run_exact] Finished execution for ProteinPhosphorylation[2] (r=polynomial,m=polynomial) (C=3029.8630315576975; 1000.0% slope = 19922349.25906079) [S0, S1]\n",
      "2023-03-15 14:39:31 Level 60 [run_exact] Computing (if needed) epsilon for ProteinPhosphorylation[2] (r=polynomial,m=polynomial) (C=3029.8630315576975; 10000.0% slope = 199223492.59060788) [S0, S1]\n",
      "2023-03-15 14:39:31 Level 60 [run_exact] Computing numerical lumping for ProteinPhosphorylation[2] (r=polynomial,m=polynomial) (C=3029.8630315576975; 10000.0% slope = 199223492.59060788) [S0, S1]\n",
      "2023-03-15 14:39:31 Level 60 [run_exact] Generating output for ProteinPhosphorylation[2] (r=polynomial,m=polynomial) (C=3029.8630315576975; 10000.0% slope = 199223492.59060788) [S0, S1]\n",
      "2023-03-15 14:39:34 Level 60 [run_exact] Generating images for ProteinPhosphorylation[2] (r=polynomial,m=polynomial) (C=3029.8630315576975; 10000.0% slope = 199223492.59060788) [S0, S1]\n",
      "2023-03-15 14:39:34 Level 60 [run_exact] Finished execution for ProteinPhosphorylation[2] (r=polynomial,m=polynomial) (C=3029.8630315576975; 10000.0% slope = 199223492.59060788) [S0, S1]\n"
     ]
    }
   ],
   "source": [
    "## This line can run an example just providing the name of the example\n",
    "run_exact(\"ProteinPhosphorylation[2]\")"
   ]
  },
  {
   "cell_type": "code",
   "execution_count": 2,
   "id": "3221c21a-774a-41ad-a88b-f7e1b667264b",
   "metadata": {
    "collapsed": true,
    "jupyter": {
     "outputs_hidden": true
    },
    "tags": []
   },
   "outputs": [
    {
     "name": "stderr",
     "output_type": "stream",
     "text": [
      "2023-03-15 14:40:44 Level 60 [compile_results] Compiling results for ProteinPhosphorylation[2] with read='polynomial' and matrix='polynomial'...\n",
      "2023-03-15 14:40:44 INFO     [from_file] Read case ProteinPhosphorylation[2] (r=polynomial,m=polynomial) (C=3029.8630315576975; 100.0% slope = 1992234.925906079) [S0, S1]\n",
      "2023-03-15 14:40:44 INFO     [from_file] Read case ProteinPhosphorylation[2] (r=polynomial,m=polynomial) (C=3029.8630315576975; 1000.0% slope = 19922349.25906079) [S0, S1]\n",
      "2023-03-15 14:40:44 INFO     [from_file] Read case ProteinPhosphorylation[2] (r=polynomial,m=polynomial) (C=3029.8630315576975; 10000.0% slope = 199223492.59060788) [S0, S1]\n",
      "2023-03-15 14:40:44 Level 60 [compile_results] Compiling results for BioNetGen_CCP with read='polynomial' and matrix='polynomial'...\n",
      "2023-03-15 14:40:44 INFO     [from_file] Read case BioNetGen_CCP (r=polynomial,m=polynomial) (C=1.0; 10.0% slope = 0.1) [s18 + s40]\n",
      "2023-03-15 14:40:44 INFO     [from_file] Read case BioNetGen_CCP (r=polynomial,m=polynomial) (C=1.0; 20.0% slope = 0.2) [s18 + s40]\n",
      "2023-03-15 14:40:44 INFO     [from_file] Read case BioNetGen_CCP (r=polynomial,m=polynomial) (C=1.0; 30.0% slope = 0.3) [s18 + s40]\n",
      "2023-03-15 14:40:45 INFO     [from_file] Read case BioNetGen_CCP (r=polynomial,m=polynomial) (C=1.0; 40.0% slope = 0.4) [s18 + s40]\n",
      "2023-03-15 14:40:45 INFO     [from_file] Read case BioNetGen_CCP (r=polynomial,m=polynomial) (C=1.0; 50.0% slope = 0.5) [s18 + s40]\n",
      "2023-03-15 14:40:45 INFO     [from_file] Read case BioNetGen_CCP (r=polynomial,m=polynomial) (C=1.0; 10.0% slope = 0.1) [s0 + s34]\n",
      "2023-03-15 14:40:45 INFO     [from_file] Read case BioNetGen_CCP (r=polynomial,m=polynomial) (C=1.0; 20.0% slope = 0.2) [s0 + s34]\n",
      "2023-03-15 14:40:45 INFO     [from_file] Read case BioNetGen_CCP (r=polynomial,m=polynomial) (C=1.0; 30.0% slope = 0.3) [s0 + s34]\n",
      "2023-03-15 14:40:45 INFO     [from_file] Read case BioNetGen_CCP (r=polynomial,m=polynomial) (C=1.0; 40.0% slope = 0.4) [s0 + s34]\n",
      "2023-03-15 14:40:45 INFO     [from_file] Read case BioNetGen_CCP (r=polynomial,m=polynomial) (C=1.0; 50.0% slope = 0.5) [s0 + s34]\n",
      "2023-03-15 14:40:46 INFO     [from_file] Read case BioNetGen_CCP (r=polynomial,m=polynomial) (C=1.0; 10.0% slope = 0.1) [s1 + s66 + s67 + s68]\n",
      "2023-03-15 14:40:46 INFO     [from_file] Read case BioNetGen_CCP (r=polynomial,m=polynomial) (C=1.0; 20.0% slope = 0.2) [s1 + s66 + s67 + s68]\n",
      "2023-03-15 14:40:46 INFO     [from_file] Read case BioNetGen_CCP (r=polynomial,m=polynomial) (C=1.0; 30.0% slope = 0.3) [s1 + s66 + s67 + s68]\n",
      "2023-03-15 14:40:46 INFO     [from_file] Read case BioNetGen_CCP (r=polynomial,m=polynomial) (C=1.0; 40.0% slope = 0.4) [s1 + s66 + s67 + s68]\n",
      "2023-03-15 14:40:46 INFO     [from_file] Read case BioNetGen_CCP (r=polynomial,m=polynomial) (C=1.0; 50.0% slope = 0.5) [s1 + s66 + s67 + s68]\n",
      "2023-03-15 14:40:46 INFO     [from_file] Read case BioNetGen_CCP (r=polynomial,m=polynomial) (C=1.0; 10.0% slope = 0.1) [s2 + s36]\n",
      "2023-03-15 14:40:46 INFO     [from_file] Read case BioNetGen_CCP (r=polynomial,m=polynomial) (C=1.0; 20.0% slope = 0.2) [s2 + s36]\n",
      "2023-03-15 14:40:47 INFO     [from_file] Read case BioNetGen_CCP (r=polynomial,m=polynomial) (C=1.0; 30.0% slope = 0.3) [s2 + s36]\n",
      "2023-03-15 14:40:47 INFO     [from_file] Read case BioNetGen_CCP (r=polynomial,m=polynomial) (C=1.0; 40.0% slope = 0.4) [s2 + s36]\n",
      "2023-03-15 14:40:47 INFO     [from_file] Read case BioNetGen_CCP (r=polynomial,m=polynomial) (C=1.0; 50.0% slope = 0.5) [s2 + s36]\n",
      "2023-03-15 14:40:47 INFO     [from_file] Read case BioNetGen_CCP (r=polynomial,m=polynomial) (C=1.0; 10.0% slope = 0.1) [s3 + s43]\n",
      "2023-03-15 14:40:47 INFO     [from_file] Read case BioNetGen_CCP (r=polynomial,m=polynomial) (C=1.0; 20.0% slope = 0.2) [s3 + s43]\n",
      "2023-03-15 14:40:47 INFO     [from_file] Read case BioNetGen_CCP (r=polynomial,m=polynomial) (C=1.0; 30.0% slope = 0.3) [s3 + s43]\n",
      "2023-03-15 14:40:47 INFO     [from_file] Read case BioNetGen_CCP (r=polynomial,m=polynomial) (C=1.0; 40.0% slope = 0.4) [s3 + s43]\n",
      "2023-03-15 14:40:48 INFO     [from_file] Read case BioNetGen_CCP (r=polynomial,m=polynomial) (C=1.0; 50.0% slope = 0.5) [s3 + s43]\n",
      "2023-03-15 14:41:00 Level 60 [compile_results] Compilation complete\n"
     ]
    }
   ],
   "source": [
    "## This line can compile all the executed examples\n",
    "compile_results()"
   ]
  },
  {
   "cell_type": "code",
   "execution_count": 2,
   "id": "35d4d07a-e0d4-42a0-84bd-10ce39f71673",
   "metadata": {
    "collapsed": true,
    "jupyter": {
     "outputs_hidden": true
    },
    "tags": []
   },
   "outputs": [
    {
     "data": {
      "text/html": [
       "<div>\n",
       "<style scoped>\n",
       "    .dataframe tbody tr th:only-of-type {\n",
       "        vertical-align: middle;\n",
       "    }\n",
       "\n",
       "    .dataframe tbody tr th {\n",
       "        vertical-align: top;\n",
       "    }\n",
       "\n",
       "    .dataframe thead th {\n",
       "        text-align: right;\n",
       "    }\n",
       "</style>\n",
       "<table border=\"1\" class=\"dataframe\">\n",
       "  <thead>\n",
       "    <tr style=\"text-align: right;\">\n",
       "      <th></th>\n",
       "      <th>modelName</th>\n",
       "      <th>type</th>\n",
       "      <th>maxPerturbation</th>\n",
       "      <th>size</th>\n",
       "      <th>clum_size</th>\n",
       "      <th>nlum_size</th>\n",
       "      <th>et_rel</th>\n",
       "      <th>et</th>\n",
       "      <th>|M*xt|_2</th>\n",
       "      <th>epsilon</th>\n",
       "      <th>...</th>\n",
       "      <th>max_allowed_slope</th>\n",
       "      <th>avg_err</th>\n",
       "      <th>max_err</th>\n",
       "      <th>max_epsilon</th>\n",
       "      <th>consideredEpsilons</th>\n",
       "      <th>tolerance</th>\n",
       "      <th>t0</th>\n",
       "      <th>t1</th>\n",
       "      <th>secThisEpsilon</th>\n",
       "      <th>secTotal</th>\n",
       "    </tr>\n",
       "  </thead>\n",
       "  <tbody>\n",
       "    <tr>\n",
       "      <th>0</th>\n",
       "      <td>ProteinPhosphorylation[2]_[S0, S1]_0.0</td>\n",
       "      <td>polynomial</td>\n",
       "      <td>0.0</td>\n",
       "      <td>24</td>\n",
       "      <td>12</td>\n",
       "      <td>12</td>\n",
       "      <td>1.157190e-05</td>\n",
       "      <td>3.469887e-03</td>\n",
       "      <td>299.854673</td>\n",
       "      <td>0.540061</td>\n",
       "      <td>...</td>\n",
       "      <td>1.0</td>\n",
       "      <td>2.616639e-02</td>\n",
       "      <td>2.807540e-01</td>\n",
       "      <td>3.162278</td>\n",
       "      <td>23</td>\n",
       "      <td>0.000001</td>\n",
       "      <td>0.0</td>\n",
       "      <td>1.250000e-03</td>\n",
       "      <td>21.696005</td>\n",
       "      <td>21.899352</td>\n",
       "    </tr>\n",
       "    <tr>\n",
       "      <th>1</th>\n",
       "      <td>ProteinPhosphorylation[2]_[S0, S1]_0.0</td>\n",
       "      <td>polynomial</td>\n",
       "      <td>0.0</td>\n",
       "      <td>24</td>\n",
       "      <td>12</td>\n",
       "      <td>10</td>\n",
       "      <td>1.044993e-04</td>\n",
       "      <td>3.133461e-02</td>\n",
       "      <td>299.854673</td>\n",
       "      <td>1.999999</td>\n",
       "      <td>...</td>\n",
       "      <td>10.0</td>\n",
       "      <td>3.069643e-02</td>\n",
       "      <td>2.807537e-01</td>\n",
       "      <td>3.162278</td>\n",
       "      <td>23</td>\n",
       "      <td>0.000001</td>\n",
       "      <td>0.0</td>\n",
       "      <td>1.250000e-03</td>\n",
       "      <td>6.287768</td>\n",
       "      <td>6.440981</td>\n",
       "    </tr>\n",
       "    <tr>\n",
       "      <th>2</th>\n",
       "      <td>ProteinPhosphorylation[2]_[S0, S1]_0.0</td>\n",
       "      <td>polynomial</td>\n",
       "      <td>0.0</td>\n",
       "      <td>24</td>\n",
       "      <td>12</td>\n",
       "      <td>10</td>\n",
       "      <td>1.044993e-04</td>\n",
       "      <td>3.133461e-02</td>\n",
       "      <td>299.854673</td>\n",
       "      <td>1.999999</td>\n",
       "      <td>...</td>\n",
       "      <td>100.0</td>\n",
       "      <td>3.069643e-02</td>\n",
       "      <td>2.807537e-01</td>\n",
       "      <td>3.162278</td>\n",
       "      <td>23</td>\n",
       "      <td>0.000001</td>\n",
       "      <td>0.0</td>\n",
       "      <td>1.250000e-03</td>\n",
       "      <td>0.105409</td>\n",
       "      <td>0.252448</td>\n",
       "    </tr>\n",
       "    <tr>\n",
       "      <th>3</th>\n",
       "      <td>BioNetGen_CCP_[s18 + s40]_0.0</td>\n",
       "      <td>polynomial</td>\n",
       "      <td>0.0</td>\n",
       "      <td>87</td>\n",
       "      <td>30</td>\n",
       "      <td>30</td>\n",
       "      <td>3.788951e-04</td>\n",
       "      <td>2.867030e-04</td>\n",
       "      <td>0.756682</td>\n",
       "      <td>0.105549</td>\n",
       "      <td>...</td>\n",
       "      <td>0.1</td>\n",
       "      <td>5.424762e-05</td>\n",
       "      <td>3.205928e-04</td>\n",
       "      <td>2.828427</td>\n",
       "      <td>23</td>\n",
       "      <td>0.000001</td>\n",
       "      <td>0.0</td>\n",
       "      <td>5.000000e+00</td>\n",
       "      <td>499.674802</td>\n",
       "      <td>510.028255</td>\n",
       "    </tr>\n",
       "    <tr>\n",
       "      <th>4</th>\n",
       "      <td>BioNetGen_CCP_[s18 + s40]_0.0</td>\n",
       "      <td>polynomial</td>\n",
       "      <td>0.0</td>\n",
       "      <td>87</td>\n",
       "      <td>30</td>\n",
       "      <td>28</td>\n",
       "      <td>1.988686e-03</td>\n",
       "      <td>1.504803e-03</td>\n",
       "      <td>0.756682</td>\n",
       "      <td>0.106066</td>\n",
       "      <td>...</td>\n",
       "      <td>0.2</td>\n",
       "      <td>2.183369e-04</td>\n",
       "      <td>1.504803e-03</td>\n",
       "      <td>2.828427</td>\n",
       "      <td>23</td>\n",
       "      <td>0.000001</td>\n",
       "      <td>0.0</td>\n",
       "      <td>5.000000e+00</td>\n",
       "      <td>49.742580</td>\n",
       "      <td>56.616679</td>\n",
       "    </tr>\n",
       "    <tr>\n",
       "      <th>5</th>\n",
       "      <td>BioNetGen_CCP_[s18 + s40]_0.0</td>\n",
       "      <td>polynomial</td>\n",
       "      <td>0.0</td>\n",
       "      <td>87</td>\n",
       "      <td>30</td>\n",
       "      <td>23</td>\n",
       "      <td>4.162884e-04</td>\n",
       "      <td>3.149979e-04</td>\n",
       "      <td>0.756682</td>\n",
       "      <td>0.267121</td>\n",
       "      <td>...</td>\n",
       "      <td>0.3</td>\n",
       "      <td>6.628130e-05</td>\n",
       "      <td>3.149979e-04</td>\n",
       "      <td>2.828427</td>\n",
       "      <td>23</td>\n",
       "      <td>0.000001</td>\n",
       "      <td>0.0</td>\n",
       "      <td>5.000000e+00</td>\n",
       "      <td>96.663120</td>\n",
       "      <td>102.431618</td>\n",
       "    </tr>\n",
       "    <tr>\n",
       "      <th>6</th>\n",
       "      <td>BioNetGen_CCP_[s18 + s40]_0.0</td>\n",
       "      <td>polynomial</td>\n",
       "      <td>0.0</td>\n",
       "      <td>87</td>\n",
       "      <td>30</td>\n",
       "      <td>9</td>\n",
       "      <td>2.267251e-02</td>\n",
       "      <td>1.715588e-02</td>\n",
       "      <td>0.756682</td>\n",
       "      <td>0.728105</td>\n",
       "      <td>...</td>\n",
       "      <td>0.4</td>\n",
       "      <td>2.703158e-03</td>\n",
       "      <td>1.715588e-02</td>\n",
       "      <td>2.828427</td>\n",
       "      <td>23</td>\n",
       "      <td>0.000001</td>\n",
       "      <td>0.0</td>\n",
       "      <td>5.000000e+00</td>\n",
       "      <td>100.646201</td>\n",
       "      <td>101.670099</td>\n",
       "    </tr>\n",
       "    <tr>\n",
       "      <th>7</th>\n",
       "      <td>BioNetGen_CCP_[s18 + s40]_0.0</td>\n",
       "      <td>polynomial</td>\n",
       "      <td>0.0</td>\n",
       "      <td>87</td>\n",
       "      <td>30</td>\n",
       "      <td>9</td>\n",
       "      <td>2.267251e-02</td>\n",
       "      <td>1.715588e-02</td>\n",
       "      <td>0.756682</td>\n",
       "      <td>0.728105</td>\n",
       "      <td>...</td>\n",
       "      <td>0.5</td>\n",
       "      <td>2.703158e-03</td>\n",
       "      <td>1.715588e-02</td>\n",
       "      <td>2.828427</td>\n",
       "      <td>23</td>\n",
       "      <td>0.000001</td>\n",
       "      <td>0.0</td>\n",
       "      <td>5.000000e+00</td>\n",
       "      <td>32.660773</td>\n",
       "      <td>33.721693</td>\n",
       "    </tr>\n",
       "    <tr>\n",
       "      <th>8</th>\n",
       "      <td>BioNetGen_CCP_[s0 + s34]_0.0</td>\n",
       "      <td>polynomial</td>\n",
       "      <td>0.0</td>\n",
       "      <td>87</td>\n",
       "      <td>4</td>\n",
       "      <td>4</td>\n",
       "      <td>1.512903e-06</td>\n",
       "      <td>8.397568e-07</td>\n",
       "      <td>0.555063</td>\n",
       "      <td>0.289999</td>\n",
       "      <td>...</td>\n",
       "      <td>0.1</td>\n",
       "      <td>1.030052e-05</td>\n",
       "      <td>3.380308e-05</td>\n",
       "      <td>0.290000</td>\n",
       "      <td>20</td>\n",
       "      <td>0.000001</td>\n",
       "      <td>0.0</td>\n",
       "      <td>5.000000e+00</td>\n",
       "      <td>95.504543</td>\n",
       "      <td>95.844915</td>\n",
       "    </tr>\n",
       "    <tr>\n",
       "      <th>9</th>\n",
       "      <td>BioNetGen_CCP_[s0 + s34]_0.0</td>\n",
       "      <td>polynomial</td>\n",
       "      <td>0.0</td>\n",
       "      <td>87</td>\n",
       "      <td>4</td>\n",
       "      <td>4</td>\n",
       "      <td>1.512903e-06</td>\n",
       "      <td>8.397568e-07</td>\n",
       "      <td>0.555063</td>\n",
       "      <td>0.290000</td>\n",
       "      <td>...</td>\n",
       "      <td>0.2</td>\n",
       "      <td>1.030052e-05</td>\n",
       "      <td>3.380308e-05</td>\n",
       "      <td>0.290000</td>\n",
       "      <td>1</td>\n",
       "      <td>0.000001</td>\n",
       "      <td>0.0</td>\n",
       "      <td>5.000000e+00</td>\n",
       "      <td>0.003051</td>\n",
       "      <td>0.315798</td>\n",
       "    </tr>\n",
       "    <tr>\n",
       "      <th>10</th>\n",
       "      <td>BioNetGen_CCP_[s0 + s34]_0.0</td>\n",
       "      <td>polynomial</td>\n",
       "      <td>0.0</td>\n",
       "      <td>87</td>\n",
       "      <td>4</td>\n",
       "      <td>4</td>\n",
       "      <td>1.512903e-06</td>\n",
       "      <td>8.397568e-07</td>\n",
       "      <td>0.555063</td>\n",
       "      <td>0.290000</td>\n",
       "      <td>...</td>\n",
       "      <td>0.3</td>\n",
       "      <td>1.030052e-05</td>\n",
       "      <td>3.380308e-05</td>\n",
       "      <td>0.290000</td>\n",
       "      <td>1</td>\n",
       "      <td>0.000001</td>\n",
       "      <td>0.0</td>\n",
       "      <td>5.000000e+00</td>\n",
       "      <td>0.003000</td>\n",
       "      <td>0.306629</td>\n",
       "    </tr>\n",
       "    <tr>\n",
       "      <th>11</th>\n",
       "      <td>BioNetGen_CCP_[s0 + s34]_0.0</td>\n",
       "      <td>polynomial</td>\n",
       "      <td>0.0</td>\n",
       "      <td>87</td>\n",
       "      <td>4</td>\n",
       "      <td>4</td>\n",
       "      <td>1.512903e-06</td>\n",
       "      <td>8.397568e-07</td>\n",
       "      <td>0.555063</td>\n",
       "      <td>0.290000</td>\n",
       "      <td>...</td>\n",
       "      <td>0.4</td>\n",
       "      <td>1.030052e-05</td>\n",
       "      <td>3.380308e-05</td>\n",
       "      <td>0.290000</td>\n",
       "      <td>1</td>\n",
       "      <td>0.000001</td>\n",
       "      <td>0.0</td>\n",
       "      <td>5.000000e+00</td>\n",
       "      <td>0.003172</td>\n",
       "      <td>0.304905</td>\n",
       "    </tr>\n",
       "    <tr>\n",
       "      <th>12</th>\n",
       "      <td>BioNetGen_CCP_[s0 + s34]_0.0</td>\n",
       "      <td>polynomial</td>\n",
       "      <td>0.0</td>\n",
       "      <td>87</td>\n",
       "      <td>4</td>\n",
       "      <td>4</td>\n",
       "      <td>1.512903e-06</td>\n",
       "      <td>8.397568e-07</td>\n",
       "      <td>0.555063</td>\n",
       "      <td>0.290000</td>\n",
       "      <td>...</td>\n",
       "      <td>0.5</td>\n",
       "      <td>1.030052e-05</td>\n",
       "      <td>3.380308e-05</td>\n",
       "      <td>0.290000</td>\n",
       "      <td>1</td>\n",
       "      <td>0.000001</td>\n",
       "      <td>0.0</td>\n",
       "      <td>5.000000e+00</td>\n",
       "      <td>0.003167</td>\n",
       "      <td>0.287663</td>\n",
       "    </tr>\n",
       "    <tr>\n",
       "      <th>13</th>\n",
       "      <td>BioNetGen_CCP_[s1 + s66 + s67 + s68]_0.0</td>\n",
       "      <td>polynomial</td>\n",
       "      <td>0.0</td>\n",
       "      <td>87</td>\n",
       "      <td>30</td>\n",
       "      <td>29</td>\n",
       "      <td>0.000000e+00</td>\n",
       "      <td>0.000000e+00</td>\n",
       "      <td>0.000000</td>\n",
       "      <td>0.149999</td>\n",
       "      <td>...</td>\n",
       "      <td>0.1</td>\n",
       "      <td>0.000000e+00</td>\n",
       "      <td>0.000000e+00</td>\n",
       "      <td>0.800000</td>\n",
       "      <td>21</td>\n",
       "      <td>0.000001</td>\n",
       "      <td>0.0</td>\n",
       "      <td>5.000000e+00</td>\n",
       "      <td>256.835850</td>\n",
       "      <td>261.340588</td>\n",
       "    </tr>\n",
       "    <tr>\n",
       "      <th>14</th>\n",
       "      <td>BioNetGen_CCP_[s1 + s66 + s67 + s68]_0.0</td>\n",
       "      <td>polynomial</td>\n",
       "      <td>0.0</td>\n",
       "      <td>87</td>\n",
       "      <td>30</td>\n",
       "      <td>29</td>\n",
       "      <td>0.000000e+00</td>\n",
       "      <td>0.000000e+00</td>\n",
       "      <td>0.000000</td>\n",
       "      <td>0.149999</td>\n",
       "      <td>...</td>\n",
       "      <td>0.2</td>\n",
       "      <td>0.000000e+00</td>\n",
       "      <td>0.000000e+00</td>\n",
       "      <td>0.800000</td>\n",
       "      <td>21</td>\n",
       "      <td>0.000001</td>\n",
       "      <td>0.0</td>\n",
       "      <td>5.000000e+00</td>\n",
       "      <td>0.401983</td>\n",
       "      <td>4.717706</td>\n",
       "    </tr>\n",
       "    <tr>\n",
       "      <th>15</th>\n",
       "      <td>BioNetGen_CCP_[s1 + s66 + s67 + s68]_0.0</td>\n",
       "      <td>polynomial</td>\n",
       "      <td>0.0</td>\n",
       "      <td>87</td>\n",
       "      <td>30</td>\n",
       "      <td>26</td>\n",
       "      <td>0.000000e+00</td>\n",
       "      <td>0.000000e+00</td>\n",
       "      <td>0.000000</td>\n",
       "      <td>0.289999</td>\n",
       "      <td>...</td>\n",
       "      <td>0.3</td>\n",
       "      <td>0.000000e+00</td>\n",
       "      <td>0.000000e+00</td>\n",
       "      <td>0.800000</td>\n",
       "      <td>21</td>\n",
       "      <td>0.000001</td>\n",
       "      <td>0.0</td>\n",
       "      <td>5.000000e+00</td>\n",
       "      <td>68.757825</td>\n",
       "      <td>72.402467</td>\n",
       "    </tr>\n",
       "    <tr>\n",
       "      <th>16</th>\n",
       "      <td>BioNetGen_CCP_[s1 + s66 + s67 + s68]_0.0</td>\n",
       "      <td>polynomial</td>\n",
       "      <td>0.0</td>\n",
       "      <td>87</td>\n",
       "      <td>30</td>\n",
       "      <td>15</td>\n",
       "      <td>0.000000e+00</td>\n",
       "      <td>0.000000e+00</td>\n",
       "      <td>0.000000</td>\n",
       "      <td>0.629324</td>\n",
       "      <td>...</td>\n",
       "      <td>0.4</td>\n",
       "      <td>0.000000e+00</td>\n",
       "      <td>0.000000e+00</td>\n",
       "      <td>0.800000</td>\n",
       "      <td>21</td>\n",
       "      <td>0.000001</td>\n",
       "      <td>0.0</td>\n",
       "      <td>5.000000e+00</td>\n",
       "      <td>65.692855</td>\n",
       "      <td>66.143466</td>\n",
       "    </tr>\n",
       "    <tr>\n",
       "      <th>17</th>\n",
       "      <td>BioNetGen_CCP_[s1 + s66 + s67 + s68]_0.0</td>\n",
       "      <td>polynomial</td>\n",
       "      <td>0.0</td>\n",
       "      <td>87</td>\n",
       "      <td>30</td>\n",
       "      <td>15</td>\n",
       "      <td>0.000000e+00</td>\n",
       "      <td>0.000000e+00</td>\n",
       "      <td>0.000000</td>\n",
       "      <td>0.629324</td>\n",
       "      <td>...</td>\n",
       "      <td>0.5</td>\n",
       "      <td>0.000000e+00</td>\n",
       "      <td>0.000000e+00</td>\n",
       "      <td>0.800000</td>\n",
       "      <td>21</td>\n",
       "      <td>0.000001</td>\n",
       "      <td>0.0</td>\n",
       "      <td>5.000000e+00</td>\n",
       "      <td>0.222213</td>\n",
       "      <td>0.670594</td>\n",
       "    </tr>\n",
       "    <tr>\n",
       "      <th>18</th>\n",
       "      <td>BioNetGen_CCP_[s2 + s36]_0.0</td>\n",
       "      <td>polynomial</td>\n",
       "      <td>0.0</td>\n",
       "      <td>87</td>\n",
       "      <td>5</td>\n",
       "      <td>5</td>\n",
       "      <td>8.418328e-06</td>\n",
       "      <td>1.937589e-06</td>\n",
       "      <td>0.230163</td>\n",
       "      <td>0.289999</td>\n",
       "      <td>...</td>\n",
       "      <td>0.1</td>\n",
       "      <td>1.141175e-06</td>\n",
       "      <td>3.632988e-06</td>\n",
       "      <td>0.290000</td>\n",
       "      <td>20</td>\n",
       "      <td>0.000001</td>\n",
       "      <td>0.0</td>\n",
       "      <td>5.000000e+00</td>\n",
       "      <td>93.681216</td>\n",
       "      <td>93.952978</td>\n",
       "    </tr>\n",
       "    <tr>\n",
       "      <th>19</th>\n",
       "      <td>BioNetGen_CCP_[s2 + s36]_0.0</td>\n",
       "      <td>polynomial</td>\n",
       "      <td>0.0</td>\n",
       "      <td>87</td>\n",
       "      <td>5</td>\n",
       "      <td>5</td>\n",
       "      <td>8.418328e-06</td>\n",
       "      <td>1.937589e-06</td>\n",
       "      <td>0.230163</td>\n",
       "      <td>0.289999</td>\n",
       "      <td>...</td>\n",
       "      <td>0.2</td>\n",
       "      <td>1.141175e-06</td>\n",
       "      <td>3.632988e-06</td>\n",
       "      <td>0.290000</td>\n",
       "      <td>20</td>\n",
       "      <td>0.000001</td>\n",
       "      <td>0.0</td>\n",
       "      <td>5.000000e+00</td>\n",
       "      <td>31.069221</td>\n",
       "      <td>31.389605</td>\n",
       "    </tr>\n",
       "    <tr>\n",
       "      <th>20</th>\n",
       "      <td>BioNetGen_CCP_[s2 + s36]_0.0</td>\n",
       "      <td>polynomial</td>\n",
       "      <td>0.0</td>\n",
       "      <td>87</td>\n",
       "      <td>5</td>\n",
       "      <td>5</td>\n",
       "      <td>8.418328e-06</td>\n",
       "      <td>1.937589e-06</td>\n",
       "      <td>0.230163</td>\n",
       "      <td>0.290000</td>\n",
       "      <td>...</td>\n",
       "      <td>0.3</td>\n",
       "      <td>1.141175e-06</td>\n",
       "      <td>3.632988e-06</td>\n",
       "      <td>0.290000</td>\n",
       "      <td>1</td>\n",
       "      <td>0.000001</td>\n",
       "      <td>0.0</td>\n",
       "      <td>5.000000e+00</td>\n",
       "      <td>0.002980</td>\n",
       "      <td>0.275275</td>\n",
       "    </tr>\n",
       "    <tr>\n",
       "      <th>21</th>\n",
       "      <td>BioNetGen_CCP_[s2 + s36]_0.0</td>\n",
       "      <td>polynomial</td>\n",
       "      <td>0.0</td>\n",
       "      <td>87</td>\n",
       "      <td>5</td>\n",
       "      <td>5</td>\n",
       "      <td>8.418328e-06</td>\n",
       "      <td>1.937589e-06</td>\n",
       "      <td>0.230163</td>\n",
       "      <td>0.290000</td>\n",
       "      <td>...</td>\n",
       "      <td>0.4</td>\n",
       "      <td>1.141175e-06</td>\n",
       "      <td>3.632988e-06</td>\n",
       "      <td>0.290000</td>\n",
       "      <td>1</td>\n",
       "      <td>0.000001</td>\n",
       "      <td>0.0</td>\n",
       "      <td>5.000000e+00</td>\n",
       "      <td>0.003131</td>\n",
       "      <td>0.350873</td>\n",
       "    </tr>\n",
       "    <tr>\n",
       "      <th>22</th>\n",
       "      <td>BioNetGen_CCP_[s2 + s36]_0.0</td>\n",
       "      <td>polynomial</td>\n",
       "      <td>0.0</td>\n",
       "      <td>87</td>\n",
       "      <td>5</td>\n",
       "      <td>5</td>\n",
       "      <td>8.418328e-06</td>\n",
       "      <td>1.937589e-06</td>\n",
       "      <td>0.230163</td>\n",
       "      <td>0.290000</td>\n",
       "      <td>...</td>\n",
       "      <td>0.5</td>\n",
       "      <td>1.141175e-06</td>\n",
       "      <td>3.632988e-06</td>\n",
       "      <td>0.290000</td>\n",
       "      <td>1</td>\n",
       "      <td>0.000001</td>\n",
       "      <td>0.0</td>\n",
       "      <td>5.000000e+00</td>\n",
       "      <td>0.003206</td>\n",
       "      <td>0.289831</td>\n",
       "    </tr>\n",
       "    <tr>\n",
       "      <th>23</th>\n",
       "      <td>BioNetGen_CCP_[s3 + s43]_0.0</td>\n",
       "      <td>polynomial</td>\n",
       "      <td>0.0</td>\n",
       "      <td>87</td>\n",
       "      <td>30</td>\n",
       "      <td>30</td>\n",
       "      <td>7.556042e-05</td>\n",
       "      <td>6.475296e-08</td>\n",
       "      <td>0.000857</td>\n",
       "      <td>0.150000</td>\n",
       "      <td>...</td>\n",
       "      <td>0.1</td>\n",
       "      <td>1.893059e-08</td>\n",
       "      <td>7.980950e-08</td>\n",
       "      <td>0.360000</td>\n",
       "      <td>20</td>\n",
       "      <td>0.000001</td>\n",
       "      <td>0.0</td>\n",
       "      <td>5.000000e+00</td>\n",
       "      <td>255.002295</td>\n",
       "      <td>263.822695</td>\n",
       "    </tr>\n",
       "    <tr>\n",
       "      <th>24</th>\n",
       "      <td>BioNetGen_CCP_[s3 + s43]_0.0</td>\n",
       "      <td>polynomial</td>\n",
       "      <td>0.0</td>\n",
       "      <td>87</td>\n",
       "      <td>30</td>\n",
       "      <td>1</td>\n",
       "      <td>1.000000e+00</td>\n",
       "      <td>8.569694e-04</td>\n",
       "      <td>0.000857</td>\n",
       "      <td>0.360000</td>\n",
       "      <td>...</td>\n",
       "      <td>0.2</td>\n",
       "      <td>1.139925e-04</td>\n",
       "      <td>8.569694e-04</td>\n",
       "      <td>0.360000</td>\n",
       "      <td>1</td>\n",
       "      <td>0.000001</td>\n",
       "      <td>0.0</td>\n",
       "      <td>5.000000e+00</td>\n",
       "      <td>0.003799</td>\n",
       "      <td>0.266877</td>\n",
       "    </tr>\n",
       "    <tr>\n",
       "      <th>25</th>\n",
       "      <td>BioNetGen_CCP_[s3 + s43]_0.0</td>\n",
       "      <td>polynomial</td>\n",
       "      <td>0.0</td>\n",
       "      <td>87</td>\n",
       "      <td>30</td>\n",
       "      <td>1</td>\n",
       "      <td>1.000000e+00</td>\n",
       "      <td>8.569694e-04</td>\n",
       "      <td>0.000857</td>\n",
       "      <td>0.360000</td>\n",
       "      <td>...</td>\n",
       "      <td>0.3</td>\n",
       "      <td>1.139925e-04</td>\n",
       "      <td>8.569694e-04</td>\n",
       "      <td>0.360000</td>\n",
       "      <td>1</td>\n",
       "      <td>0.000001</td>\n",
       "      <td>0.0</td>\n",
       "      <td>5.000000e+00</td>\n",
       "      <td>0.003642</td>\n",
       "      <td>0.271048</td>\n",
       "    </tr>\n",
       "    <tr>\n",
       "      <th>26</th>\n",
       "      <td>BioNetGen_CCP_[s3 + s43]_0.0</td>\n",
       "      <td>polynomial</td>\n",
       "      <td>0.0</td>\n",
       "      <td>87</td>\n",
       "      <td>30</td>\n",
       "      <td>1</td>\n",
       "      <td>1.000000e+00</td>\n",
       "      <td>8.569694e-04</td>\n",
       "      <td>0.000857</td>\n",
       "      <td>0.360000</td>\n",
       "      <td>...</td>\n",
       "      <td>0.4</td>\n",
       "      <td>1.139925e-04</td>\n",
       "      <td>8.569694e-04</td>\n",
       "      <td>0.360000</td>\n",
       "      <td>1</td>\n",
       "      <td>0.000001</td>\n",
       "      <td>0.0</td>\n",
       "      <td>5.000000e+00</td>\n",
       "      <td>0.003611</td>\n",
       "      <td>0.432350</td>\n",
       "    </tr>\n",
       "    <tr>\n",
       "      <th>27</th>\n",
       "      <td>BioNetGen_CCP_[s3 + s43]_0.0</td>\n",
       "      <td>polynomial</td>\n",
       "      <td>0.0</td>\n",
       "      <td>87</td>\n",
       "      <td>30</td>\n",
       "      <td>1</td>\n",
       "      <td>1.000000e+00</td>\n",
       "      <td>8.569694e-04</td>\n",
       "      <td>0.000857</td>\n",
       "      <td>0.360000</td>\n",
       "      <td>...</td>\n",
       "      <td>0.5</td>\n",
       "      <td>1.139925e-04</td>\n",
       "      <td>8.569694e-04</td>\n",
       "      <td>0.360000</td>\n",
       "      <td>1</td>\n",
       "      <td>0.000001</td>\n",
       "      <td>0.0</td>\n",
       "      <td>5.000000e+00</td>\n",
       "      <td>0.003511</td>\n",
       "      <td>0.273853</td>\n",
       "    </tr>\n",
       "    <tr>\n",
       "      <th>28</th>\n",
       "      <td>BIOMD0000000013_[x_CO2]_0.0</td>\n",
       "      <td>rational</td>\n",
       "      <td>0.0</td>\n",
       "      <td>27</td>\n",
       "      <td>24</td>\n",
       "      <td>2</td>\n",
       "      <td>9.401790e-09</td>\n",
       "      <td>9.401790e-09</td>\n",
       "      <td>1.000000</td>\n",
       "      <td>1.075858</td>\n",
       "      <td>...</td>\n",
       "      <td>0.1</td>\n",
       "      <td>4.700897e-09</td>\n",
       "      <td>9.401790e-09</td>\n",
       "      <td>1.075858</td>\n",
       "      <td>1</td>\n",
       "      <td>0.000001</td>\n",
       "      <td>0.0</td>\n",
       "      <td>1.645293e-08</td>\n",
       "      <td>68.722241</td>\n",
       "      <td>69.005265</td>\n",
       "    </tr>\n",
       "    <tr>\n",
       "      <th>29</th>\n",
       "      <td>BIOMD0000000013_[x_CO2]_0.0</td>\n",
       "      <td>rational</td>\n",
       "      <td>0.0</td>\n",
       "      <td>27</td>\n",
       "      <td>24</td>\n",
       "      <td>2</td>\n",
       "      <td>9.401790e-09</td>\n",
       "      <td>9.401790e-09</td>\n",
       "      <td>1.000000</td>\n",
       "      <td>1.075858</td>\n",
       "      <td>...</td>\n",
       "      <td>1.0</td>\n",
       "      <td>4.700897e-09</td>\n",
       "      <td>9.401790e-09</td>\n",
       "      <td>1.075858</td>\n",
       "      <td>1</td>\n",
       "      <td>0.000001</td>\n",
       "      <td>0.0</td>\n",
       "      <td>1.645293e-08</td>\n",
       "      <td>0.000814</td>\n",
       "      <td>0.329360</td>\n",
       "    </tr>\n",
       "    <tr>\n",
       "      <th>30</th>\n",
       "      <td>BIOMD0000000013_[x_CO2]_0.0</td>\n",
       "      <td>rational</td>\n",
       "      <td>0.0</td>\n",
       "      <td>27</td>\n",
       "      <td>24</td>\n",
       "      <td>2</td>\n",
       "      <td>9.401790e-09</td>\n",
       "      <td>9.401790e-09</td>\n",
       "      <td>1.000000</td>\n",
       "      <td>1.075858</td>\n",
       "      <td>...</td>\n",
       "      <td>10.0</td>\n",
       "      <td>4.700897e-09</td>\n",
       "      <td>9.401790e-09</td>\n",
       "      <td>1.075858</td>\n",
       "      <td>1</td>\n",
       "      <td>0.000001</td>\n",
       "      <td>0.0</td>\n",
       "      <td>1.645293e-08</td>\n",
       "      <td>0.001052</td>\n",
       "      <td>0.222332</td>\n",
       "    </tr>\n",
       "    <tr>\n",
       "      <th>31</th>\n",
       "      <td>BIOMD0000000023_[Fru]_0.0</td>\n",
       "      <td>rational</td>\n",
       "      <td>0.0</td>\n",
       "      <td>13</td>\n",
       "      <td>11</td>\n",
       "      <td>11</td>\n",
       "      <td>1.596571e-04</td>\n",
       "      <td>9.850562e-04</td>\n",
       "      <td>6.169825</td>\n",
       "      <td>0.999999</td>\n",
       "      <td>...</td>\n",
       "      <td>0.1</td>\n",
       "      <td>7.973935e-04</td>\n",
       "      <td>1.047042e-03</td>\n",
       "      <td>1.000000</td>\n",
       "      <td>21</td>\n",
       "      <td>0.000001</td>\n",
       "      <td>0.0</td>\n",
       "      <td>2.000000e+01</td>\n",
       "      <td>41.933757</td>\n",
       "      <td>42.835991</td>\n",
       "    </tr>\n",
       "    <tr>\n",
       "      <th>32</th>\n",
       "      <td>BIOMD0000000023_[Fru]_0.0</td>\n",
       "      <td>rational</td>\n",
       "      <td>0.0</td>\n",
       "      <td>13</td>\n",
       "      <td>11</td>\n",
       "      <td>1</td>\n",
       "      <td>8.379209e-01</td>\n",
       "      <td>5.169825e+00</td>\n",
       "      <td>6.169825</td>\n",
       "      <td>1.000000</td>\n",
       "      <td>...</td>\n",
       "      <td>1.0</td>\n",
       "      <td>3.863014e+00</td>\n",
       "      <td>5.169825e+00</td>\n",
       "      <td>1.000000</td>\n",
       "      <td>1</td>\n",
       "      <td>0.000001</td>\n",
       "      <td>0.0</td>\n",
       "      <td>2.000000e+01</td>\n",
       "      <td>0.000754</td>\n",
       "      <td>0.207358</td>\n",
       "    </tr>\n",
       "    <tr>\n",
       "      <th>33</th>\n",
       "      <td>BIOMD0000000023_[Fru]_0.0</td>\n",
       "      <td>rational</td>\n",
       "      <td>0.0</td>\n",
       "      <td>13</td>\n",
       "      <td>11</td>\n",
       "      <td>1</td>\n",
       "      <td>8.379209e-01</td>\n",
       "      <td>5.169825e+00</td>\n",
       "      <td>6.169825</td>\n",
       "      <td>1.000000</td>\n",
       "      <td>...</td>\n",
       "      <td>10.0</td>\n",
       "      <td>3.863014e+00</td>\n",
       "      <td>5.169825e+00</td>\n",
       "      <td>1.000000</td>\n",
       "      <td>1</td>\n",
       "      <td>0.000001</td>\n",
       "      <td>0.0</td>\n",
       "      <td>2.000000e+01</td>\n",
       "      <td>0.000772</td>\n",
       "      <td>0.011683</td>\n",
       "    </tr>\n",
       "    <tr>\n",
       "      <th>34</th>\n",
       "      <td>BIOMD0000000113_[Y]_0.0</td>\n",
       "      <td>rational</td>\n",
       "      <td>0.0</td>\n",
       "      <td>6</td>\n",
       "      <td>4</td>\n",
       "      <td>4</td>\n",
       "      <td>1.276466e-03</td>\n",
       "      <td>1.830020e-03</td>\n",
       "      <td>1.433661</td>\n",
       "      <td>0.999999</td>\n",
       "      <td>...</td>\n",
       "      <td>0.1</td>\n",
       "      <td>1.051127e-03</td>\n",
       "      <td>3.796994e-03</td>\n",
       "      <td>1.000000</td>\n",
       "      <td>21</td>\n",
       "      <td>0.000001</td>\n",
       "      <td>0.0</td>\n",
       "      <td>1.000000e+00</td>\n",
       "      <td>4.405161</td>\n",
       "      <td>4.490551</td>\n",
       "    </tr>\n",
       "    <tr>\n",
       "      <th>35</th>\n",
       "      <td>BIOMD0000000113_[Y]_0.0</td>\n",
       "      <td>rational</td>\n",
       "      <td>0.0</td>\n",
       "      <td>6</td>\n",
       "      <td>4</td>\n",
       "      <td>4</td>\n",
       "      <td>1.276466e-03</td>\n",
       "      <td>1.830020e-03</td>\n",
       "      <td>1.433661</td>\n",
       "      <td>0.999999</td>\n",
       "      <td>...</td>\n",
       "      <td>1.0</td>\n",
       "      <td>1.051127e-03</td>\n",
       "      <td>3.796994e-03</td>\n",
       "      <td>1.000000</td>\n",
       "      <td>21</td>\n",
       "      <td>0.000001</td>\n",
       "      <td>0.0</td>\n",
       "      <td>1.000000e+00</td>\n",
       "      <td>0.012405</td>\n",
       "      <td>0.105662</td>\n",
       "    </tr>\n",
       "    <tr>\n",
       "      <th>36</th>\n",
       "      <td>BIOMD0000000113_[Y]_0.0</td>\n",
       "      <td>rational</td>\n",
       "      <td>0.0</td>\n",
       "      <td>6</td>\n",
       "      <td>4</td>\n",
       "      <td>4</td>\n",
       "      <td>1.276466e-03</td>\n",
       "      <td>1.830020e-03</td>\n",
       "      <td>1.433661</td>\n",
       "      <td>0.999999</td>\n",
       "      <td>...</td>\n",
       "      <td>10.0</td>\n",
       "      <td>1.051127e-03</td>\n",
       "      <td>3.796994e-03</td>\n",
       "      <td>1.000000</td>\n",
       "      <td>21</td>\n",
       "      <td>0.000001</td>\n",
       "      <td>0.0</td>\n",
       "      <td>1.000000e+00</td>\n",
       "      <td>0.011618</td>\n",
       "      <td>0.130418</td>\n",
       "    </tr>\n",
       "    <tr>\n",
       "      <th>37</th>\n",
       "      <td>BIOMD0000000182_[AC_cyto_mem]_0.0</td>\n",
       "      <td>rational</td>\n",
       "      <td>0.0</td>\n",
       "      <td>36</td>\n",
       "      <td>13</td>\n",
       "      <td>13</td>\n",
       "      <td>0.000000e+00</td>\n",
       "      <td>0.000000e+00</td>\n",
       "      <td>300.000000</td>\n",
       "      <td>0.999999</td>\n",
       "      <td>...</td>\n",
       "      <td>0.1</td>\n",
       "      <td>0.000000e+00</td>\n",
       "      <td>0.000000e+00</td>\n",
       "      <td>1.000000</td>\n",
       "      <td>21</td>\n",
       "      <td>0.000001</td>\n",
       "      <td>0.0</td>\n",
       "      <td>1.573789e-08</td>\n",
       "      <td>202.368675</td>\n",
       "      <td>203.719622</td>\n",
       "    </tr>\n",
       "    <tr>\n",
       "      <th>38</th>\n",
       "      <td>BIOMD0000000182_[AC_cyto_mem]_0.0</td>\n",
       "      <td>rational</td>\n",
       "      <td>0.0</td>\n",
       "      <td>36</td>\n",
       "      <td>13</td>\n",
       "      <td>13</td>\n",
       "      <td>0.000000e+00</td>\n",
       "      <td>0.000000e+00</td>\n",
       "      <td>300.000000</td>\n",
       "      <td>0.999999</td>\n",
       "      <td>...</td>\n",
       "      <td>1.0</td>\n",
       "      <td>0.000000e+00</td>\n",
       "      <td>0.000000e+00</td>\n",
       "      <td>1.000000</td>\n",
       "      <td>21</td>\n",
       "      <td>0.000001</td>\n",
       "      <td>0.0</td>\n",
       "      <td>1.573789e-08</td>\n",
       "      <td>0.047238</td>\n",
       "      <td>1.374921</td>\n",
       "    </tr>\n",
       "    <tr>\n",
       "      <th>39</th>\n",
       "      <td>BIOMD0000000182_[AC_cyto_mem]_0.0</td>\n",
       "      <td>rational</td>\n",
       "      <td>0.0</td>\n",
       "      <td>36</td>\n",
       "      <td>13</td>\n",
       "      <td>13</td>\n",
       "      <td>0.000000e+00</td>\n",
       "      <td>0.000000e+00</td>\n",
       "      <td>300.000000</td>\n",
       "      <td>0.999999</td>\n",
       "      <td>...</td>\n",
       "      <td>10.0</td>\n",
       "      <td>0.000000e+00</td>\n",
       "      <td>0.000000e+00</td>\n",
       "      <td>1.000000</td>\n",
       "      <td>21</td>\n",
       "      <td>0.000001</td>\n",
       "      <td>0.0</td>\n",
       "      <td>1.573789e-08</td>\n",
       "      <td>0.047669</td>\n",
       "      <td>1.204825</td>\n",
       "    </tr>\n",
       "    <tr>\n",
       "      <th>40</th>\n",
       "      <td>BIOMD0000000313_[IL13_DecoyR]_0.0</td>\n",
       "      <td>rational</td>\n",
       "      <td>0.0</td>\n",
       "      <td>17</td>\n",
       "      <td>3</td>\n",
       "      <td>3</td>\n",
       "      <td>0.000000e+00</td>\n",
       "      <td>0.000000e+00</td>\n",
       "      <td>0.000000</td>\n",
       "      <td>0.999999</td>\n",
       "      <td>...</td>\n",
       "      <td>0.1</td>\n",
       "      <td>0.000000e+00</td>\n",
       "      <td>0.000000e+00</td>\n",
       "      <td>1.000000</td>\n",
       "      <td>21</td>\n",
       "      <td>0.000001</td>\n",
       "      <td>0.0</td>\n",
       "      <td>1.000000e+01</td>\n",
       "      <td>25.326811</td>\n",
       "      <td>25.443181</td>\n",
       "    </tr>\n",
       "    <tr>\n",
       "      <th>41</th>\n",
       "      <td>BIOMD0000000313_[IL13_DecoyR]_0.0</td>\n",
       "      <td>rational</td>\n",
       "      <td>0.0</td>\n",
       "      <td>17</td>\n",
       "      <td>3</td>\n",
       "      <td>3</td>\n",
       "      <td>0.000000e+00</td>\n",
       "      <td>0.000000e+00</td>\n",
       "      <td>0.000000</td>\n",
       "      <td>0.999999</td>\n",
       "      <td>...</td>\n",
       "      <td>1.0</td>\n",
       "      <td>0.000000e+00</td>\n",
       "      <td>0.000000e+00</td>\n",
       "      <td>1.000000</td>\n",
       "      <td>21</td>\n",
       "      <td>0.000001</td>\n",
       "      <td>0.0</td>\n",
       "      <td>1.000000e+01</td>\n",
       "      <td>0.017996</td>\n",
       "      <td>0.109401</td>\n",
       "    </tr>\n",
       "    <tr>\n",
       "      <th>42</th>\n",
       "      <td>BIOMD0000000313_[IL13_DecoyR]_0.0</td>\n",
       "      <td>rational</td>\n",
       "      <td>0.0</td>\n",
       "      <td>17</td>\n",
       "      <td>3</td>\n",
       "      <td>3</td>\n",
       "      <td>0.000000e+00</td>\n",
       "      <td>0.000000e+00</td>\n",
       "      <td>0.000000</td>\n",
       "      <td>0.999999</td>\n",
       "      <td>...</td>\n",
       "      <td>10.0</td>\n",
       "      <td>0.000000e+00</td>\n",
       "      <td>0.000000e+00</td>\n",
       "      <td>1.000000</td>\n",
       "      <td>21</td>\n",
       "      <td>0.000001</td>\n",
       "      <td>0.0</td>\n",
       "      <td>1.000000e+01</td>\n",
       "      <td>0.018834</td>\n",
       "      <td>0.036127</td>\n",
       "    </tr>\n",
       "    <tr>\n",
       "      <th>43</th>\n",
       "      <td>BIOMD0000000448_[mTORC1a]_0.0</td>\n",
       "      <td>rational</td>\n",
       "      <td>0.0</td>\n",
       "      <td>27</td>\n",
       "      <td>19</td>\n",
       "      <td>15</td>\n",
       "      <td>1.325365e-04</td>\n",
       "      <td>3.862939e-03</td>\n",
       "      <td>29.146229</td>\n",
       "      <td>0.999999</td>\n",
       "      <td>...</td>\n",
       "      <td>0.1</td>\n",
       "      <td>2.982465e-03</td>\n",
       "      <td>5.834797e-03</td>\n",
       "      <td>1.000000</td>\n",
       "      <td>21</td>\n",
       "      <td>0.000001</td>\n",
       "      <td>0.0</td>\n",
       "      <td>1.645293e-08</td>\n",
       "      <td>76.918015</td>\n",
       "      <td>77.588495</td>\n",
       "    </tr>\n",
       "    <tr>\n",
       "      <th>44</th>\n",
       "      <td>BIOMD0000000448_[mTORC1a]_0.0</td>\n",
       "      <td>rational</td>\n",
       "      <td>0.0</td>\n",
       "      <td>27</td>\n",
       "      <td>19</td>\n",
       "      <td>15</td>\n",
       "      <td>1.325365e-04</td>\n",
       "      <td>3.862939e-03</td>\n",
       "      <td>29.146229</td>\n",
       "      <td>0.999999</td>\n",
       "      <td>...</td>\n",
       "      <td>1.0</td>\n",
       "      <td>2.982465e-03</td>\n",
       "      <td>5.834797e-03</td>\n",
       "      <td>1.000000</td>\n",
       "      <td>21</td>\n",
       "      <td>0.000001</td>\n",
       "      <td>0.0</td>\n",
       "      <td>1.645293e-08</td>\n",
       "      <td>0.038699</td>\n",
       "      <td>0.647842</td>\n",
       "    </tr>\n",
       "    <tr>\n",
       "      <th>45</th>\n",
       "      <td>BIOMD0000000448_[mTORC1a]_0.0</td>\n",
       "      <td>rational</td>\n",
       "      <td>0.0</td>\n",
       "      <td>27</td>\n",
       "      <td>19</td>\n",
       "      <td>15</td>\n",
       "      <td>1.325365e-04</td>\n",
       "      <td>3.862939e-03</td>\n",
       "      <td>29.146229</td>\n",
       "      <td>0.999999</td>\n",
       "      <td>...</td>\n",
       "      <td>10.0</td>\n",
       "      <td>2.982465e-03</td>\n",
       "      <td>5.834797e-03</td>\n",
       "      <td>1.000000</td>\n",
       "      <td>21</td>\n",
       "      <td>0.000001</td>\n",
       "      <td>0.0</td>\n",
       "      <td>1.645293e-08</td>\n",
       "      <td>0.044051</td>\n",
       "      <td>0.683698</td>\n",
       "    </tr>\n",
       "    <tr>\n",
       "      <th>46</th>\n",
       "      <td>BIOMD0000000526_[DISC]_0.0</td>\n",
       "      <td>rational</td>\n",
       "      <td>0.0</td>\n",
       "      <td>18</td>\n",
       "      <td>8</td>\n",
       "      <td>8</td>\n",
       "      <td>1.693856e-03</td>\n",
       "      <td>3.382268e-03</td>\n",
       "      <td>1.996786</td>\n",
       "      <td>0.999999</td>\n",
       "      <td>...</td>\n",
       "      <td>0.1</td>\n",
       "      <td>8.270251e-04</td>\n",
       "      <td>4.245548e-03</td>\n",
       "      <td>1.000000</td>\n",
       "      <td>21</td>\n",
       "      <td>0.000001</td>\n",
       "      <td>0.0</td>\n",
       "      <td>3.000000e-02</td>\n",
       "      <td>34.658356</td>\n",
       "      <td>35.091662</td>\n",
       "    </tr>\n",
       "    <tr>\n",
       "      <th>47</th>\n",
       "      <td>BIOMD0000000526_[DISC]_0.0</td>\n",
       "      <td>rational</td>\n",
       "      <td>0.0</td>\n",
       "      <td>18</td>\n",
       "      <td>8</td>\n",
       "      <td>8</td>\n",
       "      <td>1.693856e-03</td>\n",
       "      <td>3.382268e-03</td>\n",
       "      <td>1.996786</td>\n",
       "      <td>0.999999</td>\n",
       "      <td>...</td>\n",
       "      <td>1.0</td>\n",
       "      <td>8.270251e-04</td>\n",
       "      <td>4.245548e-03</td>\n",
       "      <td>1.000000</td>\n",
       "      <td>21</td>\n",
       "      <td>0.000001</td>\n",
       "      <td>0.0</td>\n",
       "      <td>3.000000e-02</td>\n",
       "      <td>0.032039</td>\n",
       "      <td>0.471493</td>\n",
       "    </tr>\n",
       "    <tr>\n",
       "      <th>48</th>\n",
       "      <td>BIOMD0000000526_[DISC]_0.0</td>\n",
       "      <td>rational</td>\n",
       "      <td>0.0</td>\n",
       "      <td>18</td>\n",
       "      <td>8</td>\n",
       "      <td>8</td>\n",
       "      <td>1.693856e-03</td>\n",
       "      <td>3.382268e-03</td>\n",
       "      <td>1.996786</td>\n",
       "      <td>0.999999</td>\n",
       "      <td>...</td>\n",
       "      <td>10.0</td>\n",
       "      <td>8.270251e-04</td>\n",
       "      <td>4.245548e-03</td>\n",
       "      <td>1.000000</td>\n",
       "      <td>21</td>\n",
       "      <td>0.000001</td>\n",
       "      <td>0.0</td>\n",
       "      <td>3.000000e-02</td>\n",
       "      <td>0.024645</td>\n",
       "      <td>0.457897</td>\n",
       "    </tr>\n",
       "    <tr>\n",
       "      <th>49</th>\n",
       "      <td>MODEL1502270000_[rmr]_0.0</td>\n",
       "      <td>rational</td>\n",
       "      <td>0.0</td>\n",
       "      <td>22</td>\n",
       "      <td>16</td>\n",
       "      <td>16</td>\n",
       "      <td>0.000000e+00</td>\n",
       "      <td>0.000000e+00</td>\n",
       "      <td>0.000000</td>\n",
       "      <td>0.999999</td>\n",
       "      <td>...</td>\n",
       "      <td>0.1</td>\n",
       "      <td>0.000000e+00</td>\n",
       "      <td>0.000000e+00</td>\n",
       "      <td>1.000000</td>\n",
       "      <td>21</td>\n",
       "      <td>0.000001</td>\n",
       "      <td>0.0</td>\n",
       "      <td>1.000000e+00</td>\n",
       "      <td>58.441467</td>\n",
       "      <td>59.510920</td>\n",
       "    </tr>\n",
       "    <tr>\n",
       "      <th>50</th>\n",
       "      <td>MODEL1502270000_[rmr]_0.0</td>\n",
       "      <td>rational</td>\n",
       "      <td>0.0</td>\n",
       "      <td>22</td>\n",
       "      <td>16</td>\n",
       "      <td>16</td>\n",
       "      <td>0.000000e+00</td>\n",
       "      <td>0.000000e+00</td>\n",
       "      <td>0.000000</td>\n",
       "      <td>0.999999</td>\n",
       "      <td>...</td>\n",
       "      <td>1.0</td>\n",
       "      <td>0.000000e+00</td>\n",
       "      <td>0.000000e+00</td>\n",
       "      <td>1.000000</td>\n",
       "      <td>21</td>\n",
       "      <td>0.000001</td>\n",
       "      <td>0.0</td>\n",
       "      <td>1.000000e+00</td>\n",
       "      <td>0.069413</td>\n",
       "      <td>1.172888</td>\n",
       "    </tr>\n",
       "    <tr>\n",
       "      <th>51</th>\n",
       "      <td>MODEL1502270000_[rmr]_0.0</td>\n",
       "      <td>rational</td>\n",
       "      <td>0.0</td>\n",
       "      <td>22</td>\n",
       "      <td>16</td>\n",
       "      <td>16</td>\n",
       "      <td>0.000000e+00</td>\n",
       "      <td>0.000000e+00</td>\n",
       "      <td>0.000000</td>\n",
       "      <td>0.999999</td>\n",
       "      <td>...</td>\n",
       "      <td>10.0</td>\n",
       "      <td>0.000000e+00</td>\n",
       "      <td>0.000000e+00</td>\n",
       "      <td>1.000000</td>\n",
       "      <td>21</td>\n",
       "      <td>0.000001</td>\n",
       "      <td>0.0</td>\n",
       "      <td>1.000000e+00</td>\n",
       "      <td>0.084668</td>\n",
       "      <td>1.289503</td>\n",
       "    </tr>\n",
       "  </tbody>\n",
       "</table>\n",
       "<p>52 rows × 24 columns</p>\n",
       "</div>"
      ],
      "text/plain": [
       "                                   modelName        type  maxPerturbation  \\\n",
       "0     ProteinPhosphorylation[2]_[S0, S1]_0.0  polynomial              0.0   \n",
       "1     ProteinPhosphorylation[2]_[S0, S1]_0.0  polynomial              0.0   \n",
       "2     ProteinPhosphorylation[2]_[S0, S1]_0.0  polynomial              0.0   \n",
       "3              BioNetGen_CCP_[s18 + s40]_0.0  polynomial              0.0   \n",
       "4              BioNetGen_CCP_[s18 + s40]_0.0  polynomial              0.0   \n",
       "5              BioNetGen_CCP_[s18 + s40]_0.0  polynomial              0.0   \n",
       "6              BioNetGen_CCP_[s18 + s40]_0.0  polynomial              0.0   \n",
       "7              BioNetGen_CCP_[s18 + s40]_0.0  polynomial              0.0   \n",
       "8               BioNetGen_CCP_[s0 + s34]_0.0  polynomial              0.0   \n",
       "9               BioNetGen_CCP_[s0 + s34]_0.0  polynomial              0.0   \n",
       "10              BioNetGen_CCP_[s0 + s34]_0.0  polynomial              0.0   \n",
       "11              BioNetGen_CCP_[s0 + s34]_0.0  polynomial              0.0   \n",
       "12              BioNetGen_CCP_[s0 + s34]_0.0  polynomial              0.0   \n",
       "13  BioNetGen_CCP_[s1 + s66 + s67 + s68]_0.0  polynomial              0.0   \n",
       "14  BioNetGen_CCP_[s1 + s66 + s67 + s68]_0.0  polynomial              0.0   \n",
       "15  BioNetGen_CCP_[s1 + s66 + s67 + s68]_0.0  polynomial              0.0   \n",
       "16  BioNetGen_CCP_[s1 + s66 + s67 + s68]_0.0  polynomial              0.0   \n",
       "17  BioNetGen_CCP_[s1 + s66 + s67 + s68]_0.0  polynomial              0.0   \n",
       "18              BioNetGen_CCP_[s2 + s36]_0.0  polynomial              0.0   \n",
       "19              BioNetGen_CCP_[s2 + s36]_0.0  polynomial              0.0   \n",
       "20              BioNetGen_CCP_[s2 + s36]_0.0  polynomial              0.0   \n",
       "21              BioNetGen_CCP_[s2 + s36]_0.0  polynomial              0.0   \n",
       "22              BioNetGen_CCP_[s2 + s36]_0.0  polynomial              0.0   \n",
       "23              BioNetGen_CCP_[s3 + s43]_0.0  polynomial              0.0   \n",
       "24              BioNetGen_CCP_[s3 + s43]_0.0  polynomial              0.0   \n",
       "25              BioNetGen_CCP_[s3 + s43]_0.0  polynomial              0.0   \n",
       "26              BioNetGen_CCP_[s3 + s43]_0.0  polynomial              0.0   \n",
       "27              BioNetGen_CCP_[s3 + s43]_0.0  polynomial              0.0   \n",
       "28               BIOMD0000000013_[x_CO2]_0.0    rational              0.0   \n",
       "29               BIOMD0000000013_[x_CO2]_0.0    rational              0.0   \n",
       "30               BIOMD0000000013_[x_CO2]_0.0    rational              0.0   \n",
       "31                 BIOMD0000000023_[Fru]_0.0    rational              0.0   \n",
       "32                 BIOMD0000000023_[Fru]_0.0    rational              0.0   \n",
       "33                 BIOMD0000000023_[Fru]_0.0    rational              0.0   \n",
       "34                   BIOMD0000000113_[Y]_0.0    rational              0.0   \n",
       "35                   BIOMD0000000113_[Y]_0.0    rational              0.0   \n",
       "36                   BIOMD0000000113_[Y]_0.0    rational              0.0   \n",
       "37         BIOMD0000000182_[AC_cyto_mem]_0.0    rational              0.0   \n",
       "38         BIOMD0000000182_[AC_cyto_mem]_0.0    rational              0.0   \n",
       "39         BIOMD0000000182_[AC_cyto_mem]_0.0    rational              0.0   \n",
       "40         BIOMD0000000313_[IL13_DecoyR]_0.0    rational              0.0   \n",
       "41         BIOMD0000000313_[IL13_DecoyR]_0.0    rational              0.0   \n",
       "42         BIOMD0000000313_[IL13_DecoyR]_0.0    rational              0.0   \n",
       "43             BIOMD0000000448_[mTORC1a]_0.0    rational              0.0   \n",
       "44             BIOMD0000000448_[mTORC1a]_0.0    rational              0.0   \n",
       "45             BIOMD0000000448_[mTORC1a]_0.0    rational              0.0   \n",
       "46                BIOMD0000000526_[DISC]_0.0    rational              0.0   \n",
       "47                BIOMD0000000526_[DISC]_0.0    rational              0.0   \n",
       "48                BIOMD0000000526_[DISC]_0.0    rational              0.0   \n",
       "49                 MODEL1502270000_[rmr]_0.0    rational              0.0   \n",
       "50                 MODEL1502270000_[rmr]_0.0    rational              0.0   \n",
       "51                 MODEL1502270000_[rmr]_0.0    rational              0.0   \n",
       "\n",
       "    size  clum_size  nlum_size        et_rel            et    |M*xt|_2  \\\n",
       "0     24         12         12  1.157190e-05  3.469887e-03  299.854673   \n",
       "1     24         12         10  1.044993e-04  3.133461e-02  299.854673   \n",
       "2     24         12         10  1.044993e-04  3.133461e-02  299.854673   \n",
       "3     87         30         30  3.788951e-04  2.867030e-04    0.756682   \n",
       "4     87         30         28  1.988686e-03  1.504803e-03    0.756682   \n",
       "5     87         30         23  4.162884e-04  3.149979e-04    0.756682   \n",
       "6     87         30          9  2.267251e-02  1.715588e-02    0.756682   \n",
       "7     87         30          9  2.267251e-02  1.715588e-02    0.756682   \n",
       "8     87          4          4  1.512903e-06  8.397568e-07    0.555063   \n",
       "9     87          4          4  1.512903e-06  8.397568e-07    0.555063   \n",
       "10    87          4          4  1.512903e-06  8.397568e-07    0.555063   \n",
       "11    87          4          4  1.512903e-06  8.397568e-07    0.555063   \n",
       "12    87          4          4  1.512903e-06  8.397568e-07    0.555063   \n",
       "13    87         30         29  0.000000e+00  0.000000e+00    0.000000   \n",
       "14    87         30         29  0.000000e+00  0.000000e+00    0.000000   \n",
       "15    87         30         26  0.000000e+00  0.000000e+00    0.000000   \n",
       "16    87         30         15  0.000000e+00  0.000000e+00    0.000000   \n",
       "17    87         30         15  0.000000e+00  0.000000e+00    0.000000   \n",
       "18    87          5          5  8.418328e-06  1.937589e-06    0.230163   \n",
       "19    87          5          5  8.418328e-06  1.937589e-06    0.230163   \n",
       "20    87          5          5  8.418328e-06  1.937589e-06    0.230163   \n",
       "21    87          5          5  8.418328e-06  1.937589e-06    0.230163   \n",
       "22    87          5          5  8.418328e-06  1.937589e-06    0.230163   \n",
       "23    87         30         30  7.556042e-05  6.475296e-08    0.000857   \n",
       "24    87         30          1  1.000000e+00  8.569694e-04    0.000857   \n",
       "25    87         30          1  1.000000e+00  8.569694e-04    0.000857   \n",
       "26    87         30          1  1.000000e+00  8.569694e-04    0.000857   \n",
       "27    87         30          1  1.000000e+00  8.569694e-04    0.000857   \n",
       "28    27         24          2  9.401790e-09  9.401790e-09    1.000000   \n",
       "29    27         24          2  9.401790e-09  9.401790e-09    1.000000   \n",
       "30    27         24          2  9.401790e-09  9.401790e-09    1.000000   \n",
       "31    13         11         11  1.596571e-04  9.850562e-04    6.169825   \n",
       "32    13         11          1  8.379209e-01  5.169825e+00    6.169825   \n",
       "33    13         11          1  8.379209e-01  5.169825e+00    6.169825   \n",
       "34     6          4          4  1.276466e-03  1.830020e-03    1.433661   \n",
       "35     6          4          4  1.276466e-03  1.830020e-03    1.433661   \n",
       "36     6          4          4  1.276466e-03  1.830020e-03    1.433661   \n",
       "37    36         13         13  0.000000e+00  0.000000e+00  300.000000   \n",
       "38    36         13         13  0.000000e+00  0.000000e+00  300.000000   \n",
       "39    36         13         13  0.000000e+00  0.000000e+00  300.000000   \n",
       "40    17          3          3  0.000000e+00  0.000000e+00    0.000000   \n",
       "41    17          3          3  0.000000e+00  0.000000e+00    0.000000   \n",
       "42    17          3          3  0.000000e+00  0.000000e+00    0.000000   \n",
       "43    27         19         15  1.325365e-04  3.862939e-03   29.146229   \n",
       "44    27         19         15  1.325365e-04  3.862939e-03   29.146229   \n",
       "45    27         19         15  1.325365e-04  3.862939e-03   29.146229   \n",
       "46    18          8          8  1.693856e-03  3.382268e-03    1.996786   \n",
       "47    18          8          8  1.693856e-03  3.382268e-03    1.996786   \n",
       "48    18          8          8  1.693856e-03  3.382268e-03    1.996786   \n",
       "49    22         16         16  0.000000e+00  0.000000e+00    0.000000   \n",
       "50    22         16         16  0.000000e+00  0.000000e+00    0.000000   \n",
       "51    22         16         16  0.000000e+00  0.000000e+00    0.000000   \n",
       "\n",
       "     epsilon  ...  max_allowed_slope       avg_err       max_err  max_epsilon  \\\n",
       "0   0.540061  ...                1.0  2.616639e-02  2.807540e-01     3.162278   \n",
       "1   1.999999  ...               10.0  3.069643e-02  2.807537e-01     3.162278   \n",
       "2   1.999999  ...              100.0  3.069643e-02  2.807537e-01     3.162278   \n",
       "3   0.105549  ...                0.1  5.424762e-05  3.205928e-04     2.828427   \n",
       "4   0.106066  ...                0.2  2.183369e-04  1.504803e-03     2.828427   \n",
       "5   0.267121  ...                0.3  6.628130e-05  3.149979e-04     2.828427   \n",
       "6   0.728105  ...                0.4  2.703158e-03  1.715588e-02     2.828427   \n",
       "7   0.728105  ...                0.5  2.703158e-03  1.715588e-02     2.828427   \n",
       "8   0.289999  ...                0.1  1.030052e-05  3.380308e-05     0.290000   \n",
       "9   0.290000  ...                0.2  1.030052e-05  3.380308e-05     0.290000   \n",
       "10  0.290000  ...                0.3  1.030052e-05  3.380308e-05     0.290000   \n",
       "11  0.290000  ...                0.4  1.030052e-05  3.380308e-05     0.290000   \n",
       "12  0.290000  ...                0.5  1.030052e-05  3.380308e-05     0.290000   \n",
       "13  0.149999  ...                0.1  0.000000e+00  0.000000e+00     0.800000   \n",
       "14  0.149999  ...                0.2  0.000000e+00  0.000000e+00     0.800000   \n",
       "15  0.289999  ...                0.3  0.000000e+00  0.000000e+00     0.800000   \n",
       "16  0.629324  ...                0.4  0.000000e+00  0.000000e+00     0.800000   \n",
       "17  0.629324  ...                0.5  0.000000e+00  0.000000e+00     0.800000   \n",
       "18  0.289999  ...                0.1  1.141175e-06  3.632988e-06     0.290000   \n",
       "19  0.289999  ...                0.2  1.141175e-06  3.632988e-06     0.290000   \n",
       "20  0.290000  ...                0.3  1.141175e-06  3.632988e-06     0.290000   \n",
       "21  0.290000  ...                0.4  1.141175e-06  3.632988e-06     0.290000   \n",
       "22  0.290000  ...                0.5  1.141175e-06  3.632988e-06     0.290000   \n",
       "23  0.150000  ...                0.1  1.893059e-08  7.980950e-08     0.360000   \n",
       "24  0.360000  ...                0.2  1.139925e-04  8.569694e-04     0.360000   \n",
       "25  0.360000  ...                0.3  1.139925e-04  8.569694e-04     0.360000   \n",
       "26  0.360000  ...                0.4  1.139925e-04  8.569694e-04     0.360000   \n",
       "27  0.360000  ...                0.5  1.139925e-04  8.569694e-04     0.360000   \n",
       "28  1.075858  ...                0.1  4.700897e-09  9.401790e-09     1.075858   \n",
       "29  1.075858  ...                1.0  4.700897e-09  9.401790e-09     1.075858   \n",
       "30  1.075858  ...               10.0  4.700897e-09  9.401790e-09     1.075858   \n",
       "31  0.999999  ...                0.1  7.973935e-04  1.047042e-03     1.000000   \n",
       "32  1.000000  ...                1.0  3.863014e+00  5.169825e+00     1.000000   \n",
       "33  1.000000  ...               10.0  3.863014e+00  5.169825e+00     1.000000   \n",
       "34  0.999999  ...                0.1  1.051127e-03  3.796994e-03     1.000000   \n",
       "35  0.999999  ...                1.0  1.051127e-03  3.796994e-03     1.000000   \n",
       "36  0.999999  ...               10.0  1.051127e-03  3.796994e-03     1.000000   \n",
       "37  0.999999  ...                0.1  0.000000e+00  0.000000e+00     1.000000   \n",
       "38  0.999999  ...                1.0  0.000000e+00  0.000000e+00     1.000000   \n",
       "39  0.999999  ...               10.0  0.000000e+00  0.000000e+00     1.000000   \n",
       "40  0.999999  ...                0.1  0.000000e+00  0.000000e+00     1.000000   \n",
       "41  0.999999  ...                1.0  0.000000e+00  0.000000e+00     1.000000   \n",
       "42  0.999999  ...               10.0  0.000000e+00  0.000000e+00     1.000000   \n",
       "43  0.999999  ...                0.1  2.982465e-03  5.834797e-03     1.000000   \n",
       "44  0.999999  ...                1.0  2.982465e-03  5.834797e-03     1.000000   \n",
       "45  0.999999  ...               10.0  2.982465e-03  5.834797e-03     1.000000   \n",
       "46  0.999999  ...                0.1  8.270251e-04  4.245548e-03     1.000000   \n",
       "47  0.999999  ...                1.0  8.270251e-04  4.245548e-03     1.000000   \n",
       "48  0.999999  ...               10.0  8.270251e-04  4.245548e-03     1.000000   \n",
       "49  0.999999  ...                0.1  0.000000e+00  0.000000e+00     1.000000   \n",
       "50  0.999999  ...                1.0  0.000000e+00  0.000000e+00     1.000000   \n",
       "51  0.999999  ...               10.0  0.000000e+00  0.000000e+00     1.000000   \n",
       "\n",
       "    consideredEpsilons  tolerance   t0            t1  secThisEpsilon  \\\n",
       "0                   23   0.000001  0.0  1.250000e-03       21.696005   \n",
       "1                   23   0.000001  0.0  1.250000e-03        6.287768   \n",
       "2                   23   0.000001  0.0  1.250000e-03        0.105409   \n",
       "3                   23   0.000001  0.0  5.000000e+00      499.674802   \n",
       "4                   23   0.000001  0.0  5.000000e+00       49.742580   \n",
       "5                   23   0.000001  0.0  5.000000e+00       96.663120   \n",
       "6                   23   0.000001  0.0  5.000000e+00      100.646201   \n",
       "7                   23   0.000001  0.0  5.000000e+00       32.660773   \n",
       "8                   20   0.000001  0.0  5.000000e+00       95.504543   \n",
       "9                    1   0.000001  0.0  5.000000e+00        0.003051   \n",
       "10                   1   0.000001  0.0  5.000000e+00        0.003000   \n",
       "11                   1   0.000001  0.0  5.000000e+00        0.003172   \n",
       "12                   1   0.000001  0.0  5.000000e+00        0.003167   \n",
       "13                  21   0.000001  0.0  5.000000e+00      256.835850   \n",
       "14                  21   0.000001  0.0  5.000000e+00        0.401983   \n",
       "15                  21   0.000001  0.0  5.000000e+00       68.757825   \n",
       "16                  21   0.000001  0.0  5.000000e+00       65.692855   \n",
       "17                  21   0.000001  0.0  5.000000e+00        0.222213   \n",
       "18                  20   0.000001  0.0  5.000000e+00       93.681216   \n",
       "19                  20   0.000001  0.0  5.000000e+00       31.069221   \n",
       "20                   1   0.000001  0.0  5.000000e+00        0.002980   \n",
       "21                   1   0.000001  0.0  5.000000e+00        0.003131   \n",
       "22                   1   0.000001  0.0  5.000000e+00        0.003206   \n",
       "23                  20   0.000001  0.0  5.000000e+00      255.002295   \n",
       "24                   1   0.000001  0.0  5.000000e+00        0.003799   \n",
       "25                   1   0.000001  0.0  5.000000e+00        0.003642   \n",
       "26                   1   0.000001  0.0  5.000000e+00        0.003611   \n",
       "27                   1   0.000001  0.0  5.000000e+00        0.003511   \n",
       "28                   1   0.000001  0.0  1.645293e-08       68.722241   \n",
       "29                   1   0.000001  0.0  1.645293e-08        0.000814   \n",
       "30                   1   0.000001  0.0  1.645293e-08        0.001052   \n",
       "31                  21   0.000001  0.0  2.000000e+01       41.933757   \n",
       "32                   1   0.000001  0.0  2.000000e+01        0.000754   \n",
       "33                   1   0.000001  0.0  2.000000e+01        0.000772   \n",
       "34                  21   0.000001  0.0  1.000000e+00        4.405161   \n",
       "35                  21   0.000001  0.0  1.000000e+00        0.012405   \n",
       "36                  21   0.000001  0.0  1.000000e+00        0.011618   \n",
       "37                  21   0.000001  0.0  1.573789e-08      202.368675   \n",
       "38                  21   0.000001  0.0  1.573789e-08        0.047238   \n",
       "39                  21   0.000001  0.0  1.573789e-08        0.047669   \n",
       "40                  21   0.000001  0.0  1.000000e+01       25.326811   \n",
       "41                  21   0.000001  0.0  1.000000e+01        0.017996   \n",
       "42                  21   0.000001  0.0  1.000000e+01        0.018834   \n",
       "43                  21   0.000001  0.0  1.645293e-08       76.918015   \n",
       "44                  21   0.000001  0.0  1.645293e-08        0.038699   \n",
       "45                  21   0.000001  0.0  1.645293e-08        0.044051   \n",
       "46                  21   0.000001  0.0  3.000000e-02       34.658356   \n",
       "47                  21   0.000001  0.0  3.000000e-02        0.032039   \n",
       "48                  21   0.000001  0.0  3.000000e-02        0.024645   \n",
       "49                  21   0.000001  0.0  1.000000e+00       58.441467   \n",
       "50                  21   0.000001  0.0  1.000000e+00        0.069413   \n",
       "51                  21   0.000001  0.0  1.000000e+00        0.084668   \n",
       "\n",
       "      secTotal  \n",
       "0    21.899352  \n",
       "1     6.440981  \n",
       "2     0.252448  \n",
       "3   510.028255  \n",
       "4    56.616679  \n",
       "5   102.431618  \n",
       "6   101.670099  \n",
       "7    33.721693  \n",
       "8    95.844915  \n",
       "9     0.315798  \n",
       "10    0.306629  \n",
       "11    0.304905  \n",
       "12    0.287663  \n",
       "13  261.340588  \n",
       "14    4.717706  \n",
       "15   72.402467  \n",
       "16   66.143466  \n",
       "17    0.670594  \n",
       "18   93.952978  \n",
       "19   31.389605  \n",
       "20    0.275275  \n",
       "21    0.350873  \n",
       "22    0.289831  \n",
       "23  263.822695  \n",
       "24    0.266877  \n",
       "25    0.271048  \n",
       "26    0.432350  \n",
       "27    0.273853  \n",
       "28   69.005265  \n",
       "29    0.329360  \n",
       "30    0.222332  \n",
       "31   42.835991  \n",
       "32    0.207358  \n",
       "33    0.011683  \n",
       "34    4.490551  \n",
       "35    0.105662  \n",
       "36    0.130418  \n",
       "37  203.719622  \n",
       "38    1.374921  \n",
       "39    1.204825  \n",
       "40   25.443181  \n",
       "41    0.109401  \n",
       "42    0.036127  \n",
       "43   77.588495  \n",
       "44    0.647842  \n",
       "45    0.683698  \n",
       "46   35.091662  \n",
       "47    0.471493  \n",
       "48    0.457897  \n",
       "49   59.510920  \n",
       "50    1.172888  \n",
       "51    1.289503  \n",
       "\n",
       "[52 rows x 24 columns]"
      ]
     },
     "execution_count": 2,
     "metadata": {},
     "output_type": "execute_result"
    }
   ],
   "source": [
    "## We can read the results using this line\n",
    "compilation = pd.read_csv('../tests/numerical/compilation.csv', sep=';')\n",
    "compilation"
   ]
  },
  {
   "cell_type": "markdown",
   "id": "20ed2db9-abf7-402a-9f67-6fe91841a010",
   "metadata": {
    "tags": []
   },
   "source": [
    "## Exploring limits for each example"
   ]
  },
  {
   "cell_type": "markdown",
   "id": "a7117021-74a2-4c88-942c-3abb92d3359e",
   "metadata": {
    "jp-MarkdownHeadingCollapsed": true,
    "tags": []
   },
   "source": [
    "### ProteinPhosphorylation[2]"
   ]
  },
  {
   "cell_type": "code",
   "execution_count": 2,
   "id": "ef799675-191c-4caf-9cf3-2a0a749b403f",
   "metadata": {},
   "outputs": [
    {
     "name": "stdout",
     "output_type": "stream",
     "text": [
      "Original system size: 24\n",
      "Initial state: |x_0| = 3029.8630315576975 ## |f(x_0)| = 1992234.925906079\n"
     ]
    }
   ],
   "source": [
    "example = get_example(\"ProteinPhosphorylation[2]\")\n",
    "system = FODESystem(file=example.path_model(), read_ic = True, parser=example.read).remove_parameters_ic()\n",
    "RRsystem = FODESystem(file=example.path_model(), read_ic = True, parser=example.read, field = RR).remove_parameters_ic()\n",
    "x0 = array([float(RRsystem.ic.get(v, 0)) for v in RRsystem.variables])\n",
    "norm_x0 = norm(x0, ord=2)\n",
    "fx0 = array(RRsystem.derivative(..., *x0), dtype=x0.dtype)\n",
    "norm_fx0 = norm(fx0, ord=2)\n",
    "print(f\"Original system size: {RRsystem.size}\")\n",
    "print(f\"Initial state: |x_0| = {norm_x0} ## |f(x_0)| = {norm_fx0}\")"
   ]
  },
  {
   "cell_type": "markdown",
   "id": "8ece3524-4eba-415e-9fe0-70a62825fe67",
   "metadata": {
    "jp-MarkdownHeadingCollapsed": true,
    "tags": []
   },
   "source": [
    "#### Checking time for simulation"
   ]
  },
  {
   "cell_type": "code",
   "execution_count": 6,
   "id": "11094893-abcb-4d7e-a441-62beb6c2368a",
   "metadata": {},
   "outputs": [],
   "source": [
    "## Defining time frame\n",
    "t0 = 0.0; t1 = 10.0; tstep = (t1-t0)/200"
   ]
  },
  {
   "cell_type": "code",
   "execution_count": 7,
   "id": "ea9488a7-60c0-47c9-8117-e1f1b463af51",
   "metadata": {},
   "outputs": [
    {
     "name": "stdout",
     "output_type": "stream",
     "text": [
      "CPU times: user 4.03 s, sys: 10.1 ms, total: 4.04 s\n",
      "Wall time: 4.04 s\n"
     ]
    }
   ],
   "source": [
    "%time simulation = system.simulate(t0,t1,x0,tstep)"
   ]
  },
  {
   "cell_type": "code",
   "execution_count": 8,
   "id": "7111f553-623a-434d-b60a-11114014989b",
   "metadata": {},
   "outputs": [
    {
     "name": "stdout",
     "output_type": "stream",
     "text": [
      "CPU times: user 10.2 ms, sys: 10.2 ms, total: 20.4 ms\n",
      "Wall time: 19.5 ms\n"
     ]
    },
    {
     "data": {
      "image/png": "[encoded data removed]",
      "text/plain": [
       "<Figure size 800x400 with 1 Axes>"
      ]
     },
     "metadata": {},
     "output_type": "display_data"
    }
   ],
   "source": [
    "%time fig = create_figure(simulation, legend=False, format=\"-\");"
   ]
  },
  {
   "cell_type": "markdown",
   "id": "0141de93-b976-489c-8d5c-9714f1d73ed6",
   "metadata": {
    "jp-MarkdownHeadingCollapsed": true,
    "tags": []
   },
   "source": [
    "### BioNetGen"
   ]
  },
  {
   "cell_type": "code",
   "execution_count": 145,
   "id": "7cd5db8b-01a2-4348-a927-3b74f488d784",
   "metadata": {},
   "outputs": [
    {
     "name": "stdout",
     "output_type": "stream",
     "text": [
      "Original system size: 87\n",
      "Initial state: |x_0| = 1.0 ## |f(x_0)| = 1.0\n"
     ]
    }
   ],
   "source": [
    "example = get_example(\"BioNetGen_CCP\")\n",
    "system = FODESystem(file=example.path_model(), read_ic = True, parser=example.read).remove_parameters_ic()\n",
    "RRsystem = FODESystem(file=example.path_model(), read_ic = True, parser=example.read, field = RR).remove_parameters_ic()\n",
    "x0 = array([float(RRsystem.ic.get(v, 0)) for v in RRsystem.variables])\n",
    "norm_x0 = norm(x0, ord=2)\n",
    "fx0 = array(RRsystem.derivative(..., *x0), dtype=x0.dtype)\n",
    "norm_fx0 = norm(fx0, ord=2)\n",
    "print(f\"Original system size: {RRsystem.size}\")\n",
    "print(f\"Initial state: |x_0| = {norm_x0} ## |f(x_0)| = {norm_fx0}\")"
   ]
  },
  {
   "cell_type": "markdown",
   "id": "80506a0c-a6a9-43d6-98fa-20c065cab5b3",
   "metadata": {
    "tags": []
   },
   "source": [
    "#### Checking time for simulation"
   ]
  },
  {
   "cell_type": "code",
   "execution_count": 146,
   "id": "ca145f58-4b7e-4da1-b960-0fe484c38b66",
   "metadata": {},
   "outputs": [],
   "source": [
    "## Defining time frame\n",
    "t0 = 0.0; t1 = 100.0; tstep = (t1-t0)/200"
   ]
  },
  {
   "cell_type": "code",
   "execution_count": 147,
   "id": "6a8ad35f-9e90-450a-ad18-2fcccf3cc916",
   "metadata": {
    "tags": []
   },
   "outputs": [
    {
     "name": "stdout",
     "output_type": "stream",
     "text": [
      "CPU times: user 301 ms, sys: 10 ms, total: 311 ms\n",
      "Wall time: 308 ms\n"
     ]
    }
   ],
   "source": [
    "%time simulation = system.simulate(t0,t1,x0,tstep)"
   ]
  },
  {
   "cell_type": "code",
   "execution_count": 148,
   "id": "d1519073-705f-4690-be69-483771fdb8a0",
   "metadata": {},
   "outputs": [
    {
     "name": "stdout",
     "output_type": "stream",
     "text": [
      "CPU times: user 33.7 ms, sys: 0 ns, total: 33.7 ms\n",
      "Wall time: 33.1 ms\n"
     ]
    },
    {
     "data": {
      "image/png": "[encoded data removed]",
      "text/plain": [
       "<Figure size 800x400 with 1 Axes>"
      ]
     },
     "metadata": {},
     "output_type": "display_data"
    }
   ],
   "source": [
    "%time fig = create_figure(simulation, legend=False, format=\"-\");"
   ]
  },
  {
   "cell_type": "markdown",
   "id": "e919025d-4ee8-4bea-9dc4-1d094fbf4638",
   "metadata": {
    "jp-MarkdownHeadingCollapsed": true,
    "tags": []
   },
   "source": [
    "#### Checking maximal epsilons and deviations"
   ]
  },
  {
   "cell_type": "code",
   "execution_count": 3,
   "id": "883bf0e4-65a5-4c70-9f39-27de4682c0f8",
   "metadata": {},
   "outputs": [
    {
     "name": "stdout",
     "output_type": "stream",
     "text": [
      "Computing... |████████████████████████████████████████| 10/10 [100%] in 2:38.7 (0.06/s)                                 \n"
     ]
    },
    {
     "data": {
      "text/plain": [
       "{(s18 + s40,): (('exact', 20.579288005828857, (4.0, 3.8814376430176822)),\n",
       "  ('numerical', 11.120456457138062, (2.82842712474619, 2.801011940118035))),\n",
       " (s0 + s34,): (('exact',\n",
       "   20.40638518333435,\n",
       "   (0.41012193308819755, 0.2864843113486243)),\n",
       "  ('numerical', 11.36315131187439, (0.2899999999999999, 0.21500371665095205))),\n",
       " (s1 + s66 + s67 + s68,): (('exact',\n",
       "   20.707706689834595,\n",
       "   (1.6, 1.6546390399508664)),\n",
       "  ('numerical', 11.10129976272583, (0.8, 0.8545402899111078))),\n",
       " (s2 + s36,): (('exact',\n",
       "   20.49180006980896,\n",
       "   (0.41012193308819755, 0.2994986332662622)),\n",
       "  ('numerical',\n",
       "   11.171526193618774,\n",
       "   (0.2899999999999999, 0.20466348043931923))),\n",
       " (s3 + s43,): (('exact',\n",
       "   20.18851923942566,\n",
       "   (0.5091168824543142, 0.19992252002652044)),\n",
       "  ('numerical', 11.537360429763794, (0.36, 0.16017855662140346)))}"
      ]
     },
     "execution_count": 3,
     "metadata": {},
     "output_type": "execute_result"
    }
   ],
   "source": [
    "## Computing maximal epsilon\n",
    "with alive_bar(2*len(example.observables), title=\"Computing...\", force_tty=True) as bar:\n",
    "    results = {}\n",
    "    for observable in example.observables:\n",
    "        observable = tuple([SparsePolynomial.from_string(obs, system.variables) for obs in observable])\n",
    "        ## From exact system\n",
    "        ctime = time.time()\n",
    "        max_epsilon_exact = system.find_maximal_threshold(observable,norm_x0, 100, 1e-6)\n",
    "        time_exact = time.time()-ctime\n",
    "        bar()\n",
    "        ## From numerical system\n",
    "        ctime = time.time()\n",
    "        max_epsilon_numerical = RRsystem.find_maximal_threshold(observable,norm_x0, 100, 1e-6)\n",
    "        time_numerical = time.time()-ctime\n",
    "        bar()\n",
    "        results[observable] = ((\"exact\", time_exact, max_epsilon_exact), (\"numerical\", time_numerical, max_epsilon_numerical))\n",
    "    \n",
    "results"
   ]
  },
  {
   "cell_type": "markdown",
   "id": "4c067743-0871-4c60-8ba7-e4a541ab7061",
   "metadata": {
    "jp-MarkdownHeadingCollapsed": true,
    "tags": []
   },
   "source": [
    "### BIO...013  ($t_1 = 0.4$)"
   ]
  },
  {
   "cell_type": "code",
   "execution_count": 13,
   "id": "ceb2c9f3-9420-4e91-b013-e5fab3c14207",
   "metadata": {},
   "outputs": [
    {
     "name": "stdout",
     "output_type": "stream",
     "text": [
      "Original system size: 27\n",
      "Initial state: |x_0| = 5.824618359277371 ## |f(x_0)| = 1601262019.543335\n"
     ]
    }
   ],
   "source": [
    "example = get_example(\"BIOMD0000000013\")\n",
    "system = FODESystem(file=example.path_model(), read_ic = True, parser=example.read).remove_parameters_ic()\n",
    "RRsystem = FODESystem(file=example.path_model(), read_ic = True, parser=example.read, field = RR).remove_parameters_ic()\n",
    "x0 = array([float(RRsystem.ic.get(v, 0)) for v in RRsystem.variables])\n",
    "norm_x0 = norm(x0, ord=2)\n",
    "fx0 = array(RRsystem.derivative(..., *x0), dtype=x0.dtype)\n",
    "norm_fx0 = norm(fx0, ord=2)\n",
    "print(f\"Original system size: {RRsystem.size}\")\n",
    "print(f\"Initial state: |x_0| = {norm_x0} ## |f(x_0)| = {norm_fx0}\")"
   ]
  },
  {
   "cell_type": "code",
   "execution_count": 17,
   "id": "d27083a3-168b-4af9-ab6d-9abbb45ba0e0",
   "metadata": {},
   "outputs": [
    {
     "name": "stdout",
     "output_type": "stream",
     "text": [
      "0.4\n"
     ]
    }
   ],
   "source": [
    "## Defining time frame\n",
    "t0 = 0.0; t1 = 0.4; tstep = (t1-t0)/200; print(t1)"
   ]
  },
  {
   "cell_type": "code",
   "execution_count": 27,
   "id": "b1161d31-aa62-4977-8391-2e4885e3b5b8",
   "metadata": {},
   "outputs": [
    {
     "name": "stdout",
     "output_type": "stream",
     "text": [
      "CPU times: user 133 ms, sys: 10 ms, total: 143 ms\n",
      "Wall time: 141 ms\n"
     ]
    }
   ],
   "source": [
    "%time simulation = system.simulate(t0,t1,x0,tstep,method=\"LSODA\")"
   ]
  },
  {
   "cell_type": "code",
   "execution_count": 28,
   "id": "507ea67e-4bec-4337-8f55-c555bc203880",
   "metadata": {},
   "outputs": [
    {
     "name": "stdout",
     "output_type": "stream",
     "text": [
      "CPU times: user 12.7 ms, sys: 10.2 ms, total: 22.9 ms\n",
      "Wall time: 22.1 ms\n"
     ]
    },
    {
     "data": {
      "image/png": "[encoded data removed]",
      "text/plain": [
       "<Figure size 800x400 with 1 Axes>"
      ]
     },
     "metadata": {},
     "output_type": "display_data"
    }
   ],
   "source": [
    "%time fig = create_figure(simulation, legend=False, format=\"-\");"
   ]
  },
  {
   "cell_type": "markdown",
   "id": "6c7f9270-4fb8-4b26-aae0-b9f6b08410e3",
   "metadata": {
    "jp-MarkdownHeadingCollapsed": true,
    "tags": []
   },
   "source": [
    "### BIO...023 ($t_1 = 20$)"
   ]
  },
  {
   "cell_type": "code",
   "execution_count": 29,
   "id": "0aeb1782-6e1b-47af-af1a-b4d210077b02",
   "metadata": {},
   "outputs": [
    {
     "name": "stdout",
     "output_type": "stream",
     "text": [
      "Original system size: 13\n",
      "Initial state: |x_0| = 9.060353193998564 ## |f(x_0)| = 2.6939399505014583\n"
     ]
    }
   ],
   "source": [
    "example = get_example(\"BIOMD0000000023\")\n",
    "system = FODESystem(file=example.path_model(), read_ic = True, parser=example.read).remove_parameters_ic()\n",
    "RRsystem = FODESystem(file=example.path_model(), read_ic = True, parser=example.read, field = RR).remove_parameters_ic()\n",
    "x0 = array([float(RRsystem.ic.get(v, 0)) for v in RRsystem.variables])\n",
    "norm_x0 = norm(x0, ord=2)\n",
    "fx0 = array(RRsystem.derivative(..., *x0), dtype=x0.dtype)\n",
    "norm_fx0 = norm(fx0, ord=2)\n",
    "print(f\"Original system size: {RRsystem.size}\")\n",
    "print(f\"Initial state: |x_0| = {norm_x0} ## |f(x_0)| = {norm_fx0}\")"
   ]
  },
  {
   "cell_type": "code",
   "execution_count": 30,
   "id": "82151750-1638-4333-ad01-9173a70c557a",
   "metadata": {},
   "outputs": [],
   "source": [
    "## Defining time frame\n",
    "t0 = 0.0; t1 = 20.0; tstep = (t1-t0)/200"
   ]
  },
  {
   "cell_type": "code",
   "execution_count": 31,
   "id": "6768c6bc-b5b3-47b9-a1b8-b067466ce4de",
   "metadata": {},
   "outputs": [
    {
     "name": "stdout",
     "output_type": "stream",
     "text": [
      "CPU times: user 9.85 ms, sys: 0 ns, total: 9.85 ms\n",
      "Wall time: 10.1 ms\n"
     ]
    }
   ],
   "source": [
    "%time simulation = RRsystem.simulate(t0,t1,x0,tstep)"
   ]
  },
  {
   "cell_type": "code",
   "execution_count": 32,
   "id": "f935dad3-b867-47b8-a75c-67195418a590",
   "metadata": {},
   "outputs": [
    {
     "name": "stdout",
     "output_type": "stream",
     "text": [
      "CPU times: user 16 ms, sys: 19 µs, total: 16 ms\n",
      "Wall time: 15.3 ms\n"
     ]
    },
    {
     "data": {
      "image/png": "[encoded data removed]",
      "text/plain": [
       "<Figure size 800x400 with 1 Axes>"
      ]
     },
     "metadata": {},
     "output_type": "display_data"
    }
   ],
   "source": [
    "%time fig = create_figure(simulation, legend=False, format=\"-\");"
   ]
  },
  {
   "cell_type": "markdown",
   "id": "46e857a3-ceaf-477c-8626-48d99b67bfd1",
   "metadata": {
    "jp-MarkdownHeadingCollapsed": true,
    "tags": []
   },
   "source": [
    "### BIO...113 ($t_1 = 1$)"
   ]
  },
  {
   "cell_type": "code",
   "execution_count": 33,
   "id": "0bbdb360-f186-476d-b829-0e009fbbee63",
   "metadata": {},
   "outputs": [
    {
     "name": "stdout",
     "output_type": "stream",
     "text": [
      "Original system size: 6\n",
      "Initial state: |x_0| = 2.1406774628607645 ## |f(x_0)| = 6.889146250310192\n"
     ]
    }
   ],
   "source": [
    "example = get_example(\"BIOMD0000000113\")\n",
    "system = FODESystem(file=example.path_model(), read_ic = True, parser=example.read).remove_parameters_ic()\n",
    "RRsystem = FODESystem(file=example.path_model(), read_ic = True, parser=example.read, field = RR).remove_parameters_ic()\n",
    "x0 = array([float(RRsystem.ic.get(v, 0)) for v in RRsystem.variables])\n",
    "norm_x0 = norm(x0, ord=2)\n",
    "fx0 = array(RRsystem.derivative(..., *x0), dtype=x0.dtype)\n",
    "norm_fx0 = norm(fx0, ord=2)\n",
    "print(f\"Original system size: {RRsystem.size}\")\n",
    "print(f\"Initial state: |x_0| = {norm_x0} ## |f(x_0)| = {norm_fx0}\")"
   ]
  },
  {
   "cell_type": "code",
   "execution_count": 40,
   "id": "8fcf4d64-7870-40a1-969d-efbeb744cde9",
   "metadata": {},
   "outputs": [],
   "source": [
    "## Defining time frame\n",
    "t0 = 0.0; t1 = 1; tstep = (t1-t0)/200"
   ]
  },
  {
   "cell_type": "code",
   "execution_count": 41,
   "id": "878f64d8-b7c2-401f-95fc-4fd87c43ff99",
   "metadata": {},
   "outputs": [
    {
     "name": "stdout",
     "output_type": "stream",
     "text": [
      "CPU times: user 27.9 ms, sys: 0 ns, total: 27.9 ms\n",
      "Wall time: 26.8 ms\n"
     ]
    }
   ],
   "source": [
    "%time simulation = RRsystem.simulate(t0,t1,x0,tstep)"
   ]
  },
  {
   "cell_type": "code",
   "execution_count": 42,
   "id": "9668d3c8-9747-41a6-aacf-56fbae823397",
   "metadata": {},
   "outputs": [
    {
     "name": "stdout",
     "output_type": "stream",
     "text": [
      "CPU times: user 18.9 ms, sys: 0 ns, total: 18.9 ms\n",
      "Wall time: 18.2 ms\n"
     ]
    },
    {
     "data": {
      "image/png": "[encoded data removed]",
      "text/plain": [
       "<Figure size 800x400 with 1 Axes>"
      ]
     },
     "metadata": {},
     "output_type": "display_data"
    }
   ],
   "source": [
    "%time fig = create_figure(simulation, legend=True, format=\"-\");"
   ]
  },
  {
   "cell_type": "markdown",
   "id": "583ff68e-d342-4138-a644-6054eca8ab96",
   "metadata": {
    "jp-MarkdownHeadingCollapsed": true,
    "tags": []
   },
   "source": [
    "### BIO...182 ($t_1 = 0.01$)(lumping slow)"
   ]
  },
  {
   "cell_type": "code",
   "execution_count": 73,
   "id": "31b890b5-522f-4c5c-a265-bb03739dd2c3",
   "metadata": {},
   "outputs": [
    {
     "name": "stdout",
     "output_type": "stream",
     "text": [
      "Original system size: 36\n",
      "Initial state: |x_0| = 4256787.674822413 ## |f(x_0)| = 12708187010.319235\n"
     ]
    }
   ],
   "source": [
    "example = get_example(\"BIOMD0000000182\")\n",
    "system = FODESystem(file=example.path_model(), read_ic = True, parser=example.read).remove_parameters_ic()\n",
    "RRsystem = FODESystem(file=example.path_model(), read_ic = True, parser=example.read, field = RR).remove_parameters_ic()\n",
    "x0 = array([float(RRsystem.ic.get(v, 0)) for v in RRsystem.variables])\n",
    "norm_x0 = norm(x0, ord=2)\n",
    "fx0 = array(RRsystem.derivative(..., *x0), dtype=x0.dtype)\n",
    "norm_fx0 = norm(fx0, ord=2)\n",
    "print(f\"Original system size: {RRsystem.size}\")\n",
    "print(f\"Initial state: |x_0| = {norm_x0} ## |f(x_0)| = {norm_fx0}\")"
   ]
  },
  {
   "cell_type": "code",
   "execution_count": 74,
   "id": "dbe1a01e-f5b2-43eb-8222-0206e769d93d",
   "metadata": {},
   "outputs": [
    {
     "name": "stdout",
     "output_type": "stream",
     "text": [
      "0.01\n"
     ]
    }
   ],
   "source": [
    "## Defining time frame\n",
    "t0 = 0.0; t1 = 0.01; tstep = (t1-t0)/200; print(t1)"
   ]
  },
  {
   "cell_type": "code",
   "execution_count": 75,
   "id": "24c0e1e4-6f7a-4a68-986c-61aaa51d881d",
   "metadata": {},
   "outputs": [
    {
     "name": "stdout",
     "output_type": "stream",
     "text": [
      "CPU times: user 691 ms, sys: 0 ns, total: 691 ms\n",
      "Wall time: 691 ms\n"
     ]
    }
   ],
   "source": [
    "%time simulation = RRsystem.simulate(t0,t1,x0,tstep)"
   ]
  },
  {
   "cell_type": "code",
   "execution_count": 76,
   "id": "28aec4ad-0aff-4f62-8d85-b5276bb47736",
   "metadata": {},
   "outputs": [
    {
     "name": "stdout",
     "output_type": "stream",
     "text": [
      "CPU times: user 26.1 ms, sys: 0 ns, total: 26.1 ms\n",
      "Wall time: 24.7 ms\n"
     ]
    },
    {
     "data": {
      "image/png": "[encoded data removed]",
      "text/plain": [
       "<Figure size 800x400 with 1 Axes>"
      ]
     },
     "metadata": {},
     "output_type": "display_data"
    }
   ],
   "source": [
    "%time fig = create_figure(simulation, legend=False, format=\"-\");"
   ]
  },
  {
   "cell_type": "markdown",
   "id": "89474ee5-ae78-459b-a514-9d407a2770e4",
   "metadata": {
    "jp-MarkdownHeadingCollapsed": true,
    "tags": []
   },
   "source": [
    "### BIO...313 ($t_1=2$)"
   ]
  },
  {
   "cell_type": "code",
   "execution_count": 77,
   "id": "4173b4bb-6126-4209-9e23-354e855396be",
   "metadata": {},
   "outputs": [
    {
     "name": "stdout",
     "output_type": "stream",
     "text": [
      "Original system size: 17\n",
      "Initial state: |x_0| = 219.8375018871894 ## |f(x_0)| = 24.32356322749757\n"
     ]
    }
   ],
   "source": [
    "example = get_example(\"BIOMD0000000313\")\n",
    "system = FODESystem(file=example.path_model(), read_ic = True, parser=example.read).remove_parameters_ic()\n",
    "RRsystem = FODESystem(file=example.path_model(), read_ic = True, parser=example.read, field = RR).remove_parameters_ic()\n",
    "x0 = array([float(RRsystem.ic.get(v, 0)) for v in RRsystem.variables])\n",
    "norm_x0 = norm(x0, ord=2)\n",
    "fx0 = array(RRsystem.derivative(..., *x0), dtype=x0.dtype)\n",
    "norm_fx0 = norm(fx0, ord=2)\n",
    "print(f\"Original system size: {RRsystem.size}\")\n",
    "print(f\"Initial state: |x_0| = {norm_x0} ## |f(x_0)| = {norm_fx0}\")"
   ]
  },
  {
   "cell_type": "code",
   "execution_count": 84,
   "id": "0e694821-3691-4cbe-9cd6-499417e2500b",
   "metadata": {},
   "outputs": [],
   "source": [
    "## Defining time frame\n",
    "t0 = 0.0; t1 = 2.0; tstep = (t1-t0)/200"
   ]
  },
  {
   "cell_type": "code",
   "execution_count": 85,
   "id": "84af08c6-69a0-4143-86cc-5a1b16e7c9bc",
   "metadata": {},
   "outputs": [
    {
     "name": "stdout",
     "output_type": "stream",
     "text": [
      "CPU times: user 4.68 ms, sys: 0 ns, total: 4.68 ms\n",
      "Wall time: 4.28 ms\n"
     ]
    }
   ],
   "source": [
    "%time simulation = RRsystem.simulate(t0,t1,x0,tstep)"
   ]
  },
  {
   "cell_type": "code",
   "execution_count": 86,
   "id": "7e12aae4-c8e4-4d77-b6ae-85e434a115ba",
   "metadata": {},
   "outputs": [
    {
     "name": "stdout",
     "output_type": "stream",
     "text": [
      "CPU times: user 17.6 ms, sys: 0 ns, total: 17.6 ms\n",
      "Wall time: 16.9 ms\n"
     ]
    },
    {
     "data": {
      "image/png": "[encoded data removed]",
      "text/plain": [
       "<Figure size 800x400 with 1 Axes>"
      ]
     },
     "metadata": {},
     "output_type": "display_data"
    }
   ],
   "source": [
    "%time fig = create_figure(simulation, legend=False, format=\"-\");"
   ]
  },
  {
   "cell_type": "markdown",
   "id": "0396f896-e3f9-41e2-895c-693d3b3104db",
   "metadata": {
    "jp-MarkdownHeadingCollapsed": true,
    "tags": []
   },
   "source": [
    "### BIO...448 ($t_1 = 0.0001$)"
   ]
  },
  {
   "cell_type": "code",
   "execution_count": 87,
   "id": "5d95b058-c904-48cf-b7cb-26c9f89d55c9",
   "metadata": {},
   "outputs": [
    {
     "name": "stdout",
     "output_type": "stream",
     "text": [
      "Original system size: 27\n",
      "Initial state: |x_0| = 285.97887054252095 ## |f(x_0)| = 121558889085.96109\n"
     ]
    }
   ],
   "source": [
    "example = get_example(\"BIOMD0000000448\")\n",
    "system = FODESystem(file=example.path_model(), read_ic = True, parser=example.read).remove_parameters_ic()\n",
    "RRsystem = FODESystem(file=example.path_model(), read_ic = True, parser=example.read, field = RR).remove_parameters_ic()\n",
    "x0 = array([float(RRsystem.ic.get(v, 0)) for v in RRsystem.variables])\n",
    "norm_x0 = norm(x0, ord=2)\n",
    "fx0 = array(RRsystem.derivative(..., *x0), dtype=x0.dtype)\n",
    "norm_fx0 = norm(fx0, ord=2)\n",
    "print(f\"Original system size: {RRsystem.size}\")\n",
    "print(f\"Initial state: |x_0| = {norm_x0} ## |f(x_0)| = {norm_fx0}\")"
   ]
  },
  {
   "cell_type": "code",
   "execution_count": 100,
   "id": "d09d296d-440c-44bf-9c2a-539748e64c38",
   "metadata": {},
   "outputs": [
    {
     "name": "stdout",
     "output_type": "stream",
     "text": [
      "0.0001\n"
     ]
    }
   ],
   "source": [
    "## Defining time frame\n",
    "t0 = 0.0; t1 = 1e-4; tstep = (t1-t0)/200; print(t1)"
   ]
  },
  {
   "cell_type": "code",
   "execution_count": 101,
   "id": "aedd78e9-4147-4aec-a53e-9b9fabd33acd",
   "metadata": {},
   "outputs": [
    {
     "name": "stdout",
     "output_type": "stream",
     "text": [
      "CPU times: user 16.4 s, sys: 5.04 ms, total: 16.5 s\n",
      "Wall time: 16.4 s\n"
     ]
    }
   ],
   "source": [
    "%time simulation = RRsystem.simulate(t0,t1,x0,tstep)"
   ]
  },
  {
   "cell_type": "code",
   "execution_count": 102,
   "id": "df054789-d217-46de-b9e7-e7e276fb1825",
   "metadata": {},
   "outputs": [
    {
     "name": "stdout",
     "output_type": "stream",
     "text": [
      "CPU times: user 22.7 ms, sys: 0 ns, total: 22.7 ms\n",
      "Wall time: 21.8 ms\n"
     ]
    },
    {
     "data": {
      "image/png": "[encoded data removed]",
      "text/plain": [
       "<Figure size 800x400 with 1 Axes>"
      ]
     },
     "metadata": {},
     "output_type": "display_data"
    }
   ],
   "source": [
    "%time fig = create_figure(simulation, legend=False, format=\"-\");"
   ]
  },
  {
   "cell_type": "markdown",
   "id": "8f4b3188-3789-4f13-919b-b505a318c70c",
   "metadata": {
    "jp-MarkdownHeadingCollapsed": true,
    "tags": []
   },
   "source": [
    "### BIO...526 ($t_1 = 0.1$)"
   ]
  },
  {
   "cell_type": "code",
   "execution_count": 103,
   "id": "6ce72ebf-3b95-47e8-98a4-eac59e59a1ad",
   "metadata": {},
   "outputs": [
    {
     "name": "stdout",
     "output_type": "stream",
     "text": [
      "Original system size: 18\n",
      "Initial state: |x_0| = 3836.0085453502315 ## |f(x_0)| = 2449.671993477863\n"
     ]
    }
   ],
   "source": [
    "example = get_example(\"BIOMD0000000526\")\n",
    "system = FODESystem(file=example.path_model(), read_ic = True, parser=example.read).remove_parameters_ic()\n",
    "RRsystem = FODESystem(file=example.path_model(), read_ic = True, parser=example.read, field = RR).remove_parameters_ic()\n",
    "x0 = array([float(RRsystem.ic.get(v, 0)) for v in RRsystem.variables])\n",
    "norm_x0 = norm(x0, ord=2)\n",
    "fx0 = array(RRsystem.derivative(..., *x0), dtype=x0.dtype)\n",
    "norm_fx0 = norm(fx0, ord=2)\n",
    "print(f\"Original system size: {RRsystem.size}\")\n",
    "print(f\"Initial state: |x_0| = {norm_x0} ## |f(x_0)| = {norm_fx0}\")"
   ]
  },
  {
   "cell_type": "code",
   "execution_count": 110,
   "id": "ecb25333-5997-4dbe-8189-409d25c28bd2",
   "metadata": {},
   "outputs": [
    {
     "name": "stdout",
     "output_type": "stream",
     "text": [
      "0.1\n"
     ]
    }
   ],
   "source": [
    "## Defining time frame\n",
    "t0 = 0.0; t1 = 0.1; tstep = (t1-t0)/200; print(t1)"
   ]
  },
  {
   "cell_type": "code",
   "execution_count": 111,
   "id": "b73f9670-8162-435b-a60b-344b64e21d94",
   "metadata": {},
   "outputs": [
    {
     "name": "stdout",
     "output_type": "stream",
     "text": [
      "CPU times: user 39.6 ms, sys: 0 ns, total: 39.6 ms\n",
      "Wall time: 39.5 ms\n"
     ]
    }
   ],
   "source": [
    "%time simulation = RRsystem.simulate(t0,t1,x0,tstep)"
   ]
  },
  {
   "cell_type": "code",
   "execution_count": 112,
   "id": "8cd3273a-c569-4396-a464-60d81a4660e9",
   "metadata": {},
   "outputs": [
    {
     "name": "stdout",
     "output_type": "stream",
     "text": [
      "CPU times: user 8.44 ms, sys: 8.92 ms, total: 17.4 ms\n",
      "Wall time: 16.5 ms\n"
     ]
    },
    {
     "data": {
      "image/png": "[encoded data removed]",
      "text/plain": [
       "<Figure size 800x400 with 1 Axes>"
      ]
     },
     "metadata": {},
     "output_type": "display_data"
    }
   ],
   "source": [
    "%time fig = create_figure(simulation, legend=False, format=\"-\");"
   ]
  },
  {
   "cell_type": "markdown",
   "id": "72d42b07-a108-4028-8351-ea52a60a6cc3",
   "metadata": {
    "jp-MarkdownHeadingCollapsed": true,
    "tags": []
   },
   "source": [
    "### MODEL1502270000 (simulation and lumping slow)"
   ]
  },
  {
   "cell_type": "code",
   "execution_count": 113,
   "id": "9c8f1790-543e-432d-bf51-6e0fc7029108",
   "metadata": {},
   "outputs": [
    {
     "name": "stdout",
     "output_type": "stream",
     "text": [
      "Original system size: 22\n",
      "Initial state: |x_0| = 1000.0499987500625 ## |f(x_0)| = 651780122.0605216\n"
     ]
    }
   ],
   "source": [
    "example = get_example(\"MODEL1502270000\")\n",
    "system = FODESystem(file=example.path_model(), read_ic = True, parser=example.read).remove_parameters_ic()\n",
    "RRsystem = FODESystem(file=example.path_model(), read_ic = True, parser=example.read, field = RR).remove_parameters_ic()\n",
    "x0 = array([float(RRsystem.ic.get(v, 0)) for v in RRsystem.variables])\n",
    "norm_x0 = norm(x0, ord=2)\n",
    "fx0 = array(RRsystem.derivative(..., *x0), dtype=x0.dtype)\n",
    "norm_fx0 = norm(fx0, ord=2)\n",
    "print(f\"Original system size: {RRsystem.size}\")\n",
    "print(f\"Initial state: |x_0| = {norm_x0} ## |f(x_0)| = {norm_fx0}\")"
   ]
  },
  {
   "cell_type": "code",
   "execution_count": 142,
   "id": "ee203f2b-6782-4ae2-9029-8420072a6318",
   "metadata": {},
   "outputs": [
    {
     "name": "stdout",
     "output_type": "stream",
     "text": [
      "1.0739818173451459e-07\n"
     ]
    }
   ],
   "source": [
    "## Defining time frame\n",
    "t0 = 0.0; t1 = 70/norm_fx0; tstep = (t1-t0)/200; print(t1)"
   ]
  },
  {
   "cell_type": "code",
   "execution_count": 143,
   "id": "c5c06d42-f3ef-49d5-8653-b0a9b239eb76",
   "metadata": {},
   "outputs": [
    {
     "name": "stdout",
     "output_type": "stream",
     "text": [
      "CPU times: user 16 ms, sys: 0 ns, total: 16 ms\n",
      "Wall time: 15.3 ms\n"
     ]
    }
   ],
   "source": [
    "%time simulation = RRsystem.simulate(t0,t1,x0,tstep)"
   ]
  },
  {
   "cell_type": "code",
   "execution_count": 144,
   "id": "ec6e502f-11f7-4b80-b0fa-2d502c55b17a",
   "metadata": {},
   "outputs": [
    {
     "name": "stdout",
     "output_type": "stream",
     "text": [
      "CPU times: user 19.7 ms, sys: 0 ns, total: 19.7 ms\n",
      "Wall time: 19 ms\n"
     ]
    },
    {
     "data": {
      "image/png": "[encoded data removed]",
      "text/plain": [
       "<Figure size 800x400 with 1 Axes>"
      ]
     },
     "metadata": {},
     "output_type": "display_data"
    }
   ],
   "source": [
    "%time fig = create_figure(simulation, legend=False, format=\"-\");"
   ]
  }
 ],
 "metadata": {
  "kernelspec": {
   "display_name": "Python 3 (ipykernel)",
   "language": "python",
   "name": "python3"
  },
  "language_info": {
   "codemirror_mode": {
    "name": "ipython",
    "version": 3
   },
   "file_extension": ".py",
   "mimetype": "text/x-python",
   "name": "python",
   "nbconvert_exporter": "python",
   "pygments_lexer": "ipython3",
   "version": "3.11.0"
  }
 },
 "nbformat": 4,
 "nbformat_minor": 5
}
