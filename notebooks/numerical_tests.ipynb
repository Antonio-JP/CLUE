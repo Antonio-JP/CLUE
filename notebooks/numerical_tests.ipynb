{
 "cells": [
  {
   "cell_type": "markdown",
   "id": "cae3e667-bc5c-42f4-956d-0662add1c48b",
   "metadata": {},
   "source": [
    "# **Tests for Numerical CLUE**\n",
    "\n",
    "In this notebook we are going to test out (with several examples) how the implementation of numerical CLUE works on different type of examples:\n",
    "\n",
    "* Basic polynomial examples (for shake of testing the code)\n",
    "* Rational examples (this will be an improvement from the ERODE current implementation)\n",
    "\n",
    "For each of the models we are going to perform several tests:\n",
    "\n",
    "- With the **exact model**: \n",
    "  * We increase the $\\delta$ threshold slowly until we aggregate everything together. This produces two different graphical values:\n",
    "    1. Given $\\delta$, the number of reduced species. \n",
    "    2. Given $\\delta$, the error of the observed species.\n",
    "- We **perturb the model** using a small random noise:\n",
    "  * We check if we manage to obtain the original reduction for some $\\delta$.\n",
    "  * We check if the observed quantity is close to the **true** value.\n",
    "  \n",
    "Since we need to perform similar runs for different models, the notebook will start with a section dedicated to set up generic functions to run each of the tests. Then, further sections will run these generic functions for specific models with small comments on the results.\n"
   ]
  },
  {
   "cell_type": "code",
   "execution_count": 22,
   "id": "90e5e2ee-abb9-4f9a-b48b-631530ba5959",
   "metadata": {},
   "outputs": [],
   "source": [
    "## Adding appropriate paths for loading examples\n",
    "import sys, os\n",
    "\n",
    "sys.path.insert(0,\"./../\") # clue and models are here\n",
    "sys.path.insert(0, \"./../tests\") # eramples is here\n",
    "\n",
    "from clue import *\n",
    "from clue.simulations import *\n",
    "from examples.examples_data import *\n",
    "from math import ceil, log10\n",
    "from numpy import array, matmul\n",
    "from numpy.linalg import pinv, norm, det\n",
    "from scipy.optimize._optimize import OptimizeResult\n",
    "from typing import Collection"
   ]
  },
  {
   "cell_type": "markdown",
   "id": "d2018d1f-b4f5-441b-83ef-efd23bf6b5e6",
   "metadata": {},
   "source": [
    "## 1. Generic testing functions"
   ]
  },
  {
   "cell_type": "code",
   "execution_count": 2,
   "id": "a4dc4d53-1d0d-4750-85a7-301540327304",
   "metadata": {},
   "outputs": [],
   "source": [
    "def run_exact_test(example_name: str, # argument for name\n",
    "                   init_delta: float = 0.0, increase_delta: float = 0.1, # arguments for evolution on delta\n",
    "                   t0: float = 0.0, t1: float = 1.0, x0: Collection[float] = None, tstep: float = None,  # arguments for simulations\n",
    "                   measure=\"l2avg\" # measure to be use for errors\n",
    "):\n",
    "    ## Processing the input\n",
    "    increase_log10 = log10(increase_delta)\n",
    "    if increase_log10 < 0: # the increase is smaller than 1\n",
    "        rounding = ceil(-increase_log10)\n",
    "    else: # the increase is bigger than 1\n",
    "        rounding = 2\n",
    "    \n",
    "    ## Getting the example\n",
    "    example = get_example(example_name)\n",
    "    system = FODESystem(file=example.path_model(), read_ic = True, parser=example.read)\n",
    "    \n",
    "    ## Creating observables\n",
    "    observables = [[SparsePolynomial.from_string(s, system.variables, system.field) for s in obs_set] for obs_set in example.observables]\n",
    "    \n",
    "    ## Computing the true lumpings for each observable\n",
    "    print(\"[exact_test] Computing the exact lumpings...\", end=\" \")\n",
    "    lumped_systems = [system.lumping(obs_polys, method=example.matrix, print_system=False,print_reduction=False) for obs_polys in observables]\n",
    "    print(f\"Done! {[sys.size for sys in lumped_systems]}\")\n",
    "    \n",
    "    print(\"[exact_test] Computing the numerical lumpings...\")\n",
    "    delta = init_delta; increase = increase_delta; key = None\n",
    "    numerical_lumpings = dict()\n",
    "    while len(numerical_lumpings) == 0 or any(numerical_lumpings[key][i].size > len(example.observables[i]) for i in range(len(numerical_lumpings[key]))):\n",
    "        key = round(delta, rounding)\n",
    "        print(f\"\\t- Running case with {delta=}...\", end=\" \")\n",
    "        num_system = FODESystem(file=example.path_model(), parser=example.read, lumping_subspace=NumericalSubspace, lumping_subspace_kwds={\"delta\": delta})\n",
    "        numerical_lumpings[key] = [num_system.lumping(obs_polys, method=example.matrix, print_system=False, print_reduction=False) for obs_polys in observables]\n",
    "        print(f\"Done!! {[sys.size for sys in numerical_lumpings[key]]}\")\n",
    "        delta += increase\n",
    "    print(\"[exact_test] Done numerical lumpings\")\n",
    "    \n",
    "    ## Producing the graph for size reduction\n",
    "    deltas = list(numerical_lumpings.keys())\n",
    "    names = [str(obs_polys) for obs_polys in observables]\n",
    "    sizes = [[numerical_lumpings[delta][i].size for delta in deltas] for i in range(len(names))]\n",
    "    delta_vs_size = OptimizeResult(t=array(deltas), y=array(sizes), names=names, success=True)\n",
    "    \n",
    "    ## producing the simulations\n",
    "    if t0 > t1: t0,t1 = t1,t0\n",
    "    x0 = [system.ic.get(v, 0) for v in system.variables] if x0 is None else x0; x0 = array(x0)\n",
    "    tstep = (t1-t0)/200 if tstep is None else tstep\n",
    "    \n",
    "    print(\"[exact_test] Computing simulation for real system...\", end=\" \")\n",
    "    real_simulation = system.simulate(t0, t1, x0, tstep)\n",
    "    observables_matrices = [array([poly.linear_part_as_vec() for poly in obs]).astype(\"float\") for obs in observables]\n",
    "    real_obs_alone = [apply_matrix(real_simulation, O) for O in observables_matrices]\n",
    "    print(\"Done\")\n",
    "    \n",
    "    numerical_errors = dict()\n",
    "    for delta in numerical_lumpings:\n",
    "        print(f\"\\t- Computing simulation for {delta=}...\", end =\" \")\n",
    "        errors = []\n",
    "        for i, O in enumerate(observables_matrices):\n",
    "            lsystem = numerical_lumpings[delta][i]\n",
    "            lx0 = matmul(lsystem.lumping_matrix, x0)\n",
    "            numerical_sim = lsystem.simulate(t0,t1,lx0,tstep)\n",
    "            numerical_sim = apply_matrix(numerical_sim, matmul(O, pinv(lsystem.lumping_matrix.astype(\"float\"))))\n",
    "            errors.append(norm(compare_simulations(real_obs_alone[i], numerical_sim, measures=measure)[1][0]))\n",
    "        numerical_errors[delta] = errors\n",
    "        print(\"Done!!\")\n",
    "        \n",
    "    errors = array([[numerical_errors[delta][i] for delta in numerical_errors] for i in range(len(names))])\n",
    "    delta_vs_error_obs = OptimizeResult(t=array(deltas), y=array(errors), names=names, success=True)\n",
    "        \n",
    "        \n",
    "    return (system, lumped_systems, numerical_lumpings), (delta_vs_size, delta_vs_error_obs)"
   ]
  },
  {
   "cell_type": "code",
   "execution_count": 3,
   "id": "987f2b49-66ab-4d00-b84a-c6f71170d18e",
   "metadata": {},
   "outputs": [
    {
     "name": "stdout",
     "output_type": "stream",
     "text": [
      "[exact_test] Computing the exact lumpings... Done! [12]\n",
      "[exact_test] Computing the numerical lumpings...\n",
      "\t- Running case with delta=1.5... Done!! [12]\n",
      "\t- Running case with delta=1.6... Done!! [12]\n",
      "\t- Running case with delta=1.7000000000000002... Done!! [10]\n",
      "\t- Running case with delta=1.8000000000000003... Done!! [10]\n",
      "\t- Running case with delta=1.9000000000000004... Done!! [10]\n",
      "\t- Running case with delta=2.0000000000000004... Done!! [9]\n",
      "\t- Running case with delta=2.1000000000000005... Done!! [9]\n",
      "\t- Running case with delta=2.2000000000000006... Done!! [9]\n",
      "\t- Running case with delta=2.3000000000000007... Done!! [9]\n",
      "\t- Running case with delta=2.400000000000001... Done!! [8]\n",
      "\t- Running case with delta=2.500000000000001... Done!! [8]\n",
      "\t- Running case with delta=2.600000000000001... Done!! [8]\n",
      "\t- Running case with delta=2.700000000000001... Done!! [8]\n",
      "\t- Running case with delta=2.800000000000001... Done!! [8]\n",
      "\t- Running case with delta=2.9000000000000012... Done!! [7]\n",
      "\t- Running case with delta=3.0000000000000013... Done!! [7]\n",
      "\t- Running case with delta=3.1000000000000014... Done!! [3]\n",
      "\t- Running case with delta=3.2000000000000015... Done!! [2]\n",
      "[exact_test] Done numerical lumpings\n",
      "[exact_test] Computing simulation for real system... Done\n",
      "\t- Computing simulation for delta=1.5... Done!!\n",
      "\t- Computing simulation for delta=1.6... Done!!\n",
      "\t- Computing simulation for delta=1.7... Done!!\n",
      "\t- Computing simulation for delta=1.8... Done!!\n",
      "\t- Computing simulation for delta=1.9... Done!!\n",
      "\t- Computing simulation for delta=2.0... Done!!\n",
      "\t- Computing simulation for delta=2.1... Done!!\n",
      "\t- Computing simulation for delta=2.2... Done!!\n",
      "\t- Computing simulation for delta=2.3... Done!!\n",
      "\t- Computing simulation for delta=2.4... Done!!\n",
      "\t- Computing simulation for delta=2.5... Done!!\n",
      "\t- Computing simulation for delta=2.6... Done!!\n",
      "\t- Computing simulation for delta=2.7... Done!!\n",
      "\t- Computing simulation for delta=2.8... Done!!\n",
      "\t- Computing simulation for delta=2.9... Done!!\n",
      "\t- Computing simulation for delta=3.0... Done!!\n",
      "\t- Computing simulation for delta=3.1... Done!!\n",
      "\t- Computing simulation for delta=3.2... Done!!\n"
     ]
    }
   ],
   "source": [
    "(system, lumped, numerical), graphs = run_exact_test(\"ProteinPhosphorylation[2]\", 1.5, 0.1, t0=0.0, t1=0.00125)"
   ]
  },
  {
   "cell_type": "code",
   "execution_count": 4,
   "id": "318fe362-431c-4d0a-b351-32bdd32fe6a9",
   "metadata": {},
   "outputs": [
    {
     "data": {
      "image/png": "[encoded data removed]",
      "text/plain": [
       "<Figure size 1600x400 with 2 Axes>"
      ]
     },
     "execution_count": 4,
     "metadata": {},
     "output_type": "execute_result"
    },
    {
     "data": {
      "image/png": "[encoded data removed]",
      "text/plain": [
       "<Figure size 1600x400 with 2 Axes>"
      ]
     },
     "metadata": {},
     "output_type": "display_data"
    }
   ],
   "source": [
    "create_figure(graphs, title=[\"Reduction size\", \"Reduction error\"], format=[\"-o\", \"-\"])"
   ]
  },
  {
   "cell_type": "code",
   "execution_count": 6,
   "id": "9cad7ea3-10f4-44d5-b215-56e51d1f08ef",
   "metadata": {},
   "outputs": [],
   "source": [
    "# example for testing\n",
    "example_name = \"ProteinPhosphorylation[2]\"\n",
    "example = get_example(example_name)\n",
    "observables = [[SparsePolynomial.from_string(s, system.variables, system.field) for s in obs_set] for obs_set in example.observables]\n",
    "init = [system.ic.get(v, 0) for v in system.variables]; init\n",
    "obs = array([poly.linear_part_as_vec() for poly in observables[0]]).astype(\"float\")"
   ]
  },
  {
   "cell_type": "code",
   "execution_count": 16,
   "id": "d9f7dd1a-f8f2-40d7-9e6a-ca062e07f85c",
   "metadata": {},
   "outputs": [],
   "source": [
    "lumped = system.lumping(observables[0], print_system=False, print_reduction=False)\n",
    "olumped = FODESystem(file=example.path_model(), parser=example.read, lumping_subspace=OrthogonalSubspace).lumping(observables[0], print_system=False, print_reduction=False)"
   ]
  },
  {
   "cell_type": "code",
   "execution_count": 19,
   "id": "db27b22b-775f-4893-a909-f80d6a26ba8b",
   "metadata": {},
   "outputs": [],
   "source": [
    "L1 = lumped.lumping_matrix.astype(\"float\")\n",
    "L2 = olumped.lumping_matrix.astype(\"float\")\n",
    "T = matmul(L2, pinv(L1))"
   ]
  },
  {
   "cell_type": "code",
   "execution_count": 26,
   "id": "be1d1f31-39d2-48ea-9f5f-b34c35b3c283",
   "metadata": {},
   "outputs": [],
   "source": [
    "sim = apply_matrix(system.simulate(0, 0.00125, init, 0.00125/200), obs)\n",
    "lsim = apply_matrix(lumped.simulate(0, 0.00125, list(matmul(lumped.lumping_matrix, init)), 0.00125/200), matmul(obs, pinv(lumped.lumping_matrix.astype(\"float\"))))\n",
    "osim = apply_matrix(lumped.simulate(0, 0.00125, list(matmul(olumped.lumping_matrix, init)), 0.00125/200), matmul(obs, pinv(olumped.lumping_matrix.astype(\"float\"))))"
   ]
  },
  {
   "cell_type": "code",
   "execution_count": 28,
   "id": "45fc6320-e522-4dbe-9bd3-a84195055afc",
   "metadata": {},
   "outputs": [
    {
     "data": {
      "text/plain": [
       "0.0006653112030631588"
      ]
     },
     "execution_count": 28,
     "metadata": {},
     "output_type": "execute_result"
    }
   ],
   "source": [
    "norm(compare_simulations(sim, lsim, measures=\"l2avg\")[1][0])"
   ]
  },
  {
   "cell_type": "code",
   "execution_count": 33,
   "id": "1da51f97-5ec9-4d2b-b428-fefc0ae3d6ee",
   "metadata": {},
   "outputs": [
    {
     "data": {
      "text/plain": [
       "[-8*y0 + 3/5*y2 + 8*y3 + 2*y4 + 8*y5,\n",
       " -8*y1 - 1/5*y2 + 1/6*y4 + 8*y6 + 5/7*y7 + 8*y8 + 4*y9,\n",
       " 8*y0 - 3/5*y2 - 8*y3 - 7/6*y4 - 4*y5 - 4*y6 + 1/7*y7 - 2*y9 + 8*y10 + 8*y11,\n",
       " 0,\n",
       " 48/5*y0 - 18/25*y2 - 48/5*y3 - 67/30*y4 - 44/5*y5 - 4/5*y6 + 1/35*y7 - 2/5*y9 + 8/5*y10 + 8/5*y11,\n",
       " 0,\n",
       " 0,\n",
       " 8*y1 + 1/5*y2 - 41/36*y4 - 14/3*y5 - 10/3*y6 - 37/42*y7 - 8*y8 - 5/3*y9 - 28/3*y10 - 28/3*y11,\n",
       " 0,\n",
       " 32/7*y1 + 4/35*y2 - 2/21*y4 - 32/7*y6 - 20/49*y7 - 32/7*y8 - 16/7*y9,\n",
       " 0,\n",
       " 0]"
      ]
     },
     "execution_count": 33,
     "metadata": {},
     "output_type": "execute_result"
    }
   ],
   "source": [
    "olumped.equations"
   ]
  },
  {
   "cell_type": "code",
   "execution_count": 30,
   "id": "cfadef5b-efd5-41d9-9a66-5d0be907891a",
   "metadata": {},
   "outputs": [
    {
     "data": {
      "text/plain": [
       "[MPQ(300,1),\n",
       " MPQ(300,1),\n",
       " MPQ(-6000,1),\n",
       " MPQ(-7,10),\n",
       " MPQ(-1200,1),\n",
       " MPQ(8,1),\n",
       " MPQ(81,10),\n",
       " MPQ(1000,1),\n",
       " MPQ(-7,10),\n",
       " MPQ(-3000,7),\n",
       " MPQ(1,1),\n",
       " MPQ(-21,20)]"
      ]
     },
     "execution_count": 30,
     "metadata": {},
     "output_type": "execute_result"
    }
   ],
   "source": [
    "list(matmul(olumped.lumping_matrix, init))"
   ]
  },
  {
   "cell_type": "code",
   "execution_count": 51,
   "id": "ec8ab234-9c16-46a2-bd7f-190f9a132d4d",
   "metadata": {},
   "outputs": [
    {
     "name": "stdout",
     "output_type": "stream",
     "text": [
      "0,0 --> 1.0\n",
      "1,1 --> 1.0\n",
      "2,2 --> 10.0\n",
      "3,3 --> 1.0\n",
      "4,4 --> 9.600000000000001\n",
      "5,5 --> 2.0\n",
      "6,6 --> 2.0\n",
      "7,7 --> 9.333333333333334\n",
      "8,8 --> 1.0\n",
      "9,9 --> 2.2857142857142856\n",
      "10,10 --> 0.5\n",
      "11,11 --> 0.5\n"
     ]
    }
   ],
   "source": [
    "for i in range(len(L2)):\n",
    "    for j in range(len(L2)):\n",
    "        dot = matmul(L2[i], L2[j])\n",
    "        if dot > 1e-15:\n",
    "            print(f\"{i},{j} --> {dot}\")"
   ]
  },
  {
   "cell_type": "code",
   "execution_count": 52,
   "id": "28ca6f6c-c7d9-45a1-b426-bcb343405d62",
   "metadata": {},
   "outputs": [],
   "source": [
    "L2i = array([list(row / matmul(row,row)) for row in L2]).transpose()"
   ]
  },
  {
   "cell_type": "code",
   "execution_count": 54,
   "id": "dfce93ae-dd30-49e6-b82d-aa9032449501",
   "metadata": {},
   "outputs": [
    {
     "data": {
      "text/plain": [
       "1.4158221890023732e-15"
      ]
     },
     "execution_count": 54,
     "metadata": {},
     "output_type": "execute_result"
    }
   ],
   "source": [
    "norm(L2i - pinv(L2))"
   ]
  },
  {
   "cell_type": "code",
   "execution_count": 56,
   "id": "887beabb-d5fd-4078-8802-664eb094aba2",
   "metadata": {},
   "outputs": [
    {
     "data": {
      "text/plain": [
       "array([[MPQ(1,1), 0, 0, 0, 0, 0, 0, 0, 0, 0, 0, 0, 0, 0, 0, 0, 0, 0, 0,\n",
       "        0, 0, 0, 0, 0],\n",
       "       [0, MPQ(1,1), 0, 0, 0, 0, 0, 0, 0, 0, 0, 0, 0, 0, 0, 0, 0, 0, 0,\n",
       "        0, 0, 0, 0, 0],\n",
       "       [0, 0, MPQ(-2,1), MPQ(-1,1), MPQ(-1,1), 0, MPQ(-1,1), MPQ(-1,1),\n",
       "        0, 0, MPQ(-1,1), MPQ(-1,1), 0, 0, 0, 0, 0, 0, 0, 0, 0, 0, 0, 0],\n",
       "       [0, 0, 0, 0, 0, 0, 0, 0, 0, 0, 0, 0, 0, 0, 0, 0, 0, 0, 0, 0, 0, 0,\n",
       "        MPQ(-1,1), 0],\n",
       "       [0, 0, MPQ(-2,5), MPQ(4,5), MPQ(4,5), MPQ(2,1), MPQ(-1,5),\n",
       "        MPQ(-1,5), MPQ(1,1), MPQ(1,1), MPQ(-1,5), MPQ(-1,5), MPQ(1,1), 0,\n",
       "        MPQ(1,1), 0, 0, 0, 0, 0, 0, 0, 0, 0],\n",
       "       [0, 0, 0, 0, 0, 0, 0, 0, 0, 0, 0, 0, 0, 0, 0, 0, 0, 0, MPQ(1,1),\n",
       "        0, MPQ(1,1), 0, 0, 0],\n",
       "       [0, 0, 0, 0, 0, 0, 0, 0, 0, 0, 0, 0, 0, 0, 0, 0, 0, 0, 0,\n",
       "        MPQ(1,1), 0, MPQ(1,1), 0, 0],\n",
       "       [0, 0, MPQ(1,3), MPQ(1,3), MPQ(1,3), MPQ(1,3), MPQ(-5,6),\n",
       "        MPQ(-5,6), MPQ(-5,6), MPQ(-5,6), MPQ(1,6), MPQ(1,6), MPQ(1,6),\n",
       "        MPQ(-2,1), MPQ(1,6), MPQ(-1,1), MPQ(-1,1), 0, 0, 0, 0, 0, 0, 0],\n",
       "       [0, 0, 0, 0, 0, 0, 0, 0, 0, 0, 0, 0, 0, 0, 0, 0, 0, 0, 0, 0, 0, 0,\n",
       "        0, MPQ(-1,1)],\n",
       "       [0, 0, MPQ(-1,7), MPQ(-1,7), MPQ(-1,7), MPQ(-1,7), MPQ(-1,7),\n",
       "        MPQ(-1,7), MPQ(-1,7), MPQ(-1,7), MPQ(3,7), MPQ(3,7), MPQ(3,7),\n",
       "        MPQ(-1,7), MPQ(3,7), MPQ(3,7), MPQ(3,7), MPQ(1,1), 0, 0, 0, 0, 0,\n",
       "        0],\n",
       "       [0, 0, 0, 0, 0, 0, 0, 0, 0, 0, 0, 0, 0, 0, 0, 0, 0, 0, MPQ(1,2),\n",
       "        0, MPQ(-1,2), 0, 0, 0],\n",
       "       [0, 0, 0, 0, 0, 0, 0, 0, 0, 0, 0, 0, 0, 0, 0, 0, 0, 0, 0,\n",
       "        MPQ(-1,2), 0, MPQ(1,2), 0, 0]], dtype=object)"
      ]
     },
     "execution_count": 56,
     "metadata": {},
     "output_type": "execute_result"
    }
   ],
   "source": [
    "olumped.lumping_matrix"
   ]
  },
  {
   "cell_type": "code",
   "execution_count": 57,
   "id": "f552b52c-f66d-4594-8bef-a6ea1995c33d",
   "metadata": {},
   "outputs": [],
   "source": [
    "from sympy import Matrix"
   ]
  },
  {
   "cell_type": "code",
   "execution_count": 73,
   "id": "f9a6fc19-6799-46f4-8bf6-0d2ee7009798",
   "metadata": {},
   "outputs": [
    {
     "data": {
      "text/latex": [
       "$\\displaystyle \\left[\\begin{array}{cccccccccccccccccccccccc}1 & 0 & 0 & 0 & 0 & 0 & 0 & 0 & 0 & 0 & 0 & 0 & 0 & 0 & 0 & 0 & 0 & 0 & 0 & 0 & 0 & 0 & 0 & 0\\\\0 & 1 & 0 & 0 & 0 & 0 & 0 & 0 & 0 & 0 & 0 & 0 & 0 & 0 & 0 & 0 & 0 & 0 & 0 & 0 & 0 & 0 & 0 & 0\\\\0 & 0 & -2 & -1 & -1 & 0 & -1 & -1 & 0 & 0 & -1 & -1 & 0 & 0 & 0 & 0 & 0 & 0 & 0 & 0 & 0 & 0 & 0 & 0\\\\0 & 0 & 0 & -2 & -2 & -4 & 0 & 0 & -2 & -2 & 0 & 0 & -2 & 0 & -2 & 0 & 0 & 0 & 0 & 0 & 0 & 0 & 0 & 0\\\\0 & 0 & 0 & 0 & 0 & 0 & -4 & -4 & -4 & -4 & 0 & 0 & 0 & -8 & 0 & -4 & -4 & 0 & 0 & 0 & 0 & 0 & 0 & 0\\\\0 & 0 & 0 & 0 & 0 & 0 & 0 & 0 & 0 & 0 & -8 & -8 & -8 & 0 & -8 & -8 & -8 & -16 & 0 & 0 & 0 & 0 & 0 & 0\\\\0 & 0 & 0 & 0 & 0 & 0 & 0 & 0 & 0 & 0 & 0 & 0 & 0 & 0 & 0 & 0 & 0 & 0 & 1 & 0 & 1 & 0 & 0 & 0\\\\0 & 0 & 0 & 0 & 0 & 0 & 0 & 0 & 0 & 0 & 0 & 0 & 0 & 0 & 0 & 0 & 0 & 0 & 0 & 1 & 0 & 1 & 0 & 0\\\\0 & 0 & 0 & 0 & 0 & 0 & 0 & 0 & 0 & 0 & 0 & 0 & 0 & 0 & 0 & 0 & 0 & 0 & 0 & 0 & -1 & 0 & 0 & 0\\\\0 & 0 & 0 & 0 & 0 & 0 & 0 & 0 & 0 & 0 & 0 & 0 & 0 & 0 & 0 & 0 & 0 & 0 & 0 & 0 & 0 & 1 & 0 & 0\\\\0 & 0 & 0 & 0 & 0 & 0 & 0 & 0 & 0 & 0 & 0 & 0 & 0 & 0 & 0 & 0 & 0 & 0 & 0 & 0 & 0 & 0 & -1 & 0\\\\0 & 0 & 0 & 0 & 0 & 0 & 0 & 0 & 0 & 0 & 0 & 0 & 0 & 0 & 0 & 0 & 0 & 0 & 0 & 0 & 0 & 0 & 0 & -1\\end{array}\\right]$"
      ],
      "text/plain": [
       "Matrix([\n",
       "[1, 0,  0,  0,  0,  0,  0,  0,  0,  0,  0,  0,  0,  0,  0,  0,  0,   0, 0, 0,  0, 0,  0,  0],\n",
       "[0, 1,  0,  0,  0,  0,  0,  0,  0,  0,  0,  0,  0,  0,  0,  0,  0,   0, 0, 0,  0, 0,  0,  0],\n",
       "[0, 0, -2, -1, -1,  0, -1, -1,  0,  0, -1, -1,  0,  0,  0,  0,  0,   0, 0, 0,  0, 0,  0,  0],\n",
       "[0, 0,  0, -2, -2, -4,  0,  0, -2, -2,  0,  0, -2,  0, -2,  0,  0,   0, 0, 0,  0, 0,  0,  0],\n",
       "[0, 0,  0,  0,  0,  0, -4, -4, -4, -4,  0,  0,  0, -8,  0, -4, -4,   0, 0, 0,  0, 0,  0,  0],\n",
       "[0, 0,  0,  0,  0,  0,  0,  0,  0,  0, -8, -8, -8,  0, -8, -8, -8, -16, 0, 0,  0, 0,  0,  0],\n",
       "[0, 0,  0,  0,  0,  0,  0,  0,  0,  0,  0,  0,  0,  0,  0,  0,  0,   0, 1, 0,  1, 0,  0,  0],\n",
       "[0, 0,  0,  0,  0,  0,  0,  0,  0,  0,  0,  0,  0,  0,  0,  0,  0,   0, 0, 1,  0, 1,  0,  0],\n",
       "[0, 0,  0,  0,  0,  0,  0,  0,  0,  0,  0,  0,  0,  0,  0,  0,  0,   0, 0, 0, -1, 0,  0,  0],\n",
       "[0, 0,  0,  0,  0,  0,  0,  0,  0,  0,  0,  0,  0,  0,  0,  0,  0,   0, 0, 0,  0, 1,  0,  0],\n",
       "[0, 0,  0,  0,  0,  0,  0,  0,  0,  0,  0,  0,  0,  0,  0,  0,  0,   0, 0, 0,  0, 0, -1,  0],\n",
       "[0, 0,  0,  0,  0,  0,  0,  0,  0,  0,  0,  0,  0,  0,  0,  0,  0,   0, 0, 0,  0, 0,  0, -1]])"
      ]
     },
     "execution_count": 73,
     "metadata": {},
     "output_type": "execute_result"
    }
   ],
   "source": [
    "Matrix(olumped.lumping_matrix).echelon_form()"
   ]
  },
  {
   "cell_type": "code",
   "execution_count": 68,
   "id": "e409db86-81cb-443e-8d01-3119ecfb5316",
   "metadata": {},
   "outputs": [
    {
     "data": {
      "text/plain": [
       "[[3, 4], [4, 7], [5, 9], [6, 9], [7, 9], [8, 10], [9, 11], [10, 11]]"
      ]
     },
     "execution_count": 68,
     "metadata": {},
     "output_type": "execute_result"
    }
   ],
   "source": [
    "y = symbols([f\"y{i}\" for i in range"
   ]
  },
  {
   "cell_type": "code",
   "execution_count": 71,
   "id": "b5b0e8a8-c774-4d4b-90ec-c40e3907b14c",
   "metadata": {},
   "outputs": [
    {
     "data": {
      "text/latex": [
       "$\\displaystyle \\left[\\begin{array}{cccccccccccccccccccccccc}1 & 0 & 0 & 0 & 0 & 0 & 0 & 0 & 0 & 0 & 0 & 0 & 0 & 0 & 0 & 0 & 0 & 0 & 0 & 0 & 0 & 0 & 0 & 0\\\\0 & 1 & 0 & 0 & 0 & 0 & 0 & 0 & 0 & 0 & 0 & 0 & 0 & 0 & 0 & 0 & 0 & 0 & 0 & 0 & 0 & 0 & 0 & 0\\\\0 & 0 & -2 & -1 & -1 & 0 & -1 & -1 & 0 & 0 & -1 & -1 & 0 & 0 & 0 & 0 & 0 & 0 & 0 & 0 & 0 & 0 & 0 & 0\\\\0 & 0 & - \\frac{2}{5} & \\frac{4}{5} & \\frac{4}{5} & 2 & - \\frac{1}{5} & - \\frac{1}{5} & 1 & 1 & - \\frac{1}{5} & - \\frac{1}{5} & 1 & 0 & 1 & 0 & 0 & 0 & 0 & 0 & 0 & 0 & 0 & 0\\\\0 & 0 & \\frac{1}{3} & \\frac{1}{3} & \\frac{1}{3} & \\frac{1}{3} & - \\frac{5}{6} & - \\frac{5}{6} & - \\frac{5}{6} & - \\frac{5}{6} & \\frac{1}{6} & \\frac{1}{6} & \\frac{1}{6} & -2 & \\frac{1}{6} & -1 & -1 & 0 & 0 & 0 & 0 & 0 & 0 & 0\\\\0 & 0 & - \\frac{1}{7} & - \\frac{1}{7} & - \\frac{1}{7} & - \\frac{1}{7} & - \\frac{1}{7} & - \\frac{1}{7} & - \\frac{1}{7} & - \\frac{1}{7} & \\frac{3}{7} & \\frac{3}{7} & \\frac{3}{7} & - \\frac{1}{7} & \\frac{3}{7} & \\frac{3}{7} & \\frac{3}{7} & 1 & 0 & 0 & 0 & 0 & 0 & 0\\\\0 & 0 & 0 & 0 & 0 & 0 & 0 & 0 & 0 & 0 & 0 & 0 & 0 & 0 & 0 & 0 & 0 & 0 & 1 & 0 & 1 & 0 & 0 & 0\\\\0 & 0 & 0 & 0 & 0 & 0 & 0 & 0 & 0 & 0 & 0 & 0 & 0 & 0 & 0 & 0 & 0 & 0 & 0 & 1 & 0 & 1 & 0 & 0\\\\0 & 0 & 0 & 0 & 0 & 0 & 0 & 0 & 0 & 0 & 0 & 0 & 0 & 0 & 0 & 0 & 0 & 0 & \\frac{1}{2} & 0 & - \\frac{1}{2} & 0 & 0 & 0\\\\0 & 0 & 0 & 0 & 0 & 0 & 0 & 0 & 0 & 0 & 0 & 0 & 0 & 0 & 0 & 0 & 0 & 0 & 0 & - \\frac{1}{2} & 0 & \\frac{1}{2} & 0 & 0\\\\0 & 0 & 0 & 0 & 0 & 0 & 0 & 0 & 0 & 0 & 0 & 0 & 0 & 0 & 0 & 0 & 0 & 0 & 0 & 0 & 0 & 0 & -1 & 0\\\\0 & 0 & 0 & 0 & 0 & 0 & 0 & 0 & 0 & 0 & 0 & 0 & 0 & 0 & 0 & 0 & 0 & 0 & 0 & 0 & 0 & 0 & 0 & -1\\end{array}\\right]$"
      ],
      "text/plain": [
       "Matrix([\n",
       "[1, 0,    0,    0,    0,    0,    0,    0,    0,    0,    0,    0,   0,    0,   0,   0,   0, 0,   0,    0,    0,   0,  0,  0],\n",
       "[0, 1,    0,    0,    0,    0,    0,    0,    0,    0,    0,    0,   0,    0,   0,   0,   0, 0,   0,    0,    0,   0,  0,  0],\n",
       "[0, 0,   -2,   -1,   -1,    0,   -1,   -1,    0,    0,   -1,   -1,   0,    0,   0,   0,   0, 0,   0,    0,    0,   0,  0,  0],\n",
       "[0, 0, -2/5,  4/5,  4/5,    2, -1/5, -1/5,    1,    1, -1/5, -1/5,   1,    0,   1,   0,   0, 0,   0,    0,    0,   0,  0,  0],\n",
       "[0, 0,  1/3,  1/3,  1/3,  1/3, -5/6, -5/6, -5/6, -5/6,  1/6,  1/6, 1/6,   -2, 1/6,  -1,  -1, 0,   0,    0,    0,   0,  0,  0],\n",
       "[0, 0, -1/7, -1/7, -1/7, -1/7, -1/7, -1/7, -1/7, -1/7,  3/7,  3/7, 3/7, -1/7, 3/7, 3/7, 3/7, 1,   0,    0,    0,   0,  0,  0],\n",
       "[0, 0,    0,    0,    0,    0,    0,    0,    0,    0,    0,    0,   0,    0,   0,   0,   0, 0,   1,    0,    1,   0,  0,  0],\n",
       "[0, 0,    0,    0,    0,    0,    0,    0,    0,    0,    0,    0,   0,    0,   0,   0,   0, 0,   0,    1,    0,   1,  0,  0],\n",
       "[0, 0,    0,    0,    0,    0,    0,    0,    0,    0,    0,    0,   0,    0,   0,   0,   0, 0, 1/2,    0, -1/2,   0,  0,  0],\n",
       "[0, 0,    0,    0,    0,    0,    0,    0,    0,    0,    0,    0,   0,    0,   0,   0,   0, 0,   0, -1/2,    0, 1/2,  0,  0],\n",
       "[0, 0,    0,    0,    0,    0,    0,    0,    0,    0,    0,    0,   0,    0,   0,   0,   0, 0,   0,    0,    0,   0, -1,  0],\n",
       "[0, 0,    0,    0,    0,    0,    0,    0,    0,    0,    0,    0,   0,    0,   0,   0,   0, 0,   0,    0,    0,   0,  0, -1]])"
      ]
     },
     "execution_count": 71,
     "metadata": {},
     "output_type": "execute_result"
    }
   ],
   "source": [
    "lhs * rhs"
   ]
  },
  {
   "cell_type": "code",
   "execution_count": 76,
   "id": "edb04acd-3828-4f8a-9c6a-f19bd86fa828",
   "metadata": {},
   "outputs": [],
   "source": [
    "L2 = Matrix(olumped.lumping_matrix)"
   ]
  },
  {
   "cell_type": "code",
   "execution_count": 77,
   "id": "cf10eab3-7d2c-410e-8a4a-c7fb8017b4d2",
   "metadata": {},
   "outputs": [
    {
     "data": {
      "text/plain": [
       "\u001b[0;31mSignature:\u001b[0m \u001b[0mL2\u001b[0m\u001b[0;34m.\u001b[0m\u001b[0mLUsolve\u001b[0m\u001b[0;34m(\u001b[0m\u001b[0mrhs\u001b[0m\u001b[0;34m,\u001b[0m \u001b[0miszerofunc\u001b[0m\u001b[0;34m=\u001b[0m\u001b[0;34m<\u001b[0m\u001b[0mfunction\u001b[0m \u001b[0m_iszero\u001b[0m \u001b[0mat\u001b[0m \u001b[0;36m0x7f932a510c20\u001b[0m\u001b[0;34m>\u001b[0m\u001b[0;34m)\u001b[0m\u001b[0;34m\u001b[0m\u001b[0;34m\u001b[0m\u001b[0m\n",
       "\u001b[0;31mDocstring:\u001b[0m\n",
       "Solve the linear system ``Ax = rhs`` for ``x`` where ``A = M``.\n",
       "\n",
       "This is for symbolic matrices, for real or complex ones use\n",
       "mpmath.lu_solve or mpmath.qr_solve.\n",
       "\n",
       "See Also\n",
       "========\n",
       "\n",
       "sympy.matrices.dense.DenseMatrix.lower_triangular_solve\n",
       "sympy.matrices.dense.DenseMatrix.upper_triangular_solve\n",
       "gauss_jordan_solve\n",
       "cholesky_solve\n",
       "diagonal_solve\n",
       "LDLsolve\n",
       "QRsolve\n",
       "pinv_solve\n",
       "LUdecomposition\n",
       "\u001b[0;31mFile:\u001b[0m      ~/.local/lib/python3.11/site-packages/sympy/matrices/matrices.py\n",
       "\u001b[0;31mType:\u001b[0m      method\n"
      ]
     },
     "metadata": {},
     "output_type": "display_data"
    }
   ],
   "source": [
    "L2.LUsolve?"
   ]
  },
  {
   "cell_type": "code",
   "execution_count": null,
   "id": "a463ec8a-3610-4685-8de7-70aa7fb8dfd9",
   "metadata": {},
   "outputs": [],
   "source": []
  }
 ],
 "metadata": {
  "kernelspec": {
   "display_name": "Python 3 (ipykernel)",
   "language": "python",
   "name": "python3"
  },
  "language_info": {
   "codemirror_mode": {
    "name": "ipython",
    "version": 3
   },
   "file_extension": ".py",
   "mimetype": "text/x-python",
   "name": "python",
   "nbconvert_exporter": "python",
   "pygments_lexer": "ipython3",
   "version": "3.11.0"
  }
 },
 "nbformat": 4,
 "nbformat_minor": 5
}
