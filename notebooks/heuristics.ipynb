{
 "cells": [
  {
   "cell_type": "markdown",
   "id": "96b40158-ddd6-4023-a6d8-98c0fabd4c97",
   "metadata": {},
   "source": [
    "# Heuristics"
   ]
  },
  {
   "cell_type": "code",
   "execution_count": 1,
   "id": "662b27dd-5297-45ac-a8df-abc73ff415b5",
   "metadata": {},
   "outputs": [],
   "source": [
    "import sys\n",
    "\n",
    "sys.path.insert(0,\"./../tests/numerical\") # clue_example is here\n",
    "sys.path.insert(0,\"./../\") # clue is here\n",
    "\n",
    "from clue import *\n",
    "from numerical_example import *\n",
    "# import numerical_example as ne\n",
    "from sympy import RR\n",
    "import pandas as pd\n",
    "import time\n",
    "from alive_progress import alive_bar\n",
    "\n",
    "import logging\n",
    "logger = logging.getLogger(\"clue\")\n",
    "# logger.setLevel(logging.DEBUG)"
   ]
  },
  {
   "cell_type": "code",
   "execution_count": 11,
   "id": "6551ea32-2651-4821-b718-8ea038b48692",
   "metadata": {},
   "outputs": [
    {
     "name": "stdout",
     "output_type": "stream",
     "text": [
      "D13PG\n",
      "88 30 0 8.631674575031097e-05\n",
      "30 28 0.10547584697550302 0.10556216108707529\n",
      "28 26 0.10606073255258905 0.10614382779684134\n",
      "26 24 0.11744236687109401 0.11752544436428705\n",
      "24 23 0.25800124555106907 0.2580839757048893\n",
      "23 10 0.2671046502086658 0.2671830908565247\n",
      "10 9 0.4854922518261851 0.48557041479108654\n",
      "9 5 0.7280926914075327 0.7281641897202145\n",
      "5 4 0.9828774741377322 0.9829415690759349\n",
      "4 2 1.3650147505232928 1.3650710702729165\n",
      "2 2 2.8283378085807556 2.82842712474619\n"
     ]
    }
   ],
   "source": [
    "example = get_example(\"BioNetGen_CCP\")\n",
    "def get_reductions(example):\n",
    "    system = FODESystem(file=example.path_model(), read_ic = True, parser=example.read).remove_parameters_ic()\n",
    "    RRsystem = FODESystem(file=example.path_model(), read_ic = True, parser=example.read, field = RR).remove_parameters_ic()\n",
    "    system = system.remove_parameters_ic()\n",
    "    RRsystem = RRsystem.remove_parameters_ic()\n",
    "    system.construct_matrices(example.matrix)\n",
    "    RRsystem._lumping_matr[example.matrix] = tuple(M.change_base(RR) for M in system._lumping_matr[example.matrix]) \n",
    "\n",
    "    observables = {view_name : [SparsePolynomial.from_string(s, system.variables, system.field) for s in obs_set] for (view_name, obs_set) in example.observables.items()}\n",
    "    final_observables = {}\n",
    "    for (view_name,observable) in observables.items():\n",
    "        if any(not obs.is_linear() for obs in observable):\n",
    "            logger.error(f\"The view ({view_name}) has a non-linear input. Skipping this example.\")\n",
    "        else:\n",
    "            final_observables[view_name] = observable\n",
    "    observables = final_observables\n",
    "\n",
    "    if len(observables) == 0:\n",
    "        logger.error(f\"No valid observables found for this example. Finishing execution.\")\n",
    "\n",
    "    x0 = array([float(RRsystem.ic.get(v, 0)) for v in RRsystem.variables])\n",
    "    norm_x0 = norm(x0, ord=2)\n",
    "    num_points = 1\n",
    "    threshold = 1e-4\n",
    "    bound = RRsystem._FODESystem__process_bound(norm_x0, threshold)\n",
    "    for observable in observables:\n",
    "        print(observable)\n",
    "        nl,nr,ls,rs = RRsystem.find_next_reduction(observables[observable],dev_max=1, bound=bound, num_points=num_points, threshold=threshold, matrix_algorithm=example.matrix)\n",
    "        print(nl,nr,ls,rs)\n",
    "\n",
    "        while nl != nr:\n",
    "            nl,nr,ls,rs = RRsystem.find_next_reduction(observables[observable],dev_max=1, bound=bound, num_points=num_points, threshold=threshold, matrix_algorithm=example.matrix, eps_min=rs)\n",
    "            print(nl,nr,ls,rs)\n",
    "get_reductions(example)"
   ]
  },
  {
   "cell_type": "code",
   "execution_count": 13,
   "id": "757868ba-ab9c-43f0-a40a-d975ccf4a023",
   "metadata": {},
   "outputs": [
    {
     "name": "stdout",
     "output_type": "stream",
     "text": [
      "Ctelo\n",
      "8 1 0.99993896484375 1.0\n",
      "1 1 1.0 1.0\n",
      "ssDNA\n",
      "44 2 0.99993896484375 1.000030517578125\n",
      "2 1 2.9999389657750726 3.0\n",
      "1 1 3.0 3.0\n",
      "Cdc13\n",
      "8 1 0.99993896484375 1.0\n",
      "1 1 1.0 1.0\n"
     ]
    }
   ],
   "source": [
    "get_reductions(get_example(\"BIOMD*087\"))"
   ]
  },
  {
   "cell_type": "code",
   "execution_count": null,
   "id": "eadc1112-812a-4ba1-946a-df73ab67e19d",
   "metadata": {},
   "outputs": [
    {
     "name": "stdout",
     "output_type": "stream",
     "text": [
      "GSK3b\n",
      "64 63 1.9999788491986692 2.0000641143269604\n",
      "63 61 5.999936542262672 6.00002180739085\n",
      "61 60 49.999982639402546 50.000067904530496\n",
      "60 59 149.99994494754128 150.00003021266673\n",
      "59 49 299.99996367487825 300.000048939998\n",
      "49 45 74999.99994405083 75000.00002931594\n",
      "45 42 449999.99999305385 450000.0000783147\n",
      "42 38 749999.9999248474 750000.0000100869\n",
      "38 3 1499999.9999382887 1500000.0000235112\n",
      "3 1 1499999999.999915 1500000000.0\n",
      "1 1 1500000000.0 1500000000.0\n",
      "ROS\n",
      "64 63 1.9999606593046337 2.000024323933758\n",
      "63 61 5.999945185403602 6.00000885002545\n",
      "61 60 49.99995590918245 50.00001957378974\n",
      "60 59 149.99999508589684 150.00005875034407\n",
      "59 49 299.9999606741155 300.00002433819895\n",
      "49 45 74999.99998587181 75000.00004953535\n",
      "45 42 449999.9999688885 450000.0000322803\n",
      "42 38 749999.9999383984 750000.0000004258\n",
      "38 11 1499999.9999658456 1500000.0000267818\n",
      "11 7 7499999.99995853 7500000.000016738\n",
      "7 4 13949999.999973927 13950000.000046687\n",
      "4 2 14999999.999950662 15000000.00000232\n",
      "2 1 17499999.99992724 17500000.0\n",
      "1 1 17500000.0 17500000.0\n",
      "Tau\n",
      "64 63 1.9999335520992645 2.000000165480742\n",
      "63 61 5.999933882954084 6.000000496335559\n",
      "61 60 49.9999375200104 50.00000413339187\n",
      "60 59 149.99994572738086 150.00001234076228\n",
      "59 56 299.99995783843656 300.0000244518179\n",
      "56 50 74999.99997776655 75000.00004437994\n",
      "50 47 449999.99999653245 450000.00006314577\n",
      "47 43 749999.9999878469 750000.0000544599\n"
     ]
    }
   ],
   "source": [
    "get_reductions(get_example(\"BIOMD*488\"))"
   ]
  },
  {
   "cell_type": "code",
   "execution_count": null,
   "id": "78253dc6-03e9-45dc-9740-1495f4e3905e",
   "metadata": {},
   "outputs": [],
   "source": [
    "get_reductions(get_example(\"NIHMS80246_S6\"))\n"
   ]
  },
  {
   "cell_type": "code",
   "execution_count": null,
   "id": "a9bc5a9e-5f72-486d-b41e-7e23d93c4e0d",
   "metadata": {},
   "outputs": [],
   "source": [
    "get_reductions(get_example(\"journal.pcbi.1003544.s006\"))"
   ]
  },
  {
   "cell_type": "code",
   "execution_count": null,
   "id": "ccee35f8-6d83-4fe2-9793-9e18aa9e2b8d",
   "metadata": {},
   "outputs": [],
   "source": [
    "get_reductions(get_example(\"BIOMD*437\"))\n"
   ]
  },
  {
   "cell_type": "code",
   "execution_count": null,
   "id": "0cae3e73-f680-48c2-bd7e-a66d7b0872b8",
   "metadata": {},
   "outputs": [],
   "source": [
    "get_reductions(get_example(\"BIOMD*448\"))"
   ]
  },
  {
   "cell_type": "code",
   "execution_count": null,
   "id": "653e451d-1b41-402f-8fc7-bfa38c4bd2d3",
   "metadata": {},
   "outputs": [],
   "source": [
    "get_reductions(get_example(\"BIOMD*634\"))"
   ]
  },
  {
   "cell_type": "code",
   "execution_count": 27,
   "id": "e97b1b7e-b79a-4ac8-bf2b-1cd97405b5cf",
   "metadata": {},
   "outputs": [],
   "source": [
    "def analysis_epsilon(example, matrix:str, read:str, timeout= 1000, eps_bound = 1.0, num_points = 1000, threshold = 1e-6, mid_points=50):\n",
    "    ## Reading the system\n",
    "    logger.info(f\"[analysis_epsilon # {example.name}] Starting epsilon analysis for {example.name}\")\n",
    "    system = FODESystem(file=example.path_model(), read_ic = True, parser=example.read).remove_parameters_ic()\n",
    "    RRsystem = FODESystem(file=example.path_model(), read_ic = True, parser=example.read, field = RR).remove_parameters_ic()\n",
    "    x0 = array([float(RRsystem.ic.get(v, 0)) for v in RRsystem.variables])\n",
    "    norm_x0 = norm(x0, ord=2)\n",
    "    \n",
    "    logger.log(60, f\"[run_analysis # {example.name}] Removing the parameters of the system\")\n",
    "    system = system.remove_parameters_ic()\n",
    "    RRsystem = RRsystem.remove_parameters_ic()\n",
    "\n",
    "    logger.log(60, f\"[run_analysis # {example.name}] Obtaining Jacobian matrices for exact system... (shared among examples)\")\n",
    "    system.construct_matrices(example.matrix)\n",
    "    RRsystem._lumping_matr[example.matrix] = tuple(M.change_base(RR) for M in system._lumping_matr[matrix]) \n",
    "    \n",
    "    \n",
    "    \n",
    "    logger.log(60, f\"[run_analysis # {example.name}] Obtaining the initial condition from the system\")\n",
    "    x0 = array([float(RRsystem.ic.get(v, 0)) for v in RRsystem.variables])\n",
    "    norm_x0 = norm(x0, ord=2)\n",
    "\n",
    "    logger.log(60, f\"[run_analysis # {example.name}] Building observables\")\n",
    "    observables = {view_name : [SparsePolynomial.from_string(s, system.variables, system.field) for s in obs_set] for (view_name, obs_set) in example.observables.items()}\n",
    "\n",
    "    final_observables = {}\n",
    "    for (view_name,observable) in observables.items():\n",
    "        if any(not obs.is_linear() for obs in observable):\n",
    "            logger.error(f\"The view ({view_name}) has a non-linear input. Skipping this example.\")\n",
    "        else:\n",
    "            final_observables[view_name] = observable\n",
    "    observables = final_observables\n",
    "\n",
    "    if len(observables) == 0:\n",
    "        logger.error(f\"No valid observables found for this example. Finishing execution.\")\n",
    "        return\n",
    "\n",
    "\n",
    "    ## Generating graphics\n",
    "    logger.info(f\"[analysis_epsilon # {example.name}] Generating graphics...\")\n",
    "    graphs, titles = [], []\n",
    "    for obs, (eps_vs_devs, mdev, (osize,lsize)) in zip(example.observables, all_data):\n",
    "        x_axis = array([el[0] for el in eps_vs_devs])\n",
    "        data = array([[el[1]/mdev if mdev != 0 else 0, el[2].dim()/lsize] for el in eps_vs_devs]).transpose()\n",
    "        graphs.append(OdeResult(t=x_axis, y=data, success=True, names=[\"deviation\", \"(num size)/(exact size)\"]))\n",
    "        titles.append(f\"Lumping evolution for {str(obs) if len(str(obs)) < 100 else 'something'} ({osize}->{lsize})\")\n",
    "        \n",
    "    fig = create_figure(graphs, title=titles)\n",
    "    \n",
    "    logger.info(f\"[analysis_epsilon # {example.name}] Finidhes execution for {example.name}\")\n",
    "    return all_data"
   ]
  },
  {
   "cell_type": "code",
   "execution_count": null,
   "id": "3503546c-6e8f-412c-b626-d494c9e45271",
   "metadata": {},
   "outputs": [],
   "source": []
  }
 ],
 "metadata": {
  "kernelspec": {
   "display_name": "Python 3 (ipykernel)",
   "language": "python",
   "name": "python3"
  },
  "language_info": {
   "codemirror_mode": {
    "name": "ipython",
    "version": 3
   },
   "file_extension": ".py",
   "mimetype": "text/x-python",
   "name": "python",
   "nbconvert_exporter": "python",
   "pygments_lexer": "ipython3",
   "version": "3.10.6"
  }
 },
 "nbformat": 4,
 "nbformat_minor": 5
}
