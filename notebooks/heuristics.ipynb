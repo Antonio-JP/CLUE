{
 "cells": [
  {
   "cell_type": "markdown",
   "id": "96b40158-ddd6-4023-a6d8-98c0fabd4c97",
   "metadata": {},
   "source": [
    "# Heuristics"
   ]
  },
  {
   "cell_type": "code",
   "execution_count": 1,
   "id": "662b27dd-5297-45ac-a8df-abc73ff415b5",
   "metadata": {},
   "outputs": [],
   "source": [
    "import sys\n",
    "\n",
    "sys.path.insert(0,\"./../tests/numerical\") # clue_example is here\n",
    "sys.path.insert(0,\"./../\") # clue is here\n",
    "\n",
    "from clue import *\n",
    "from numerical_example import *\n",
    "# import numerical_example as ne\n",
    "from sympy import RR\n",
    "import pandas as pd\n",
    "import time\n",
    "from alive_progress import alive_bar\n",
    "\n",
    "import logging\n",
    "logger = logging.getLogger(\"clue\")\n",
    "# logger.setLevel(logging.DEBUG)"
   ]
  },
  {
   "cell_type": "code",
   "execution_count": 82,
   "id": "6551ea32-2651-4821-b718-8ea038b48692",
   "metadata": {},
   "outputs": [],
   "source": [
    "def get_reductions(example, threshold=1e-4):\n",
    "    system = FODESystem(file=example.path_model(), read_ic = True, parser=example.read).remove_parameters_ic()\n",
    "    RRsystem = FODESystem(file=example.path_model(), read_ic = True, parser=example.read, field = RR).remove_parameters_ic()\n",
    "    system = system.remove_parameters_ic()\n",
    "    RRsystem = RRsystem.remove_parameters_ic()\n",
    "    system.construct_matrices(example.matrix)\n",
    "    RRsystem._lumping_matr[example.matrix] = tuple(M.change_base(RR) for M in system._lumping_matr[example.matrix]) \n",
    "\n",
    "    observables = {view_name : [SparsePolynomial.from_string(s, system.variables, system.field) for s in obs_set] for (view_name, obs_set) in example.observables.items()}\n",
    "    final_observables = {}\n",
    "    for (view_name,observable) in observables.items():\n",
    "        if any(not obs.is_linear() for obs in observable):\n",
    "            logger.error(f\"The view ({view_name}) has a non-linear input. Skipping this example.\")\n",
    "        else:\n",
    "            final_observables[view_name] = observable\n",
    "    observables = final_observables\n",
    "\n",
    "    if len(observables) == 0:\n",
    "        logger.error(f\"No valid observables found for this example. Finishing execution.\")\n",
    "\n",
    "    x0 = array([float(RRsystem.ic.get(v, 0)) for v in RRsystem.variables])\n",
    "    norm_x0 = norm(x0, ord=2)\n",
    "    num_points = 1\n",
    "    threshold = 1e-4\n",
    "    bound = RRsystem._FODESystem__process_bound(norm_x0, threshold)\n",
    "    results = {}\n",
    "    for observable in observables:\n",
    "        result = []\n",
    "        nl,nr,ls,rs = RRsystem.find_next_reduction(observables[observable],dev_max=1, bound=bound, num_points=num_points, threshold=threshold, matrix_algorithm=example.matrix)\n",
    "        result.append((nl,nr,ls,rs))\n",
    "        while nl != nr:\n",
    "            nl,nr,ls,rs = RRsystem.find_next_reduction(observables[observable],dev_max=1, bound=bound, num_points=num_points, threshold=threshold, matrix_algorithm=example.matrix, eps_min=rs)\n",
    "            result.append((nl,nr,ls,rs))\n",
    "        results[observable] = result\n",
    "    return results\n",
    "\n",
    "\n"
   ]
  },
  {
   "cell_type": "code",
   "execution_count": 58,
   "id": "6a723260-5b37-4fe2-988c-ac6bab2da5d9",
   "metadata": {},
   "outputs": [],
   "source": [
    "def gen_fig(results):\n",
    "    from numpy import reshape\n",
    "    ## Generating graphics\n",
    "    graphs, titles = [], []\n",
    "    for observable in results:\n",
    "        steps = results[observable]\n",
    "        eps_max = steps[-1][-1]\n",
    "        epsilons = []\n",
    "        sizes = []\n",
    "        for step in steps:\n",
    "            epsilons.append(step[2]/eps_max)\n",
    "            epsilons.append(step[3]/eps_max)\n",
    "            sizes.append(step[0])\n",
    "            sizes.append(step[1])    \n",
    "        l = len(epsilons)\n",
    "        epsilons = reshape(array(epsilons),(l,1))\n",
    "        sizes = reshape(array(sizes),(1,l))\n",
    "        graphs.append(OdeResult(t=epsilons, y=sizes, success=True, names=[\"sizes\" ]))\n",
    "        titles.append(f\"Lumping evolution for {str(observable) if len(str(observable)) < 100 else 'something'}\")   \n",
    "    fig = create_figure(graphs, title=titles)\n",
    "    "
   ]
  },
  {
   "cell_type": "code",
   "execution_count": 83,
   "id": "0f422f81-e542-4c04-982c-80573755f132",
   "metadata": {},
   "outputs": [],
   "source": [
    "def print_res(result):\n",
    "    cols = {0: 'n_high', 1: 'n_low', 2: 'e_min',3: 'e_max'}\n",
    "    for obs in result:\n",
    "        df = pd.DataFrame.from_records(result[obs])\n",
    "        df.rename(columns=cols, inplace=True)\n",
    "        index = df.index\n",
    "        index.name = obs.strip()\n",
    "        print(df)"
   ]
  },
  {
   "cell_type": "markdown",
   "id": "8fbc70fb-32ed-4e2d-808a-b96b32ebf02a",
   "metadata": {
    "tags": []
   },
   "source": [
    "# Polynomial\n"
   ]
  },
  {
   "cell_type": "markdown",
   "id": "b9f88aef-1ce2-465a-baf8-ffac95ba01bb",
   "metadata": {},
   "source": [
    "## BioNetGen_CCP"
   ]
  },
  {
   "cell_type": "code",
   "execution_count": 55,
   "id": "6cd25b2b-6a8b-48af-a1ca-a41fd34c68f6",
   "metadata": {},
   "outputs": [],
   "source": [
    "example = get_example(\"BioNetGen_CCP\")\n",
    "results = get_reductions(example,threshold)\n"
   ]
  },
  {
   "cell_type": "code",
   "execution_count": 56,
   "id": "f35ad9a0-735e-4e89-9a8b-5b5146d2089e",
   "metadata": {},
   "outputs": [
    {
     "name": "stdout",
     "output_type": "stream",
     "text": [
      "       n_min  n_max     e_min     e_max\n",
      "D13PG                                  \n",
      "0         88     30  0.000000  0.000086\n",
      "1         30     28  0.105476  0.105562\n",
      "2         28     26  0.106061  0.106144\n",
      "3         26     24  0.117442  0.117525\n",
      "4         24     23  0.258001  0.258084\n",
      "5         23     10  0.267105  0.267183\n",
      "6         10      9  0.485492  0.485570\n",
      "7          9      5  0.728093  0.728164\n",
      "8          5      4  0.982877  0.982942\n",
      "9          4      2  1.365015  1.365071\n",
      "10         2      2  2.828338  2.828427\n"
     ]
    }
   ],
   "source": [
    "print_res(results)"
   ]
  },
  {
   "cell_type": "code",
   "execution_count": 57,
   "id": "0ba4e25b-2f4d-4a0d-b272-76666d3898c2",
   "metadata": {},
   "outputs": [
    {
     "data": {
      "image/png": "[encoded data removed]",
      "text/plain": [
       "<Figure size 576x288 with 1 Axes>"
      ]
     },
     "metadata": {
      "needs_background": "light"
     },
     "output_type": "display_data"
    }
   ],
   "source": [
    "gen_fig(results)"
   ]
  },
  {
   "cell_type": "markdown",
   "id": "20483692-b189-4653-a77b-43a18404212d",
   "metadata": {
    "tags": []
   },
   "source": [
    "## NIHMS80246_S6"
   ]
  },
  {
   "cell_type": "code",
   "execution_count": 61,
   "id": "78253dc6-03e9-45dc-9740-1495f4e3905e",
   "metadata": {},
   "outputs": [],
   "source": [
    "res = get_reductions(get_example(\"NIHMS80246_S6\"))"
   ]
  },
  {
   "cell_type": "code",
   "execution_count": 62,
   "id": "b9b16e88-779c-477e-9961-8a997b550a0c",
   "metadata": {},
   "outputs": [
    {
     "name": "stdout",
     "output_type": "stream",
     "text": [
      "     n_min  n_max     e_min     e_max\n",
      "S2P                                  \n",
      "0       27     19  0.000000  0.000076\n",
      "1       19     17  0.022312  0.022388\n",
      "2       17     14  0.023381  0.023452\n",
      "3       14      9  0.029957  0.030028\n",
      "4        9      8  0.128491  0.128560\n",
      "5        8      7  0.279449  0.279539\n",
      "6        7      1  0.312984  0.313050\n",
      "7        1      1  0.313050  0.313050\n"
     ]
    }
   ],
   "source": [
    "print_res(res)"
   ]
  },
  {
   "cell_type": "code",
   "execution_count": 63,
   "id": "e1c3700f-f13e-4368-99df-d1fc21e8b695",
   "metadata": {},
   "outputs": [
    {
     "data": {
      "image/png": "[encoded data removed]",
      "text/plain": [
       "<Figure size 576x288 with 1 Axes>"
      ]
     },
     "metadata": {
      "needs_background": "light"
     },
     "output_type": "display_data"
    }
   ],
   "source": [
    "gen_fig(res)"
   ]
  },
  {
   "cell_type": "markdown",
   "id": "0d9ba605-1662-4ae8-87b0-75bcfa5934be",
   "metadata": {},
   "source": [
    "##"
   ]
  },
  {
   "cell_type": "markdown",
   "id": "3f9e06f2-c3b6-4f21-9818-e287a654eb5d",
   "metadata": {
    "tags": []
   },
   "source": [
    "## journal.pcbi.1003544.s006"
   ]
  },
  {
   "cell_type": "code",
   "execution_count": 64,
   "id": "da831d9d-94d7-4885-9590-c04e8980283f",
   "metadata": {},
   "outputs": [],
   "source": [
    "res = get_reductions(get_example(\"journal.pcbi.1003544.s006\"), threshold=1e-8)"
   ]
  },
  {
   "cell_type": "code",
   "execution_count": 65,
   "id": "a9bc5a9e-5f72-486d-b41e-7e23d93c4e0d",
   "metadata": {},
   "outputs": [
    {
     "name": "stdout",
     "output_type": "stream",
     "text": [
      "    n_min  n_max     e_min     e_max\n",
      "RC                                  \n",
      "0      86      2  0.001561  0.001659\n",
      "1       2      1  0.399555  0.399653\n",
      "2       2      2  0.399653  0.399653\n"
     ]
    }
   ],
   "source": [
    "print_res(res)"
   ]
  },
  {
   "cell_type": "code",
   "execution_count": 66,
   "id": "9d5b15ab-8bfe-45cd-9885-e6558f8c1b9f",
   "metadata": {},
   "outputs": [
    {
     "data": {
      "image/png": "[encoded data removed]",
      "text/plain": [
       "<Figure size 576x288 with 1 Axes>"
      ]
     },
     "metadata": {
      "needs_background": "light"
     },
     "output_type": "display_data"
    }
   ],
   "source": [
    "gen_fig(res)"
   ]
  },
  {
   "cell_type": "markdown",
   "id": "c5a2a83a-e8ef-44f6-86d1-201af2e93952",
   "metadata": {
    "tags": []
   },
   "source": [
    "# Rational"
   ]
  },
  {
   "cell_type": "markdown",
   "id": "5f7c0dc6-f366-4eef-a317-032992b282a8",
   "metadata": {
    "tags": []
   },
   "source": [
    "## BIOMD087"
   ]
  },
  {
   "cell_type": "code",
   "execution_count": 67,
   "id": "757868ba-ab9c-43f0-a40a-d975ccf4a023",
   "metadata": {
    "tags": []
   },
   "outputs": [],
   "source": [
    "result = get_reductions(get_example(\"BIOMD*087\"))\n"
   ]
  },
  {
   "cell_type": "code",
   "execution_count": 68,
   "id": "aec59e63-d5de-4ba5-a7e9-5a56c5e14d16",
   "metadata": {},
   "outputs": [
    {
     "name": "stdout",
     "output_type": "stream",
     "text": [
      "       n_min  n_max     e_min  e_max\n",
      "Ctelo                               \n",
      "0          8      1  0.999939    1.0\n",
      "1          1      1  1.000000    1.0\n",
      "       n_min  n_max     e_min     e_max\n",
      "ssDNA                                  \n",
      "0         44      2  0.999939  1.000031\n",
      "1          2      1  2.999939  3.000000\n",
      "2          1      1  3.000000  3.000000\n",
      "       n_min  n_max     e_min  e_max\n",
      "Cdc13                               \n",
      "0          8      1  0.999939    1.0\n",
      "1          1      1  1.000000    1.0\n"
     ]
    }
   ],
   "source": [
    "print_res(result)"
   ]
  },
  {
   "cell_type": "code",
   "execution_count": 69,
   "id": "232f7509-580d-456e-b076-43e7092efef9",
   "metadata": {},
   "outputs": [
    {
     "data": {
      "image/png": "[encoded data removed]",
      "text/plain": [
       "<Figure size 1728x288 with 3 Axes>"
      ]
     },
     "metadata": {
      "needs_background": "light"
     },
     "output_type": "display_data"
    }
   ],
   "source": [
    "gen_fig(result)"
   ]
  },
  {
   "cell_type": "markdown",
   "id": "5f6ddc05-2b44-47ef-8c98-a9517457c80e",
   "metadata": {
    "tags": []
   },
   "source": [
    "## BIOMD088"
   ]
  },
  {
   "cell_type": "code",
   "execution_count": 84,
   "id": "33bb59d2-1f3b-41fe-b018-e545476a1ee5",
   "metadata": {
    "tags": []
   },
   "outputs": [],
   "source": [
    "result = get_reductions(get_example(\"BIOMD*088\"))\n"
   ]
  },
  {
   "cell_type": "code",
   "execution_count": 85,
   "id": "8287ace0-1f69-43e3-9838-bd8946d53188",
   "metadata": {},
   "outputs": [
    {
     "name": "stdout",
     "output_type": "stream",
     "text": [
      "            n_high  n_low      e_min      e_max\n",
      "Rho_kinase                                     \n",
      "0               95     93   0.000325   0.000406\n",
      "1               93     73   0.019960   0.020041\n",
      "2               73     71   0.099967   0.100048\n",
      "3               71     70   0.239756   0.239837\n",
      "4               70     69   0.619932   0.620013\n",
      "5               69     68   2.919934   2.920013\n",
      "6               68     65   3.502543   3.502612\n",
      "7               65     64   4.899956   4.900024\n",
      "8               64     62   5.999941   6.000003\n",
      "9               62     58   6.348685   6.348743\n",
      "10              58     50   7.339990   7.340047\n",
      "11              50     42   7.879978   7.880032\n",
      "12              42     41  10.000065  10.000116\n",
      "13              41     39  17.319985  17.320071\n",
      "14              39     38  19.599989  19.600050\n",
      "15              38     18  20.000000  20.000051\n",
      "16              18      1  21.269683  21.269760\n",
      "17               1      1  21.269760  21.269760\n"
     ]
    }
   ],
   "source": [
    "print_res(result)"
   ]
  },
  {
   "cell_type": "code",
   "execution_count": 86,
   "id": "e0f0e295-40b8-4952-a259-0e0f67e0a0b0",
   "metadata": {},
   "outputs": [
    {
     "data": {
      "image/png": "[encoded data removed]",
      "text/plain": [
       "<Figure size 576x288 with 1 Axes>"
      ]
     },
     "metadata": {
      "needs_background": "light"
     },
     "output_type": "display_data"
    }
   ],
   "source": [
    "gen_fig(result)"
   ]
  },
  {
   "cell_type": "markdown",
   "id": "8d649e6d-9433-4045-a582-47bb18d25879",
   "metadata": {},
   "source": [
    "## BIOMD488"
   ]
  },
  {
   "cell_type": "code",
   "execution_count": 70,
   "id": "eadc1112-812a-4ba1-946a-df73ab67e19d",
   "metadata": {},
   "outputs": [],
   "source": [
    "res = get_reductions(get_example(\"BIOMD*488\"))\n"
   ]
  },
  {
   "cell_type": "code",
   "execution_count": 71,
   "id": "adcee9f4-d889-493f-915c-76b8c8f0ad4c",
   "metadata": {},
   "outputs": [
    {
     "name": "stdout",
     "output_type": "stream",
     "text": [
      "       n_min  n_max         e_min         e_max\n",
      "GSK3b                                          \n",
      "0         64     63  1.999979e+00  2.000064e+00\n",
      "1         63     61  5.999937e+00  6.000022e+00\n",
      "2         61     60  4.999998e+01  5.000007e+01\n",
      "3         60     59  1.499999e+02  1.500000e+02\n",
      "4         59     49  3.000000e+02  3.000000e+02\n",
      "5         49     45  7.500000e+04  7.500000e+04\n",
      "6         45     42  4.500000e+05  4.500000e+05\n",
      "7         42     38  7.500000e+05  7.500000e+05\n",
      "8         38      3  1.500000e+06  1.500000e+06\n",
      "9          3      1  1.500000e+09  1.500000e+09\n",
      "10         1      1  1.500000e+09  1.500000e+09\n",
      "     n_min  n_max         e_min         e_max\n",
      "ROS                                          \n",
      "0       64     63  1.999961e+00  2.000024e+00\n",
      "1       63     61  5.999945e+00  6.000009e+00\n",
      "2       61     60  4.999996e+01  5.000002e+01\n",
      "3       60     59  1.500000e+02  1.500001e+02\n",
      "4       59     49  3.000000e+02  3.000000e+02\n",
      "5       49     45  7.500000e+04  7.500000e+04\n",
      "6       45     42  4.500000e+05  4.500000e+05\n",
      "7       42     38  7.500000e+05  7.500000e+05\n",
      "8       38     11  1.500000e+06  1.500000e+06\n",
      "9       11      7  7.500000e+06  7.500000e+06\n",
      "10       7      4  1.395000e+07  1.395000e+07\n",
      "11       4      2  1.500000e+07  1.500000e+07\n",
      "12       2      1  1.750000e+07  1.750000e+07\n",
      "13       1      1  1.750000e+07  1.750000e+07\n",
      "     n_min  n_max         e_min         e_max\n",
      "Tau                                          \n",
      "0       64     63  1.999934e+00  2.000000e+00\n",
      "1       63     61  5.999934e+00  6.000000e+00\n",
      "2       61     60  4.999994e+01  5.000000e+01\n",
      "3       60     59  1.499999e+02  1.500000e+02\n",
      "4       59     56  3.000000e+02  3.000000e+02\n",
      "5       56     50  7.500000e+04  7.500000e+04\n",
      "6       50     47  4.500000e+05  4.500000e+05\n",
      "7       47     43  7.500000e+05  7.500000e+05\n",
      "8       43      9  1.500000e+06  1.500000e+06\n",
      "9        9      8  6.000000e+07  6.000000e+07\n",
      "10       8      7  7.500000e+07  7.500000e+07\n",
      "11       7      6  1.500000e+08  1.500000e+08\n",
      "12       6      3  7.500000e+09  7.500000e+09\n",
      "13       3      1  7.500000e+10  7.500000e+10\n",
      "14       1      1  7.500000e+10  7.500000e+10\n",
      "                 n_min  n_max         e_min         e_max\n",
      "GSK3b, ROS, Tau                                          \n",
      "0                   64     63  1.999934e+00  2.000000e+00\n",
      "1                   63     61  5.999934e+00  6.000000e+00\n",
      "2                   61     60  4.999994e+01  5.000000e+01\n",
      "3                   60     59  1.499999e+02  1.500000e+02\n",
      "4                   59     56  3.000000e+02  3.000000e+02\n",
      "5                   56     50  7.500000e+04  7.500000e+04\n",
      "6                   50     47  4.500000e+05  4.500000e+05\n",
      "7                   47     43  7.500000e+05  7.500000e+05\n",
      "8                   43     17  1.500000e+06  1.500000e+06\n",
      "9                   17     13  7.500000e+06  7.500000e+06\n",
      "10                  13     11  1.500000e+07  1.500000e+07\n",
      "11                  11     10  1.750000e+07  1.750000e+07\n",
      "12                  10      9  6.000000e+07  6.000000e+07\n",
      "13                   9      8  7.500000e+07  7.500000e+07\n",
      "14                   8      5  7.500000e+09  7.500000e+09\n",
      "15                   5      3  7.500000e+10  7.500000e+10\n",
      "16                   3      3  7.500000e+10  7.500000e+10\n"
     ]
    }
   ],
   "source": [
    "print_res(res)"
   ]
  },
  {
   "cell_type": "code",
   "execution_count": 72,
   "id": "145aef64-29ac-4b79-ba48-4834f6752808",
   "metadata": {},
   "outputs": [
    {
     "data": {
      "image/png": "[encoded data removed]",
      "text/plain": [
       "<Figure size 1728x576 with 6 Axes>"
      ]
     },
     "metadata": {
      "needs_background": "light"
     },
     "output_type": "display_data"
    }
   ],
   "source": [
    "gen_fig(res)"
   ]
  },
  {
   "cell_type": "markdown",
   "id": "ddcb8d26-6214-4a58-b104-5139710824b1",
   "metadata": {},
   "source": [
    "## BIOMD437"
   ]
  },
  {
   "cell_type": "code",
   "execution_count": 73,
   "id": "ccee35f8-6d83-4fe2-9793-9e18aa9e2b8d",
   "metadata": {},
   "outputs": [],
   "source": [
    "res = get_reductions(get_example(\"BIOMD*437\"))\n"
   ]
  },
  {
   "cell_type": "code",
   "execution_count": 74,
   "id": "cce02184-7d4c-4526-9038-200b94abb77c",
   "metadata": {},
   "outputs": [
    {
     "name": "stdout",
     "output_type": "stream",
     "text": [
      "          n_min  n_max          e_min          e_max\n",
      "frq_mRNA                                            \n",
      "0            21     12       0.000000       0.000083\n",
      "1            12     11      35.555495      35.555578\n",
      "2            11      5     106.666655     106.666738\n",
      "3             5      4     333.333287     333.333370\n",
      "4             4      2     499.999947     500.000030\n",
      "5             2      1  711111.111028  711111.111111\n",
      "6             1      1  711111.111111  711111.111111\n",
      "          n_min  n_max     e_min  e_max\n",
      "frq_gene                               \n",
      "0             1      1  0.999939    1.0\n"
     ]
    }
   ],
   "source": [
    "print_res(res)"
   ]
  },
  {
   "cell_type": "code",
   "execution_count": 75,
   "id": "dd069f5f-c23b-4573-af57-5d58c2003fda",
   "metadata": {},
   "outputs": [
    {
     "name": "stderr",
     "output_type": "stream",
     "text": [
      "/home/alexander/CLUE/notebooks/./../clue/simulations.py:194: UserWarning: Attempting to set identical bottom == top == 1.0 results in singular transformations; automatically expanding.\n",
      "  a.title.set_text(title[i]); a.set_xlim(*xinterval[i]); a.set_ylim(*yinterval[i])\n"
     ]
    },
    {
     "data": {
      "image/png": "[encoded data removed]",
      "text/plain": [
       "<Figure size 1152x288 with 2 Axes>"
      ]
     },
     "metadata": {
      "needs_background": "light"
     },
     "output_type": "display_data"
    }
   ],
   "source": [
    "gen_fig(res)"
   ]
  },
  {
   "cell_type": "markdown",
   "id": "b8c07e24-db35-4306-b348-d6aa4e3640ec",
   "metadata": {},
   "source": [
    "## BIOMD448"
   ]
  },
  {
   "cell_type": "code",
   "execution_count": 76,
   "id": "0cae3e73-f680-48c2-bd7e-a66d7b0872b8",
   "metadata": {},
   "outputs": [],
   "source": [
    "res = get_reductions(get_example(\"BIOMD*448\"))"
   ]
  },
  {
   "cell_type": "code",
   "execution_count": 77,
   "id": "f0452230-46d4-49fa-a1be-90adc2663571",
   "metadata": {},
   "outputs": [
    {
     "name": "stdout",
     "output_type": "stream",
     "text": [
      "        n_min  n_max    e_min     e_max\n",
      "VIEW_0                                 \n",
      "0          19     15  0.01593  0.015991\n",
      "1          15      1  0.99994  1.000000\n",
      "2           1      1  1.00000  1.000000\n"
     ]
    }
   ],
   "source": [
    "print_res(res)"
   ]
  },
  {
   "cell_type": "code",
   "execution_count": 78,
   "id": "ff39c0f7-e32e-4a23-bd69-c36f2023f76b",
   "metadata": {},
   "outputs": [
    {
     "data": {
      "image/png": "[encoded data removed]",
      "text/plain": [
       "<Figure size 576x288 with 1 Axes>"
      ]
     },
     "metadata": {
      "needs_background": "light"
     },
     "output_type": "display_data"
    }
   ],
   "source": [
    "gen_fig(res)"
   ]
  },
  {
   "cell_type": "markdown",
   "id": "92703ca7-aafa-4040-a168-8b6e4047b1a2",
   "metadata": {},
   "source": [
    "## BIOMD634"
   ]
  },
  {
   "cell_type": "code",
   "execution_count": 79,
   "id": "653e451d-1b41-402f-8fc7-bfa38c4bd2d3",
   "metadata": {},
   "outputs": [],
   "source": [
    "res = get_reductions(get_example(\"BIOMD*634\"))"
   ]
  },
  {
   "cell_type": "code",
   "execution_count": 80,
   "id": "e1ef7b52-d2c5-4e67-a852-eb0e3b4f8ccc",
   "metadata": {},
   "outputs": [
    {
     "name": "stdout",
     "output_type": "stream",
     "text": [
      "        n_min  n_max         e_min         e_max\n",
      "VIEW_0                                          \n",
      "0          64     63  1.999979e+00  2.000064e+00\n",
      "1          63     61  5.999937e+00  6.000022e+00\n",
      "2          61     60  4.999998e+01  5.000007e+01\n",
      "3          60     59  1.499999e+02  1.500000e+02\n",
      "4          59     49  3.000000e+02  3.000000e+02\n",
      "5          49     45  7.500000e+04  7.500000e+04\n",
      "6          45     42  4.500000e+05  4.500000e+05\n",
      "7          42     38  7.500000e+05  7.500000e+05\n",
      "8          38      3  1.500000e+06  1.500000e+06\n",
      "9           3      1  1.500000e+09  1.500000e+09\n",
      "10          1      1  1.500000e+09  1.500000e+09\n",
      "        n_min  n_max         e_min         e_max\n",
      "VIEW_1                                          \n",
      "0          64     63  1.999961e+00  2.000024e+00\n",
      "1          63     61  5.999945e+00  6.000009e+00\n",
      "2          61     60  4.999996e+01  5.000002e+01\n",
      "3          60     59  1.500000e+02  1.500001e+02\n",
      "4          59     49  3.000000e+02  3.000000e+02\n",
      "5          49     45  7.500000e+04  7.500000e+04\n",
      "6          45     42  4.500000e+05  4.500000e+05\n",
      "7          42     38  7.500000e+05  7.500000e+05\n",
      "8          38     11  1.500000e+06  1.500000e+06\n",
      "9          11      7  7.500000e+06  7.500000e+06\n",
      "10          7      4  1.395000e+07  1.395000e+07\n",
      "11          4      2  1.500000e+07  1.500000e+07\n",
      "12          2      1  1.750000e+07  1.750000e+07\n",
      "13          1      1  1.750000e+07  1.750000e+07\n",
      "        n_min  n_max         e_min         e_max\n",
      "VIEW_2                                          \n",
      "0          64     63  1.999934e+00  2.000000e+00\n",
      "1          63     61  5.999934e+00  6.000000e+00\n",
      "2          61     60  4.999994e+01  5.000000e+01\n",
      "3          60     59  1.499999e+02  1.500000e+02\n",
      "4          59     56  3.000000e+02  3.000000e+02\n",
      "5          56     50  7.500000e+04  7.500000e+04\n",
      "6          50     47  4.500000e+05  4.500000e+05\n",
      "7          47     43  7.500000e+05  7.500000e+05\n",
      "8          43      9  1.500000e+06  1.500000e+06\n",
      "9           9      8  6.000000e+07  6.000000e+07\n",
      "10          8      7  7.500000e+07  7.500000e+07\n",
      "11          7      6  1.500000e+08  1.500000e+08\n",
      "12          6      3  7.500000e+09  7.500000e+09\n",
      "13          3      1  7.500000e+10  7.500000e+10\n",
      "14          1      1  7.500000e+10  7.500000e+10\n",
      "        n_min  n_max         e_min         e_max\n",
      "VIEW_3                                          \n",
      "0          64     63  1.999934e+00  2.000000e+00\n",
      "1          63     61  5.999934e+00  6.000000e+00\n",
      "2          61     60  4.999994e+01  5.000000e+01\n",
      "3          60     59  1.499999e+02  1.500000e+02\n",
      "4          59     56  3.000000e+02  3.000000e+02\n",
      "5          56     50  7.500000e+04  7.500000e+04\n",
      "6          50     47  4.500000e+05  4.500000e+05\n",
      "7          47     43  7.500000e+05  7.500000e+05\n",
      "8          43     17  1.500000e+06  1.500000e+06\n",
      "9          17     13  7.500000e+06  7.500000e+06\n",
      "10         13     11  1.500000e+07  1.500000e+07\n",
      "11         11     10  1.750000e+07  1.750000e+07\n",
      "12         10      9  6.000000e+07  6.000000e+07\n",
      "13          9      8  7.500000e+07  7.500000e+07\n",
      "14          8      5  7.500000e+09  7.500000e+09\n",
      "15          5      3  7.500000e+10  7.500000e+10\n",
      "16          3      3  7.500000e+10  7.500000e+10\n"
     ]
    }
   ],
   "source": [
    "print_res(res)"
   ]
  },
  {
   "cell_type": "code",
   "execution_count": 81,
   "id": "9fd2472c-cbd3-4e51-b3cc-ed5d6b6eb2ef",
   "metadata": {},
   "outputs": [
    {
     "data": {
      "image/png": "[encoded data removed]",
      "text/plain": [
       "<Figure size 1728x576 with 6 Axes>"
      ]
     },
     "metadata": {
      "needs_background": "light"
     },
     "output_type": "display_data"
    }
   ],
   "source": [
    "gen_fig(res)"
   ]
  },
  {
   "cell_type": "code",
   "execution_count": null,
   "id": "3503546c-6e8f-412c-b626-d494c9e45271",
   "metadata": {},
   "outputs": [],
   "source": []
  }
 ],
 "metadata": {
  "kernelspec": {
   "display_name": "Python 3 (ipykernel)",
   "language": "python",
   "name": "python3"
  },
  "language_info": {
   "codemirror_mode": {
    "name": "ipython",
    "version": 3
   },
   "file_extension": ".py",
   "mimetype": "text/x-python",
   "name": "python",
   "nbconvert_exporter": "python",
   "pygments_lexer": "ipython3",
   "version": "3.10.6"
  }
 },
 "nbformat": 4,
 "nbformat_minor": 5
}
