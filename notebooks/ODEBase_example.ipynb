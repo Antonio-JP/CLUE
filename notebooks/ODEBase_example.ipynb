{
 "cells": [
  {
   "cell_type": "markdown",
   "id": "deafc724-b131-48ff-95f1-370ec0377765",
   "metadata": {},
   "source": [
    "# **Illustrative example of `CLUE` for a model in ODEBase**"
   ]
  },
  {
   "cell_type": "markdown",
   "id": "6d346ea2-ee03-4c8f-a905-8a6d678abcb6",
   "metadata": {},
   "source": [
    "In this notebook we present an example of applying CLUE for a model in [ODEBase](https://www.odebase.org/table/) (`BIOMD0000000102`) and how we can easily use `CLUE` to compute system reductions on the models."
   ]
  },
  {
   "cell_type": "code",
   "execution_count": 1,
   "id": "817949cd-8ffd-4cf9-9220-f8e2a008b2e9",
   "metadata": {},
   "outputs": [],
   "source": [
    "from clue import *"
   ]
  },
  {
   "cell_type": "markdown",
   "id": "3edc95bc-3b87-4996-a688-c9955ee90654",
   "metadata": {},
   "source": [
    "#### **Loading the dynamical system**"
   ]
  },
  {
   "cell_type": "markdown",
   "id": "173deaaf-a0d5-488e-b925-619170d01def",
   "metadata": {},
   "source": [
    "First, we can use the interface of `ode_scrapper` to get the dynamical system directly from the website. Since `CLUE` treats parameters as differential variables, we remove them with the method `remove_parameters_ic`:"
   ]
  },
  {
   "cell_type": "code",
   "execution_count": 2,
   "id": "d8409e01-d713-4ccd-95fb-c85552bcf3af",
   "metadata": {},
   "outputs": [],
   "source": [
    "model = ode_scrapper(name=\"BIOMD0000000102\")\n",
    "model = model.remove_parameters_ic()"
   ]
  },
  {
   "cell_type": "markdown",
   "id": "8abd1ef5-65e2-406c-8da1-708bea03a1c3",
   "metadata": {},
   "source": [
    "We can now check the content of our model"
   ]
  },
  {
   "cell_type": "code",
   "execution_count": 3,
   "id": "1f2b75f8-dd57-441a-a1c7-6f924b3d3d36",
   "metadata": {},
   "outputs": [
    {
     "name": "stdout",
     "output_type": "stream",
     "text": [
      "ODEBase 1402 (BIOMD0000000102)_evaluated\n",
      "13\n",
      "['x1', 'x2', 'x3', 'x4', 'x5', 'x6', 'x7', 'x8', 'x9', 'x10', 'x11', 'x12', 'x13']\n",
      "[]\n",
      "[1/50 + 1/10*x12 + 1/10*x6 + 1/10*x5 + 1/10*x13 - 1/1000*x1 - 1/500*x1*x2 - 1/500*x1*x3 - 1/500*x1*x10 - 1/500*x1*x11, 1/50 + 1/1000*x3 + 1/10*x6 - 1/1000*x2 - 1/500*x1*x2 - 1/1000*x2*x4 - 1/5000*x2*x8, 1/10*x5 - 1/500*x3 + 1/1000*x2*x4 - 1/500*x1*x3, 1/25 + 1/1000*x3 + 1/1000*x5 + 1/1000*x10 + 1/1000*x13 + 1/1000*x9 - 1/1000*x4 - 1/1000*x2*x4 - 1/1000*x4*x6 - 1/1000*x4*x11 - 1/1000*x4*x12 - 3/1000*x4*x8, -51/500*x5 + 1/1000*x4*x6 + 1/500*x1*x3, 1/1000*x5 - 101/1000*x6 + 1/500*x1*x2 - 1/1000*x4*x6 - 1/5000*x6*x8, 1/5 - 1/1000*x7 - 1/200000*x2*x7 - 7/20000*x6*x7 - 1/20000*x7*x11 - 7/2000*x7*x12, 1/1000*x9 - 1/1000*x8 + 1/200000*x2*x7 + 7/20000*x6*x7 + 1/20000*x7*x11 + 7/2000*x7*x12 - 3/1000*x4*x8, -1/500*x9 + 3/1000*x4*x8, 1/10*x13 - 1/500*x10 + 1/1000*x4*x11 - 1/500*x1*x10, 1/10*x12 + 1/1000*x10 - 1/1000*x11 + 1/5000*x2*x8 - 1/1000*x4*x11 - 1/500*x1*x11, 1/1000*x13 - 101/1000*x12 + 1/5000*x6*x8 + 1/500*x1*x11 - 1/1000*x4*x12, -51/500*x13 + 1/1000*x4*x12 + 1/500*x1*x10]\n"
     ]
    }
   ],
   "source": [
    "print(model.name)  # Outputs the name of the model\n",
    "print(model.size)  # Outputs the size of the model\n",
    "print(model.species)  # Lists the biological species\n",
    "print(model.pars)  # Displays the model parameters \n",
    "print(model.equations)  # Shows the model equations"
   ]
  },
  {
   "cell_type": "markdown",
   "id": "a3f518a8-0e20-4fdc-b957-f38a871735cc",
   "metadata": {},
   "source": [
    "#### **Setting up initial condition on the differential system**"
   ]
  },
  {
   "cell_type": "markdown",
   "id": "0b36e067-787c-4e1f-8b03-ad2ea9d83908",
   "metadata": {},
   "source": [
    "Currently, the module `odebase_io` do not load the initial conditions for the system since they are not included in the database. However, we can create these initial conditions by providing a dictionary with the initial conditions:"
   ]
  },
  {
   "cell_type": "code",
   "execution_count": 4,
   "id": "b2c665f3-585b-4b77-9d4f-37aead1bf2fe",
   "metadata": {},
   "outputs": [],
   "source": [
    "# Initial conditions from the paper\n",
    "init_cond = {}\n",
    "init_cond['x1'] = 20\n",
    "init_cond['x2'] = 20\n",
    "init_cond['x4'] = 40\n",
    "init_cond['x7'] = 200\n",
    "\n",
    "# Adding initial conditions (filling missing entries with zeros)\n",
    "model.set_ic(init_cond, fill=True)"
   ]
  },
  {
   "cell_type": "markdown",
   "id": "a2bb7175-3fca-4325-b7d9-d87f1b287654",
   "metadata": {},
   "source": [
    "#### **Computing different lumpings**"
   ]
  },
  {
   "cell_type": "markdown",
   "id": "f614e718-a943-4727-96e6-d469e97a6f08",
   "metadata": {},
   "source": [
    "##### *Exact lumping*"
   ]
  },
  {
   "cell_type": "markdown",
   "id": "8518ee86-47ba-4349-8904-19cfc5275395",
   "metadata": {},
   "source": [
    "We now proceed to compute the exact lumping w.r.t. the variable `x7`:"
   ]
  },
  {
   "cell_type": "code",
   "execution_count": 5,
   "id": "d16609d0-07e8-47ff-8853-7f55b9dc7b3e",
   "metadata": {},
   "outputs": [
    {
     "name": "stderr",
     "output_type": "stream",
     "text": [
      "2024-05-06 11:23:11 WARNING  [lumping] lumped size (13) and original size (13) are the same.\n"
     ]
    }
   ],
   "source": [
    "exact_lump = model.lumping(['x7'])"
   ]
  },
  {
   "cell_type": "markdown",
   "id": "0867345a-fc3b-483b-b537-b437e6d07a91",
   "metadata": {},
   "source": [
    "We can appreciate with the given warning that this exact lumping could not reduced the model. Hence, we proceed to use numerical lumping to try and reduce it a bit further."
   ]
  },
  {
   "cell_type": "markdown",
   "id": "603e9561-15d9-4c86-8cfb-7871b84581a8",
   "metadata": {},
   "source": [
    "##### *Numerical lumping*"
   ]
  },
  {
   "cell_type": "code",
   "execution_count": 7,
   "id": "9623ac5c-31a3-4b4e-a3b0-922f7e172c98",
   "metadata": {},
   "outputs": [],
   "source": [
    "app_lump_1 = model.app_lumping(['x7'])\n",
    "app_lump_1.size"
   ]
  },
  {
   "cell_type": "markdown",
   "id": "bdce68e6-e522-48b6-aedd-e53356a39d9e",
   "metadata": {},
   "source": [
    "This numerical lumping has size 12. This is not a big reduction. We can ask `CLUE` to provide even a further reduction using approximate `CLUE` by setting a maximal size for the reduction:"
   ]
  },
  {
   "cell_type": "code",
   "execution_count": 8,
   "id": "df3464de-86fe-435d-bacb-0d2f90ba6e1d",
   "metadata": {},
   "outputs": [],
   "source": [
    "app_lump_2 = model.app_lumping(['x7'], max_size=10)\n",
    "app_lump_2.size"
   ]
  },
  {
   "cell_type": "markdown",
   "id": "7580000d-4aa5-4cc6-b864-11359a3df1fc",
   "metadata": {},
   "source": [
    "#### **Simulating dynamical systems**"
   ]
  },
  {
   "cell_type": "markdown",
   "id": "d30455a5-e71e-4e8d-a139-cf732b9a7c53",
   "metadata": {},
   "source": [
    "`CLUE` also offer methods to simulate dynamical systems with given initial conditions. We can use this method (`simulate`) to see how much error we have made while computing the two approximate reductions:"
   ]
  },
  {
   "cell_type": "code",
   "execution_count": 9,
   "id": "4734e67a-4c26-4050-bef5-31b9224d9121",
   "metadata": {},
   "outputs": [],
   "source": [
    "# Simulate the system with the previous initial conditions\n",
    "exact_sim = model.simulate(0, 2500, view=[\"x7\"])\n",
    "app_sim_1 = app_lump_1.simulate(0, 2500, view=app_lump_1.observe([\"x7\"]))\n",
    "app_sim_2 = app_lump_2.simulate(0, 2500, view=app_lump_1.observe([\"x7\"]))"
   ]
  },
  {
   "cell_type": "markdown",
   "id": "819ce588-b4a1-402a-8b8a-d4c1b2b92381",
   "metadata": {},
   "source": [
    "In this three simulations, we have the value for `x7` represented in the exact dynamical system (imported from the web) and the two approximate lumpings we have already computed (with dimensions 12 and 7). We can now display this using the method `create_figure` after merging these three simulations:"
   ]
  },
  {
   "cell_type": "code",
   "execution_count": 11,
   "id": "93100495-40e3-409c-8fec-5efcda42a6cb",
   "metadata": {},
   "outputs": [
    {
     "data": {
      "image/png": "[encoded data removed]",
      "text/plain": [
       "<Figure size 800x400 with 1 Axes>"
      ]
     },
     "metadata": {},
     "output_type": "display_data"
    }
   ],
   "source": [
    "# Merge simulation results and plot them\n",
    "merged = merge_simulations([exact_sim, app_sim_1, app_sim_2]) \n",
    "create_figure(merged, names=['Exact', 'App_12', 'App_7']);"
   ]
  },
  {
   "cell_type": "code",
   "execution_count": null,
   "id": "3e04e5a4-1854-41ae-a1e0-7972db7ccdfb",
   "metadata": {},
   "outputs": [],
   "source": []
  }
 ],
 "metadata": {
  "kernelspec": {
   "display_name": "Python 3 (ipykernel)",
   "language": "python",
   "name": "python3"
  },
  "language_info": {
   "codemirror_mode": {
    "name": "ipython",
    "version": 3
   },
   "file_extension": ".py",
   "mimetype": "text/x-python",
   "name": "python",
   "nbconvert_exporter": "python",
   "pygments_lexer": "ipython3",
   "version": "3.11.6"
  },
  "widgets": {
   "application/vnd.jupyter.widget-state+json": {
    "state": {},
    "version_major": 2,
    "version_minor": 0
   }
  }
 },
 "nbformat": 4,
 "nbformat_minor": 5
}
