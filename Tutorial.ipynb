{
 "cells": [
  {
   "cell_type": "markdown",
   "metadata": {},
   "source": [
    "# CLUE tutorial"
   ]
  },
  {
   "cell_type": "markdown",
   "metadata": {},
   "source": [
    "## What does CLUE do?\n",
    "\n",
    "CLUE (Constrained LUmping for differential Eqiations) implements in Python an algorithm that takes as **input**\n",
    "* a system of ODEs with polynomial right-hand side\n",
    "* a list of linear combinations of the unknown functions to be preserved (*observables*)\n",
    "\n",
    "and **returns** the maximal exact reduction of the system by a linear transformation that preserves the given combinations."
   ]
  },
  {
   "cell_type": "markdown",
   "metadata": {},
   "source": [
    "## Basic usage\n",
    "\n",
    "We will demonstrate CLUE on the following system\n",
    "\n",
    "$\\begin{cases} \\dot{x}_1  = x_2^2 + 4x_2x_3 + 4x_3^2,\\\\ \\dot{x}_2  =  4x_3 - 2x_1,\\\\ \\dot{x}_3  = x_1 + x_2 \\end{cases}$\n",
    "\n",
    "with the combination to preserve being just $x_1$."
   ]
  },
  {
   "cell_type": "markdown",
   "metadata": {},
   "source": [
    "1. import relevant functions from sympy and the function that does lumping:"
   ]
  },
  {
   "cell_type": "code",
   "execution_count": 1,
   "metadata": {},
   "outputs": [],
   "source": [
    "from sympy import vring, QQ\n",
    "from clue import do_lumping"
   ]
  },
  {
   "cell_type": "markdown",
   "metadata": {},
   "source": [
    "2. Introduce the variables $x_1, x_2, x_3$ by defining the ring of polynomials in these variables (QQ refers to the coefficients being rational numbers; for other options, see below)"
   ]
  },
  {
   "cell_type": "code",
   "execution_count": 2,
   "metadata": {},
   "outputs": [],
   "source": [
    "R = vring([\"x1\", \"x2\", \"x3\"], QQ)"
   ]
  },
  {
   "cell_type": "markdown",
   "metadata": {},
   "source": [
    "3. Construct a list of right-hand sides of the ODE. The right-hand sides must be in the same order as the variables in the definition of the ring"
   ]
  },
  {
   "cell_type": "code",
   "execution_count": 3,
   "metadata": {},
   "outputs": [],
   "source": [
    "ode = [\n",
    "    x2**2 + 4 * x2 * x3 + 4 * x3**2, # derivative of x1\n",
    "    4 * x3 - 2 * x1,                 # derivative of x2\n",
    "    x1 + x2                          # derivative of x3\n",
    "]"
   ]
  },
  {
   "cell_type": "markdown",
   "metadata": {},
   "source": [
    "4. Call `do_lumping` providing the system and the combinations to preserve, that is, `[x1]`"
   ]
  },
  {
   "cell_type": "code",
   "execution_count": 4,
   "metadata": {},
   "outputs": [
    {
     "name": "stdout",
     "output_type": "stream",
     "text": [
      "Original system:\n",
      "x1 = x2**2 + 4*x2*x3 + 4*x3**2\n",
      "x2 = -2*x1 + 4*x3\n",
      "x3 = x1 + x2\n",
      "Outputs to fix:\n",
      "[x1]\n",
      "New variables:\n",
      "y0 = x1\n",
      "y1 = x2 + 2*x3\n",
      "Lumped system:\n",
      "y0 = y1**2\n",
      "y1 = 2*y1\n"
     ]
    },
    {
     "data": {
      "text/plain": [
       "{'polynomials': [y1**2, 2*y1], 'subspace': [[1, 0, 0], [0, 1, 2]]}"
      ]
     },
     "execution_count": 4,
     "metadata": {},
     "output_type": "execute_result"
    }
   ],
   "source": [
    "do_lumping(ode, [x1])"
   ]
  },
  {
   "cell_type": "markdown",
   "metadata": {},
   "source": [
    "The computation shows that, in the new variables,\n",
    "\n",
    "$y_1 = x_1 \\quad \\text{ and }\\quad y_2 = x_2 + 2x_3,$\n",
    "\n",
    "the system will be reduced to \n",
    "\n",
    "$\\begin{cases} \\dot{y}_1 = y_2^2, \\\\ \\dot{y_2} = 2y_2. \\end{cases}$\n",
    "\n",
    "The `polynomials` part of the output dictionary refers to the right-hand side of the reduced model, and the `subspace` part gives the coefficients for expressing $y_1$ and $y_2$ in terms of $x_1, x_2, x_3$.\n",
    "\n",
    "*Remark:* to supress the output, use `verbose=False` keyword argument."
   ]
  },
  {
   "cell_type": "markdown",
   "metadata": {},
   "source": [
    "## Subtleties and extra options"
   ]
  },
  {
   "cell_type": "markdown",
   "metadata": {},
   "source": [
    "### Rational numbers"
   ]
  },
  {
   "cell_type": "markdown",
   "metadata": {},
   "source": [
    "If the model involves rational numbers, e.g. $\\frac{2}{3}$, writing `2/3` will yield a floating point number and make the subsequent computation inexact.\n",
    "\n",
    "We recommend to define a rational number $\\frac{p}{q}$ as `QQ(p, q)`. For example, consider the system\n",
    "\n",
    "$\\begin{cases}\\dot{x}_1 = x_1 + \\frac{x_2}{3},\\\\ \\dot{x}_2 = -\\frac{2x_1}{3}, \\end{cases}$\n",
    "\n",
    "where the observable to preserve is $x_1 + x_2$.\n",
    "The maximal lumping can be found as follows:"
   ]
  },
  {
   "cell_type": "code",
   "execution_count": 5,
   "metadata": {},
   "outputs": [
    {
     "name": "stdout",
     "output_type": "stream",
     "text": [
      "Original system:\n",
      "x1 = x1 + x2/3\n",
      "x2 = -2*x1/3\n",
      "Outputs to fix:\n",
      "[x1 + x2]\n",
      "New variables:\n",
      "y0 = x1 + x2\n",
      "Lumped system:\n",
      "y0 = y0/3\n"
     ]
    },
    {
     "data": {
      "text/plain": [
       "{'polynomials': [1/3*y0], 'subspace': [[1, 1]]}"
      ]
     },
     "execution_count": 5,
     "metadata": {},
     "output_type": "execute_result"
    }
   ],
   "source": [
    "R = vring([\"x1\", \"x2\"], QQ)\n",
    "ode = [\n",
    "    x1 + QQ(1, 3) * x2,\n",
    "    QQ(-2, 3) * x1\n",
    "]\n",
    "do_lumping(ode, [x1 + x2])"
   ]
  },
  {
   "cell_type": "markdown",
   "metadata": {},
   "source": [
    "### Unknown scalar parameters\n",
    "\n",
    "It often happens that the system of interest involves unknown scalar parameters, for example:\n",
    "\n",
    "$\\begin{cases}\n",
    "  \\dot{x}_1 = ax_1 + bx_2,\\\\\n",
    "  \\dot{x}_2 = bx_1 + ax_2\n",
    "\\end{cases}$\n",
    "\n",
    "with observable $x_1 + x_2$.\n",
    "\n",
    "We will describe two different ways of applying CLUE to such models."
   ]
  },
  {
   "cell_type": "markdown",
   "metadata": {},
   "source": [
    "**Convert the parameters into states with zero derivative**\n",
    "\n",
    "One can rewrite the system above as\n",
    "\n",
    "$\\begin{cases}\n",
    "  \\dot{x}_1 = a x_1 + b x_2,\\\\\n",
    "  \\dot{x}_2 = b x_1 + a x_2,\\\\\n",
    "  \\dot{a} = 0,\\\\\n",
    "  \\dot{b} = 0.\n",
    "\\end{cases}$\n",
    "\n",
    "And then apply CLUE:"
   ]
  },
  {
   "cell_type": "code",
   "execution_count": 6,
   "metadata": {},
   "outputs": [
    {
     "name": "stdout",
     "output_type": "stream",
     "text": [
      "Original system:\n",
      "x1 = a*x1 + b*x2\n",
      "x2 = a*x2 + b*x1\n",
      "a = 0\n",
      "b = 0\n",
      "Outputs to fix:\n",
      "[x1 + x2]\n",
      "New variables:\n",
      "y0 = x1 + x2\n",
      "y1 = a + b\n",
      "Lumped system:\n",
      "y0 = y0*y1\n",
      "y1 = 0\n"
     ]
    },
    {
     "data": {
      "text/plain": [
       "{'polynomials': [y0*y1, 0], 'subspace': [[1, 1, 0, 0], [0, 0, 1, 1]]}"
      ]
     },
     "execution_count": 6,
     "metadata": {},
     "output_type": "execute_result"
    }
   ],
   "source": [
    "R = vring([\"x1\", \"x2\", \"a\", \"b\"], QQ)\n",
    "ode = [\n",
    "    a * x1 + b * x2,\n",
    "    b * x1 + a * x2,\n",
    "    R(0), # this means that zero is interpreted as zero polynomial, not the zero number\n",
    "    R(0)\n",
    "]\n",
    "do_lumping(ode, [x1 + x2])"
   ]
  },
  {
   "cell_type": "markdown",
   "metadata": {},
   "source": [
    "Observe that:\n",
    "* CLUE has also discovered a *reduction for the parameters* suggesting a single macroparameter $y_1 = a + b$\n",
    "* the new variables will be always linear combinations of the original variables and parameters. If you would like to search for a combination with coefficients involving parameters, use the next method."
   ]
  },
  {
   "cell_type": "markdown",
   "metadata": {},
   "source": [
    "**Include symbols $a$ and $b$ into the coefficient field**.\n",
    "\n",
    "Another option would be to set the coefficient field to be rational functions in the parameters. This method will generally be slower than the previous one because we have an improved version of algorithm for the rational coefficients."
   ]
  },
  {
   "cell_type": "code",
   "execution_count": 7,
   "metadata": {},
   "outputs": [
    {
     "name": "stdout",
     "output_type": "stream",
     "text": [
      "Original system:\n",
      "x1 = a*x1 + b*x2\n",
      "x2 = a*x2 + b*x1\n",
      "Outputs to fix:\n",
      "[x1 + x2]\n",
      "New variables:\n",
      "y0 = x1 + x2\n",
      "Lumped system:\n",
      "y0 = y0*(a + b)\n"
     ]
    },
    {
     "data": {
      "text/plain": [
       "{'polynomials': [(a + b)*y0], 'subspace': [[1, 1]]}"
      ]
     },
     "execution_count": 7,
     "metadata": {},
     "output_type": "execute_result"
    }
   ],
   "source": [
    "# defining the coefficient field\n",
    "from sympy import FractionField\n",
    "coef_field = FractionField(QQ, [\"a\", \"b\"])\n",
    "a, b = coef_field.gens\n",
    "\n",
    "# defining a system over this field\n",
    "R = vring([\"x1\", \"x2\"], coef_field)\n",
    "ode = [\n",
    "    a * x1 + b * x2,\n",
    "    b * x1 + a * x2\n",
    "]\n",
    "do_lumping(ode, [x1 + x2])"
   ]
  },
  {
   "cell_type": "markdown",
   "metadata": {},
   "source": [
    "As has been mentioned above, this method allows to find lumpings in which the new variables are expressed as combinations of the original ones with the *coefficients involving parameters*. For example:"
   ]
  },
  {
   "cell_type": "code",
   "execution_count": 8,
   "metadata": {},
   "outputs": [
    {
     "name": "stdout",
     "output_type": "stream",
     "text": [
      "Original system:\n",
      "x1 = a*x2 + b*x3\n",
      "x2 = x2\n",
      "x3 = x3\n",
      "Outputs to fix:\n",
      "[x1]\n",
      "New variables:\n",
      "y0 = x1\n",
      "y1 = x2 + b*x3/a\n",
      "Lumped system:\n",
      "y0 = a*y1\n",
      "y1 = y1\n"
     ]
    },
    {
     "data": {
      "text/plain": [
       "{'polynomials': [a*y1, y1], 'subspace': [[1, 0, 0], [0, 1, b/a]]}"
      ]
     },
     "execution_count": 8,
     "metadata": {},
     "output_type": "execute_result"
    }
   ],
   "source": [
    "# defining the coefficient field\n",
    "from sympy import FractionField\n",
    "coef_field = FractionField(QQ, [\"a\", \"b\"])\n",
    "a, b = coef_field.gens\n",
    "\n",
    "# defining a system over this field\n",
    "R = vring([\"x1\", \"x2\", \"x3\"], coef_field)\n",
    "ode = [\n",
    "    a * x2 + b * x3,\n",
    "    x2, \n",
    "    x3\n",
    "]\n",
    "do_lumping(ode, [x1])"
   ]
  },
  {
   "cell_type": "markdown",
   "metadata": {},
   "source": [
    "### Irrational coefficients\n",
    "\n",
    "A system may involve irrational coefficients (e.g., $\\sqrt{2}$). For example, consider a reaction system from the paper [\"A general analysis of exact nonlinear lumping in chemical kinetics\" (Example 2)](https://doi.org/10.1016/0009-2509(94)87006-3) by Li and Rabitz:\n",
    "\n",
    "$\\begin{cases}\n",
    "  \\dot{x}_1 = -2 x_1 - 2 x_1 x_2 + 4 x_3 x_4,\\\\\n",
    "  \\dot{x}_2 = -2 x_2 - 2 x_1 x_2 + 4 x_3 x_4,\\\\\n",
    "  \\dot{x}_3 = -2 x_3 - 4 x_3 x_4 + 2 x_1 x_2,\\\\\n",
    "  \\dot{x}_4 = -2 x_4 - 4 x_3 x_4 + 2 x_1 x_2,\\\\\n",
    "  \\dot{x}_5 = -x_5 + x_1 + 2 x_2 + \\sqrt{2} x_6,\\\\\n",
    "  \\dot{x}_6 = -\\sqrt{2} x_6 + 2 x_3 + x_5,\\\\\n",
    "  \\dot{x}_7 = -\\sqrt{2} x_7 + x_1 + x_8,\\\\\n",
    "  \\dot{x}_8 = -x_8 + 2 x_4 + \\sqrt{2} x_7\n",
    "\\end{cases}$\n",
    "\n",
    "with observable $x_5 - \\sqrt{2} x_6$.\n",
    "In order to apply CLUE to the system, one can include $\\sqrt{2}$ into the field of coefficients as follows:"
   ]
  },
  {
   "cell_type": "code",
   "execution_count": 9,
   "metadata": {},
   "outputs": [
    {
     "name": "stdout",
     "output_type": "stream",
     "text": [
      "Original system:\n",
      "x1 = -2*x1*x2 - 2*x1 + 4*x3*x4\n",
      "x2 = -2*x1*x2 - 2*x2 + 4*x3*x4\n",
      "x3 = 2*x1*x2 - 4*x3*x4 - 2*x3\n",
      "x4 = 2*x1*x2 - 4*x3*x4 - 2*x4\n",
      "x5 = x1 + 2*x2 - x5 + sqrt(2)*x6\n",
      "x6 = 2*x3 + x5 - sqrt(2)*x6\n",
      "x7 = x1 - sqrt(2)*x7 + x8\n",
      "x8 = 2*x4 + sqrt(2)*x7 - x8\n",
      "Outputs to fix:\n",
      "[-sqrt(2)*x7 + x8]\n",
      "New variables:\n",
      "y0 = x1\n",
      "y1 = x2\n",
      "y2 = x3\n",
      "y3 = x4\n",
      "y4 = x7 - sqrt(2)*x8/2\n",
      "Lumped system:\n",
      "y0 = -2*y0*y1 - 2*y0 + 4*y2*y3\n",
      "y1 = -2*y0*y1 - 2*y1 + 4*y2*y3\n",
      "y2 = 2*y0*y1 - 4*y2*y3 - 2*y2\n",
      "y3 = 2*y0*y1 - 4*y2*y3 - 2*y3\n",
      "y4 = y0 - sqrt(2)*y3 + y4*(-sqrt(2) - 1)\n"
     ]
    }
   ],
   "source": [
    "from sympy import sqrt\n",
    "R = vring([f\"x{i + 1}\" for i in range(8)], QQ.algebraic_field(sqrt(2)))\n",
    "\n",
    "ode = [\n",
    "    -2 * x1 - 2 * x1 * x2 + 4 * x3 * x4,\n",
    "    -2 * x2 - 2 * x1 * x2 + 4 * x3 * x4,\n",
    "    -2 * x3 - 4 * x3 * x4 + 2 * x1 * x2,\n",
    "    -2 * x4 - 4 * x3 * x4 + 2 * x1 * x2,\n",
    "    -x5 + x1 + 2 * x2 + sqrt(2) * x6,\n",
    "    -sqrt(2) * x6 + 2 * x3 + x5,\n",
    "    -sqrt(2) * x7 + x1 + x8,\n",
    "    -x8 + 2 * x4 + sqrt(2) * x7\n",
    "]\n",
    "res = do_lumping(ode, [x8 - sqrt(2) * x7])"
   ]
  }
 ],
 "metadata": {
  "kernelspec": {
   "display_name": "Python 3",
   "language": "python",
   "name": "python3"
  },
  "language_info": {
   "codemirror_mode": {
    "name": "ipython",
    "version": 3
   },
   "file_extension": ".py",
   "mimetype": "text/x-python",
   "name": "python",
   "nbconvert_exporter": "python",
   "pygments_lexer": "ipython3",
   "version": "3.6.9"
  }
 },
 "nbformat": 4,
 "nbformat_minor": 4
}
