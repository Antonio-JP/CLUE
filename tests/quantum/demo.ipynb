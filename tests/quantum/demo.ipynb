{
 "cells": [
  {
   "cell_type": "markdown",
   "id": "8fa75102-155d-4c67-898a-7098059750f8",
   "metadata": {},
   "source": [
    "# **Reduction of Quantum Circuits using CLUE**$\\def\\bx{\\mathbf{x}}\\def\\quant#1{\\left|#1\\right\\rangle}\\def\\cc{\\mathbb{C}}$"
   ]
  },
  {
   "cell_type": "code",
   "execution_count": 1,
   "id": "b705254d-93e8-46c4-ada6-c005324f3648",
   "metadata": {},
   "outputs": [],
   "source": [
    "import sys; sys.path.insert(0, \"../..\") # clue is here\n",
    "from clue.qiskit import *\n",
    "from numpy import array, matmul, cdouble, sqrt, arccos, cos, sin\n",
    "from numpy.random import rand"
   ]
  },
  {
   "cell_type": "markdown",
   "id": "2e982919-ba60-42d9-8c1b-6f3b82026ea6",
   "metadata": {
    "jp-MarkdownHeadingCollapsed": true,
    "tags": []
   },
   "source": [
    "## 1. Description of methodology"
   ]
  },
  {
   "cell_type": "markdown",
   "id": "46116712-951e-4c4f-9b8e-3bfdf6e03087",
   "metadata": {},
   "source": [
    "In this notebook we show how we can use CLUE to reduce a Quantum circuit described in `qasm`. Without really understanding what is going on under the hood, we know that, given a quantum circuit there is a unitary matrix associated that represents the quantum computations that are done in the circuit.\n",
    "\n",
    "In my current intuition, if the circuit hsa $n$ q-bits, then there is a complex $2^n\\times 2^n$ matrix $A$ that act like a \"Markov matrix\" over a valid superposition of states. Namely, if we have the state $\\bx = (x_0,\\ldots,x_{2^n-1})$ where the $x_i$ entry represent the part of the superposition corresponding with the state $\\quant{i}$, then we obtain the state $A\\bx^T$ after applying the quantum circuit.\n",
    "\n",
    "We would like to get a reduction (lumping) $L \\in \\cc^{m\\times 2^n}$ for this matrix $A$ that helps to reduce the size or simplify the understanding of the circuit. For doing so we do the following:\n",
    "\n",
    "1. Read a `qasm` file as taken from the benchmarks in this website: [Benchmarks](https://www.cda.cit.tum.de/mqtbench/)\n",
    "2. We compute the unitary matrix $A$ for the circuit:\n",
    "   * We need to remove all measures from the `qasm` file.\n",
    "   * It seems the software `qiskit` does simulations over the circuit in order to compute this unitary matrix.\n",
    "3. We use this matrix to set up a dynamical system of the form $\\bx_{k+1}^T = A\\bx_k^T$ (this system is not actually happening, but may be interesting to remember).\n",
    "4. We run CLUE for this system for a given observable (currently we take one of the variables) $\\longrightarrow$ we get a matrix $L$.\n",
    "   * We run *approximate CLUE* since the unitary matrix has double precision complex numbers as inputs.\n",
    "   * We have adapted the code of CLUE to *run over the complex numbers* too.\n",
    "   * In some cases, when we get a reduction it is an exact lumping (at least in the QFT models that has been checked by hand).\n",
    "   * The matrix $L$ is orthonormal, meaning that the reduced system is defined again by a unitary matrix."
   ]
  },
  {
   "cell_type": "markdown",
   "id": "541061cc-7730-4a68-ac09-9151daaa5341",
   "metadata": {
    "jp-MarkdownHeadingCollapsed": true,
    "tags": []
   },
   "source": [
    "## 2. Some examples "
   ]
  },
  {
   "cell_type": "markdown",
   "id": "589b0c36-edc5-48f6-9ddb-3b3fb1d7297a",
   "metadata": {},
   "source": [
    "Let us show in the code how to compute these reductions using CLUE for the QFT algorithm with 3 q-bits. \n",
    "\n",
    "**Remark**: the `qasm` files are included in the folder `circuits`."
   ]
  },
  {
   "cell_type": "code",
   "execution_count": 2,
   "id": "018dcbaa-bb72-47f7-9a33-fb7780ffbd0a",
   "metadata": {},
   "outputs": [
    {
     "data": {
      "text/plain": [
       "circuit-117 [DS_QuantumCircuit -- 8 -- SparsePolynomial]"
      ]
     },
     "execution_count": 2,
     "metadata": {},
     "output_type": "execute_result"
    }
   ],
   "source": [
    "system = DS_QuantumCircuit(\"circuits/qft_indep_qiskit_3.qasm\"); system"
   ]
  },
  {
   "cell_type": "markdown",
   "id": "8d98f997-50da-4e34-b0d8-a6273c071c76",
   "metadata": {
    "tags": []
   },
   "source": [
    "### The data in the system"
   ]
  },
  {
   "cell_type": "markdown",
   "id": "06081d31-c1f3-47ec-bc06-95f78d2d86e8",
   "metadata": {},
   "source": [
    "We can show the equations of the system:"
   ]
  },
  {
   "cell_type": "code",
   "execution_count": 3,
   "id": "8429d473-1464-4188-b12a-47cfad4afd79",
   "metadata": {},
   "outputs": [
    {
     "name": "stdout",
     "output_type": "stream",
     "text": [
      "0  ->  (0.353553390593274 + 0.0j)*Q_000 + (0.353553390593274 - 4.32978028117747e-17j)*Q_001 + (0.353553390593274 - 4.32978028117747e-17j)*Q_010 + (0.353553390593274 - 8.65956056235493e-17j)*Q_011 + (0.353553390593274 - 4.32978028117747e-17j)*Q_100 + (0.353553390593274 - 8.65956056235493e-17j)*Q_101 + (0.353553390593274 - 8.65956056235493e-17j)*Q_110 + (0.353553390593274 - 1.29893408435324e-16j)*Q_111\n",
      "1  ->  (0.353553390593274 + 0.0j)*Q_000 + (0.25 + 0.25j)*Q_001 + (6.4946704217662e-17 + 0.353553390593274j)*Q_010 + (-0.25 + 0.25j)*Q_011 + (-0.353553390593274 + 4.32978028117747e-17j)*Q_100 + (-0.25 - 0.25j)*Q_101 + (-1.08244507029437e-16 - 0.353553390593274j)*Q_110 + (0.25 - 0.25j)*Q_111\n",
      "2  ->  (0.353553390593274 + 0.0j)*Q_000 + (6.4946704217662e-17 + 0.353553390593274j)*Q_001 + (-0.353553390593274 + 4.32978028117747e-17j)*Q_010 + (-1.08244507029437e-16 - 0.353553390593274j)*Q_011 + (0.353553390593274 - 4.32978028117747e-17j)*Q_100 + (1.08244507029437e-16 + 0.353553390593274j)*Q_101 + (-0.353553390593274 + 8.65956056235493e-17j)*Q_110 + (-1.51542309841211e-16 - 0.353553390593274j)*Q_111\n",
      "3  ->  (0.353553390593274 + 0.0j)*Q_000 + (-0.25 + 0.25j)*Q_001 + (-6.4946704217662e-17 - 0.353553390593274j)*Q_010 + (0.25 + 0.25j)*Q_011 + (-0.353553390593274 + 4.32978028117747e-17j)*Q_100 + (0.25 - 0.25j)*Q_101 + (1.08244507029437e-16 + 0.353553390593274j)*Q_110 + (-0.25 - 0.25j)*Q_111\n",
      "4  ->  (0.353553390593274 + 0.0j)*Q_000 + (-0.353553390593274 + 4.32978028117747e-17j)*Q_001 + (0.353553390593274 - 4.32978028117747e-17j)*Q_010 + (-0.353553390593274 + 8.65956056235493e-17j)*Q_011 + (0.353553390593274 - 4.32978028117747e-17j)*Q_100 + (-0.353553390593274 + 8.65956056235493e-17j)*Q_101 + (0.353553390593274 - 8.65956056235493e-17j)*Q_110 + (-0.353553390593274 + 1.29893408435324e-16j)*Q_111\n",
      "5  ->  (0.353553390593274 + 0.0j)*Q_000 + (-0.25 - 0.25j)*Q_001 + (6.4946704217662e-17 + 0.353553390593274j)*Q_010 + (0.25 - 0.25j)*Q_011 + (-0.353553390593274 + 4.32978028117747e-17j)*Q_100 + (0.25 + 0.25j)*Q_101 + (-1.08244507029437e-16 - 0.353553390593274j)*Q_110 + (-0.25 + 0.25j)*Q_111\n",
      "6  ->  (0.353553390593274 + 0.0j)*Q_000 + (-6.4946704217662e-17 - 0.353553390593274j)*Q_001 + (-0.353553390593274 + 4.32978028117747e-17j)*Q_010 + (1.08244507029437e-16 + 0.353553390593274j)*Q_011 + (0.353553390593274 - 4.32978028117747e-17j)*Q_100 + (-1.08244507029437e-16 - 0.353553390593274j)*Q_101 + (-0.353553390593274 + 8.65956056235493e-17j)*Q_110 + (1.51542309841211e-16 + 0.353553390593274j)*Q_111\n",
      "7  ->  (0.353553390593274 + 0.0j)*Q_000 + (0.25 - 0.25j)*Q_001 + (-6.4946704217662e-17 - 0.353553390593274j)*Q_010 + (-0.25 - 0.25j)*Q_011 + (-0.353553390593274 + 4.32978028117747e-17j)*Q_100 + (-0.25 + 0.25j)*Q_101 + (1.08244507029437e-16 + 0.353553390593274j)*Q_110 + (0.25 + 0.25j)*Q_111\n"
     ]
    }
   ],
   "source": [
    "for (i,equ) in enumerate(system.equations): \n",
    "    print(i, \" -> \", equ)"
   ]
  },
  {
   "cell_type": "markdown",
   "id": "442761a9-3c6a-4e7d-954b-1b11ad2cf84f",
   "metadata": {},
   "source": [
    "Or, since the system is linear, we can show the unitary matrix from the system:"
   ]
  },
  {
   "cell_type": "code",
   "execution_count": 4,
   "id": "fda9da7a-c64b-4981-8a6f-d6c4f74840fd",
   "metadata": {},
   "outputs": [
    {
     "name": "stdout",
     "output_type": "stream",
     "text": [
      "0  ->  [0.35355+0.j 0.35355+0.j 0.35355+0.j 0.35355+0.j 0.35355+0.j 0.35355+0.j\n",
      " 0.35355+0.j 0.35355+0.j]\n",
      "1  ->  [ 0.35355-0.j       0.25   +0.25j     0.     +0.35355j -0.25   +0.25j\n",
      " -0.35355+0.j      -0.25   -0.25j    -0.     -0.35355j  0.25   -0.25j   ]\n",
      "2  ->  [ 0.35355-0.j       0.     +0.35355j -0.35355+0.j      -0.     -0.35355j\n",
      "  0.35355-0.j       0.     +0.35355j -0.35355+0.j      -0.     -0.35355j]\n",
      "3  ->  [ 0.35355-0.j      -0.25   +0.25j    -0.     -0.35355j  0.25   +0.25j\n",
      " -0.35355+0.j       0.25   -0.25j     0.     +0.35355j -0.25   -0.25j   ]\n",
      "4  ->  [ 0.35355-0.j -0.35355+0.j  0.35355-0.j -0.35355+0.j  0.35355-0.j\n",
      " -0.35355+0.j  0.35355-0.j -0.35355+0.j]\n",
      "5  ->  [ 0.35355-0.j      -0.25   -0.25j     0.     +0.35355j  0.25   -0.25j\n",
      " -0.35355+0.j       0.25   +0.25j    -0.     -0.35355j -0.25   +0.25j   ]\n",
      "6  ->  [ 0.35355-0.j      -0.     -0.35355j -0.35355+0.j       0.     +0.35355j\n",
      "  0.35355-0.j      -0.     -0.35355j -0.35355+0.j       0.     +0.35355j]\n",
      "7  ->  [ 0.35355-0.j       0.25   -0.25j    -0.     -0.35355j -0.25   -0.25j\n",
      " -0.35355+0.j      -0.25   +0.25j     0.     +0.35355j  0.25   +0.25j   ]\n"
     ]
    }
   ],
   "source": [
    "A = system.construct_matrices(\"polynomial\")[0].to_numpy(dtype=cdouble)\n",
    "for (i,row) in enumerate(A.round(5)):\n",
    "    print(i, \" -> \", row)"
   ]
  },
  {
   "cell_type": "markdown",
   "id": "1b357498-9c7a-4029-8f60-1601a08d1b2d",
   "metadata": {},
   "source": [
    "### Computing the lumping"
   ]
  },
  {
   "cell_type": "markdown",
   "id": "e3ce4e5f-959a-40aa-8ef8-d5eda8eef3cf",
   "metadata": {},
   "source": [
    "Let say we want to compute the lumping with respect to the state $\\quant{100} = \\quant{4}$. We can do that with the following code:"
   ]
  },
  {
   "cell_type": "code",
   "execution_count": 5,
   "id": "8db6c457-647c-481b-968b-01bbd42108cd",
   "metadata": {},
   "outputs": [
    {
     "name": "stdout",
     "output_type": "stream",
     "text": [
      "New variables:\n",
      "y0 = Q_100\n",
      "y1 = (0.377964473009227 + 0.0j)*Q_000 + (-0.377964473009227 - 4.62872982062167e-17j)*Q_001 + (0.377964473009227 + 4.62872982062166e-17j)*Q_010 + (-0.377964473009227 - 9.25745964124333e-17j)*Q_011 + (-0.377964473009227 - 9.25745964124333e-17j)*Q_101 + (0.377964473009227 + 9.25745964124332e-17j)*Q_110 + (-0.377964473009227 - 1.3886189461865e-16j)*Q_111\n",
      "New initial conditions:\n",
      "Lumped system:\n",
      "y0' = (0.935414346693485 + 7.8702812005206e-33j)*y1 + (0.353553390593274 - 4.32978028117747e-17j)*y0\n",
      "y1' = (-0.353553390593274 - 7.32847151738175e-17j)*y1 + (0.935414346693485 + 6.54601248888394e-17j)*y0\n"
     ]
    }
   ],
   "source": [
    "lumped = system.lumping([system.variables[4]])"
   ]
  },
  {
   "cell_type": "markdown",
   "id": "ca34b0f9-e707-4446-b68c-77815fb831a9",
   "metadata": {},
   "source": [
    "We can get the lumping matrix (as read from the previous output):"
   ]
  },
  {
   "cell_type": "code",
   "execution_count": 6,
   "id": "41c1d91f-1023-4df3-b51a-5667c8613873",
   "metadata": {},
   "outputs": [
    {
     "data": {
      "text/plain": [
       "array([[ 0.        +0.00000000e+00j,  0.        +0.00000000e+00j,\n",
       "         0.        +0.00000000e+00j,  0.        +0.00000000e+00j,\n",
       "         1.        +0.00000000e+00j,  0.        +0.00000000e+00j,\n",
       "         0.        +0.00000000e+00j,  0.        +0.00000000e+00j],\n",
       "       [ 0.37796447+0.00000000e+00j, -0.37796447-4.62872982e-17j,\n",
       "         0.37796447+4.62872982e-17j, -0.37796447-9.25745964e-17j,\n",
       "         0.        +0.00000000e+00j, -0.37796447-9.25745964e-17j,\n",
       "         0.37796447+9.25745964e-17j, -0.37796447-1.38861895e-16j]])"
      ]
     },
     "execution_count": 6,
     "metadata": {},
     "output_type": "execute_result"
    }
   ],
   "source": [
    "L = lumped.lumping_matrix.to_numpy(dtype=cdouble); L"
   ]
  },
  {
   "cell_type": "markdown",
   "id": "e05e78b5-773f-4be9-b3ac-57c3c5dd9687",
   "metadata": {},
   "source": [
    "And we can check that the matrix for the new system is unitary:"
   ]
  },
  {
   "cell_type": "code",
   "execution_count": 7,
   "id": "99679864-fb03-495a-9b4b-5e115dbbe5d1",
   "metadata": {},
   "outputs": [
    {
     "data": {
      "text/plain": [
       "array([[1.+0.j, 0.+0.j],\n",
       "       [0.-0.j, 1.+0.j]])"
      ]
     },
     "execution_count": 7,
     "metadata": {},
     "output_type": "execute_result"
    }
   ],
   "source": [
    "A = lumped.construct_matrices(\"polynomial\")[0].to_numpy(dtype=cdouble)\n",
    "matmul(A, A.transpose().conjugate()).round(15)"
   ]
  },
  {
   "cell_type": "markdown",
   "id": "3f7893ff-02c8-4384-a289-77282dd4d1a1",
   "metadata": {
    "jp-MarkdownHeadingCollapsed": true,
    "tags": []
   },
   "source": [
    "## 3. Compiling some results"
   ]
  },
  {
   "cell_type": "markdown",
   "id": "56a484f3-e120-4249-804d-977ec9483da3",
   "metadata": {},
   "source": [
    "Here we present a table with some results after running the lumping algorithm for several observables:"
   ]
  },
  {
   "cell_type": "code",
   "execution_count": 8,
   "id": "d610f588-25ca-4be7-9297-b0074c606d18",
   "metadata": {},
   "outputs": [],
   "source": [
    "import pandas as pd"
   ]
  },
  {
   "cell_type": "code",
   "execution_count": 11,
   "id": "bac8e62a-eb20-40af-bc04-909ea106bd16",
   "metadata": {},
   "outputs": [
    {
     "data": {
      "text/html": [
       "<div>\n",
       "<style scoped>\n",
       "    .dataframe tbody tr th:only-of-type {\n",
       "        vertical-align: middle;\n",
       "    }\n",
       "\n",
       "    .dataframe tbody tr th {\n",
       "        vertical-align: top;\n",
       "    }\n",
       "\n",
       "    .dataframe thead th {\n",
       "        text-align: right;\n",
       "    }\n",
       "</style>\n",
       "<table border=\"1\" class=\"dataframe\">\n",
       "  <thead>\n",
       "    <tr style=\"text-align: right;\">\n",
       "      <th></th>\n",
       "      <th>circuit</th>\n",
       "      <th>observable</th>\n",
       "      <th>size</th>\n",
       "      <th>reduced</th>\n",
       "      <th>ratio</th>\n",
       "      <th>time</th>\n",
       "    </tr>\n",
       "  </thead>\n",
       "  <tbody>\n",
       "    <tr>\n",
       "      <th>0</th>\n",
       "      <td>qft_indep_qiskit_7</td>\n",
       "      <td>'Q_0000000'</td>\n",
       "      <td>128</td>\n",
       "      <td>2</td>\n",
       "      <td>0.015625</td>\n",
       "      <td>2.117150</td>\n",
       "    </tr>\n",
       "    <tr>\n",
       "      <th>1</th>\n",
       "      <td>qft_indep_qiskit_7</td>\n",
       "      <td>'Q_0000001'</td>\n",
       "      <td>128</td>\n",
       "      <td>128</td>\n",
       "      <td>1.000000</td>\n",
       "      <td>196.215425</td>\n",
       "    </tr>\n",
       "    <tr>\n",
       "      <th>2</th>\n",
       "      <td>qft_indep_qiskit_7</td>\n",
       "      <td>'Q_0000010'</td>\n",
       "      <td>128</td>\n",
       "      <td>128</td>\n",
       "      <td>1.000000</td>\n",
       "      <td>142.706798</td>\n",
       "    </tr>\n",
       "    <tr>\n",
       "      <th>3</th>\n",
       "      <td>qft_indep_qiskit_7</td>\n",
       "      <td>'Q_0000011'</td>\n",
       "      <td>128</td>\n",
       "      <td>128</td>\n",
       "      <td>1.000000</td>\n",
       "      <td>146.102181</td>\n",
       "    </tr>\n",
       "    <tr>\n",
       "      <th>4</th>\n",
       "      <td>qft_indep_qiskit_7</td>\n",
       "      <td>'Q_0000100'</td>\n",
       "      <td>128</td>\n",
       "      <td>128</td>\n",
       "      <td>1.000000</td>\n",
       "      <td>180.548844</td>\n",
       "    </tr>\n",
       "    <tr>\n",
       "      <th>...</th>\n",
       "      <td>...</td>\n",
       "      <td>...</td>\n",
       "      <td>...</td>\n",
       "      <td>...</td>\n",
       "      <td>...</td>\n",
       "      <td>...</td>\n",
       "    </tr>\n",
       "    <tr>\n",
       "      <th>760</th>\n",
       "      <td>qft_indep_qiskit_6</td>\n",
       "      <td>'Q_111011'</td>\n",
       "      <td>64</td>\n",
       "      <td>64</td>\n",
       "      <td>1.000000</td>\n",
       "      <td>15.257647</td>\n",
       "    </tr>\n",
       "    <tr>\n",
       "      <th>761</th>\n",
       "      <td>qft_indep_qiskit_6</td>\n",
       "      <td>'Q_111100'</td>\n",
       "      <td>64</td>\n",
       "      <td>64</td>\n",
       "      <td>1.000000</td>\n",
       "      <td>15.048586</td>\n",
       "    </tr>\n",
       "    <tr>\n",
       "      <th>762</th>\n",
       "      <td>qft_indep_qiskit_6</td>\n",
       "      <td>'Q_111101'</td>\n",
       "      <td>64</td>\n",
       "      <td>64</td>\n",
       "      <td>1.000000</td>\n",
       "      <td>15.284256</td>\n",
       "    </tr>\n",
       "    <tr>\n",
       "      <th>763</th>\n",
       "      <td>qft_indep_qiskit_6</td>\n",
       "      <td>'Q_111110'</td>\n",
       "      <td>64</td>\n",
       "      <td>64</td>\n",
       "      <td>1.000000</td>\n",
       "      <td>15.581070</td>\n",
       "    </tr>\n",
       "    <tr>\n",
       "      <th>764</th>\n",
       "      <td>qft_indep_qiskit_6</td>\n",
       "      <td>'Q_111111'</td>\n",
       "      <td>64</td>\n",
       "      <td>64</td>\n",
       "      <td>1.000000</td>\n",
       "      <td>15.624074</td>\n",
       "    </tr>\n",
       "  </tbody>\n",
       "</table>\n",
       "<p>765 rows × 6 columns</p>\n",
       "</div>"
      ],
      "text/plain": [
       "                circuit   observable  size  reduced     ratio        time\n",
       "0    qft_indep_qiskit_7  'Q_0000000'   128        2  0.015625    2.117150\n",
       "1    qft_indep_qiskit_7  'Q_0000001'   128      128  1.000000  196.215425\n",
       "2    qft_indep_qiskit_7  'Q_0000010'   128      128  1.000000  142.706798\n",
       "3    qft_indep_qiskit_7  'Q_0000011'   128      128  1.000000  146.102181\n",
       "4    qft_indep_qiskit_7  'Q_0000100'   128      128  1.000000  180.548844\n",
       "..                  ...          ...   ...      ...       ...         ...\n",
       "760  qft_indep_qiskit_6   'Q_111011'    64       64  1.000000   15.257647\n",
       "761  qft_indep_qiskit_6   'Q_111100'    64       64  1.000000   15.048586\n",
       "762  qft_indep_qiskit_6   'Q_111101'    64       64  1.000000   15.284256\n",
       "763  qft_indep_qiskit_6   'Q_111110'    64       64  1.000000   15.581070\n",
       "764  qft_indep_qiskit_6   'Q_111111'    64       64  1.000000   15.624074\n",
       "\n",
       "[765 rows x 6 columns]"
      ]
     },
     "execution_count": 11,
     "metadata": {},
     "output_type": "execute_result"
    }
   ],
   "source": [
    "data = pd.read_csv(\"./compilation.csv\", delimiter=\";\"); data"
   ]
  },
  {
   "cell_type": "markdown",
   "id": "0467eab8-87c6-45c2-8a4b-3b87f3e8cabe",
   "metadata": {},
   "source": [
    "Let us try to filter those cases that have an actual reduction:"
   ]
  },
  {
   "cell_type": "code",
   "execution_count": 13,
   "id": "f7ccde1f-da1d-42c7-b44f-45b29f9462a3",
   "metadata": {},
   "outputs": [
    {
     "data": {
      "text/html": [
       "<div>\n",
       "<style scoped>\n",
       "    .dataframe tbody tr th:only-of-type {\n",
       "        vertical-align: middle;\n",
       "    }\n",
       "\n",
       "    .dataframe tbody tr th {\n",
       "        vertical-align: top;\n",
       "    }\n",
       "\n",
       "    .dataframe thead th {\n",
       "        text-align: right;\n",
       "    }\n",
       "</style>\n",
       "<table border=\"1\" class=\"dataframe\">\n",
       "  <thead>\n",
       "    <tr style=\"text-align: right;\">\n",
       "      <th></th>\n",
       "      <th>circuit</th>\n",
       "      <th>observable</th>\n",
       "      <th>size</th>\n",
       "      <th>reduced</th>\n",
       "      <th>ratio</th>\n",
       "      <th>time</th>\n",
       "    </tr>\n",
       "  </thead>\n",
       "  <tbody>\n",
       "    <tr>\n",
       "      <th>485</th>\n",
       "      <td>qft_indep_qiskit_2</td>\n",
       "      <td>'Q_01', 'Q_11'</td>\n",
       "      <td>4</td>\n",
       "      <td>3</td>\n",
       "      <td>0.750000</td>\n",
       "      <td>0.002920</td>\n",
       "    </tr>\n",
       "    <tr>\n",
       "      <th>482</th>\n",
       "      <td>qft_indep_qiskit_2</td>\n",
       "      <td>'Q_00', 'Q_10'</td>\n",
       "      <td>4</td>\n",
       "      <td>3</td>\n",
       "      <td>0.750000</td>\n",
       "      <td>0.003687</td>\n",
       "    </tr>\n",
       "    <tr>\n",
       "      <th>479</th>\n",
       "      <td>qft_indep_qiskit_2</td>\n",
       "      <td>'Q_10'</td>\n",
       "      <td>4</td>\n",
       "      <td>2</td>\n",
       "      <td>0.500000</td>\n",
       "      <td>0.003160</td>\n",
       "    </tr>\n",
       "    <tr>\n",
       "      <th>477</th>\n",
       "      <td>qft_indep_qiskit_2</td>\n",
       "      <td>'Q_00'</td>\n",
       "      <td>4</td>\n",
       "      <td>2</td>\n",
       "      <td>0.500000</td>\n",
       "      <td>0.004954</td>\n",
       "    </tr>\n",
       "    <tr>\n",
       "      <th>226</th>\n",
       "      <td>qft_indep_qiskit_3</td>\n",
       "      <td>'Q_100'</td>\n",
       "      <td>8</td>\n",
       "      <td>2</td>\n",
       "      <td>0.250000</td>\n",
       "      <td>0.007432</td>\n",
       "    </tr>\n",
       "    <tr>\n",
       "      <th>...</th>\n",
       "      <td>...</td>\n",
       "      <td>...</td>\n",
       "      <td>...</td>\n",
       "      <td>...</td>\n",
       "      <td>...</td>\n",
       "      <td>...</td>\n",
       "    </tr>\n",
       "    <tr>\n",
       "      <th>568</th>\n",
       "      <td>grover-v-chain_indep_qiskit_9</td>\n",
       "      <td>'Q_001001011'</td>\n",
       "      <td>512</td>\n",
       "      <td>6</td>\n",
       "      <td>0.011719</td>\n",
       "      <td>71.340642</td>\n",
       "    </tr>\n",
       "    <tr>\n",
       "      <th>569</th>\n",
       "      <td>grover-v-chain_indep_qiskit_9</td>\n",
       "      <td>'Q_001001100'</td>\n",
       "      <td>512</td>\n",
       "      <td>6</td>\n",
       "      <td>0.011719</td>\n",
       "      <td>74.741405</td>\n",
       "    </tr>\n",
       "    <tr>\n",
       "      <th>557</th>\n",
       "      <td>grover-v-chain_indep_qiskit_9</td>\n",
       "      <td>'Q_001000000'</td>\n",
       "      <td>512</td>\n",
       "      <td>6</td>\n",
       "      <td>0.011719</td>\n",
       "      <td>64.956130</td>\n",
       "    </tr>\n",
       "    <tr>\n",
       "      <th>525</th>\n",
       "      <td>grover-v-chain_indep_qiskit_9</td>\n",
       "      <td>'Q_000100000'</td>\n",
       "      <td>512</td>\n",
       "      <td>6</td>\n",
       "      <td>0.011719</td>\n",
       "      <td>64.181567</td>\n",
       "    </tr>\n",
       "    <tr>\n",
       "      <th>492</th>\n",
       "      <td>grover-v-chain_indep_qiskit_11</td>\n",
       "      <td>'Q_00000000000'</td>\n",
       "      <td>2048</td>\n",
       "      <td>6</td>\n",
       "      <td>0.002930</td>\n",
       "      <td>1421.098415</td>\n",
       "    </tr>\n",
       "  </tbody>\n",
       "</table>\n",
       "<p>354 rows × 6 columns</p>\n",
       "</div>"
      ],
      "text/plain": [
       "                            circuit       observable  size  reduced     ratio  \\\n",
       "485              qft_indep_qiskit_2   'Q_01', 'Q_11'     4        3  0.750000   \n",
       "482              qft_indep_qiskit_2   'Q_00', 'Q_10'     4        3  0.750000   \n",
       "479              qft_indep_qiskit_2           'Q_10'     4        2  0.500000   \n",
       "477              qft_indep_qiskit_2           'Q_00'     4        2  0.500000   \n",
       "226              qft_indep_qiskit_3          'Q_100'     8        2  0.250000   \n",
       "..                              ...              ...   ...      ...       ...   \n",
       "568   grover-v-chain_indep_qiskit_9    'Q_001001011'   512        6  0.011719   \n",
       "569   grover-v-chain_indep_qiskit_9    'Q_001001100'   512        6  0.011719   \n",
       "557   grover-v-chain_indep_qiskit_9    'Q_001000000'   512        6  0.011719   \n",
       "525   grover-v-chain_indep_qiskit_9    'Q_000100000'   512        6  0.011719   \n",
       "492  grover-v-chain_indep_qiskit_11  'Q_00000000000'  2048        6  0.002930   \n",
       "\n",
       "            time  \n",
       "485     0.002920  \n",
       "482     0.003687  \n",
       "479     0.003160  \n",
       "477     0.004954  \n",
       "226     0.007432  \n",
       "..           ...  \n",
       "568    71.340642  \n",
       "569    74.741405  \n",
       "557    64.956130  \n",
       "525    64.181567  \n",
       "492  1421.098415  \n",
       "\n",
       "[354 rows x 6 columns]"
      ]
     },
     "execution_count": 13,
     "metadata": {},
     "output_type": "execute_result"
    }
   ],
   "source": [
    "data[data[\"ratio\"] < 1].sort_values(\"size\")"
   ]
  },
  {
   "cell_type": "markdown",
   "id": "da50f397-60f1-4009-b2cd-d10dcdedae1e",
   "metadata": {
    "tags": []
   },
   "source": [
    "## 4. Some comments:\n",
    "\n",
    "* If we have $n$ qbits, then our matrices have size $2^{n}\\times 2^n$. Hence, we have a total of $2^{2n}$ elements in the matrix. Each element is a double precision complex number, hence it needs at least $16=2^{4}$ bytes per element of the matrix. Hence, in order to build the unitary matrix (which goes through numpy and its dense representation) we will require at least: $2^{2(n+2)}$ bytes.\n",
    "* In the particular case of 11 qbits: $2^{26}\\text{B} = 64\\text{MB}$.\n",
    "* With 1 GB of memory we could represent the unitary matrix of at most 13 qbits."
   ]
  },
  {
   "cell_type": "markdown",
   "id": "b6c41a89-6ef4-4731-8e76-2795c3291e35",
   "metadata": {
    "jp-MarkdownHeadingCollapsed": true,
    "tags": []
   },
   "source": [
    "## 5. Grove's algorithm"
   ]
  },
  {
   "cell_type": "markdown",
   "id": "f9e9d114-da34-4c02-aebd-3a3dc4f559a2",
   "metadata": {},
   "source": [
    "Grove's algorithm performs an unstructure search in a quantum state. Intuitively, the Grover gate depends on an oracle gate (i.e., another circuit) that maps each of the base states to itself when the state satisfies the search condition and to its additive inverse if the search criteria does not fit. \n",
    "\n",
    "In the [benchmark](https://www.cda.cit.tum.de/mqtbench/benchmark_description) is explained that the Grove circuit is built with an Oracle created from a [Toffoli gate](https://en.wikipedia.org/wiki/Toffoli_gate). How does this work? We do not completely understand."
   ]
  },
  {
   "cell_type": "code",
   "execution_count": 2,
   "id": "1fda4b50-65c4-4a9c-9250-da91775f6bd4",
   "metadata": {},
   "outputs": [
    {
     "data": {
      "text/plain": [
       "circuit-117 [DS_QuantumCircuit -- 128 -- SparsePolynomial]"
      ]
     },
     "execution_count": 2,
     "metadata": {},
     "output_type": "execute_result"
    }
   ],
   "source": [
    "system = DS_QuantumCircuit(\"circuits/grover-v-chain_indep_qiskit_7.qasm\"); system"
   ]
  },
  {
   "cell_type": "markdown",
   "id": "22091211-d2d6-4fef-b76c-6dd9f68c2044",
   "metadata": {},
   "source": [
    "## 6. More experiments?"
   ]
  },
  {
   "cell_type": "markdown",
   "id": "f936646d-2c09-4256-ad81-e0a19ff19120",
   "metadata": {},
   "source": [
    "This place is for further experimentation on the fly"
   ]
  },
  {
   "cell_type": "code",
   "execution_count": 2,
   "id": "1488af06-34e5-4eb7-b8f7-ad66923c3c4b",
   "metadata": {},
   "outputs": [],
   "source": [
    "system = DS_QuantumCircuit.from_qasm_file(\"./circuits/ghz_indep_qiskit_6.qasm\")\n",
    "obs = [SparsePolynomial.from_string(f\"{1/sqrt(2)}*{system.variables[0]} + {1/sqrt(2)}*{system.variables[-1]}\", system.variables, system.field)]\n",
    "goal = SparsePolynomial.from_string(f\"{system.variables[0]}\", system.variables, system.field)"
   ]
  },
  {
   "cell_type": "code",
   "execution_count": 3,
   "id": "f25e5752-bf6b-49c7-a8c9-e24408c3e7c5",
   "metadata": {},
   "outputs": [
    {
     "data": {
      "text/plain": [
       "[(0.707106781186547 + 0.0j)*Q_000000 + (0.707106781186547 + 0.0j)*Q_111111]"
      ]
     },
     "execution_count": 3,
     "metadata": {},
     "output_type": "execute_result"
    }
   ],
   "source": [
    "obs"
   ]
  },
  {
   "cell_type": "code",
   "execution_count": 4,
   "id": "30e63ae7-f034-472b-a12d-650376c25272",
   "metadata": {},
   "outputs": [
    {
     "data": {
      "text/plain": [
       "16"
      ]
     },
     "execution_count": 4,
     "metadata": {},
     "output_type": "execute_result"
    }
   ],
   "source": [
    "lumped = system.lumping(obs, print_reduction=False, print_system=False); lumped.size"
   ]
  },
  {
   "cell_type": "code",
   "execution_count": 5,
   "id": "38a2f044-3aeb-45fa-bac3-fdae53f379be",
   "metadata": {},
   "outputs": [],
   "source": [
    "goal_in_lump = lumped._subspace.find_in(goal.linear_part_as_vec()).to_numpy(dtype=cdouble)"
   ]
  },
  {
   "cell_type": "code",
   "execution_count": 6,
   "id": "c5e60110-48a6-4115-baa0-b1ceb5c784cf",
   "metadata": {},
   "outputs": [],
   "source": [
    "obs_in_lump = [lumped._subspace.find_in(poly.linear_part_as_vec()).to_numpy(dtype=cdouble) for poly in obs]"
   ]
  },
  {
   "cell_type": "code",
   "execution_count": 7,
   "id": "45d9c07f-f118-4549-8d31-eb95a8d901eb",
   "metadata": {},
   "outputs": [
    {
     "data": {
      "text/plain": [
       "[array([ 1.00000000e+00+0.00000000e+00j,  0.00000000e+00+0.00000000e+00j,\n",
       "         0.00000000e+00+0.00000000e+00j,  0.00000000e+00+0.00000000e+00j,\n",
       "        -3.03858168e-64+0.00000000e+00j,  0.00000000e+00+1.87267054e-96j,\n",
       "        -2.41911047e-49-1.15734198e-64j,  1.56539742e-33+7.66823578e-49j,\n",
       "         1.15224197e-33+5.64435777e-49j, -1.65825062e-33-1.22512105e-48j,\n",
       "        -3.84870514e-35-3.20185155e-49j,  1.83629233e-33+1.36380148e-48j,\n",
       "         1.32241503e-33+6.81633102e-49j,  2.03020526e-33+1.50290241e-48j,\n",
       "         3.27535420e-33+2.85163891e-48j,  4.94943914e-33+4.70626443e-48j])]"
      ]
     },
     "execution_count": 7,
     "metadata": {},
     "output_type": "execute_result"
    }
   ],
   "source": [
    "obs_in_lump"
   ]
  },
  {
   "cell_type": "code",
   "execution_count": 17,
   "id": "4884eaab-d96e-4290-92fa-c3c9d2edba9b",
   "metadata": {},
   "outputs": [
    {
     "data": {
      "text/plain": [
       "True"
      ]
     },
     "execution_count": 17,
     "metadata": {},
     "output_type": "execute_result"
    }
   ],
   "source": [
    "compare(obs_in_lump, matmul(lumped.construct_matrices(\"polynomial\")[0].to_numpy(dtype=cdouble), goal_in_lump))"
   ]
  },
  {
   "cell_type": "code",
   "execution_count": 8,
   "id": "e09e6080-fcec-4c51-9db5-97aad60b255c",
   "metadata": {},
   "outputs": [
    {
     "data": {
      "text/plain": [
       "array([0.70710678+0.j, 0.        +0.j, 0.        +0.j, 0.        +0.j,\n",
       "       0.        +0.j, 0.        +0.j, 0.        +0.j, 0.        +0.j,\n",
       "       0.        +0.j, 0.        +0.j, 0.        +0.j, 0.        +0.j,\n",
       "       0.        +0.j, 0.        +0.j, 0.        +0.j, 0.        +0.j,\n",
       "       0.        +0.j, 0.        +0.j, 0.        +0.j, 0.        +0.j,\n",
       "       0.        +0.j, 0.        +0.j, 0.        +0.j, 0.        +0.j,\n",
       "       0.        +0.j, 0.        +0.j, 0.        +0.j, 0.        +0.j,\n",
       "       0.        +0.j, 0.        +0.j, 0.        +0.j, 0.        +0.j,\n",
       "       0.        +0.j, 0.        +0.j, 0.        +0.j, 0.        +0.j,\n",
       "       0.        +0.j, 0.        +0.j, 0.        +0.j, 0.        +0.j,\n",
       "       0.        +0.j, 0.        +0.j, 0.        +0.j, 0.        +0.j,\n",
       "       0.        +0.j, 0.        +0.j, 0.        +0.j, 0.        +0.j,\n",
       "       0.        +0.j, 0.        +0.j, 0.        +0.j, 0.        +0.j,\n",
       "       0.        +0.j, 0.        +0.j, 0.        +0.j, 0.        +0.j,\n",
       "       0.        +0.j, 0.        +0.j, 0.        +0.j, 0.        +0.j,\n",
       "       0.        +0.j, 0.        +0.j, 0.        +0.j, 0.70710678+0.j])"
      ]
     },
     "execution_count": 8,
     "metadata": {},
     "output_type": "execute_result"
    }
   ],
   "source": [
    "matmul(system.construct_matrices(\"polynomial\")[0].to_numpy(dtype=cdouble).transpose(), goal.linear_part_as_vec().to_numpy(dtype=cdouble))"
   ]
  }
 ],
 "metadata": {
  "kernelspec": {
   "display_name": "Python 3 (ipykernel)",
   "language": "python",
   "name": "python3"
  },
  "language_info": {
   "codemirror_mode": {
    "name": "ipython",
    "version": 3
   },
   "file_extension": ".py",
   "mimetype": "text/x-python",
   "name": "python",
   "nbconvert_exporter": "python",
   "pygments_lexer": "ipython3",
   "version": "3.11.0"
  },
  "widgets": {
   "application/vnd.jupyter.widget-state+json": {
    "state": {},
    "version_major": 2,
    "version_minor": 0
   }
  }
 },
 "nbformat": 4,
 "nbformat_minor": 5
}
