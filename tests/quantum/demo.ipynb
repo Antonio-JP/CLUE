{
 "cells": [
  {
   "cell_type": "markdown",
   "id": "8fa75102-155d-4c67-898a-7098059750f8",
   "metadata": {},
   "source": [
    "# **Reduction of Quantum Circuits using CLUE**$\\def\\bx{\\mathbf{x}}\\def\\quant#1{\\left|#1\\right\\rangle}\\def\\cc{\\mathbb{C}}$"
   ]
  },
  {
   "cell_type": "code",
   "execution_count": 9,
   "id": "b705254d-93e8-46c4-ada6-c005324f3648",
   "metadata": {},
   "outputs": [],
   "source": [
    "import sys; sys.path.insert(0, \"../..\") # clue is here\n",
    "from clue.qiskit import *\n",
    "from numpy import matmul, cdouble"
   ]
  },
  {
   "cell_type": "markdown",
   "id": "2e982919-ba60-42d9-8c1b-6f3b82026ea6",
   "metadata": {},
   "source": [
    "## 1. Description of methodology"
   ]
  },
  {
   "cell_type": "markdown",
   "id": "46116712-951e-4c4f-9b8e-3bfdf6e03087",
   "metadata": {},
   "source": [
    "In this notebook we show how we can use CLUE to reduce a Quantum circuit described in `qasm`. Without really understanding what is going on under the hood, we know that, given a quantum circuit there is a unitary matrix associated that represents the quantum computations that are done in the circuit.\n",
    "\n",
    "In my current intuition, if the circuit hsa $n$ q-bits, then there is a complex $2^n\\times 2^n$ matrix $A$ that act like a \"Markov matrix\" over a valid superposition of states. Namely, if we have the state $\\bx = (x_0,\\ldots,x_{2^n-1})$ where the $x_i$ entry represent the part of the superposition corresponding with the state $\\quant{i}$, then we obtain the state $A\\bx^T$ after applying the quantum circuit.\n",
    "\n",
    "We would like to get a reduction (lumping) $L \\in \\cc^{m\\times 2^n}$ for this matrix $A$ that helps to reduce the size or simplify the understanding of the circuit. For doing so we do the following:\n",
    "\n",
    "1. Read a `qasm` file as taken from the benchmarks in this website: [Benchmarks](https://www.cda.cit.tum.de/mqtbench/)\n",
    "2. We compute the unitary matrix $A$ for the circuit:\n",
    "   * We need to remove all measures from the `qasm` file.\n",
    "   * It seems the software `qiskit` does simulations over the circuit in order to compute this unitary matrix.\n",
    "3. We use this matrix to set up a dynamical system of the form $\\bx_{k+1}^T = A\\bx_k^T$ (this system is not actually happening, but may be interesting to remember).\n",
    "4. We run CLUE for this system for a given observable (currently we take one of the variables) $\\longrightarrow$ we get a matrix $L$.\n",
    "   * We run *approximate CLUE* since the unitary matrix has double precision complex numbers as inputs.\n",
    "   * We have adapted the code of CLUE to *run over the complex numbers* too.\n",
    "   * In some cases, when we get a reduction it is an exact lumping (at least in the QFT models that has been checked by hand).\n",
    "   * The matrix $L$ is orthonormal, meaning that the reduced system is defined again by a unitary matrix."
   ]
  },
  {
   "cell_type": "markdown",
   "id": "541061cc-7730-4a68-ac09-9151daaa5341",
   "metadata": {},
   "source": [
    "## 2. Some examples "
   ]
  },
  {
   "cell_type": "markdown",
   "id": "589b0c36-edc5-48f6-9ddb-3b3fb1d7297a",
   "metadata": {},
   "source": [
    "Let us show in the code how to compute these reductions using CLUE for the QFT algorithm with 3 q-bits. \n",
    "\n",
    "**Remark**: the `qasm` files are included in the folder `circuits`."
   ]
  },
  {
   "cell_type": "code",
   "execution_count": 5,
   "id": "018dcbaa-bb72-47f7-9a33-fb7780ffbd0a",
   "metadata": {},
   "outputs": [
    {
     "data": {
      "text/plain": [
       "circuit-119 [DS_QuantumCircuit -- 8 -- SparsePolynomial]"
      ]
     },
     "execution_count": 5,
     "metadata": {},
     "output_type": "execute_result"
    }
   ],
   "source": [
    "system = DS_QuantumCircuit(\"circuits/qft_indep_qiskit_3.qasm\"); system"
   ]
  },
  {
   "cell_type": "markdown",
   "id": "8d98f997-50da-4e34-b0d8-a6273c071c76",
   "metadata": {
    "tags": []
   },
   "source": [
    "### The data in the system"
   ]
  },
  {
   "cell_type": "markdown",
   "id": "06081d31-c1f3-47ec-bc06-95f78d2d86e8",
   "metadata": {},
   "source": [
    "We can show the equations of the system:"
   ]
  },
  {
   "cell_type": "code",
   "execution_count": 7,
   "id": "8429d473-1464-4188-b12a-47cfad4afd79",
   "metadata": {},
   "outputs": [
    {
     "name": "stdout",
     "output_type": "stream",
     "text": [
      "0  ->  (0.353553390593274 + 0.0j)*Q_000 + (0.353553390593274 - 4.32978028117747e-17j)*Q_001 + (0.353553390593274 - 4.32978028117747e-17j)*Q_010 + (0.353553390593274 - 8.65956056235493e-17j)*Q_011 + (0.353553390593274 - 4.32978028117747e-17j)*Q_100 + (0.353553390593274 - 8.65956056235493e-17j)*Q_101 + (0.353553390593274 - 8.65956056235493e-17j)*Q_110 + (0.353553390593274 - 1.29893408435324e-16j)*Q_111\n",
      "1  ->  (0.353553390593274 + 0.0j)*Q_000 + (0.25 + 0.25j)*Q_001 + (6.4946704217662e-17 + 0.353553390593274j)*Q_010 + (-0.25 + 0.25j)*Q_011 + (-0.353553390593274 + 4.32978028117747e-17j)*Q_100 + (-0.25 - 0.25j)*Q_101 + (-1.08244507029437e-16 - 0.353553390593274j)*Q_110 + (0.25 - 0.25j)*Q_111\n",
      "2  ->  (0.353553390593274 + 0.0j)*Q_000 + (6.4946704217662e-17 + 0.353553390593274j)*Q_001 + (-0.353553390593274 + 4.32978028117747e-17j)*Q_010 + (-1.08244507029437e-16 - 0.353553390593274j)*Q_011 + (0.353553390593274 - 4.32978028117747e-17j)*Q_100 + (1.08244507029437e-16 + 0.353553390593274j)*Q_101 + (-0.353553390593274 + 8.65956056235493e-17j)*Q_110 + (-1.51542309841211e-16 - 0.353553390593274j)*Q_111\n",
      "3  ->  (0.353553390593274 + 0.0j)*Q_000 + (-0.25 + 0.25j)*Q_001 + (-6.4946704217662e-17 - 0.353553390593274j)*Q_010 + (0.25 + 0.25j)*Q_011 + (-0.353553390593274 + 4.32978028117747e-17j)*Q_100 + (0.25 - 0.25j)*Q_101 + (1.08244507029437e-16 + 0.353553390593274j)*Q_110 + (-0.25 - 0.25j)*Q_111\n",
      "4  ->  (0.353553390593274 + 0.0j)*Q_000 + (-0.353553390593274 + 4.32978028117747e-17j)*Q_001 + (0.353553390593274 - 4.32978028117747e-17j)*Q_010 + (-0.353553390593274 + 8.65956056235493e-17j)*Q_011 + (0.353553390593274 - 4.32978028117747e-17j)*Q_100 + (-0.353553390593274 + 8.65956056235493e-17j)*Q_101 + (0.353553390593274 - 8.65956056235493e-17j)*Q_110 + (-0.353553390593274 + 1.29893408435324e-16j)*Q_111\n",
      "5  ->  (0.353553390593274 + 0.0j)*Q_000 + (-0.25 - 0.25j)*Q_001 + (6.4946704217662e-17 + 0.353553390593274j)*Q_010 + (0.25 - 0.25j)*Q_011 + (-0.353553390593274 + 4.32978028117747e-17j)*Q_100 + (0.25 + 0.25j)*Q_101 + (-1.08244507029437e-16 - 0.353553390593274j)*Q_110 + (-0.25 + 0.25j)*Q_111\n",
      "6  ->  (0.353553390593274 + 0.0j)*Q_000 + (-6.4946704217662e-17 - 0.353553390593274j)*Q_001 + (-0.353553390593274 + 4.32978028117747e-17j)*Q_010 + (1.08244507029437e-16 + 0.353553390593274j)*Q_011 + (0.353553390593274 - 4.32978028117747e-17j)*Q_100 + (-1.08244507029437e-16 - 0.353553390593274j)*Q_101 + (-0.353553390593274 + 8.65956056235493e-17j)*Q_110 + (1.51542309841211e-16 + 0.353553390593274j)*Q_111\n",
      "7  ->  (0.353553390593274 + 0.0j)*Q_000 + (0.25 - 0.25j)*Q_001 + (-6.4946704217662e-17 - 0.353553390593274j)*Q_010 + (-0.25 - 0.25j)*Q_011 + (-0.353553390593274 + 4.32978028117747e-17j)*Q_100 + (-0.25 + 0.25j)*Q_101 + (1.08244507029437e-16 + 0.353553390593274j)*Q_110 + (0.25 + 0.25j)*Q_111\n"
     ]
    }
   ],
   "source": [
    "for (i,equ) in enumerate(system.equations): \n",
    "    print(i, \" -> \", equ)"
   ]
  },
  {
   "cell_type": "markdown",
   "id": "442761a9-3c6a-4e7d-954b-1b11ad2cf84f",
   "metadata": {},
   "source": [
    "Or, since the system is linear, we can show the unitary matrix from the system:"
   ]
  },
  {
   "cell_type": "code",
   "execution_count": 13,
   "id": "fda9da7a-c64b-4981-8a6f-d6c4f74840fd",
   "metadata": {},
   "outputs": [
    {
     "name": "stdout",
     "output_type": "stream",
     "text": [
      "0  ->  [0.35355+0.j 0.35355+0.j 0.35355+0.j 0.35355+0.j 0.35355+0.j 0.35355+0.j\n",
      " 0.35355+0.j 0.35355+0.j]\n",
      "1  ->  [ 0.35355-0.j       0.25   +0.25j     0.     +0.35355j -0.25   +0.25j\n",
      " -0.35355+0.j      -0.25   -0.25j    -0.     -0.35355j  0.25   -0.25j   ]\n",
      "2  ->  [ 0.35355-0.j       0.     +0.35355j -0.35355+0.j      -0.     -0.35355j\n",
      "  0.35355-0.j       0.     +0.35355j -0.35355+0.j      -0.     -0.35355j]\n",
      "3  ->  [ 0.35355-0.j      -0.25   +0.25j    -0.     -0.35355j  0.25   +0.25j\n",
      " -0.35355+0.j       0.25   -0.25j     0.     +0.35355j -0.25   -0.25j   ]\n",
      "4  ->  [ 0.35355-0.j -0.35355+0.j  0.35355-0.j -0.35355+0.j  0.35355-0.j\n",
      " -0.35355+0.j  0.35355-0.j -0.35355+0.j]\n",
      "5  ->  [ 0.35355-0.j      -0.25   -0.25j     0.     +0.35355j  0.25   -0.25j\n",
      " -0.35355+0.j       0.25   +0.25j    -0.     -0.35355j -0.25   +0.25j   ]\n",
      "6  ->  [ 0.35355-0.j      -0.     -0.35355j -0.35355+0.j       0.     +0.35355j\n",
      "  0.35355-0.j      -0.     -0.35355j -0.35355+0.j       0.     +0.35355j]\n",
      "7  ->  [ 0.35355-0.j       0.25   -0.25j    -0.     -0.35355j -0.25   -0.25j\n",
      " -0.35355+0.j      -0.25   +0.25j     0.     +0.35355j  0.25   +0.25j   ]\n"
     ]
    }
   ],
   "source": [
    "A = system.construct_matrices(\"polynomial\")[0].to_numpy(dtype=cdouble)\n",
    "for (i,row) in enumerate(A.round(5)):\n",
    "    print(i, \" -> \", row)"
   ]
  },
  {
   "cell_type": "markdown",
   "id": "1b357498-9c7a-4029-8f60-1601a08d1b2d",
   "metadata": {},
   "source": [
    "### Computing the lumping"
   ]
  },
  {
   "cell_type": "markdown",
   "id": "e3ce4e5f-959a-40aa-8ef8-d5eda8eef3cf",
   "metadata": {},
   "source": [
    "Let say we want to compute the lumping with respect to the state $\\quant{100} = \\quant{4}$. We can do that with the following code:"
   ]
  },
  {
   "cell_type": "code",
   "execution_count": 18,
   "id": "8db6c457-647c-481b-968b-01bbd42108cd",
   "metadata": {},
   "outputs": [
    {
     "name": "stdout",
     "output_type": "stream",
     "text": [
      "New variables:\n",
      "y0 = Q_100\n",
      "y1 = (0.377964473009227 + 0.0j)*Q_000 + (-0.377964473009227 - 4.62872982062167e-17j)*Q_001 + (0.377964473009227 + 4.62872982062166e-17j)*Q_010 + (-0.377964473009227 - 9.25745964124333e-17j)*Q_011 + (-0.377964473009227 - 9.25745964124333e-17j)*Q_101 + (0.377964473009227 + 9.25745964124332e-17j)*Q_110 + (-0.377964473009227 - 1.3886189461865e-16j)*Q_111\n",
      "New initial conditions:\n",
      "Lumped system:\n",
      "y0' = (0.935414346693485 + 7.8702812005206e-33j)*y1 + (0.353553390593274 - 4.32978028117747e-17j)*y0\n",
      "y1' = (-0.353553390593274 - 7.32847151738175e-17j)*y1 + (0.935414346693485 + 6.54601248888394e-17j)*y0\n"
     ]
    }
   ],
   "source": [
    "lumped = system.lumping([system.variables[4]])"
   ]
  },
  {
   "cell_type": "markdown",
   "id": "ca34b0f9-e707-4446-b68c-77815fb831a9",
   "metadata": {},
   "source": [
    "We can get the lumping matrix (as read from the previous output):"
   ]
  },
  {
   "cell_type": "code",
   "execution_count": 20,
   "id": "41c1d91f-1023-4df3-b51a-5667c8613873",
   "metadata": {},
   "outputs": [
    {
     "data": {
      "text/plain": [
       "array([[ 0.        +0.00000000e+00j,  0.        +0.00000000e+00j,\n",
       "         0.        +0.00000000e+00j,  0.        +0.00000000e+00j,\n",
       "         1.        +0.00000000e+00j,  0.        +0.00000000e+00j,\n",
       "         0.        +0.00000000e+00j,  0.        +0.00000000e+00j],\n",
       "       [ 0.37796447+0.00000000e+00j, -0.37796447-4.62872982e-17j,\n",
       "         0.37796447+4.62872982e-17j, -0.37796447-9.25745964e-17j,\n",
       "         0.        +0.00000000e+00j, -0.37796447-9.25745964e-17j,\n",
       "         0.37796447+9.25745964e-17j, -0.37796447-1.38861895e-16j]])"
      ]
     },
     "execution_count": 20,
     "metadata": {},
     "output_type": "execute_result"
    }
   ],
   "source": [
    "L = lumped.lumping_matrix.to_numpy(dtype=cdouble); L"
   ]
  },
  {
   "cell_type": "markdown",
   "id": "e05e78b5-773f-4be9-b3ac-57c3c5dd9687",
   "metadata": {},
   "source": [
    "And we can check that the matrix for the new system is unitary:"
   ]
  },
  {
   "cell_type": "code",
   "execution_count": 23,
   "id": "99679864-fb03-495a-9b4b-5e115dbbe5d1",
   "metadata": {},
   "outputs": [
    {
     "data": {
      "text/plain": [
       "array([[1.+0.j, 0.+0.j],\n",
       "       [0.-0.j, 1.+0.j]])"
      ]
     },
     "execution_count": 23,
     "metadata": {},
     "output_type": "execute_result"
    }
   ],
   "source": [
    "A = lumped.construct_matrices(\"polynomial\")[0].to_numpy(dtype=cdouble)\n",
    "matmul(A, A.transpose().conjugate()).round(15)"
   ]
  },
  {
   "cell_type": "markdown",
   "id": "22091211-d2d6-4fef-b76c-6dd9f68c2044",
   "metadata": {},
   "source": [
    "## 3. More experiments?"
   ]
  },
  {
   "cell_type": "markdown",
   "id": "f936646d-2c09-4256-ad81-e0a19ff19120",
   "metadata": {},
   "source": [
    "This place is for further experimentation on the fly"
   ]
  },
  {
   "cell_type": "code",
   "execution_count": null,
   "id": "cae76b28-7fa7-4fc2-962a-e37f5f8e7fbf",
   "metadata": {},
   "outputs": [],
   "source": []
  }
 ],
 "metadata": {
  "kernelspec": {
   "display_name": "Python 3 (ipykernel)",
   "language": "python",
   "name": "python3"
  },
  "language_info": {
   "codemirror_mode": {
    "name": "ipython",
    "version": 3
   },
   "file_extension": ".py",
   "mimetype": "text/x-python",
   "name": "python",
   "nbconvert_exporter": "python",
   "pygments_lexer": "ipython3",
   "version": "3.11.0"
  }
 },
 "nbformat": 4,
 "nbformat_minor": 5
}
