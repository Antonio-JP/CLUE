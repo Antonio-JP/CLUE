{
 "cells": [
  {
   "cell_type": "markdown",
   "id": "91a98192-f069-48fd-94fd-373f6f4d1e9d",
   "metadata": {},
   "source": [
    "# **Compressing circuit in .qasm files**"
   ]
  },
  {
   "cell_type": "code",
   "execution_count": 1,
   "id": "dea9aa6e-f22d-4fb1-be64-f2f2d326eed3",
   "metadata": {},
   "outputs": [],
   "source": [
    "import sys\n",
    "sys.path.insert(0, \"../..\") # clue is here\n",
    "from clue import *\n",
    "from clue.qiskit import *\n",
    "from numpy import load, save\n",
    "from qiskit import QuantumRegister, ClassicalRegister, QuantumCircuit, execute, Aer, qpy\n",
    "from qiskit.quantum_info import Operator\n",
    "from time import time"
   ]
  },
  {
   "cell_type": "markdown",
   "id": "6fd1cecd-badf-4c5e-a565-09cb7e062140",
   "metadata": {},
   "source": [
    "In this document we present the code necessary to transform a \".qasm\" file from its original shape to a compressed version that can do the same computations taking into consideration the corresponding lumping. \n",
    "\n",
    "The main idea behind this notebook is to take a `.qasm` file, create the corresponding quantum circuit using the unitary matrix associated to it and then compute a lumping for the input $\\ket{0}$ which is the usual input for these circuits. Then, after obtaining the new unitary matrix, we will build a new circuit (hopefully smaller) using this matrix and save it as a new `.qasm` file.\n",
    "\n",
    "Finally, we would like to compare the simulation time. The measurement is slightly tricky in the reduced circuit since we need to know the value of the associated vector that is represented by each base state in the reduced circuit and perform one last measurment there."
   ]
  },
  {
   "cell_type": "markdown",
   "id": "84c1ce8c-64d2-4572-8fd2-c12c26ec99e5",
   "metadata": {},
   "source": [
    "## 1. Lumping and storing the reduction"
   ]
  },
  {
   "cell_type": "markdown",
   "id": "ead9716b-630d-447d-bbde-5d780126346d",
   "metadata": {},
   "source": [
    "Here we provide a code that allows to reduce a quantum circuit into a (hopefully) smaller representation of it. It stores on memory the reduced version using a unitary matrix and the lumping matrix to recover later the final measurement."
   ]
  },
  {
   "cell_type": "code",
   "execution_count": 2,
   "id": "a6ee349c-197a-4945-b945-565af48b5fac",
   "metadata": {},
   "outputs": [],
   "source": [
    "def reduce_circuit(folder: str, filename: str):\n",
    "    print(\"Reading the Dynamical System...\"); ctime = time()\n",
    "    ## Reading the \".qasm\" circuit\n",
    "    circuit = DS_QuantumCircuit.from_qasm_file(f\"{folder}/{filename}\")\n",
    "    read_time=time()-ctime; \n",
    "    ## Computing the lumping for the first state\n",
    "    print(\"Computing lumping...\"); ctime = time()\n",
    "    lumped = circuit.lumping([circuit.variables[0]], print_reduction=False, print_system=False)\n",
    "    lumping_time=time()-ctime\n",
    "    ## Writing the reduced circuit\n",
    "    print(\"Building reduces .qpy...\"); ctime = time()\n",
    "    Ur = lumped.construct_matrices(\"polynomial\")[0].to_numpy(dtype=cdouble); Ur\n",
    "    Ur = extend_to_power(Ur)\n",
    "    nqbits = int(log2(Ur.shape[0]))\n",
    "    q = QuantumRegister(nqbits,'q')\n",
    "    c = ClassicalRegister(nqbits,'c')\n",
    "    red_circuit = QuantumCircuit(q,c)\n",
    "    red_circuit.unitary(Ur, q)\n",
    "    red_circuit.measure(q, c)\n",
    "    with open(f\"{folder}/reduced/{filename}.qpy\", \"wb\") as f:\n",
    "        qpy.dump(red_circuit, f)\n",
    "    reduced_time = time()-ctime\n",
    "    ## Writing the lumping matrix\n",
    "    print(\"Saving the lumping data...\"); ctime = time()\n",
    "    save(f\"{folder}/reduced/{filename}.npy\", lumped.lumping_matrix.to_numpy(dtype=cdouble))\n",
    "    matrix_time = time()-ctime\n",
    "    \n",
    "    return {\"read\": read_time, \"lumping\": lumping_time, \"reduced\": reduced_time, \"matrix\": matrix_time}\n",
    "    "
   ]
  },
  {
   "cell_type": "code",
   "execution_count": 6,
   "id": "5238d0a9-ce3b-48ec-80ad-ea107afb3d54",
   "metadata": {},
   "outputs": [
    {
     "name": "stdout",
     "output_type": "stream",
     "text": [
      "Reading the Dynamical System...\n",
      "Computing lumping...\n",
      "Building reduces .qpy...\n",
      "Saving the lumping data...\n",
      "{'read': 1.3891913890838623, 'lumping': 0.8887519836425781, 'reduced': 0.0009846687316894531, 'matrix': 0.0005013942718505859}\n",
      "2.2794294357299805\n"
     ]
    }
   ],
   "source": [
    "times = reduce_circuit(\"./circuits\", \"grover-noancilla_indep_qiskit_7.qasm\")\n",
    "print(times)\n",
    "print(sum(times.values()))"
   ]
  },
  {
   "cell_type": "code",
   "execution_count": 7,
   "id": "e645f7bf-c899-4ecc-936b-6edc94da2772",
   "metadata": {},
   "outputs": [
    {
     "name": "stdout",
     "output_type": "stream",
     "text": [
      "Reading the Dynamical System...\n",
      "Computing lumping...\n",
      "Building reduces .qpy...\n",
      "Saving the lumping data...\n",
      "{'read': 1.4860002994537354, 'lumping': 2.793416976928711, 'reduced': 0.0011620521545410156, 'matrix': 0.0008666515350341797}\n",
      "4.2814459800720215\n"
     ]
    }
   ],
   "source": [
    "times = reduce_circuit(\"./circuits\", \"grover-noancilla_indep_qiskit_8.qasm\")\n",
    "print(times)\n",
    "print(sum(times.values()))"
   ]
  },
  {
   "cell_type": "code",
   "execution_count": 8,
   "id": "17024f01-0013-40e4-9071-92bd7226a550",
   "metadata": {},
   "outputs": [
    {
     "name": "stdout",
     "output_type": "stream",
     "text": [
      "Reading the Dynamical System...\n",
      "Computing lumping...\n",
      "Building reduces .qpy...\n",
      "Saving the lumping data...\n",
      "{'read': 6.623856067657471, 'lumping': 11.725273847579956, 'reduced': 0.0010912418365478516, 'matrix': 0.0015690326690673828}\n",
      "18.351790189743042\n"
     ]
    }
   ],
   "source": [
    "times = reduce_circuit(\"./circuits\", \"grover-noancilla_indep_qiskit_9.qasm\")\n",
    "print(times)\n",
    "print(sum(times.values()))"
   ]
  },
  {
   "cell_type": "code",
   "execution_count": 5,
   "id": "32cde994-63f9-454b-a3ff-6b5c3fe0c362",
   "metadata": {},
   "outputs": [
    {
     "name": "stdout",
     "output_type": "stream",
     "text": [
      "Reading the Dynamical System...\n",
      "Computing lumping...\n",
      "Building reduces .qpy...\n",
      "Saving the lumping data...\n",
      "{'read': 30.4960196018219, 'lumping': 89.98585891723633, 'reduced': 0.0010149478912353516, 'matrix': 0.005156993865966797}\n",
      "120.48805046081543\n"
     ]
    }
   ],
   "source": [
    "times = reduce_circuit(\"./circuits\", \"grover-noancilla_indep_qiskit_10.qasm\")\n",
    "print(times)\n",
    "print(sum(times.values()))"
   ]
  },
  {
   "cell_type": "markdown",
   "id": "c309a097-7236-467e-acef-073a35a5e345",
   "metadata": {},
   "source": [
    "## 2. Simulating a quantum circuit"
   ]
  },
  {
   "cell_type": "markdown",
   "id": "c3a80415-ec6b-4eed-8ff6-dcdc06af3c6c",
   "metadata": {},
   "source": [
    "Here we provide a piece of code that receives how many times to simulate a system ans uses the qiskit framework to do it. It will return the distribution of the outputs"
   ]
  },
  {
   "cell_type": "code",
   "execution_count": 9,
   "id": "3114ada2-cffe-4f17-8d64-b8c81bdd3fc7",
   "metadata": {},
   "outputs": [],
   "source": [
    "def simulate_qasm(folder: str, filename:str, shots=8192):\n",
    "    ctime = time()\n",
    "    ## Reading the quantum circuit\n",
    "    circuit = QuantumCircuit.from_qasm_file(f\"{folder}/{filename}\")\n",
    "    reading_time = time()-ctime; ctime=time()\n",
    "    ## Simulating the quantum circuit\n",
    "    backend = Aer.get_backend('aer_simulator')\n",
    "    job = execute(circuit, backend, shots=shots)\n",
    "    simulation_time = time()-ctime; ctime=time()\n",
    "    ## Collecting the data to have proper output\n",
    "    output = job.result().get_counts()\n",
    "    output_time = time()-ctime\n",
    "    \n",
    "    return output, {\"read\": reading_time, \"simulation\": simulation_time, \"output\": output_time}"
   ]
  },
  {
   "cell_type": "code",
   "execution_count": 10,
   "id": "fb626441-df67-466e-8814-6ad6b3821adb",
   "metadata": {},
   "outputs": [
    {
     "name": "stdout",
     "output_type": "stream",
     "text": [
      "{'read': 0.09397745132446289, 'simulation': 0.023434162139892578, 'output': 0.015834569931030273}\n",
      "0.13324618339538574\n"
     ]
    }
   ],
   "source": [
    "res7 = simulate_qasm(\"./circuits\", \"grover-noancilla_indep_qiskit_7.qasm\")\n",
    "print(res7[1])\n",
    "print(sum(res7[1].values()))"
   ]
  },
  {
   "cell_type": "code",
   "execution_count": 12,
   "id": "4ef7d0fd-e3bf-466e-a6b1-ebd5daec0de6",
   "metadata": {},
   "outputs": [
    {
     "name": "stdout",
     "output_type": "stream",
     "text": [
      "{'read': 0.8389289379119873, 'simulation': 0.053495168685913086, 'output': 0.023340702056884766}\n",
      "0.9157648086547852\n"
     ]
    }
   ],
   "source": [
    "res8 = simulate_qasm(\"./circuits\", \"grover-noancilla_indep_qiskit_8.qasm\")\n",
    "print(res8[1])\n",
    "print(sum(res8[1].values()))"
   ]
  },
  {
   "cell_type": "code",
   "execution_count": 13,
   "id": "42a3b4c8-3c21-443e-9902-f736d1aa970e",
   "metadata": {},
   "outputs": [
    {
     "name": "stdout",
     "output_type": "stream",
     "text": [
      "{'read': 0.5727097988128662, 'simulation': 0.7066619396209717, 'output': 0.05100226402282715}\n",
      "1.330374002456665\n"
     ]
    }
   ],
   "source": [
    "res9 = simulate_qasm(\"./circuits\", \"grover-noancilla_indep_qiskit_9.qasm\")\n",
    "print(res9[1])\n",
    "print(sum(res9[1].values()))"
   ]
  },
  {
   "cell_type": "code",
   "execution_count": 14,
   "id": "ff995494-2461-4ae6-8cb3-ad63e1870d47",
   "metadata": {},
   "outputs": [
    {
     "name": "stdout",
     "output_type": "stream",
     "text": [
      "{'read': 2.288045644760132, 'simulation': 1.2098524570465088, 'output': 0.12458062171936035}\n",
      "3.622478723526001\n"
     ]
    }
   ],
   "source": [
    "res10 = simulate_qasm(\"./circuits\", \"grover-noancilla_indep_qiskit_10.qasm\")\n",
    "print(res10[1])\n",
    "print(sum(res10[1].values()))"
   ]
  },
  {
   "cell_type": "markdown",
   "id": "eba2a4e6-8722-4495-82cd-b4e7e254102b",
   "metadata": {},
   "source": [
    "## 3. Simulating a reduced quantum circuit"
   ]
  },
  {
   "cell_type": "markdown",
   "id": "ea2e3ea1-7f0a-4fa9-9ac5-53d214e855cb",
   "metadata": {},
   "source": [
    "In this case, we assume the `.qasm` file has associated a `.npy` file with the corresponding lumping needed for transforming the measure of the `.qasm` circuit to the actual output of the circuit. This adds a small overload to the simulation. The output will be similar to that in `simulate_qasm`."
   ]
  },
  {
   "cell_type": "code",
   "execution_count": 27,
   "id": "7abfe1af-67c8-4d60-a694-3a4fe2e937ce",
   "metadata": {},
   "outputs": [],
   "source": [
    "def simulate_reduced(folder: str, filename:str, shots=8192):\n",
    "    ctime = time()\n",
    "    ## Reading the quantum circuit\n",
    "    with open(f\"{folder}/{filename}\", \"rb\") as f:\n",
    "        circuit = qpy.load(f)[0]\n",
    "    reading_time = time()-ctime; ctime=time()    \n",
    "    ## Simulating the quantum circuit\n",
    "    backend = Aer.get_backend('aer_simulator')\n",
    "    job = execute(circuit, backend, shots=shots)\n",
    "    simulation_time = time()-ctime; ctime=time()\n",
    "    ## Collecting the data to have proper output\n",
    "    #### Reading the lumping matrix\n",
    "    Ur = load(f\"{folder}/{filename.removesuffix('.qpy')}.npy\")\n",
    "    nqbits = int(log2(Ur.shape[1]))\n",
    "    matrix_time = time()-ctime; ctime=time()\n",
    "    #### Measuring the data from qasm to the original states\n",
    "    output = dict()\n",
    "    for (out, times) in job.result().get_counts().items():\n",
    "        for m,t in repeated_measure(Ur[int(out, 2)], times, out=dict).items():\n",
    "            output[m] = output.get(m,0) + t\n",
    "    output = {format(k, f\"0{nqbits}b\"): v for k,v in output.items()}\n",
    "    measuring_time = time()-ctime\n",
    "    output_time = matrix_time + measuring_time\n",
    "    \n",
    "    return output, {\"read\": reading_time, \"simulation\": simulation_time, \"output\": {\"total\": output_time, \"matrix\": matrix_time, \"measure\": measuring_time}}"
   ]
  },
  {
   "cell_type": "code",
   "execution_count": 28,
   "id": "d2b04d77-63e3-4058-ad44-14fb86a0dce9",
   "metadata": {},
   "outputs": [
    {
     "name": "stdout",
     "output_type": "stream",
     "text": [
      "{'read': 0.002210855484008789, 'simulation': 0.0032739639282226562, 'output': {'total': 0.010535478591918945, 'matrix': 0.0010366439819335938, 'measure': 0.009498834609985352}}\n",
      "0.01602029800415039\n"
     ]
    }
   ],
   "source": [
    "res = simulate_reduced(\"./circuits/reduced\", \"grover-noancilla_indep_qiskit_7.qasm.qpy\")\n",
    "print(res[1])\n",
    "print(sum(el if not isinstance(el, dict) else el[\"total\"] for el in res[1].values()))"
   ]
  },
  {
   "cell_type": "code",
   "execution_count": 29,
   "id": "8a6c24aa-faf8-47fa-b092-c1e21d99ffed",
   "metadata": {},
   "outputs": [
    {
     "data": {
      "text/plain": [
       "{'01': 8192}"
      ]
     },
     "execution_count": 29,
     "metadata": {},
     "output_type": "execute_result"
    }
   ],
   "source": [
    "res[3]"
   ]
  },
  {
   "cell_type": "code",
   "execution_count": null,
   "id": "ee6f0887-d725-4774-a7be-8efc4a2989c7",
   "metadata": {},
   "outputs": [],
   "source": [
    "circuit"
   ]
  },
  {
   "cell_type": "code",
   "execution_count": null,
   "id": "e7f38019-eb55-4adf-bd40-d2e6905e43cf",
   "metadata": {},
   "outputs": [],
   "source": []
  }
 ],
 "metadata": {
  "kernelspec": {
   "display_name": "Python 3 (ipykernel)",
   "language": "python",
   "name": "python3"
  },
  "language_info": {
   "codemirror_mode": {
    "name": "ipython",
    "version": 3
   },
   "file_extension": ".py",
   "mimetype": "text/x-python",
   "name": "python",
   "nbconvert_exporter": "python",
   "pygments_lexer": "ipython3",
   "version": "3.11.0"
  },
  "widgets": {
   "application/vnd.jupyter.widget-state+json": {
    "state": {},
    "version_major": 2,
    "version_minor": 0
   }
  }
 },
 "nbformat": 4,
 "nbformat_minor": 5
}
