{
 "cells": [
  {
   "cell_type": "markdown",
   "id": "91a98192-f069-48fd-94fd-373f6f4d1e9d",
   "metadata": {},
   "source": [
    "# **Compressing circuit in .qasm files**"
   ]
  },
  {
   "cell_type": "code",
   "execution_count": 30,
   "id": "dea9aa6e-f22d-4fb1-be64-f2f2d326eed3",
   "metadata": {},
   "outputs": [],
   "source": [
    "import sys\n",
    "sys.path.insert(0, \"../..\") # clue is here\n",
    "from clue import *\n",
    "from clue.qiskit import *\n",
    "from numpy import load, save\n",
    "from qiskit import QuantumRegister, ClassicalRegister, QuantumCircuit, execute, Aer, qpy\n",
    "from qiskit.quantum_info import Operator\n",
    "from time import time"
   ]
  },
  {
   "cell_type": "markdown",
   "id": "6fd1cecd-badf-4c5e-a565-09cb7e062140",
   "metadata": {},
   "source": [
    "In this document we present the code necessary to transform a \".qasm\" file from its original shape to a compressed version that can do the same computations taking into consideration the corresponding lumping. \n",
    "\n",
    "The main idea behind this notebook is to take a `.qasm` file, create the corresponding quantum circuit using the unitary matrix associated to it and then compute a lumping for the input $\\ket{0}$ which is the usual input for these circuits. Then, after obtaining the new unitary matrix, we will build a new circuit (hopefully smaller) using this matrix and save it as a new `.qasm` file.\n",
    "\n",
    "Finally, we would like to compare the simulation time. The measurement is slightly tricky in the reduced circuit since we need to know the value of the associated vector that is represented by each base state in the reduced circuit and perform one last measurment there."
   ]
  },
  {
   "cell_type": "markdown",
   "id": "84c1ce8c-64d2-4572-8fd2-c12c26ec99e5",
   "metadata": {},
   "source": [
    "## 1. Lumping and storing the reduction"
   ]
  },
  {
   "cell_type": "markdown",
   "id": "ead9716b-630d-447d-bbde-5d780126346d",
   "metadata": {},
   "source": [
    "Here we provide a code that allows to reduce a quantum circuit into a (hopefully) smaller representation of it. It stores on memory the reduced version using a unitary matrix and the lumping matrix to recover later the final measurement."
   ]
  },
  {
   "cell_type": "code",
   "execution_count": 31,
   "id": "a6ee349c-197a-4945-b945-565af48b5fac",
   "metadata": {},
   "outputs": [],
   "source": [
    "def reduce_circuit(folder: str, filename: str):\n",
    "    ctime = time()\n",
    "    ## Reading the \".qasm\" circuit\n",
    "    circuit = DS_QuantumCircuit.from_qasm_file(f\"{folder}/{filename}\")\n",
    "    read_time=time()-ctime; ctime = time()\n",
    "    ## Computing the lumping for the first state\n",
    "    lumped = circuit.lumping([circuit.variables[0]], print_reduction=False, print_system=False)\n",
    "    lumping_time=time()-ctime; ctime=time()\n",
    "    ## Writing the reduced circuit\n",
    "    Ur = lumped.construct_matrices(\"polynomial\")[0].to_numpy(dtype=cdouble); Ur\n",
    "    Ur = extend_to_power(Ur)\n",
    "    nqbits = int(log2(Ur.shape[0]))\n",
    "    q = QuantumRegister(nqbits,'q')\n",
    "    c = ClassicalRegister(nqbits,'c')\n",
    "    red_circuit = QuantumCircuit(q,c)\n",
    "    red_circuit.unitary(Ur, q)\n",
    "    red_circuit.measure(q, c)\n",
    "    with open(f\"{folder}/reduced/{filename}.qpy\", \"wb\") as f:\n",
    "        qpy.dump(red_circuit, f)\n",
    "    reduced_time = time()-ctime; ctime=time()\n",
    "    ## Writing the lumping matrix\n",
    "    save(f\"{folder}/reduced/{filename}.npy\", lumped.lumping_matrix.to_numpy(dtype=cdouble))\n",
    "    matrix_time = time()-ctime\n",
    "    \n",
    "    return {\"read\": read_time, \"lumping\": lumping_time, \"reduced\": reduced_time, \"matrix\": matrix_time}\n",
    "    "
   ]
  },
  {
   "cell_type": "code",
   "execution_count": 32,
   "id": "32cde994-63f9-454b-a3ff-6b5c3fe0c362",
   "metadata": {},
   "outputs": [
    {
     "data": {
      "text/plain": [
       "{'read': 0.4943397045135498,\n",
       " 'lumping': 0.6573669910430908,\n",
       " 'reduced': 0.0007796287536621094,\n",
       " 'matrix': 0.0005483627319335938}"
      ]
     },
     "execution_count": 32,
     "metadata": {},
     "output_type": "execute_result"
    }
   ],
   "source": [
    "reduce_circuit(\"./circuits\", \"grover-noancilla_indep_qiskit_7.qasm\")"
   ]
  },
  {
   "cell_type": "markdown",
   "id": "c309a097-7236-467e-acef-073a35a5e345",
   "metadata": {},
   "source": [
    "## 2. Simulating a quantum circuit"
   ]
  },
  {
   "cell_type": "markdown",
   "id": "c3a80415-ec6b-4eed-8ff6-dcdc06af3c6c",
   "metadata": {},
   "source": [
    "Here we provide a piece of code that receives how many times to simulate a system ans uses the qiskit framework to do it. It will return the distribution of the outputs"
   ]
  },
  {
   "cell_type": "code",
   "execution_count": 33,
   "id": "3114ada2-cffe-4f17-8d64-b8c81bdd3fc7",
   "metadata": {},
   "outputs": [],
   "source": [
    "def simulate_qasm(folder: str, filename:str, shots=8192):\n",
    "    ctime = time()\n",
    "    ## Reading the quantum circuit\n",
    "    circuit = QuantumCircuit.from_qasm_file(f\"{folder}/{filename}\")\n",
    "    reading_time = time()-ctime; ctime=time()\n",
    "    ## Simulating the quantum circuit\n",
    "    backend = Aer.get_backend('aer_simulator')\n",
    "    job = execute(circuit, backend, shots=shots)\n",
    "    simulation_time = time()-ctime; ctime=time()\n",
    "    ## Collecting the data to have proper output\n",
    "    output = job.result().get_counts()\n",
    "    output_time = time()-ctime\n",
    "    \n",
    "    return output, {\"read\": reading_time, \"simulation\": simulation_time, \"output\": output_time}"
   ]
  },
  {
   "cell_type": "code",
   "execution_count": 37,
   "id": "ff995494-2461-4ae6-8cb3-ad63e1870d47",
   "metadata": {},
   "outputs": [
    {
     "name": "stdout",
     "output_type": "stream",
     "text": [
      "{'read': 0.11484146118164062, 'simulation': 0.02226734161376953, 'output': 0.013597726821899414}\n",
      "0.15070652961730957\n"
     ]
    }
   ],
   "source": [
    "res = simulate_qasm(\"./circuits\", \"grover-noancilla_indep_qiskit_7.qasm\")\n",
    "print(res[1])\n",
    "print(sum(res[1].values()))"
   ]
  },
  {
   "cell_type": "code",
   "execution_count": 38,
   "id": "dc65c309-b84e-45cc-83d7-e405aa2d6265",
   "metadata": {},
   "outputs": [
    {
     "data": {
      "text/plain": [
       "{'1111101': 1,\n",
       " '1001101': 1,\n",
       " '1111010': 1,\n",
       " '1001001': 1,\n",
       " '1100010': 1,\n",
       " '1111000': 1,\n",
       " '1111100': 1,\n",
       " '1100100': 1,\n",
       " '1010100': 2,\n",
       " '1111111': 8154,\n",
       " '1001111': 1,\n",
       " '1110111': 1,\n",
       " '1101010': 3,\n",
       " '1000000': 3,\n",
       " '1101001': 3,\n",
       " '1101110': 2,\n",
       " '1100001': 2,\n",
       " '1101100': 2,\n",
       " '1101101': 1,\n",
       " '1100000': 1,\n",
       " '1011100': 3,\n",
       " '1010111': 1,\n",
       " '1011011': 1,\n",
       " '1011000': 1,\n",
       " '1001010': 1,\n",
       " '1001110': 1,\n",
       " '1001011': 1}"
      ]
     },
     "execution_count": 38,
     "metadata": {},
     "output_type": "execute_result"
    }
   ],
   "source": [
    "res[0]"
   ]
  },
  {
   "cell_type": "markdown",
   "id": "eba2a4e6-8722-4495-82cd-b4e7e254102b",
   "metadata": {},
   "source": [
    "## 3. Simulating a reduced quantum circuit"
   ]
  },
  {
   "cell_type": "markdown",
   "id": "ea2e3ea1-7f0a-4fa9-9ac5-53d214e855cb",
   "metadata": {},
   "source": [
    "In this case, we assume the `.qasm` file has associated a `.npy` file with the corresponding lumping needed for transforming the measure of the `.qasm` circuit to the actual output of the circuit. This adds a small overload to the simulation. The output will be similar to that in `simulate_qasm`."
   ]
  },
  {
   "cell_type": "code",
   "execution_count": 35,
   "id": "7abfe1af-67c8-4d60-a694-3a4fe2e937ce",
   "metadata": {},
   "outputs": [],
   "source": [
    "def simulate_reduced(folder: str, filename:str, shots=8192):\n",
    "    ctime = time()\n",
    "    ## Reading the quantum circuit\n",
    "    with open(f\"{folder}/{filename}\", \"rb\") as f:\n",
    "        circuit = qpy.load(f)[0]\n",
    "    reading_time = time()-ctime; ctime=time()    \n",
    "    ## Simulating the quantum circuit\n",
    "    backend = Aer.get_backend('aer_simulator')\n",
    "    job = execute(circuit, backend, shots=shots)\n",
    "    simulation_time = time()-ctime; ctime=time()\n",
    "    ## Collecting the data to have proper output\n",
    "    #### Reading the lumping matrix\n",
    "    Ur = load(f\"{folder}/{filename.removesuffix('.qpy')}.npy\")\n",
    "    nqbits = int(log2(Ur.shape[1]))\n",
    "    matrix_time = time()-ctime; ctime=time()\n",
    "    #### Measuring the data from qasm to the original states\n",
    "    output = dict()\n",
    "    for (out, times) in job.result().get_counts().items():\n",
    "        for m,t in repeated_measure(Ur[int(out, 2)], times, out=dict).items():\n",
    "            output[m] = output.get(m,0) + t\n",
    "    output = {format(k, f\"0{nqbits}b\"): v for k,v in output.items()}\n",
    "    measuring_time = time()-ctime\n",
    "    output_time = matrix_time + measuring_time\n",
    "    \n",
    "    return output, {\"read\": reading_time, \"simulation\": simulation_time, \"output\": {\"total\": output_time, \"matrix\": matrix_time, \"measure\": measuring_time}}"
   ]
  },
  {
   "cell_type": "code",
   "execution_count": 39,
   "id": "d2b04d77-63e3-4058-ad44-14fb86a0dce9",
   "metadata": {},
   "outputs": [
    {
     "name": "stdout",
     "output_type": "stream",
     "text": [
      "{'read': 0.0010499954223632812, 'simulation': 0.0019762516021728516, 'output': {'total': 0.009523630142211914, 'matrix': 0.007335186004638672, 'measure': 0.002188444137573242}}\n",
      "0.012549877166748047\n"
     ]
    }
   ],
   "source": [
    "res = simulate_reduced(\"./circuits/reduced\", \"grover-noancilla_indep_qiskit_7.qasm.qpy\")\n",
    "print(res[1])\n",
    "print(sum(el if not isinstance(el, dict) else el[\"total\"] for el in res[1].values()))"
   ]
  },
  {
   "cell_type": "code",
   "execution_count": 40,
   "id": "8a6c24aa-faf8-47fa-b092-c1e21d99ffed",
   "metadata": {},
   "outputs": [
    {
     "data": {
      "text/plain": [
       "{'1110000': 119,\n",
       " '1111010': 120,\n",
       " '1011100': 131,\n",
       " '1111110': 128,\n",
       " '1001111': 115,\n",
       " '1011010': 126,\n",
       " '1101100': 134,\n",
       " '1010010': 154,\n",
       " '1111000': 148,\n",
       " '1001010': 113,\n",
       " '1000011': 110,\n",
       " '1010101': 119,\n",
       " '1011001': 112,\n",
       " '1111111': 143,\n",
       " '1001101': 138,\n",
       " '1101101': 134,\n",
       " '1011011': 135,\n",
       " '1010110': 112,\n",
       " '1110001': 126,\n",
       " '1101001': 119,\n",
       " '1000000': 129,\n",
       " '1111100': 112,\n",
       " '1001000': 133,\n",
       " '1000111': 138,\n",
       " '1000101': 124,\n",
       " '1100101': 116,\n",
       " '1010100': 135,\n",
       " '1110101': 114,\n",
       " '1100011': 124,\n",
       " '1011101': 122,\n",
       " '1010111': 107,\n",
       " '1001011': 130,\n",
       " '1101011': 122,\n",
       " '1000001': 133,\n",
       " '1101110': 143,\n",
       " '1010011': 128,\n",
       " '1100111': 137,\n",
       " '1100001': 162,\n",
       " '1110110': 134,\n",
       " '1101010': 139,\n",
       " '1000110': 122,\n",
       " '1110010': 134,\n",
       " '1111011': 133,\n",
       " '1011110': 132,\n",
       " '1010001': 104,\n",
       " '1001100': 117,\n",
       " '1000100': 119,\n",
       " '1010000': 135,\n",
       " '1101111': 121,\n",
       " '1001001': 130,\n",
       " '1101000': 152,\n",
       " '1110111': 133,\n",
       " '1110100': 131,\n",
       " '1100010': 137,\n",
       " '1110011': 129,\n",
       " '1100100': 142,\n",
       " '1111001': 138,\n",
       " '1011111': 122,\n",
       " '1000010': 139,\n",
       " '1001110': 132,\n",
       " '1100000': 121,\n",
       " '1100110': 106,\n",
       " '1111101': 131,\n",
       " '1011000': 114}"
      ]
     },
     "execution_count": 40,
     "metadata": {},
     "output_type": "execute_result"
    }
   ],
   "source": [
    "res[0]"
   ]
  },
  {
   "cell_type": "code",
   "execution_count": null,
   "id": "ee6f0887-d725-4774-a7be-8efc4a2989c7",
   "metadata": {},
   "outputs": [],
   "source": [
    "circuit"
   ]
  },
  {
   "cell_type": "code",
   "execution_count": null,
   "id": "e7f38019-eb55-4adf-bd40-d2e6905e43cf",
   "metadata": {},
   "outputs": [],
   "source": []
  }
 ],
 "metadata": {
  "kernelspec": {
   "display_name": "Python 3 (ipykernel)",
   "language": "python",
   "name": "python3"
  },
  "language_info": {
   "codemirror_mode": {
    "name": "ipython",
    "version": 3
   },
   "file_extension": ".py",
   "mimetype": "text/x-python",
   "name": "python",
   "nbconvert_exporter": "python",
   "pygments_lexer": "ipython3",
   "version": "3.11.0"
  },
  "widgets": {
   "application/vnd.jupyter.widget-state+json": {
    "state": {},
    "version_major": 2,
    "version_minor": 0
   }
  }
 },
 "nbformat": 4,
 "nbformat_minor": 5
}
