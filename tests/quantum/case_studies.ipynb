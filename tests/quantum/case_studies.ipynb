{
 "cells": [
  {
   "cell_type": "markdown",
   "id": "da5f7107-3566-4037-b7b6-690541ed3d38",
   "metadata": {},
   "source": [
    "# **Case studies**$\\def\\ket#1{\\left|#1\\right\\rangle}\\def\\bra#1{\\left\\langle #1\\right|}$"
   ]
  },
  {
   "cell_type": "code",
   "execution_count": 1,
   "id": "cb5074bd-0000-4699-8598-24e40e0e2812",
   "metadata": {},
   "outputs": [],
   "source": [
    "import sys\n",
    "sys.path.insert(0, \"../..\") # clue is here\n",
    "\n",
    "from clue.qiskit import *\n",
    "from math import log\n",
    "from numpy import gcd\n",
    "from random import choice"
   ]
  },
  {
   "cell_type": "markdown",
   "id": "8118f847-e7e0-483a-9238-90ddc9e32bfe",
   "metadata": {},
   "source": [
    "In this document we present examples of the lumping on quantum circuits from the *draft*. In particular, we will present what it means a lumping on several problems and how to extract the information directly from the lumping. The problems we are going to focus in this document are:\n",
    "\n",
    "* The **Search algorithm** using Grover's gate.\n",
    "* The **Order computation** using a multiplication by $x$ module $N$ gate.\n",
    "* The **Phase estimation** problem using Kitaev's gate based on the multiplication by $x$ module $N$ gate."
   ]
  },
  {
   "cell_type": "markdown",
   "id": "3fa96101-2ecb-4929-b1a2-8dfb85b25526",
   "metadata": {
    "jp-MarkdownHeadingCollapsed": true,
    "tags": []
   },
   "source": [
    "## 1. *Search algorithm*"
   ]
  },
  {
   "cell_type": "markdown",
   "id": "fd300ec8-62be-49ce-8219-260e9e42edc2",
   "metadata": {},
   "source": [
    "Let $f: \\{0,\\ldots,2^n-1\\} \\rightarrow \\{0,1\\}$ be a boolean function that defines a success criteria for a search. Grover's gate is defined by:\n",
    "$$G \\ket{x} = (-1)^{f(x)} \\left(I - 2 \\ket{\\psi} \\bra{\\psi}\\right)\\ket{x}.$$\n",
    "\n",
    "In the *draft* we shows that the unitary matrix that defines Grover's gate enjoys a lumping when observing the entangled state $\\ket{\\psi}$. More precisely, since the entangled state can be represented as a linear combination of the *success* state and *failure* state, then CLUE will return a lumping of length 2 that will contain all the information about these two states."
   ]
  },
  {
   "cell_type": "code",
   "execution_count": 59,
   "id": "3b9e1edd-ec00-48fd-ac5e-27568e4ed255",
   "metadata": {},
   "outputs": [
    {
     "name": "stdout",
     "output_type": "stream",
     "text": [
      "Success search: [1, 3, 9, 27, 81]\n"
     ]
    },
    {
     "data": {
      "text/plain": [
       "array([[ 0.875+0.j,  0.125-0.j, -0.125+0.j,  0.125-0.j, -0.125+0.j,\n",
       "        -0.125+0.j, -0.125+0.j, -0.125+0.j, -0.125+0.j,  0.125-0.j,\n",
       "        -0.125+0.j, -0.125+0.j, -0.125+0.j, -0.125+0.j, -0.125+0.j,\n",
       "        -0.125+0.j],\n",
       "       [-0.125+0.j, -0.875+0.j, -0.125+0.j,  0.125-0.j, -0.125+0.j,\n",
       "        -0.125+0.j, -0.125+0.j, -0.125+0.j, -0.125+0.j,  0.125-0.j,\n",
       "        -0.125+0.j, -0.125+0.j, -0.125+0.j, -0.125+0.j, -0.125+0.j,\n",
       "        -0.125+0.j],\n",
       "       [-0.125+0.j,  0.125-0.j,  0.875+0.j,  0.125-0.j, -0.125+0.j,\n",
       "        -0.125+0.j, -0.125+0.j, -0.125+0.j, -0.125+0.j,  0.125-0.j,\n",
       "        -0.125+0.j, -0.125+0.j, -0.125+0.j, -0.125+0.j, -0.125+0.j,\n",
       "        -0.125+0.j],\n",
       "       [-0.125+0.j,  0.125-0.j, -0.125+0.j, -0.875+0.j, -0.125+0.j,\n",
       "        -0.125+0.j, -0.125+0.j, -0.125+0.j, -0.125+0.j,  0.125-0.j,\n",
       "        -0.125+0.j, -0.125+0.j, -0.125+0.j, -0.125+0.j, -0.125+0.j,\n",
       "        -0.125+0.j],\n",
       "       [-0.125+0.j,  0.125-0.j, -0.125+0.j,  0.125-0.j,  0.875+0.j,\n",
       "        -0.125+0.j, -0.125+0.j, -0.125+0.j, -0.125+0.j,  0.125-0.j,\n",
       "        -0.125+0.j, -0.125+0.j, -0.125+0.j, -0.125+0.j, -0.125+0.j,\n",
       "        -0.125+0.j],\n",
       "       [-0.125+0.j,  0.125-0.j, -0.125+0.j,  0.125-0.j, -0.125+0.j,\n",
       "         0.875+0.j, -0.125+0.j, -0.125+0.j, -0.125+0.j,  0.125-0.j,\n",
       "        -0.125+0.j, -0.125+0.j, -0.125+0.j, -0.125+0.j, -0.125+0.j,\n",
       "        -0.125+0.j],\n",
       "       [-0.125+0.j,  0.125-0.j, -0.125+0.j,  0.125-0.j, -0.125+0.j,\n",
       "        -0.125+0.j,  0.875+0.j, -0.125+0.j, -0.125+0.j,  0.125-0.j,\n",
       "        -0.125+0.j, -0.125+0.j, -0.125+0.j, -0.125+0.j, -0.125+0.j,\n",
       "        -0.125+0.j],\n",
       "       [-0.125+0.j,  0.125-0.j, -0.125+0.j,  0.125-0.j, -0.125+0.j,\n",
       "        -0.125+0.j, -0.125+0.j,  0.875+0.j, -0.125+0.j,  0.125-0.j,\n",
       "        -0.125+0.j, -0.125+0.j, -0.125+0.j, -0.125+0.j, -0.125+0.j,\n",
       "        -0.125+0.j],\n",
       "       [-0.125+0.j,  0.125-0.j, -0.125+0.j,  0.125-0.j, -0.125+0.j,\n",
       "        -0.125+0.j, -0.125+0.j, -0.125+0.j,  0.875+0.j,  0.125-0.j,\n",
       "        -0.125+0.j, -0.125+0.j, -0.125+0.j, -0.125+0.j, -0.125+0.j,\n",
       "        -0.125+0.j],\n",
       "       [-0.125+0.j,  0.125-0.j, -0.125+0.j,  0.125-0.j, -0.125+0.j,\n",
       "        -0.125+0.j, -0.125+0.j, -0.125+0.j, -0.125+0.j, -0.875+0.j,\n",
       "        -0.125+0.j, -0.125+0.j, -0.125+0.j, -0.125+0.j, -0.125+0.j,\n",
       "        -0.125+0.j],\n",
       "       [-0.125+0.j,  0.125-0.j, -0.125+0.j,  0.125-0.j, -0.125+0.j,\n",
       "        -0.125+0.j, -0.125+0.j, -0.125+0.j, -0.125+0.j,  0.125-0.j,\n",
       "         0.875+0.j, -0.125+0.j, -0.125+0.j, -0.125+0.j, -0.125+0.j,\n",
       "        -0.125+0.j],\n",
       "       [-0.125+0.j,  0.125-0.j, -0.125+0.j,  0.125-0.j, -0.125+0.j,\n",
       "        -0.125+0.j, -0.125+0.j, -0.125+0.j, -0.125+0.j,  0.125-0.j,\n",
       "        -0.125+0.j,  0.875+0.j, -0.125+0.j, -0.125+0.j, -0.125+0.j,\n",
       "        -0.125+0.j],\n",
       "       [-0.125+0.j,  0.125-0.j, -0.125+0.j,  0.125-0.j, -0.125+0.j,\n",
       "        -0.125+0.j, -0.125+0.j, -0.125+0.j, -0.125+0.j,  0.125-0.j,\n",
       "        -0.125+0.j, -0.125+0.j,  0.875+0.j, -0.125+0.j, -0.125+0.j,\n",
       "        -0.125+0.j],\n",
       "       [-0.125+0.j,  0.125-0.j, -0.125+0.j,  0.125-0.j, -0.125+0.j,\n",
       "        -0.125+0.j, -0.125+0.j, -0.125+0.j, -0.125+0.j,  0.125-0.j,\n",
       "        -0.125+0.j, -0.125+0.j, -0.125+0.j,  0.875+0.j, -0.125+0.j,\n",
       "        -0.125+0.j],\n",
       "       [-0.125+0.j,  0.125-0.j, -0.125+0.j,  0.125-0.j, -0.125+0.j,\n",
       "        -0.125+0.j, -0.125+0.j, -0.125+0.j, -0.125+0.j,  0.125-0.j,\n",
       "        -0.125+0.j, -0.125+0.j, -0.125+0.j, -0.125+0.j,  0.875+0.j,\n",
       "        -0.125+0.j],\n",
       "       [-0.125+0.j,  0.125-0.j, -0.125+0.j,  0.125-0.j, -0.125+0.j,\n",
       "        -0.125+0.j, -0.125+0.j, -0.125+0.j, -0.125+0.j,  0.125-0.j,\n",
       "        -0.125+0.j, -0.125+0.j, -0.125+0.j, -0.125+0.j, -0.125+0.j,\n",
       "         0.875+0.j]])"
      ]
     },
     "execution_count": 59,
     "metadata": {},
     "output_type": "execute_result"
    }
   ],
   "source": [
    "f = lambda p : 0 if p == 0 else 1 if 3**(int(log(p)/log(3))) == p else 0 # looks for powers of 3\n",
    "print(f\"Success search: {[i for i in range(1,256) if f(i) == 1]}\")\n",
    "G(f,4)"
   ]
  },
  {
   "cell_type": "markdown",
   "id": "e6ddf081-eda1-485c-9e72-57e416f9c176",
   "metadata": {},
   "source": [
    "We can apply CLUE to this matrix and the observable given by $\\ket{\\psi}$:"
   ]
  },
  {
   "cell_type": "code",
   "execution_count": 60,
   "id": "74f80bad-b9c9-4f96-b455-902453461546",
   "metadata": {},
   "outputs": [
    {
     "name": "stdout",
     "output_type": "stream",
     "text": [
      "New variables:\n",
      "y0 = (0.25 + 0.0j)*Q_0000 + (0.25 + 0.0j)*Q_0001 + (0.25 + 0.0j)*Q_0010 + (0.25 + 0.0j)*Q_0011 + (0.25 + 0.0j)*Q_0100 + (0.25 + 0.0j)*Q_0101 + (0.25 + 0.0j)*Q_0110 + (0.25 + 0.0j)*Q_0111 + (0.25 + 0.0j)*Q_1000 + (0.25 + 0.0j)*Q_1001 + (0.25 + 0.0j)*Q_1010 + (0.25 + 0.0j)*Q_1011 + (0.25 + 0.0j)*Q_1100 + (0.25 + 0.0j)*Q_1101 + (0.25 + 0.0j)*Q_1110 + (0.25 + 0.0j)*Q_1111\n",
      "y1 = (-0.120096115353815 + 0.0j)*Q_0000 + (0.520416499866533 + 0.0j)*Q_0001 + (-0.120096115353815 + 0.0j)*Q_0010 + (0.520416499866533 + 0.0j)*Q_0011 + (-0.120096115353815 + 0.0j)*Q_0100 + (-0.120096115353815 + 0.0j)*Q_0101 + (-0.120096115353815 + 0.0j)*Q_0110 + (-0.120096115353815 + 0.0j)*Q_0111 + (-0.120096115353815 + 0.0j)*Q_1000 + (0.520416499866533 + 0.0j)*Q_1001 + (-0.120096115353815 + 0.0j)*Q_1010 + (-0.120096115353815 + 0.0j)*Q_1011 + (-0.120096115353815 + 0.0j)*Q_1100 + (-0.120096115353815 + 0.0j)*Q_1101 + (-0.120096115353815 + 0.0j)*Q_1110 + (-0.120096115353815 + 0.0j)*Q_1111\n",
      "New initial conditions:\n",
      "Lumped system:\n",
      "y0' = (0.7806247497998 + 0.0j)*y1 + (-0.625 + 0.0j)*y0\n",
      "y1' = (-0.625 + 0.0j)*y1 + (-0.7806247497998 + 0.0j)*y0\n"
     ]
    }
   ],
   "source": [
    "system = DS_QuantumCircuit(G(f,4))\n",
    "lumped = system.lumping([SparsePolynomial.from_vector(Psi(2**4), system.variables, system.field)])"
   ]
  },
  {
   "cell_type": "markdown",
   "id": "13ed8af6-1a18-49de-84b3-20405004d60c",
   "metadata": {},
   "source": [
    "As expected, we got 2 macro-states. One of them is $\\ket{\\psi}$ itself. We should be able to obtain the success and failure states from these two macro-states:"
   ]
  },
  {
   "cell_type": "code",
   "execution_count": 61,
   "id": "ab48af96-1d0c-469e-a529-214a4e404e2d",
   "metadata": {},
   "outputs": [
    {
     "data": {
      "text/plain": [
       "array([[0.2773501 +0.j, 0.        +0.j, 0.2773501 +0.j, 0.        +0.j,\n",
       "        0.2773501 +0.j, 0.2773501 +0.j, 0.2773501 +0.j, 0.2773501 +0.j,\n",
       "        0.2773501 +0.j, 0.        +0.j, 0.2773501 +0.j, 0.2773501 +0.j,\n",
       "        0.2773501 +0.j, 0.2773501 +0.j, 0.2773501 +0.j, 0.2773501 +0.j],\n",
       "       [0.        +0.j, 0.57735027+0.j, 0.        +0.j, 0.57735027+0.j,\n",
       "        0.        +0.j, 0.        +0.j, 0.        +0.j, 0.        +0.j,\n",
       "        0.        +0.j, 0.57735027+0.j, 0.        +0.j, 0.        +0.j,\n",
       "        0.        +0.j, 0.        +0.j, 0.        +0.j, 0.        +0.j]])"
      ]
     },
     "execution_count": 61,
     "metadata": {},
     "output_type": "execute_result"
    }
   ],
   "source": [
    "L = lumped.lumping_matrix.to_numpy(dtype=cdouble)\n",
    "## Computing the reduced echelon form\n",
    "new_L = [L[0],L[1]]\n",
    "new_L[1] = L[1] - L[0]*L[1][0]/L[0][0] # creating zeros on the second row\n",
    "first_nonzero = min([i for i in range(len(new_L[1])) if new_L[1][i] != 0])\n",
    "new_L[0] = new_L[0] - new_L[1]*new_L[0][first_nonzero]/new_L[1][first_nonzero]\n",
    "## Comuting the normalized version\n",
    "new_L = [row/(sqrt(inner_product(row,row))) for row in new_L]\n",
    "new_L = array([new_L[0],new_L[1]], dtype=cdouble)\n",
    "new_L"
   ]
  },
  {
   "cell_type": "code",
   "execution_count": 62,
   "id": "18909024-02cd-4e70-9c6c-f07c9415fb93",
   "metadata": {},
   "outputs": [
    {
     "data": {
      "text/plain": [
       "[[0, 2, 4, 5, 6, 7, 8, 10, 11, 12, 13, 14, 15], [1, 3, 9]]"
      ]
     },
     "execution_count": 62,
     "metadata": {},
     "output_type": "execute_result"
    }
   ],
   "source": [
    "## checking the states\n",
    "states = [[i for i in range(len(row)) if row[i] != 0] for row in new_L]\n",
    "states"
   ]
  },
  {
   "cell_type": "markdown",
   "id": "357c070a-d29e-4cee-8df4-9530d5736427",
   "metadata": {},
   "source": [
    "We can see here that thes are the two states: the failure state (first row) and the success state (second row). Once we have splitted the two cases, we could check which one is the failure and the success by evaluating once the oracle $f(\\cdot).$"
   ]
  },
  {
   "cell_type": "code",
   "execution_count": 63,
   "id": "4f556b7c-edac-42dd-9417-459445ac88a1",
   "metadata": {},
   "outputs": [
    {
     "data": {
      "text/plain": [
       "[0, 1]"
      ]
     },
     "execution_count": 63,
     "metadata": {},
     "output_type": "execute_result"
    }
   ],
   "source": [
    "[f(state[0]) for state in states] "
   ]
  },
  {
   "cell_type": "markdown",
   "id": "d6780dfe-235f-4d1b-87a4-cc8db5c4d0f8",
   "metadata": {
    "jp-MarkdownHeadingCollapsed": true,
    "tags": []
   },
   "source": [
    "## 2. *Order finding*"
   ]
  },
  {
   "cell_type": "markdown",
   "id": "b0fe5bc8-32d5-42ed-97f5-e8ca7e400bcc",
   "metadata": {},
   "source": [
    "Let $x \\in \\{2,3,\\ldots, N-1\\}$. We want to find the order of $x$ module $N$, i.e., find the minimal $r$ such that $x^r = 1 (mod\\ N)$. Using the results from the *draft*, we know that for a gate that permorms the multiplication by $x$ module $N$ enjoys a lumping when setting the observable $\\ket{1}$. More precisely, the dimension of the lumpin es exactly $r$."
   ]
  },
  {
   "cell_type": "code",
   "execution_count": 64,
   "id": "1d942a21-437e-425a-95bd-20c25aa2233e",
   "metadata": {},
   "outputs": [
    {
     "name": "stdout",
     "output_type": "stream",
     "text": [
      "New variables:\n",
      "y0 = Q_00000001\n",
      "y1 = Q_10011110\n",
      "y2 = Q_11010100\n",
      "y3 = Q_01111101\n",
      "y4 = Q_01010001\n",
      "y5 = Q_11001001\n",
      "y6 = Q_10011011\n",
      "y7 = Q_10110100\n",
      "y8 = Q_10011000\n",
      "y9 = Q_10010100\n",
      "y10 = Q_10110011\n",
      "y11 = Q_11010111\n",
      "y12 = Q_10011101\n",
      "y13 = Q_00110110\n",
      "y14 = Q_10000110\n",
      "y15 = Q_10110001\n",
      "y16 = Q_01111000\n",
      "y17 = Q_10101111\n",
      "y18 = Q_00011001\n",
      "y19 = Q_11000001\n",
      "y20 = Q_11011001\n",
      "y21 = Q_00011111\n",
      "y22 = Q_00100100\n",
      "y23 = Q_10100011\n",
      "y24 = Q_01110110\n",
      "y25 = Q_01010000\n",
      "y26 = Q_00101011\n",
      "y27 = Q_10100100\n",
      "y28 = Q_00110111\n",
      "y29 = Q_01000111\n",
      "y30 = Q_10101000\n",
      "y31 = Q_00011000\n",
      "y32 = Q_00100011\n",
      "y33 = Q_00000101\n",
      "y34 = Q_01111111\n",
      "y35 = Q_10110000\n",
      "y36 = Q_10110111\n",
      "y37 = Q_10111000\n",
      "y38 = Q_01111001\n",
      "y39 = Q_01110000\n",
      "y40 = Q_00010000\n",
      "y41 = Q_01100001\n",
      "y42 = Q_01001101\n",
      "y43 = Q_00001011\n",
      "y44 = Q_10111111\n",
      "y45 = Q_01111010\n",
      "y46 = Q_00110001\n",
      "y47 = Q_00000111\n",
      "New initial conditions:\n",
      "Lumped system:\n",
      "y0' = y1\n",
      "y1' = y2\n",
      "y2' = y3\n",
      "y3' = y4\n",
      "y4' = y5\n",
      "y5' = y6\n",
      "y6' = y7\n",
      "y7' = y8\n",
      "y8' = y9\n",
      "y9' = y10\n",
      "y10' = y11\n",
      "y11' = y12\n",
      "y12' = y13\n",
      "y13' = y14\n",
      "y14' = y15\n",
      "y15' = y16\n",
      "y16' = y17\n",
      "y17' = y18\n",
      "y18' = y19\n",
      "y19' = y20\n",
      "y20' = y21\n",
      "y21' = y22\n",
      "y22' = y23\n",
      "y23' = y24\n",
      "y24' = y25\n",
      "y25' = y26\n",
      "y26' = y27\n",
      "y27' = y28\n",
      "y28' = y29\n",
      "y29' = y30\n",
      "y30' = y31\n",
      "y31' = y32\n",
      "y32' = y33\n",
      "y33' = y34\n",
      "y34' = y35\n",
      "y35' = y36\n",
      "y36' = y37\n",
      "y37' = y38\n",
      "y38' = y39\n",
      "y39' = y40\n",
      "y40' = y41\n",
      "y41' = y42\n",
      "y42' = y43\n",
      "y43' = y44\n",
      "y44' = y45\n",
      "y45' = y46\n",
      "y46' = y47\n",
      "y47' = y0\n"
     ]
    }
   ],
   "source": [
    "N = 17*13; x = 7\n",
    "system = DS_QuantumCircuit(U(x,N))\n",
    "lumped = system.lumping([SparsePolynomial.from_vector([0,1] + (system.size-2)*[0], system.variables, system.field)])"
   ]
  },
  {
   "cell_type": "code",
   "execution_count": 65,
   "id": "a88d2491-e3b3-4d58-a5b1-30fa2d59061d",
   "metadata": {},
   "outputs": [
    {
     "data": {
      "text/plain": [
       "1"
      ]
     },
     "execution_count": 65,
     "metadata": {},
     "output_type": "execute_result"
    }
   ],
   "source": [
    "x**lumped.size % N"
   ]
  },
  {
   "cell_type": "markdown",
   "id": "4842d4ed-3768-4bf6-b214-aad8d82e2b5a",
   "metadata": {},
   "source": [
    "We can now conclude the factorization algorithm after using this information:"
   ]
  },
  {
   "cell_type": "code",
   "execution_count": 66,
   "id": "2160c333-8af5-45e2-b8fe-b8427a3fc8ab",
   "metadata": {},
   "outputs": [
    {
     "data": {
      "text/plain": [
       "17"
      ]
     },
     "execution_count": 66,
     "metadata": {},
     "output_type": "execute_result"
    }
   ],
   "source": [
    "guess = gcd(N, x**(lumped.size//2)+1); guess"
   ]
  },
  {
   "cell_type": "markdown",
   "id": "0e4def90-f94d-4911-b0b1-f944baa6efaf",
   "metadata": {
    "tags": []
   },
   "source": [
    "## 3. *Phase Estimation*"
   ]
  },
  {
   "cell_type": "markdown",
   "id": "e6feb0a0-030d-4cb3-af43-703b00abeda1",
   "metadata": {},
   "source": [
    "In this problem, we are assume that we know a quantum gate $U$ that has a known eigenvector $u$. Since we are working with quantum states and the matrices are unitary, this means that the eigenvalues must be complex numbers of modulus one. Hence, they are of the form $e^{2\\pi i \\phi}$, where $\\phi$ is called the phase of the eigenvalue.\n",
    "\n",
    "In this problem we try to estimate with $n$ bits the phase $\\phi$ by writing \n",
    "$$\\tilde{\\phi} = 0.\\phi_{n-1}\\cdots\\phi_0 = \\frac{\\phi_{n-1}}{2} + \\ldots + \\frac{\\phi_0}{2^n}.$$\n",
    "\n",
    "Kitaev circuit is the case for estimating $\\phi_{n-1}$, it can be reused to obtain further bits or it can be recombined as in Figure 5.3 (see Nielsen-CHuang book) to obtain all bits at once. In the *draft* , we discuss two lumping cases: the first is when taking $\\ket{j}\\ket{u}$, obtaining a lumping of size 2 (i.e., we can simulate $K$ with 1 q-bit). The second case is when we consider the entangled state\n",
    "$$\\left[\\frac{\\ket{0} - \\ket{1}}{2}\\right]\\ket{u}$$\n",
    "\n",
    "Let us fix $U$ to be defined as in Section 2 (i.e., the circuit that multiplies numbers $y \\in [0,\\ldots,N-1]$ by a fixed number $x$:"
   ]
  },
  {
   "cell_type": "code",
   "execution_count": 2,
   "id": "f208a529-6f35-40b9-9727-02dd68427f41",
   "metadata": {},
   "outputs": [
    {
     "data": {
      "text/plain": [
       "array([[1.+0.j, 0.+0.j, 0.+0.j, 0.+0.j, 0.+0.j, 0.+0.j, 0.+0.j, 0.+0.j,\n",
       "        0.+0.j, 0.+0.j, 0.+0.j, 0.+0.j, 0.+0.j, 0.+0.j, 0.+0.j, 0.+0.j],\n",
       "       [0.+0.j, 0.+0.j, 0.+0.j, 1.+0.j, 0.+0.j, 0.+0.j, 0.+0.j, 0.+0.j,\n",
       "        0.+0.j, 0.+0.j, 0.+0.j, 0.+0.j, 0.+0.j, 0.+0.j, 0.+0.j, 0.+0.j],\n",
       "       [0.+0.j, 0.+0.j, 0.+0.j, 0.+0.j, 0.+0.j, 0.+0.j, 1.+0.j, 0.+0.j,\n",
       "        0.+0.j, 0.+0.j, 0.+0.j, 0.+0.j, 0.+0.j, 0.+0.j, 0.+0.j, 0.+0.j],\n",
       "       [0.+0.j, 0.+0.j, 0.+0.j, 0.+0.j, 0.+0.j, 0.+0.j, 0.+0.j, 0.+0.j,\n",
       "        0.+0.j, 1.+0.j, 0.+0.j, 0.+0.j, 0.+0.j, 0.+0.j, 0.+0.j, 0.+0.j],\n",
       "       [0.+0.j, 0.+0.j, 0.+0.j, 0.+0.j, 0.+0.j, 0.+0.j, 0.+0.j, 0.+0.j,\n",
       "        0.+0.j, 0.+0.j, 0.+0.j, 0.+0.j, 1.+0.j, 0.+0.j, 0.+0.j, 0.+0.j],\n",
       "       [0.+0.j, 0.+0.j, 0.+0.j, 0.+0.j, 0.+0.j, 0.+0.j, 0.+0.j, 0.+0.j,\n",
       "        0.+0.j, 0.+0.j, 0.+0.j, 0.+0.j, 0.+0.j, 0.+0.j, 0.+0.j, 1.+0.j],\n",
       "       [0.+0.j, 0.+0.j, 1.+0.j, 0.+0.j, 0.+0.j, 0.+0.j, 0.+0.j, 0.+0.j,\n",
       "        0.+0.j, 0.+0.j, 0.+0.j, 0.+0.j, 0.+0.j, 0.+0.j, 0.+0.j, 0.+0.j],\n",
       "       [0.+0.j, 0.+0.j, 0.+0.j, 0.+0.j, 0.+0.j, 1.+0.j, 0.+0.j, 0.+0.j,\n",
       "        0.+0.j, 0.+0.j, 0.+0.j, 0.+0.j, 0.+0.j, 0.+0.j, 0.+0.j, 0.+0.j],\n",
       "       [0.+0.j, 0.+0.j, 0.+0.j, 0.+0.j, 0.+0.j, 0.+0.j, 0.+0.j, 0.+0.j,\n",
       "        1.+0.j, 0.+0.j, 0.+0.j, 0.+0.j, 0.+0.j, 0.+0.j, 0.+0.j, 0.+0.j],\n",
       "       [0.+0.j, 0.+0.j, 0.+0.j, 0.+0.j, 0.+0.j, 0.+0.j, 0.+0.j, 0.+0.j,\n",
       "        0.+0.j, 0.+0.j, 0.+0.j, 1.+0.j, 0.+0.j, 0.+0.j, 0.+0.j, 0.+0.j],\n",
       "       [0.+0.j, 0.+0.j, 0.+0.j, 0.+0.j, 0.+0.j, 0.+0.j, 0.+0.j, 0.+0.j,\n",
       "        0.+0.j, 0.+0.j, 0.+0.j, 0.+0.j, 0.+0.j, 0.+0.j, 1.+0.j, 0.+0.j],\n",
       "       [0.+0.j, 1.+0.j, 0.+0.j, 0.+0.j, 0.+0.j, 0.+0.j, 0.+0.j, 0.+0.j,\n",
       "        0.+0.j, 0.+0.j, 0.+0.j, 0.+0.j, 0.+0.j, 0.+0.j, 0.+0.j, 0.+0.j],\n",
       "       [0.+0.j, 0.+0.j, 0.+0.j, 0.+0.j, 1.+0.j, 0.+0.j, 0.+0.j, 0.+0.j,\n",
       "        0.+0.j, 0.+0.j, 0.+0.j, 0.+0.j, 0.+0.j, 0.+0.j, 0.+0.j, 0.+0.j],\n",
       "       [0.+0.j, 0.+0.j, 0.+0.j, 0.+0.j, 0.+0.j, 0.+0.j, 0.+0.j, 1.+0.j,\n",
       "        0.+0.j, 0.+0.j, 0.+0.j, 0.+0.j, 0.+0.j, 0.+0.j, 0.+0.j, 0.+0.j],\n",
       "       [0.+0.j, 0.+0.j, 0.+0.j, 0.+0.j, 0.+0.j, 0.+0.j, 0.+0.j, 0.+0.j,\n",
       "        0.+0.j, 0.+0.j, 1.+0.j, 0.+0.j, 0.+0.j, 0.+0.j, 0.+0.j, 0.+0.j],\n",
       "       [0.+0.j, 0.+0.j, 0.+0.j, 0.+0.j, 0.+0.j, 0.+0.j, 0.+0.j, 0.+0.j,\n",
       "        0.+0.j, 0.+0.j, 0.+0.j, 0.+0.j, 0.+0.j, 1.+0.j, 0.+0.j, 0.+0.j]])"
      ]
     },
     "execution_count": 2,
     "metadata": {},
     "output_type": "execute_result"
    }
   ],
   "source": [
    "x = 11; N = 16\n",
    "U(x,N)"
   ]
  },
  {
   "cell_type": "markdown",
   "id": "67274d2a-9e7e-4308-b4d7-e8801d5a37c0",
   "metadata": {},
   "source": [
    "These are the eigenvectors for this matrix:"
   ]
  },
  {
   "cell_type": "code",
   "execution_count": 3,
   "id": "9644e9bd-7078-4d5a-9a2a-452020e5aa90",
   "metadata": {},
   "outputs": [],
   "source": [
    "from numpy.linalg  import eig\n",
    "vals, vects = eig(U(x,N))"
   ]
  },
  {
   "cell_type": "markdown",
   "id": "ef01afa5-cde2-4e3d-a2f4-2f3953b386cd",
   "metadata": {},
   "source": [
    "Let us consider the following eigenvector"
   ]
  },
  {
   "cell_type": "code",
   "execution_count": 4,
   "id": "24e9d59b-0541-4fd6-b27c-b305256927ee",
   "metadata": {},
   "outputs": [
    {
     "data": {
      "text/plain": [
       "array([-0.        +0.j, -0.        +0.j,  0.70710678+0.j, -0.        +0.j,\n",
       "       -0.        +0.j, -0.        +0.j,  0.70710678-0.j, -0.        +0.j,\n",
       "       -0.        +0.j, -0.        +0.j, -0.        +0.j, -0.        +0.j,\n",
       "       -0.        +0.j, -0.        +0.j, -0.        +0.j, -0.        +0.j])"
      ]
     },
     "execution_count": 4,
     "metadata": {},
     "output_type": "execute_result"
    }
   ],
   "source": [
    "u = vects[:,2].conjugate(); u"
   ]
  },
  {
   "cell_type": "markdown",
   "id": "3ef4d360-b15d-4379-912a-c3c9c591afc7",
   "metadata": {},
   "source": [
    "Now, let's see if we can compute the lumpings with this eigenvector:"
   ]
  },
  {
   "cell_type": "code",
   "execution_count": 5,
   "id": "c4ec1edb-22ed-44a9-96d9-534944f993d2",
   "metadata": {},
   "outputs": [],
   "source": [
    "system = DS_QuantumCircuit(K(U(x,N)))\n",
    "obs = [SparsePolynomial.from_vector(kron([1,0], u), system.variables, CC)] # |0> |u>"
   ]
  },
  {
   "cell_type": "code",
   "execution_count": 6,
   "id": "1482099d-f70e-41fc-8109-a1db57d1588d",
   "metadata": {},
   "outputs": [
    {
     "name": "stdout",
     "output_type": "stream",
     "text": [
      "New variables:\n",
      "y0 = (0.707106781186547 + 0.0j)*Q_00010 + (0.707106781186548 + 0.0j)*Q_00110\n",
      "New initial conditions:\n",
      "Lumped system:\n",
      "y0' = y0\n"
     ]
    }
   ],
   "source": [
    "lumped = system.lumping(obs)"
   ]
  },
  {
   "cell_type": "code",
   "execution_count": 7,
   "id": "ea3792b4-814e-460b-abe8-b96e41a0dd8e",
   "metadata": {},
   "outputs": [
    {
     "data": {
      "text/plain": [
       "True"
      ]
     },
     "execution_count": 7,
     "metadata": {},
     "output_type": "execute_result"
    }
   ],
   "source": [
    "compare(matmul(U(x,N), u), u)"
   ]
  },
  {
   "cell_type": "markdown",
   "id": "4091e19b-3343-4d2b-8396-eeb436914a48",
   "metadata": {},
   "source": [
    "We can see that we obtained a lumping of size 1. This means that the eigenvalue of $u$ is exactly $1$. Let us take another eigenvector (now checking the eigenvalue is not 1):"
   ]
  },
  {
   "cell_type": "code",
   "execution_count": 8,
   "id": "eee019a8-d6f6-44a8-abe0-014cedb98ae2",
   "metadata": {},
   "outputs": [
    {
     "name": "stdout",
     "output_type": "stream",
     "text": [
      "(l=(-2.764244669213045e-17-1.0000000000000002j)) u ->\n",
      " [ 0. +0.j   0.5+0.j   0. +0.j  -0. -0.5j  0. +0.j   0. +0.j   0. +0.j\n",
      "  0. +0.j   0. +0.j  -0.5+0.j   0. +0.j   0. +0.5j  0. +0.j   0. +0.j\n",
      "  0. +0.j   0. +0.j ]\n"
     ]
    }
   ],
   "source": [
    "valid_vals = [i for i in range(len(vals)) if vals[i].round(10) not in (0.,1.,-1.)]\n",
    "if len(valid_vals) == 0:\n",
    "    print(\"All eigenvalues were 1, -1 or 0\")\n",
    "ind = choice(valid_vals)\n",
    "l = vals[ind]; u = vects[:,ind]\n",
    "print(f\"({l=}) u ->\\n\", u.round(5))\n",
    "obs0 = [SparsePolynomial.from_vector(kron([1,0], u), system.variables, CC)] # |0> |u>\n",
    "obs1 = [SparsePolynomial.from_vector(kron([0,1], u), system.variables, CC)] # |1> |u>"
   ]
  },
  {
   "cell_type": "code",
   "execution_count": 9,
   "id": "2d67551a-e505-4318-b103-bb7e73c5fe9b",
   "metadata": {},
   "outputs": [
    {
     "data": {
      "text/plain": [
       "2"
      ]
     },
     "execution_count": 9,
     "metadata": {},
     "output_type": "execute_result"
    }
   ],
   "source": [
    "lumped0 = system.lumping(obs0, print_reduction=False); lumped0.size"
   ]
  },
  {
   "cell_type": "code",
   "execution_count": 10,
   "id": "f1acb534-76c6-4199-9141-e8c3905ad190",
   "metadata": {},
   "outputs": [
    {
     "data": {
      "text/plain": [
       "2"
      ]
     },
     "execution_count": 10,
     "metadata": {},
     "output_type": "execute_result"
    }
   ],
   "source": [
    "lumped1 = system.lumping(obs1, print_reduction=False); lumped1.size"
   ]
  },
  {
   "cell_type": "markdown",
   "id": "694bd1eb-9a2d-46a8-bcb3-c5cacf5ad110",
   "metadata": {},
   "source": [
    "Finally, we can check the special case that always provide a lumping of dimension 1:"
   ]
  },
  {
   "cell_type": "code",
   "execution_count": 11,
   "id": "996259aa-e357-4248-bcde-957d1749c9cb",
   "metadata": {},
   "outputs": [
    {
     "data": {
      "text/plain": [
       "1"
      ]
     },
     "execution_count": 11,
     "metadata": {},
     "output_type": "execute_result"
    }
   ],
   "source": [
    "obs2 =  [SparsePolynomial.from_vector(kron([1/sqrt(2),-1/sqrt(2)], u), system.variables, CC)] # ((1/sqrt(2))(|0> - |1>)) |u>\n",
    "lumped2 = system.lumping(obs2, print_reduction=False); lumped2.size"
   ]
  },
  {
   "cell_type": "markdown",
   "id": "2ac91603-b55e-4e59-b739-f0d607406312",
   "metadata": {},
   "source": [
    "**WARNING!!** We could not get back the lumping of dimension one. Check out why."
   ]
  },
  {
   "cell_type": "markdown",
   "id": "882733b0-965d-4e0e-9d7d-f3740b717c3a",
   "metadata": {},
   "source": [
    "### Using measures on Kitaev circuit to estimate eigenvalue"
   ]
  },
  {
   "cell_type": "markdown",
   "id": "9c0540fa-ac90-420e-a5a3-65d4ff510d49",
   "metadata": {},
   "source": [
    "Using the fact that measuring a 0 or a 1 in the first q-bit is given by $\\mathbb{P}(0) = \\frac{1+\\cos(2\\pi \\phi))}{2}$, we could measure several times the output and get the value of $\\phi$ by computing the arccos:\n",
    "$$\\phi = \\frac{\\arccos\\left(2\\mathbb{P}(0) - 1\\right)}{2\\pi}.$$\n",
    "\n",
    "However, this formula has several values that solves it. Namely, since $\\cos(\\theta) = \\cos(-\\theta) = \\cos(2\\pi -\\theta)$, we have 2 possible values for $\\phi$:\n",
    "$$\n",
    "    \\phi_1 = \\frac{\\arccos\\left(2\\mathbb{P}(0) - 1\\right)}{2\\pi},\\qquad \n",
    "    \\phi_2 = \\frac{2\\pi - \\arccos\\left(2\\mathbb{P}(0) - 1\\right)}{2\\pi}.\n",
    "$$\n",
    "\n",
    "We can simply check for these 4 cases which one is the correct one by looking how $U$ acts over $u$."
   ]
  },
  {
   "cell_type": "code",
   "execution_count": 18,
   "id": "f5fdeb23-5f6e-42d0-a2cc-3daf4dffd061",
   "metadata": {},
   "outputs": [],
   "source": [
    "circuit = K(U(x,N))\n",
    "entry = kron([1,0], u) # |0> |u>"
   ]
  },
  {
   "cell_type": "code",
   "execution_count": 26,
   "id": "62d4d536-b74a-4bbd-9e5c-5109c1ce7251",
   "metadata": {},
   "outputs": [
    {
     "name": "stdout",
     "output_type": "stream",
     "text": [
      "CPU times: user 42.6 s, sys: 815 ms, total: 43.4 s\n",
      "Wall time: 42.3 s\n"
     ]
    },
    {
     "data": {
      "text/plain": [
       "array([0.25005952, 1.74994048])"
      ]
     },
     "execution_count": 26,
     "metadata": {},
     "output_type": "execute_result"
    }
   ],
   "source": [
    "%%time\n",
    "from numpy import arccos\n",
    "count = 0; size = len(entry); total = 1_000_000\n",
    "out_vector = matmul(circuit, entry)\n",
    "for _ in range(total):\n",
    "    if measure(out_vector) < size//2: # we measure a zero\n",
    "        count += 1\n",
    "\n",
    "prob_0 = count/total\n",
    "# Main formula: arccos(2*P*(0) - 1) / 2*pi\n",
    "phi = array([arccos(2 * prob_0 - 1) / (2*pi), 2-arccos(2 * prob_0 - 1) /(2*pi)]); phi"
   ]
  },
  {
   "cell_type": "code",
   "execution_count": 27,
   "id": "72d6f273-e4de-42f1-9c5d-a85d406ec935",
   "metadata": {},
   "outputs": [
    {
     "data": {
      "text/plain": [
       "1.749940476049896"
      ]
     },
     "execution_count": 27,
     "metadata": {},
     "output_type": "execute_result"
    }
   ],
   "source": [
    "from numpy import argmin, tile\n",
    "from numpy.linalg import norm\n",
    "phase = phi[argmin(norm((outer(exp(2j*pi*phi), u) - tile(matmul(U(x,N), u), (2,1))), axis = 1))]; phase"
   ]
  }
 ],
 "metadata": {
  "kernelspec": {
   "display_name": "Python 3 (ipykernel)",
   "language": "python",
   "name": "python3"
  },
  "language_info": {
   "codemirror_mode": {
    "name": "ipython",
    "version": 3
   },
   "file_extension": ".py",
   "mimetype": "text/x-python",
   "name": "python",
   "nbconvert_exporter": "python",
   "pygments_lexer": "ipython3",
   "version": "3.10.6"
  }
 },
 "nbformat": 4,
 "nbformat_minor": 5
}
