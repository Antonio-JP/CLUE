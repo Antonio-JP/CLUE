{
 "cells": [
  {
   "cell_type": "markdown",
   "id": "da5f7107-3566-4037-b7b6-690541ed3d38",
   "metadata": {},
   "source": [
    "# **Case studies**$\\def\\ket#1{\\left|#1\\right\\rangle}\\def\\bra#1{\\left\\langle #1\\right|}$"
   ]
  },
  {
   "cell_type": "code",
   "execution_count": 1,
   "id": "cb5074bd-0000-4699-8598-24e40e0e2812",
   "metadata": {},
   "outputs": [],
   "source": [
    "import sys\n",
    "sys.path.insert(0, \"../..\") # clue is here\n",
    "\n",
    "from clue.qiskit import *\n",
    "from math import log"
   ]
  },
  {
   "cell_type": "markdown",
   "id": "8118f847-e7e0-483a-9238-90ddc9e32bfe",
   "metadata": {},
   "source": [
    "In this document we present examples of the lumping on quantum circuits from the *draft*. In particular, we will present what it means a lumping on several problems and how to extract the information directly from the lumping. The problems we are going to focus in this document are:\n",
    "\n",
    "* The **Search algorithm** using Grover's gate.\n",
    "* The **Order computation** using a multiplication by $x$ module $N$ gate.\n",
    "* The **Phase estimation** problem using Kitaev's gate based on the multiplication by $x$ module $N$ gate."
   ]
  },
  {
   "cell_type": "markdown",
   "id": "3fa96101-2ecb-4929-b1a2-8dfb85b25526",
   "metadata": {
    "jp-MarkdownHeadingCollapsed": true,
    "tags": []
   },
   "source": [
    "## 1. *Search algorithm*"
   ]
  },
  {
   "cell_type": "markdown",
   "id": "fd300ec8-62be-49ce-8219-260e9e42edc2",
   "metadata": {},
   "source": [
    "Let $f: \\{0,\\ldots,2^n-1\\} \\rightarrow \\{0,1\\}$ be a boolean function that defines a success criteria for a search. Grover's gate is defined by:\n",
    "$$G \\ket{x} = (-1)^{f(x)} \\left(I - 2 \\ket{\\psi} \\bra{\\psi}\\right)\\ket{x}.$$\n",
    "\n",
    "In the *draft* we shows that the unitary matrix that defines Grover's gate enjoys a lumping when observing the entangled state $\\ket{\\psi}$. More precisely, since the entangled state can be represented as a linear combination of the *success* state and *failure* state, then CLUE will return a lumping of length 2 that will contain all the information about these two states."
   ]
  },
  {
   "cell_type": "code",
   "execution_count": 2,
   "id": "3b9e1edd-ec00-48fd-ac5e-27568e4ed255",
   "metadata": {},
   "outputs": [
    {
     "name": "stdout",
     "output_type": "stream",
     "text": [
      "Success search: [1, 3, 9, 27, 81]\n"
     ]
    },
    {
     "data": {
      "text/plain": [
       "array([[ 0.875+0.j,  0.125-0.j, -0.125+0.j,  0.125-0.j, -0.125+0.j,\n",
       "        -0.125+0.j, -0.125+0.j, -0.125+0.j, -0.125+0.j,  0.125-0.j,\n",
       "        -0.125+0.j, -0.125+0.j, -0.125+0.j, -0.125+0.j, -0.125+0.j,\n",
       "        -0.125+0.j],\n",
       "       [-0.125+0.j, -0.875+0.j, -0.125+0.j,  0.125-0.j, -0.125+0.j,\n",
       "        -0.125+0.j, -0.125+0.j, -0.125+0.j, -0.125+0.j,  0.125-0.j,\n",
       "        -0.125+0.j, -0.125+0.j, -0.125+0.j, -0.125+0.j, -0.125+0.j,\n",
       "        -0.125+0.j],\n",
       "       [-0.125+0.j,  0.125-0.j,  0.875+0.j,  0.125-0.j, -0.125+0.j,\n",
       "        -0.125+0.j, -0.125+0.j, -0.125+0.j, -0.125+0.j,  0.125-0.j,\n",
       "        -0.125+0.j, -0.125+0.j, -0.125+0.j, -0.125+0.j, -0.125+0.j,\n",
       "        -0.125+0.j],\n",
       "       [-0.125+0.j,  0.125-0.j, -0.125+0.j, -0.875+0.j, -0.125+0.j,\n",
       "        -0.125+0.j, -0.125+0.j, -0.125+0.j, -0.125+0.j,  0.125-0.j,\n",
       "        -0.125+0.j, -0.125+0.j, -0.125+0.j, -0.125+0.j, -0.125+0.j,\n",
       "        -0.125+0.j],\n",
       "       [-0.125+0.j,  0.125-0.j, -0.125+0.j,  0.125-0.j,  0.875+0.j,\n",
       "        -0.125+0.j, -0.125+0.j, -0.125+0.j, -0.125+0.j,  0.125-0.j,\n",
       "        -0.125+0.j, -0.125+0.j, -0.125+0.j, -0.125+0.j, -0.125+0.j,\n",
       "        -0.125+0.j],\n",
       "       [-0.125+0.j,  0.125-0.j, -0.125+0.j,  0.125-0.j, -0.125+0.j,\n",
       "         0.875+0.j, -0.125+0.j, -0.125+0.j, -0.125+0.j,  0.125-0.j,\n",
       "        -0.125+0.j, -0.125+0.j, -0.125+0.j, -0.125+0.j, -0.125+0.j,\n",
       "        -0.125+0.j],\n",
       "       [-0.125+0.j,  0.125-0.j, -0.125+0.j,  0.125-0.j, -0.125+0.j,\n",
       "        -0.125+0.j,  0.875+0.j, -0.125+0.j, -0.125+0.j,  0.125-0.j,\n",
       "        -0.125+0.j, -0.125+0.j, -0.125+0.j, -0.125+0.j, -0.125+0.j,\n",
       "        -0.125+0.j],\n",
       "       [-0.125+0.j,  0.125-0.j, -0.125+0.j,  0.125-0.j, -0.125+0.j,\n",
       "        -0.125+0.j, -0.125+0.j,  0.875+0.j, -0.125+0.j,  0.125-0.j,\n",
       "        -0.125+0.j, -0.125+0.j, -0.125+0.j, -0.125+0.j, -0.125+0.j,\n",
       "        -0.125+0.j],\n",
       "       [-0.125+0.j,  0.125-0.j, -0.125+0.j,  0.125-0.j, -0.125+0.j,\n",
       "        -0.125+0.j, -0.125+0.j, -0.125+0.j,  0.875+0.j,  0.125-0.j,\n",
       "        -0.125+0.j, -0.125+0.j, -0.125+0.j, -0.125+0.j, -0.125+0.j,\n",
       "        -0.125+0.j],\n",
       "       [-0.125+0.j,  0.125-0.j, -0.125+0.j,  0.125-0.j, -0.125+0.j,\n",
       "        -0.125+0.j, -0.125+0.j, -0.125+0.j, -0.125+0.j, -0.875+0.j,\n",
       "        -0.125+0.j, -0.125+0.j, -0.125+0.j, -0.125+0.j, -0.125+0.j,\n",
       "        -0.125+0.j],\n",
       "       [-0.125+0.j,  0.125-0.j, -0.125+0.j,  0.125-0.j, -0.125+0.j,\n",
       "        -0.125+0.j, -0.125+0.j, -0.125+0.j, -0.125+0.j,  0.125-0.j,\n",
       "         0.875+0.j, -0.125+0.j, -0.125+0.j, -0.125+0.j, -0.125+0.j,\n",
       "        -0.125+0.j],\n",
       "       [-0.125+0.j,  0.125-0.j, -0.125+0.j,  0.125-0.j, -0.125+0.j,\n",
       "        -0.125+0.j, -0.125+0.j, -0.125+0.j, -0.125+0.j,  0.125-0.j,\n",
       "        -0.125+0.j,  0.875+0.j, -0.125+0.j, -0.125+0.j, -0.125+0.j,\n",
       "        -0.125+0.j],\n",
       "       [-0.125+0.j,  0.125-0.j, -0.125+0.j,  0.125-0.j, -0.125+0.j,\n",
       "        -0.125+0.j, -0.125+0.j, -0.125+0.j, -0.125+0.j,  0.125-0.j,\n",
       "        -0.125+0.j, -0.125+0.j,  0.875+0.j, -0.125+0.j, -0.125+0.j,\n",
       "        -0.125+0.j],\n",
       "       [-0.125+0.j,  0.125-0.j, -0.125+0.j,  0.125-0.j, -0.125+0.j,\n",
       "        -0.125+0.j, -0.125+0.j, -0.125+0.j, -0.125+0.j,  0.125-0.j,\n",
       "        -0.125+0.j, -0.125+0.j, -0.125+0.j,  0.875+0.j, -0.125+0.j,\n",
       "        -0.125+0.j],\n",
       "       [-0.125+0.j,  0.125-0.j, -0.125+0.j,  0.125-0.j, -0.125+0.j,\n",
       "        -0.125+0.j, -0.125+0.j, -0.125+0.j, -0.125+0.j,  0.125-0.j,\n",
       "        -0.125+0.j, -0.125+0.j, -0.125+0.j, -0.125+0.j,  0.875+0.j,\n",
       "        -0.125+0.j],\n",
       "       [-0.125+0.j,  0.125-0.j, -0.125+0.j,  0.125-0.j, -0.125+0.j,\n",
       "        -0.125+0.j, -0.125+0.j, -0.125+0.j, -0.125+0.j,  0.125-0.j,\n",
       "        -0.125+0.j, -0.125+0.j, -0.125+0.j, -0.125+0.j, -0.125+0.j,\n",
       "         0.875+0.j]])"
      ]
     },
     "execution_count": 2,
     "metadata": {},
     "output_type": "execute_result"
    }
   ],
   "source": [
    "f = lambda p : 0 if p == 0 else 1 if 3**(int(log(p)/log(3))) == p else 0 # looks for powers of 3\n",
    "print(f\"Success search: {[i for i in range(1,256) if f(i) == 1]}\")\n",
    "G(f,4)"
   ]
  },
  {
   "cell_type": "markdown",
   "id": "e6ddf081-eda1-485c-9e72-57e416f9c176",
   "metadata": {},
   "source": [
    "We can apply CLUE to this matrix and the observable given by $\\ket{\\psi}$:"
   ]
  },
  {
   "cell_type": "code",
   "execution_count": 7,
   "id": "74f80bad-b9c9-4f96-b455-902453461546",
   "metadata": {},
   "outputs": [
    {
     "name": "stdout",
     "output_type": "stream",
     "text": [
      "New variables:\n",
      "y0 = (0.25 + 0.0j)*Q_0000 + (0.25 + 0.0j)*Q_0001 + (0.25 + 0.0j)*Q_0010 + (0.25 + 0.0j)*Q_0011 + (0.25 + 0.0j)*Q_0100 + (0.25 + 0.0j)*Q_0101 + (0.25 + 0.0j)*Q_0110 + (0.25 + 0.0j)*Q_0111 + (0.25 + 0.0j)*Q_1000 + (0.25 + 0.0j)*Q_1001 + (0.25 + 0.0j)*Q_1010 + (0.25 + 0.0j)*Q_1011 + (0.25 + 0.0j)*Q_1100 + (0.25 + 0.0j)*Q_1101 + (0.25 + 0.0j)*Q_1110 + (0.25 + 0.0j)*Q_1111\n",
      "y1 = (-0.120096115353815 + 0.0j)*Q_0000 + (0.520416499866533 + 0.0j)*Q_0001 + (-0.120096115353815 + 0.0j)*Q_0010 + (0.520416499866533 + 0.0j)*Q_0011 + (-0.120096115353815 + 0.0j)*Q_0100 + (-0.120096115353815 + 0.0j)*Q_0101 + (-0.120096115353815 + 0.0j)*Q_0110 + (-0.120096115353815 + 0.0j)*Q_0111 + (-0.120096115353815 + 0.0j)*Q_1000 + (0.520416499866533 + 0.0j)*Q_1001 + (-0.120096115353815 + 0.0j)*Q_1010 + (-0.120096115353815 + 0.0j)*Q_1011 + (-0.120096115353815 + 0.0j)*Q_1100 + (-0.120096115353815 + 0.0j)*Q_1101 + (-0.120096115353815 + 0.0j)*Q_1110 + (-0.120096115353815 + 0.0j)*Q_1111\n",
      "New initial conditions:\n",
      "Lumped system:\n",
      "y0' = (0.7806247497998 + 0.0j)*y1 + (-0.625 + 0.0j)*y0\n",
      "y1' = (-0.625 + 0.0j)*y1 + (-0.7806247497998 + 0.0j)*y0\n"
     ]
    }
   ],
   "source": [
    "system = DS_QuantumCircuit(G(f,4))\n",
    "lumped = system.lumping([SparsePolynomial.from_vector(Psi(2**4), system.variables, system.field)])"
   ]
  },
  {
   "cell_type": "markdown",
   "id": "13ed8af6-1a18-49de-84b3-20405004d60c",
   "metadata": {},
   "source": [
    "As expected, we got 2 macro-states. One of them is $\\ket{\\psi}$ itself. We should be able to obtain the success and failure states from these two macro-states:"
   ]
  },
  {
   "cell_type": "code",
   "execution_count": 19,
   "id": "ab48af96-1d0c-469e-a529-214a4e404e2d",
   "metadata": {},
   "outputs": [
    {
     "data": {
      "text/plain": [
       "array([[0.2773501 +0.j, 0.        +0.j, 0.2773501 +0.j, 0.        +0.j,\n",
       "        0.2773501 +0.j, 0.2773501 +0.j, 0.2773501 +0.j, 0.2773501 +0.j,\n",
       "        0.2773501 +0.j, 0.        +0.j, 0.2773501 +0.j, 0.2773501 +0.j,\n",
       "        0.2773501 +0.j, 0.2773501 +0.j, 0.2773501 +0.j, 0.2773501 +0.j],\n",
       "       [0.        +0.j, 0.57735027+0.j, 0.        +0.j, 0.57735027+0.j,\n",
       "        0.        +0.j, 0.        +0.j, 0.        +0.j, 0.        +0.j,\n",
       "        0.        +0.j, 0.57735027+0.j, 0.        +0.j, 0.        +0.j,\n",
       "        0.        +0.j, 0.        +0.j, 0.        +0.j, 0.        +0.j]])"
      ]
     },
     "execution_count": 19,
     "metadata": {},
     "output_type": "execute_result"
    }
   ],
   "source": [
    "L = lumped.lumping_matrix.to_numpy(dtype=cdouble)\n",
    "## Computing the reduced echelon form\n",
    "new_L = [L[0],L[1]]\n",
    "new_L[1] = L[1] - L[0]*L[1][0]/L[0][0] # creating zeros on the second row\n",
    "first_nonzero = min([i for i in range(len(new_L[1])) if new_L[1][i] != 0])\n",
    "new_L[0] = new_L[0] - new_L[1]*new_L[0][first_nonzero]/new_L[1][first_nonzero]\n",
    "## Comuting the normalized version\n",
    "new_L = [row/(sqrt(inner_product(row,row))) for row in new_L]\n",
    "new_L = array([new_L[0],new_L[1]], dtype=cdouble)\n",
    "new_L"
   ]
  },
  {
   "cell_type": "code",
   "execution_count": 23,
   "id": "18909024-02cd-4e70-9c6c-f07c9415fb93",
   "metadata": {},
   "outputs": [
    {
     "data": {
      "text/plain": [
       "[[0, 2, 4, 5, 6, 7, 8, 10, 11, 12, 13, 14, 15], [1, 3, 9]]"
      ]
     },
     "execution_count": 23,
     "metadata": {},
     "output_type": "execute_result"
    }
   ],
   "source": [
    "## checking the states\n",
    "states = [[i for i in range(len(row)) if row[i] != 0] for row in new_L]\n",
    "states"
   ]
  },
  {
   "cell_type": "markdown",
   "id": "357c070a-d29e-4cee-8df4-9530d5736427",
   "metadata": {},
   "source": [
    "We can see here that thes are the two states: the failure state (first row) and the success state (second row). Once we have splitted the two cases, we could check which one is the failure and the success by evaluating once the oracle $f(\\cdot).$"
   ]
  },
  {
   "cell_type": "code",
   "execution_count": 24,
   "id": "4f556b7c-edac-42dd-9417-459445ac88a1",
   "metadata": {},
   "outputs": [
    {
     "data": {
      "text/plain": [
       "[0, 1]"
      ]
     },
     "execution_count": 24,
     "metadata": {},
     "output_type": "execute_result"
    }
   ],
   "source": [
    "[f(state[0]) for state in states] "
   ]
  },
  {
   "cell_type": "markdown",
   "id": "d6780dfe-235f-4d1b-87a4-cc8db5c4d0f8",
   "metadata": {
    "jp-MarkdownHeadingCollapsed": true,
    "tags": []
   },
   "source": [
    "## 2. *Order finding*"
   ]
  },
  {
   "cell_type": "markdown",
   "id": "b0fe5bc8-32d5-42ed-97f5-e8ca7e400bcc",
   "metadata": {},
   "source": [
    "Let $x \\in \\{2,3,\\ldots, N-1\\}$. We want to find the order of $x$ module $N$, i.e., find the minimal $r$ such that $x^r = 1 (mod\\ N)$. Using the results from the *draft*, we know that for a gate that permorms the multiplication by $x$ module $N$ enjoys a lumping when setting the observable $\\ket{1}$. More precisely, the dimension of the lumpin es exactly $r$."
   ]
  },
  {
   "cell_type": "code",
   "execution_count": 47,
   "id": "1d942a21-437e-425a-95bd-20c25aa2233e",
   "metadata": {},
   "outputs": [
    {
     "name": "stdout",
     "output_type": "stream",
     "text": [
      "New variables:\n",
      "y0 = Q_00001\n",
      "y1 = Q_10111\n",
      "y2 = Q_10001\n",
      "y3 = Q_00111\n",
      "New initial conditions:\n",
      "Lumped system:\n",
      "y0' = y1\n",
      "y1' = y2\n",
      "y2' = y3\n",
      "y3' = y0\n"
     ]
    }
   ],
   "source": [
    "system = DS_QuantumCircuit(U(7,32))\n",
    "lumped = system.lumping([SparsePolynomial.from_vector([0,1] + (system.size-2)*[0], system.variables, system.field)])"
   ]
  },
  {
   "cell_type": "code",
   "execution_count": 48,
   "id": "2160c333-8af5-45e2-b8fe-b8427a3fc8ab",
   "metadata": {},
   "outputs": [
    {
     "data": {
      "text/plain": [
       "1"
      ]
     },
     "execution_count": 48,
     "metadata": {},
     "output_type": "execute_result"
    }
   ],
   "source": [
    "7**4 % 32"
   ]
  },
  {
   "cell_type": "markdown",
   "id": "0e4def90-f94d-4911-b0b1-f944baa6efaf",
   "metadata": {
    "tags": []
   },
   "source": [
    "## 3. *Phase Estimation*"
   ]
  },
  {
   "cell_type": "markdown",
   "id": "e6feb0a0-030d-4cb3-af43-703b00abeda1",
   "metadata": {},
   "source": [
    "In this problem, we are assume that we know a quantum gate $U$ that has a known eigenvector $u$. Since we are working with quantum states and the matrices are unitary, this means that the eigenvalues must be complex numbers of modulus one. Hence, they are of the form $e^{2\\pi i \\phi}$, where $\\phi$ is called the phase of the eigenvalue.\n",
    "\n",
    "In this problem we try to estimate with $n$ bits the phase $\\phi$ by writing \n",
    "$$\\tilde{\\phi} = 0.\\phi_{n-1}\\cdots\\phi_0 = \\frac{\\phi_{n-1}}{2} + \\ldots + \\frac{\\phi_0}{2^n}.$$\n",
    "\n",
    "Kitaev circuit is the case for estimating $\\phi_{n-1}$, it can be reused to obtain further bits or it can be recombined as in Figure 5.3 (see Nielsen-CHuang book) to obtain all bits at once. In the *draft* , we discuss two lumping cases: the first is when taking $\\ket{j}\\ket{u}$, obtaining a lumping of size 2 (i.e., we can simulate $K$ with 1 q-bit). The second case is when we consider the entangled state\n",
    "$$\\left[\\frac{\\ket{0} - \\ket{1}}{2}\\right]\\ket{u}$$\n",
    "\n",
    "Let us fix $U$ to be defined as in Section 2 (i.e., the circuit that multiplies numbers $y \\in [0,\\ldots,N-1]$ by a fixed number $x$:"
   ]
  },
  {
   "cell_type": "code",
   "execution_count": 2,
   "id": "f208a529-6f35-40b9-9727-02dd68427f41",
   "metadata": {},
   "outputs": [
    {
     "data": {
      "text/plain": [
       "array([[1.+0.j, 0.+0.j, 0.+0.j, ..., 0.+0.j, 0.+0.j, 0.+0.j],\n",
       "       [0.+0.j, 0.+0.j, 0.+0.j, ..., 0.+0.j, 0.+0.j, 0.+0.j],\n",
       "       [0.+0.j, 0.+0.j, 0.+0.j, ..., 0.+0.j, 0.+0.j, 0.+0.j],\n",
       "       ...,\n",
       "       [0.+0.j, 0.+0.j, 0.+0.j, ..., 0.+0.j, 0.+0.j, 0.+0.j],\n",
       "       [0.+0.j, 0.+0.j, 0.+0.j, ..., 0.+0.j, 0.+0.j, 0.+0.j],\n",
       "       [0.+0.j, 0.+0.j, 0.+0.j, ..., 0.+0.j, 0.+0.j, 0.+0.j]])"
      ]
     },
     "execution_count": 2,
     "metadata": {},
     "output_type": "execute_result"
    }
   ],
   "source": [
    "x = 7; N = 32\n",
    "U(x,N)"
   ]
  },
  {
   "cell_type": "markdown",
   "id": "67274d2a-9e7e-4308-b4d7-e8801d5a37c0",
   "metadata": {},
   "source": [
    "These are the eigenvectors for this matrix:"
   ]
  },
  {
   "cell_type": "code",
   "execution_count": 3,
   "id": "9644e9bd-7078-4d5a-9a2a-452020e5aa90",
   "metadata": {},
   "outputs": [
    {
     "data": {
      "text/plain": [
       "array([[-0.        -0.j, -0.        -0.j, -0.        -0.j, ...,\n",
       "         0.        +0.j,  1.        +0.j,  0.        +0.j],\n",
       "       [-0.        -0.j, -0.        -0.j, -0.        -0.j, ...,\n",
       "         0.        +0.j,  0.        +0.j,  0.        +0.j],\n",
       "       [-0.        -0.j, -0.        -0.j,  0.70710678-0.j, ...,\n",
       "         0.        +0.j,  0.        +0.j,  0.        +0.j],\n",
       "       ...,\n",
       "       [-0.        -0.j, -0.        -0.j, -0.        -0.j, ...,\n",
       "         0.        +0.j,  0.        +0.j,  0.        +0.j],\n",
       "       [ 0.70710678-0.j, -0.70710678-0.j, -0.        -0.j, ...,\n",
       "         0.        +0.j,  0.        +0.j,  0.        +0.j],\n",
       "       [-0.        -0.j, -0.        -0.j, -0.        -0.j, ...,\n",
       "         0.        +0.j,  0.        +0.j,  0.        +0.j]])"
      ]
     },
     "execution_count": 3,
     "metadata": {},
     "output_type": "execute_result"
    }
   ],
   "source": [
    "from numpy.linalg  import eig\n",
    "_, vects = eig(U(7,32)); vects"
   ]
  },
  {
   "cell_type": "markdown",
   "id": "ef01afa5-cde2-4e3d-a2f4-2f3953b386cd",
   "metadata": {},
   "source": [
    "Let us consider the following eigenvector"
   ]
  },
  {
   "cell_type": "code",
   "execution_count": 4,
   "id": "24e9d59b-0541-4fd6-b27c-b305256927ee",
   "metadata": {},
   "outputs": [
    {
     "data": {
      "text/plain": [
       "array([-0.        -0.j, -0.        -0.j,  0.70710678-0.j, -0.        -0.j,\n",
       "       -0.        -0.j, -0.        -0.j, -0.        -0.j, -0.        -0.j,\n",
       "       -0.        -0.j, -0.        -0.j, -0.        -0.j, -0.        -0.j,\n",
       "       -0.        -0.j, -0.        -0.j,  0.70710678+0.j, -0.        -0.j,\n",
       "       -0.        -0.j, -0.        -0.j, -0.        -0.j, -0.        -0.j,\n",
       "       -0.        -0.j, -0.        -0.j, -0.        -0.j, -0.        -0.j,\n",
       "       -0.        -0.j, -0.        -0.j, -0.        -0.j, -0.        -0.j,\n",
       "       -0.        -0.j, -0.        -0.j, -0.        -0.j, -0.        -0.j])"
      ]
     },
     "execution_count": 4,
     "metadata": {},
     "output_type": "execute_result"
    }
   ],
   "source": [
    "u = vects[:,2]; u"
   ]
  },
  {
   "cell_type": "markdown",
   "id": "3ef4d360-b15d-4379-912a-c3c9c591afc7",
   "metadata": {},
   "source": [
    "Now, let's see if we can compute the lumpings with this eigenvector:"
   ]
  },
  {
   "cell_type": "code",
   "execution_count": 9,
   "id": "c4ec1edb-22ed-44a9-96d9-534944f993d2",
   "metadata": {},
   "outputs": [],
   "source": [
    "system = DS_QuantumCircuit(K(U(x,N)))\n",
    "obs = [SparsePolynomial.from_vector(kron([1,0], u), system.variables, CC)] # |0> |u>"
   ]
  },
  {
   "cell_type": "code",
   "execution_count": 10,
   "id": "1482099d-f70e-41fc-8109-a1db57d1588d",
   "metadata": {},
   "outputs": [
    {
     "name": "stdout",
     "output_type": "stream",
     "text": [
      "New variables:\n",
      "y0 = (0.707106781186547 + 0.0j)*Q_000010 + (0.707106781186548 + 0.0j)*Q_001110\n",
      "New initial conditions:\n",
      "Lumped system:\n",
      "y0' = y0\n"
     ]
    }
   ],
   "source": [
    "lumped = system.lumping(obs)"
   ]
  },
  {
   "cell_type": "code",
   "execution_count": null,
   "id": "ea3792b4-814e-460b-abe8-b96e41a0dd8e",
   "metadata": {},
   "outputs": [],
   "source": []
  },
  {
   "cell_type": "code",
   "execution_count": null,
   "id": "eee019a8-d6f6-44a8-abe0-014cedb98ae2",
   "metadata": {},
   "outputs": [],
   "source": []
  }
 ],
 "metadata": {
  "kernelspec": {
   "display_name": "Python 3 (ipykernel)",
   "language": "python",
   "name": "python3"
  },
  "language_info": {
   "codemirror_mode": {
    "name": "ipython",
    "version": 3
   },
   "file_extension": ".py",
   "mimetype": "text/x-python",
   "name": "python",
   "nbconvert_exporter": "python",
   "pygments_lexer": "ipython3",
   "version": "3.11.0"
  }
 },
 "nbformat": 4,
 "nbformat_minor": 5
}
