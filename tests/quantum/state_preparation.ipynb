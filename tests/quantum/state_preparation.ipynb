{
 "cells": [
  {
   "cell_type": "markdown",
   "id": "c951b271-f76b-40c9-b1c3-2911a4dbb4f5",
   "metadata": {},
   "source": [
    "# **Lumping Circuits for State preparation**"
   ]
  },
  {
   "cell_type": "code",
   "execution_count": 1,
   "id": "6aec0db8-000c-4ffe-8bb3-2c03f0e698c9",
   "metadata": {},
   "outputs": [],
   "source": [
    "import sys; sys.path.insert(0, \"../..\") # clue is here\n",
    "from clue.qiskit import *\n",
    "from numpy import array, ndarray, matmul, cdouble, sqrt, arccos, cos, sin\n",
    "from numpy.random import random\n",
    "from qiskit import execute, QuantumCircuit, Aer"
   ]
  },
  {
   "cell_type": "markdown",
   "id": "12fefc80-9948-41a1-bba1-3e4edf734c3d",
   "metadata": {},
   "source": [
    "The quantum state preparation is an important part of the quantum circuits that essentially transforms the quantum state $\\ket 0$ to any specific quantum state $\\ket{\\psi}$. We could try to apply lumping for this type of circuits in two different ways:\n",
    "\n",
    "* Set as input the state $\\ket 0$. This will produce a vector space related with the forward invariance of the zero state and producing an easy way to apply the circuit to the zero state.\n",
    "* Set as input the state $\\ket \\psi$. This will produce a lumping for the goal state where we could ehck if the zero state is there and if it produces the desired state.\n",
    "\n",
    "The first step towards applying this systematically is to grasp control on the unitary matrix defined by the circuits that perform this state preparation. Then we need to create the corresponding CLUE systems and produce the final lumpings for all the inputs."
   ]
  },
  {
   "cell_type": "markdown",
   "id": "55a230a7-a675-4f29-8cc7-61c9cd9623c6",
   "metadata": {},
   "source": [
    "## 1. Getting matrix for Circuit for State Preparation"
   ]
  },
  {
   "cell_type": "code",
   "execution_count": 15,
   "id": "b865c8f8-7214-4049-97db-ff6a540d8ba6",
   "metadata": {},
   "outputs": [],
   "source": [
    "def is_vector(v: ndarray):\n",
    "    return isinstance(v, ndarray) and len(v.shape) == 1\n",
    "\n",
    "def unitary_preparation(v: ndarray, *, _tol = 1e-10):\n",
    "    if not is_vector(v): raise TypeError(f\"Required a vector for state preparation\")\n",
    "    nbits = int(log2(v.shape[0]))\n",
    "    if 2**nbits != v.shape[0]: raise ValueError(\"The vector should be of size 2^n\")\n",
    "    \n",
    "    if abs(matmul(v,v) - 1) > _tol: # making `v` of norm 1\n",
    "        v = v / sqrt(matmul(v,v))\n",
    "        \n",
    "    circuit = QuantumCircuit(nbits)\n",
    "    circuit.initialize(v)\n",
    "    job = execute(circuit, DS_QuantumCircuit.BACKEND, shots=8192)\n",
    "    return v, job.result().get_unitary(circuit)"
   ]
  },
  {
   "cell_type": "code",
   "execution_count": 16,
   "id": "36042c4e-a5ba-48d7-afff-3ff7e078ce26",
   "metadata": {},
   "outputs": [
    {
     "data": {
      "text/plain": [
       "(array([0.64369642, 0.76528094]),\n",
       " Operator([[ 0.64369642+0.j, -0.76528094+0.j],\n",
       "           [ 0.76528094+0.j,  0.64369642+0.j]],\n",
       "          input_dims=(2,), output_dims=(2,)))"
      ]
     },
     "execution_count": 16,
     "metadata": {},
     "output_type": "execute_result"
    }
   ],
   "source": [
    "unitary_preparation(random(2))"
   ]
  },
  {
   "cell_type": "markdown",
   "id": "426c7ecf-2ce0-4a2d-b01b-d025759877e8",
   "metadata": {},
   "source": [
    "## 2. Creating the system from the circuit and the observable"
   ]
  },
  {
   "cell_type": "code",
   "execution_count": 19,
   "id": "41f0dcd9-c856-48d9-8bba-5666e2cf7dab",
   "metadata": {},
   "outputs": [],
   "source": [
    "state, circuit = unitary_preparation(random(128))\n",
    "system = DS_QuantumCircuit(circuit, name=\"initializer\")\n",
    "zero = SparsePolynomial.from_string(system.variables[0], system.variables, system.field)\n",
    "goal = SparsePolynomial.from_vector(state, system.variables, system.field)"
   ]
  },
  {
   "cell_type": "code",
   "execution_count": 23,
   "id": "a0700796-1654-4fd3-a836-075eb060fb55",
   "metadata": {},
   "outputs": [
    {
     "data": {
      "text/plain": [
       "Lumped system [128 -> 128] (initializer) [LDESystem -- 128 -- SparsePolynomial]"
      ]
     },
     "execution_count": 23,
     "metadata": {},
     "output_type": "execute_result"
    }
   ],
   "source": [
    "# lumping from the goal state\n",
    "lumped_goal = system.lumping([goal], print_reduction=False, print_system=False); lumped_goal"
   ]
  },
  {
   "cell_type": "code",
   "execution_count": 24,
   "id": "9e43a8d2-3256-47cd-b067-c1afadb26c6c",
   "metadata": {},
   "outputs": [
    {
     "data": {
      "text/plain": [
       "Lumped system [128 -> 128] (initializer) [LDESystem -- 128 -- SparsePolynomial]"
      ]
     },
     "execution_count": 24,
     "metadata": {},
     "output_type": "execute_result"
    }
   ],
   "source": [
    "# lumping from the zero state\n",
    "lumped_zero = system.lumping([zero], print_reduction=False, print_system=False); lumped_zero"
   ]
  },
  {
   "cell_type": "markdown",
   "id": "6c80aea5-6986-47fa-a51a-1276aea0a83a",
   "metadata": {},
   "source": [
    "We can see that for a random state we do not reduce in any of the cases (which makes complete sense)."
   ]
  },
  {
   "cell_type": "markdown",
   "id": "01b90b26-9f45-42aa-9f9f-487c5ff9c123",
   "metadata": {},
   "source": [
    "## 3. Trying specific states"
   ]
  },
  {
   "cell_type": "markdown",
   "id": "23d6dade-4bc0-4894-9aca-7259e9324e30",
   "metadata": {},
   "source": [
    "From a random state is normal we can not reduce anything. But what could happend in specific states. For example, GHZ-state is easyly defined as a vector and we know from our experiments with the benchmarks that this can be reduced to a 4 qubit circuit. Can we repeat this result from this initializer?"
   ]
  },
  {
   "cell_type": "code",
   "execution_count": 48,
   "id": "99472cc6-df6e-4f8d-b49a-ab53725609a1",
   "metadata": {},
   "outputs": [],
   "source": [
    "nbits = 4\n",
    "state, circuit = unitary_preparation(array([1] + (2**nbits - 2)*[0] + [1]))\n",
    "system = DS_QuantumCircuit(circuit, name=\"initializer\")\n",
    "zero = SparsePolynomial.from_string(system.variables[0], system.variables, system.field)\n",
    "goal = SparsePolynomial.from_vector(state, system.variables, system.field)"
   ]
  },
  {
   "cell_type": "code",
   "execution_count": 27,
   "id": "c20e8b2b-a7d1-412b-827b-e84106803f9c",
   "metadata": {},
   "outputs": [
    {
     "data": {
      "text/plain": [
       "Lumped system [128 -> 128] (initializer) [LDESystem -- 128 -- SparsePolynomial]"
      ]
     },
     "execution_count": 27,
     "metadata": {},
     "output_type": "execute_result"
    }
   ],
   "source": [
    "# lumping from the goal state\n",
    "lumped_goal = system.lumping([goal], print_reduction=False, print_system=False); lumped_goal"
   ]
  },
  {
   "cell_type": "code",
   "execution_count": 28,
   "id": "41104a38-716d-43b2-a16d-b19de5e6d38d",
   "metadata": {},
   "outputs": [
    {
     "data": {
      "text/plain": [
       "Lumped system [128 -> 128] (initializer) [LDESystem -- 128 -- SparsePolynomial]"
      ]
     },
     "execution_count": 28,
     "metadata": {},
     "output_type": "execute_result"
    }
   ],
   "source": [
    "# lumping from the zero state\n",
    "lumped_zero = system.lumping([zero], print_reduction=False, print_system=False); lumped_zero"
   ]
  },
  {
   "cell_type": "markdown",
   "id": "33dd2fc1-5fb7-410c-9ad9-933274c0a37b",
   "metadata": {},
   "source": [
    "It is curious that we do not see the same reduction. Let us compare the two circuits, namely, let us build the matrix for the initializer and from the ghz file and see what are the differences:"
   ]
  },
  {
   "cell_type": "code",
   "execution_count": 49,
   "id": "2ded316d-1e31-4ef0-ab5f-a0de19498cc0",
   "metadata": {},
   "outputs": [],
   "source": [
    "system_ghz = DS_QuantumCircuit.from_qasm_file(f\"./circuits/ghz_indep_qiskit_{nbits}.qasm\")\n",
    "A1 = system.construct_matrices(\"polynomial\")[0].to_numpy(dtype=cdouble); A2 = system_ghz.construct_matrices(\"polynomial\")[0].to_numpy(dtype=cdouble)"
   ]
  },
  {
   "cell_type": "code",
   "execution_count": 55,
   "id": "e5544c6e-b36b-467a-b809-0998681ed6eb",
   "metadata": {},
   "outputs": [
    {
     "data": {
      "text/plain": [
       "False"
      ]
     },
     "execution_count": 55,
     "metadata": {},
     "output_type": "execute_result"
    }
   ],
   "source": [
    "((A1-A2).round(10) == 0).all()"
   ]
  },
  {
   "cell_type": "code",
   "execution_count": null,
   "id": "0e62d7e7-49a1-410f-a736-fca520c1c13b",
   "metadata": {},
   "outputs": [],
   "source": []
  }
 ],
 "metadata": {
  "kernelspec": {
   "display_name": "Python 3 (ipykernel)",
   "language": "python",
   "name": "python3"
  },
  "language_info": {
   "codemirror_mode": {
    "name": "ipython",
    "version": 3
   },
   "file_extension": ".py",
   "mimetype": "text/x-python",
   "name": "python",
   "nbconvert_exporter": "python",
   "pygments_lexer": "ipython3",
   "version": "3.11.0"
  },
  "widgets": {
   "application/vnd.jupyter.widget-state+json": {
    "state": {},
    "version_major": 2,
    "version_minor": 0
   }
  }
 },
 "nbformat": 4,
 "nbformat_minor": 5
}
