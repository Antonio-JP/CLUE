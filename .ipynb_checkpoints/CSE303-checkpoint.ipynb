{
 "cells": [
  {
   "cell_type": "markdown",
   "metadata": {
    "slideshow": {
     "slide_type": "slide"
    }
   },
   "source": [
    "## CSE303\n",
    "### Joshua Paul Jacob"
   ]
  },
  {
   "cell_type": "markdown",
   "metadata": {
    "slideshow": {
     "slide_type": "slide"
    }
   },
   "source": [
    "### Here is an equation...\n",
    "$$x+3^2 = \\int_0^\\infty \\frac{1}{t} dt$$"
   ]
  },
  {
   "cell_type": "code",
   "execution_count": null,
   "metadata": {
    "slideshow": {
     "slide_type": "subslide"
    }
   },
   "outputs": [],
   "source": [
    "#HELLO?"
   ]
  },
  {
   "cell_type": "code",
   "execution_count": 3,
   "metadata": {
    "slideshow": {
     "slide_type": "subslide"
    }
   },
   "outputs": [],
   "source": [
    "\n",
    "def hello():\n",
    "    return 0"
   ]
  },
  {
   "cell_type": "markdown",
   "metadata": {
    "slideshow": {
     "slide_type": "slide"
    }
   },
   "source": [
    "YO WHASSUP"
   ]
  },
  {
   "cell_type": "code",
   "execution_count": 4,
   "metadata": {
    "slideshow": {
     "slide_type": "fragment"
    }
   },
   "outputs": [],
   "source": [
    "#Fragment"
   ]
  },
  {
   "cell_type": "code",
   "execution_count": 5,
   "metadata": {
    "slideshow": {
     "slide_type": "skip"
    }
   },
   "outputs": [],
   "source": [
    "def eval_poly_dict(pdict, point):\n",
    "    result = 0\n",
    "    for m, c in pdict.items():\n",
    "        to_add = c\n",
    "        for i in range(len(m)):\n",
    "            to_add = to_add * point[i]**m[i]\n",
    "        result += to_add\n",
    "    return result"
   ]
  },
  {
   "cell_type": "markdown",
   "metadata": {
    "slideshow": {
     "slide_type": "notes"
    }
   },
   "source": [
    "notesss."
   ]
  },
  {
   "cell_type": "code",
   "execution_count": null,
   "metadata": {},
   "outputs": [],
   "source": [
    "def eval_poly_dict(pdict, point):\n",
    "    result = 0\n",
    "    for m, c in pdict.items():\n",
    "        to_add = c\n",
    "        for i in range(len(m)):\n",
    "            to_add = to_add * point[i]**m[i]\n",
    "        result += to_add\n",
    "    return result\n",
    "\n",
    "def eval_rhs(rhs, point):\n",
    "    if isinstance(rhs, RationalFunction):\n",
    "        pdict_num = rhs.num.get_sympy_dict()\n",
    "        pdict_denom = rhs.denom.get_sympy_dict()\n",
    "        return eval_poly_dict(pdict_num, point)/eval_poly_dict(pdict_denom, point)\n",
    "    elif isinstance(rhs, sympy.polys.fields.FracElement):\n",
    "        pdict_num = rhs.numer.to_dict()\n",
    "        pdict_denom = rhs.denom.to_dict()\n",
    "        return eval_poly_dict(pdict_num, point)/eval_poly_dict(pdict_denom, point)\n",
    "    elif isinstance(rhs, SparsePolynomial):\n",
    "        pdict = rhs.get_sympy_dict()\n",
    "        return eval_poly_dict(pdict, point)\n",
    "    else:\n",
    "        pdict = rhs.to_dict()\n",
    "        return eval_poly_dict(pdict, point)"
   ]
  }
 ],
 "metadata": {
  "celltoolbar": "Slideshow",
  "kernelspec": {
   "display_name": "Python 3.8.1 64-bit",
   "language": "python",
   "name": "python38164bite3486b4646b04e139d1ffdd499c97d6d"
  },
  "language_info": {
   "codemirror_mode": {
    "name": "ipython",
    "version": 3
   },
   "file_extension": ".py",
   "mimetype": "text/x-python",
   "name": "python",
   "nbconvert_exporter": "python",
   "pygments_lexer": "ipython3",
   "version": "3.8.6"
  }
 },
 "nbformat": 4,
 "nbformat_minor": 4
}
